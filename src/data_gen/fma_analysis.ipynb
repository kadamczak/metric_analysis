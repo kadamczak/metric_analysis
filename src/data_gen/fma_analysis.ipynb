{
 "cells": [
  {
   "cell_type": "markdown",
   "id": "912ac7f6",
   "metadata": {},
   "source": [
    "# Setup"
   ]
  },
  {
   "cell_type": "code",
   "execution_count": 2,
   "id": "434e60ef",
   "metadata": {},
   "outputs": [],
   "source": [
    "import os\n",
    "import numpy as np\n",
    "from pathlib import Path\n",
    "import pandas as pd\n",
    "\n",
    "import utils"
   ]
  },
  {
   "cell_type": "code",
   "execution_count": 3,
   "id": "84eebb2b",
   "metadata": {},
   "outputs": [],
   "source": [
    "fma_dir = Path(str(os.environ.get('FMA_DIR')))       #C:/VisualStudioRepositories/MUSIC_DATA/fma"
   ]
  },
  {
   "cell_type": "code",
   "execution_count": null,
   "id": "ef1bed2a",
   "metadata": {},
   "outputs": [],
   "source": [
    "tracks_df = utils.load(fma_dir / 'fma_metadata/tracks_without_faulty.csv')"
   ]
  },
  {
   "cell_type": "code",
   "execution_count": 5,
   "id": "946873e4",
   "metadata": {},
   "outputs": [],
   "source": [
    "genres_df = utils.load(fma_dir / 'fma_metadata/genres.csv')"
   ]
  },
  {
   "cell_type": "code",
   "execution_count": 11,
   "id": "46bf2fb1",
   "metadata": {},
   "outputs": [],
   "source": [
    "fma_top_classes_dict = {\"International\": 2,\n",
    "                        \"Blues\": 3,\n",
    "                        \"Jazz\": 4,\n",
    "                        \"Classical\": 5,\n",
    "                        \"Old-Time / Historic\": 8,\n",
    "                        \"Country\": 9,\n",
    "                        \"Pop\": 10,\n",
    "                        \"Rock\": 12,\n",
    "                        \"Easy Listening\": 13,\n",
    "                        \"Soul-RnB\": 14,\n",
    "                        \"Electronic\": 15,\n",
    "                        \"Folk\": 17,\n",
    "                        \"Spoken\": 20,\n",
    "                        \"Hip-Hop\": 21,\n",
    "                        \"Experimental\": 38,\n",
    "                        \"Instrumental\": 1235\n",
    "                    }\n"
   ]
  },
  {
   "cell_type": "code",
   "execution_count": 7,
   "id": "52136c93",
   "metadata": {},
   "outputs": [
    {
     "name": "stdout",
     "output_type": "stream",
     "text": [
      "16\n"
     ]
    }
   ],
   "source": [
    "print(len(fma_top_classes_dict))"
   ]
  },
  {
   "cell_type": "code",
   "execution_count": null,
   "id": "4826692a",
   "metadata": {},
   "outputs": [],
   "source": []
  }
 ],
 "metadata": {
  "kernelspec": {
   "display_name": ".venv",
   "language": "python",
   "name": "python3"
  },
  "language_info": {
   "codemirror_mode": {
    "name": "ipython",
    "version": 3
   },
   "file_extension": ".py",
   "mimetype": "text/x-python",
   "name": "python",
   "nbconvert_exporter": "python",
   "pygments_lexer": "ipython3",
   "version": "3.12.4"
  }
 },
 "nbformat": 4,
 "nbformat_minor": 5
}
