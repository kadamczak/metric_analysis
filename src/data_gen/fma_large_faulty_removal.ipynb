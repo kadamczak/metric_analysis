{
 "cells": [
  {
   "cell_type": "code",
   "execution_count": 2,
   "id": "ca76fe0d",
   "metadata": {},
   "outputs": [],
   "source": [
    "import os\n",
    "import numpy as np\n",
    "from pathlib import Path\n",
    "import pandas as pd\n",
    "\n",
    "import utils"
   ]
  },
  {
   "cell_type": "code",
   "execution_count": 4,
   "id": "c2f9c12f",
   "metadata": {},
   "outputs": [],
   "source": [
    "# Path to the faulty file list\n",
    "faulty_list_path = r'C:\\VisualStudioRepositories\\MUSIC_DATA\\fma\\FAULTY_AUDIO\\fma_large_faulty_list.txt'\n",
    "\n",
    "# Root folder of fma_large\n",
    "fma_large_root = r'C:\\VisualStudioRepositories\\MUSIC_DATA\\fma\\fma_large'"
   ]
  },
  {
   "cell_type": "code",
   "execution_count": 7,
   "id": "6a7774c5",
   "metadata": {},
   "outputs": [],
   "source": [
    "# Read and extract paths like 001/001486.mp3 (ignore prefix folder)\n",
    "with open(faulty_list_path, 'r') as f:\n",
    "    relative_paths = [\n",
    "        os.path.join(*line.strip().split('/')[1:])  # removes the first folder (e.g., fma_large)\n",
    "        for line in f\n",
    "        if line.strip()  # ignore blank lines\n",
    "    ]"
   ]
  },
  {
   "cell_type": "code",
   "execution_count": null,
   "id": "daf61148",
   "metadata": {},
   "outputs": [
    {
     "name": "stdout",
     "output_type": "stream",
     "text": [
      "Not found (skipped): C:\\VisualStudioRepositories\\MUSIC_DATA\\fma\\fma_large\\098\\098565.mp3\n",
      "Not found (skipped): C:\\VisualStudioRepositories\\MUSIC_DATA\\fma\\fma_large\\098\\098567.mp3\n",
      "Not found (skipped): C:\\VisualStudioRepositories\\MUSIC_DATA\\fma\\fma_large\\098\\098569.mp3\n",
      "Not found (skipped): C:\\VisualStudioRepositories\\MUSIC_DATA\\fma\\fma_large\\099\\099134.mp3\n",
      "Not found (skipped): C:\\VisualStudioRepositories\\MUSIC_DATA\\fma\\fma_large\\108\\108925.mp3\n",
      "Not found (skipped): C:\\VisualStudioRepositories\\MUSIC_DATA\\fma\\fma_large\\133\\133297.mp3\n",
      "Not found (skipped): C:\\VisualStudioRepositories\\MUSIC_DATA\\fma\\fma_large\\001\\001486.mp3\n",
      "Not found (skipped): C:\\VisualStudioRepositories\\MUSIC_DATA\\fma\\fma_large\\005\\005574.mp3\n",
      "Not found (skipped): C:\\VisualStudioRepositories\\MUSIC_DATA\\fma\\fma_large\\065\\065753.mp3\n",
      "Not found (skipped): C:\\VisualStudioRepositories\\MUSIC_DATA\\fma\\fma_large\\080\\080391.mp3\n",
      "Deleted: C:\\VisualStudioRepositories\\MUSIC_DATA\\fma\\fma_large\\098\\098558.mp3\n",
      "Deleted: C:\\VisualStudioRepositories\\MUSIC_DATA\\fma\\fma_large\\098\\098559.mp3\n",
      "Deleted: C:\\VisualStudioRepositories\\MUSIC_DATA\\fma\\fma_large\\098\\098560.mp3\n",
      "Not found (skipped): C:\\VisualStudioRepositories\\MUSIC_DATA\\fma\\fma_large\\098\\098565.mp3\n",
      "Deleted: C:\\VisualStudioRepositories\\MUSIC_DATA\\fma\\fma_large\\098\\098566.mp3\n",
      "Not found (skipped): C:\\VisualStudioRepositories\\MUSIC_DATA\\fma\\fma_large\\098\\098567.mp3\n",
      "Deleted: C:\\VisualStudioRepositories\\MUSIC_DATA\\fma\\fma_large\\098\\098568.mp3\n",
      "Not found (skipped): C:\\VisualStudioRepositories\\MUSIC_DATA\\fma\\fma_large\\098\\098569.mp3\n",
      "Deleted: C:\\VisualStudioRepositories\\MUSIC_DATA\\fma\\fma_large\\098\\098571.mp3\n",
      "Not found (skipped): C:\\VisualStudioRepositories\\MUSIC_DATA\\fma\\fma_large\\099\\099134.mp3\n",
      "Deleted: C:\\VisualStudioRepositories\\MUSIC_DATA\\fma\\fma_large\\105\\105247.mp3\n",
      "Deleted: C:\\VisualStudioRepositories\\MUSIC_DATA\\fma\\fma_large\\108\\108924.mp3\n",
      "Not found (skipped): C:\\VisualStudioRepositories\\MUSIC_DATA\\fma\\fma_large\\108\\108925.mp3\n",
      "Deleted: C:\\VisualStudioRepositories\\MUSIC_DATA\\fma\\fma_large\\126\\126981.mp3\n",
      "Deleted: C:\\VisualStudioRepositories\\MUSIC_DATA\\fma\\fma_large\\127\\127336.mp3\n",
      "Not found (skipped): C:\\VisualStudioRepositories\\MUSIC_DATA\\fma\\fma_large\\133\\133297.mp3\n",
      "Deleted: C:\\VisualStudioRepositories\\MUSIC_DATA\\fma\\fma_large\\143\\143992.mp3\n",
      "Not found (skipped): C:\\VisualStudioRepositories\\MUSIC_DATA\\fma\\fma_large\\001\\001486.mp3\n",
      "Deleted: C:\\VisualStudioRepositories\\MUSIC_DATA\\fma\\fma_large\\002\\002624.mp3\n",
      "Deleted: C:\\VisualStudioRepositories\\MUSIC_DATA\\fma\\fma_large\\003\\003284.mp3\n",
      "Not found (skipped): C:\\VisualStudioRepositories\\MUSIC_DATA\\fma\\fma_large\\005\\005574.mp3\n",
      "Deleted: C:\\VisualStudioRepositories\\MUSIC_DATA\\fma\\fma_large\\008\\008669.mp3\n",
      "Deleted: C:\\VisualStudioRepositories\\MUSIC_DATA\\fma\\fma_large\\010\\010116.mp3\n",
      "Deleted: C:\\VisualStudioRepositories\\MUSIC_DATA\\fma\\fma_large\\011\\011583.mp3\n",
      "Deleted: C:\\VisualStudioRepositories\\MUSIC_DATA\\fma\\fma_large\\012\\012838.mp3\n",
      "Deleted: C:\\VisualStudioRepositories\\MUSIC_DATA\\fma\\fma_large\\013\\013529.mp3\n",
      "Deleted: C:\\VisualStudioRepositories\\MUSIC_DATA\\fma\\fma_large\\014\\014116.mp3\n",
      "Deleted: C:\\VisualStudioRepositories\\MUSIC_DATA\\fma\\fma_large\\014\\014180.mp3\n",
      "Deleted: C:\\VisualStudioRepositories\\MUSIC_DATA\\fma\\fma_large\\020\\020814.mp3\n",
      "Deleted: C:\\VisualStudioRepositories\\MUSIC_DATA\\fma\\fma_large\\022\\022554.mp3\n",
      "Deleted: C:\\VisualStudioRepositories\\MUSIC_DATA\\fma\\fma_large\\023\\023429.mp3\n",
      "Deleted: C:\\VisualStudioRepositories\\MUSIC_DATA\\fma\\fma_large\\023\\023430.mp3\n",
      "Deleted: C:\\VisualStudioRepositories\\MUSIC_DATA\\fma\\fma_large\\023\\023431.mp3\n",
      "Deleted: C:\\VisualStudioRepositories\\MUSIC_DATA\\fma\\fma_large\\025\\025173.mp3\n",
      "Deleted: C:\\VisualStudioRepositories\\MUSIC_DATA\\fma\\fma_large\\025\\025174.mp3\n",
      "Deleted: C:\\VisualStudioRepositories\\MUSIC_DATA\\fma\\fma_large\\025\\025175.mp3\n",
      "Deleted: C:\\VisualStudioRepositories\\MUSIC_DATA\\fma\\fma_large\\025\\025176.mp3\n",
      "Deleted: C:\\VisualStudioRepositories\\MUSIC_DATA\\fma\\fma_large\\025\\025180.mp3\n",
      "Deleted: C:\\VisualStudioRepositories\\MUSIC_DATA\\fma\\fma_large\\029\\029345.mp3\n",
      "Deleted: C:\\VisualStudioRepositories\\MUSIC_DATA\\fma\\fma_large\\029\\029346.mp3\n",
      "Deleted: C:\\VisualStudioRepositories\\MUSIC_DATA\\fma\\fma_large\\029\\029352.mp3\n",
      "Deleted: C:\\VisualStudioRepositories\\MUSIC_DATA\\fma\\fma_large\\029\\029356.mp3\n",
      "Deleted: C:\\VisualStudioRepositories\\MUSIC_DATA\\fma\\fma_large\\033\\033411.mp3\n",
      "Deleted: C:\\VisualStudioRepositories\\MUSIC_DATA\\fma\\fma_large\\033\\033413.mp3\n",
      "Deleted: C:\\VisualStudioRepositories\\MUSIC_DATA\\fma\\fma_large\\033\\033414.mp3\n",
      "Deleted: C:\\VisualStudioRepositories\\MUSIC_DATA\\fma\\fma_large\\033\\033417.mp3\n",
      "Deleted: C:\\VisualStudioRepositories\\MUSIC_DATA\\fma\\fma_large\\033\\033418.mp3\n",
      "Deleted: C:\\VisualStudioRepositories\\MUSIC_DATA\\fma\\fma_large\\033\\033419.mp3\n",
      "Deleted: C:\\VisualStudioRepositories\\MUSIC_DATA\\fma\\fma_large\\033\\033425.mp3\n",
      "Deleted: C:\\VisualStudioRepositories\\MUSIC_DATA\\fma\\fma_large\\035\\035725.mp3\n",
      "Deleted: C:\\VisualStudioRepositories\\MUSIC_DATA\\fma\\fma_large\\039\\039363.mp3\n",
      "Deleted: C:\\VisualStudioRepositories\\MUSIC_DATA\\fma\\fma_large\\041\\041745.mp3\n",
      "Deleted: C:\\VisualStudioRepositories\\MUSIC_DATA\\fma\\fma_large\\042\\042986.mp3\n",
      "Deleted: C:\\VisualStudioRepositories\\MUSIC_DATA\\fma\\fma_large\\043\\043753.mp3\n",
      "Deleted: C:\\VisualStudioRepositories\\MUSIC_DATA\\fma\\fma_large\\050\\050594.mp3\n",
      "Deleted: C:\\VisualStudioRepositories\\MUSIC_DATA\\fma\\fma_large\\050\\050782.mp3\n",
      "Deleted: C:\\VisualStudioRepositories\\MUSIC_DATA\\fma\\fma_large\\053\\053668.mp3\n",
      "Deleted: C:\\VisualStudioRepositories\\MUSIC_DATA\\fma\\fma_large\\054\\054569.mp3\n",
      "Deleted: C:\\VisualStudioRepositories\\MUSIC_DATA\\fma\\fma_large\\054\\054582.mp3\n",
      "Deleted: C:\\VisualStudioRepositories\\MUSIC_DATA\\fma\\fma_large\\061\\061480.mp3\n",
      "Deleted: C:\\VisualStudioRepositories\\MUSIC_DATA\\fma\\fma_large\\061\\061822.mp3\n",
      "Deleted: C:\\VisualStudioRepositories\\MUSIC_DATA\\fma\\fma_large\\063\\063422.mp3\n",
      "Deleted: C:\\VisualStudioRepositories\\MUSIC_DATA\\fma\\fma_large\\063\\063997.mp3\n",
      "Not found (skipped): C:\\VisualStudioRepositories\\MUSIC_DATA\\fma\\fma_large\\065\\065753.mp3\n",
      "Deleted: C:\\VisualStudioRepositories\\MUSIC_DATA\\fma\\fma_large\\072\\072656.mp3\n",
      "Deleted: C:\\VisualStudioRepositories\\MUSIC_DATA\\fma\\fma_large\\072\\072980.mp3\n",
      "Deleted: C:\\VisualStudioRepositories\\MUSIC_DATA\\fma\\fma_large\\073\\073510.mp3\n",
      "Not found (skipped): C:\\VisualStudioRepositories\\MUSIC_DATA\\fma\\fma_large\\080\\080391.mp3\n",
      "Deleted: C:\\VisualStudioRepositories\\MUSIC_DATA\\fma\\fma_large\\080\\080553.mp3\n",
      "Deleted: C:\\VisualStudioRepositories\\MUSIC_DATA\\fma\\fma_large\\082\\082699.mp3\n",
      "Deleted: C:\\VisualStudioRepositories\\MUSIC_DATA\\fma\\fma_large\\084\\084503.mp3\n",
      "Deleted: C:\\VisualStudioRepositories\\MUSIC_DATA\\fma\\fma_large\\084\\084504.mp3\n",
      "Deleted: C:\\VisualStudioRepositories\\MUSIC_DATA\\fma\\fma_large\\084\\084522.mp3\n",
      "Deleted: C:\\VisualStudioRepositories\\MUSIC_DATA\\fma\\fma_large\\084\\084524.mp3\n",
      "Deleted: C:\\VisualStudioRepositories\\MUSIC_DATA\\fma\\fma_large\\086\\086656.mp3\n",
      "Deleted: C:\\VisualStudioRepositories\\MUSIC_DATA\\fma\\fma_large\\086\\086659.mp3\n",
      "Deleted: C:\\VisualStudioRepositories\\MUSIC_DATA\\fma\\fma_large\\086\\086661.mp3\n",
      "Deleted: C:\\VisualStudioRepositories\\MUSIC_DATA\\fma\\fma_large\\086\\086664.mp3\n",
      "Deleted: C:\\VisualStudioRepositories\\MUSIC_DATA\\fma\\fma_large\\087\\087057.mp3\n",
      "Deleted: C:\\VisualStudioRepositories\\MUSIC_DATA\\fma\\fma_large\\090\\090244.mp3\n",
      "Deleted: C:\\VisualStudioRepositories\\MUSIC_DATA\\fma\\fma_large\\090\\090245.mp3\n",
      "Deleted: C:\\VisualStudioRepositories\\MUSIC_DATA\\fma\\fma_large\\090\\090247.mp3\n",
      "Deleted: C:\\VisualStudioRepositories\\MUSIC_DATA\\fma\\fma_large\\090\\090248.mp3\n",
      "Deleted: C:\\VisualStudioRepositories\\MUSIC_DATA\\fma\\fma_large\\090\\090250.mp3\n",
      "Deleted: C:\\VisualStudioRepositories\\MUSIC_DATA\\fma\\fma_large\\090\\090252.mp3\n",
      "Deleted: C:\\VisualStudioRepositories\\MUSIC_DATA\\fma\\fma_large\\090\\090253.mp3\n",
      "Deleted: C:\\VisualStudioRepositories\\MUSIC_DATA\\fma\\fma_large\\090\\090442.mp3\n",
      "Deleted: C:\\VisualStudioRepositories\\MUSIC_DATA\\fma\\fma_large\\090\\090445.mp3\n",
      "Deleted: C:\\VisualStudioRepositories\\MUSIC_DATA\\fma\\fma_large\\091\\091206.mp3\n",
      "Deleted: C:\\VisualStudioRepositories\\MUSIC_DATA\\fma\\fma_large\\092\\092479.mp3\n",
      "Deleted: C:\\VisualStudioRepositories\\MUSIC_DATA\\fma\\fma_large\\094\\094052.mp3\n",
      "Deleted: C:\\VisualStudioRepositories\\MUSIC_DATA\\fma\\fma_large\\094\\094234.mp3\n",
      "Deleted: C:\\VisualStudioRepositories\\MUSIC_DATA\\fma\\fma_large\\095\\095253.mp3\n",
      "Deleted: C:\\VisualStudioRepositories\\MUSIC_DATA\\fma\\fma_large\\096\\096203.mp3\n",
      "Deleted: C:\\VisualStudioRepositories\\MUSIC_DATA\\fma\\fma_large\\096\\096207.mp3\n",
      "Deleted: C:\\VisualStudioRepositories\\MUSIC_DATA\\fma\\fma_large\\096\\096210.mp3\n",
      "Deleted: C:\\VisualStudioRepositories\\MUSIC_DATA\\fma\\fma_large\\098\\098105.mp3\n",
      "Not found (skipped): C:\\VisualStudioRepositories\\MUSIC_DATA\\fma\\fma_large\\098\\098558.mp3\n",
      "Not found (skipped): C:\\VisualStudioRepositories\\MUSIC_DATA\\fma\\fma_large\\098\\098559.mp3\n",
      "Not found (skipped): C:\\VisualStudioRepositories\\MUSIC_DATA\\fma\\fma_large\\098\\098560.mp3\n",
      "Deleted: C:\\VisualStudioRepositories\\MUSIC_DATA\\fma\\fma_large\\098\\098562.mp3\n",
      "Not found (skipped): C:\\VisualStudioRepositories\\MUSIC_DATA\\fma\\fma_large\\098\\098571.mp3\n",
      "Not found (skipped): C:\\VisualStudioRepositories\\MUSIC_DATA\\fma\\fma_large\\099\\099134.mp3\n",
      "Deleted: C:\\VisualStudioRepositories\\MUSIC_DATA\\fma\\fma_large\\101\\101265.mp3\n",
      "Deleted: C:\\VisualStudioRepositories\\MUSIC_DATA\\fma\\fma_large\\101\\101272.mp3\n",
      "Deleted: C:\\VisualStudioRepositories\\MUSIC_DATA\\fma\\fma_large\\101\\101275.mp3\n",
      "Deleted: C:\\VisualStudioRepositories\\MUSIC_DATA\\fma\\fma_large\\102\\102241.mp3\n",
      "Deleted: C:\\VisualStudioRepositories\\MUSIC_DATA\\fma\\fma_large\\102\\102243.mp3\n",
      "Deleted: C:\\VisualStudioRepositories\\MUSIC_DATA\\fma\\fma_large\\102\\102247.mp3\n",
      "Deleted: C:\\VisualStudioRepositories\\MUSIC_DATA\\fma\\fma_large\\102\\102249.mp3\n",
      "Deleted: C:\\VisualStudioRepositories\\MUSIC_DATA\\fma\\fma_large\\102\\102289.mp3\n",
      "Not found (skipped): C:\\VisualStudioRepositories\\MUSIC_DATA\\fma\\fma_large\\105\\105247.mp3\n",
      "Deleted: C:\\VisualStudioRepositories\\MUSIC_DATA\\fma\\fma_large\\106\\106409.mp3\n",
      "Deleted: C:\\VisualStudioRepositories\\MUSIC_DATA\\fma\\fma_large\\106\\106412.mp3\n",
      "Deleted: C:\\VisualStudioRepositories\\MUSIC_DATA\\fma\\fma_large\\106\\106415.mp3\n",
      "Deleted: C:\\VisualStudioRepositories\\MUSIC_DATA\\fma\\fma_large\\106\\106628.mp3\n",
      "Deleted: C:\\VisualStudioRepositories\\MUSIC_DATA\\fma\\fma_large\\108\\108920.mp3\n",
      "Not found (skipped): C:\\VisualStudioRepositories\\MUSIC_DATA\\fma\\fma_large\\108\\108925.mp3\n",
      "Deleted: C:\\VisualStudioRepositories\\MUSIC_DATA\\fma\\fma_large\\109\\109266.mp3\n",
      "Deleted: C:\\VisualStudioRepositories\\MUSIC_DATA\\fma\\fma_large\\110\\110236.mp3\n",
      "Deleted: C:\\VisualStudioRepositories\\MUSIC_DATA\\fma\\fma_large\\115\\115610.mp3\n",
      "Deleted: C:\\VisualStudioRepositories\\MUSIC_DATA\\fma\\fma_large\\117\\117441.mp3\n",
      "Not found (skipped): C:\\VisualStudioRepositories\\MUSIC_DATA\\fma\\fma_large\\126\\126981.mp3\n",
      "Not found (skipped): C:\\VisualStudioRepositories\\MUSIC_DATA\\fma\\fma_large\\127\\127336.mp3\n",
      "Deleted: C:\\VisualStudioRepositories\\MUSIC_DATA\\fma\\fma_large\\127\\127928.mp3\n",
      "Deleted: C:\\VisualStudioRepositories\\MUSIC_DATA\\fma\\fma_large\\129\\129207.mp3\n",
      "Deleted: C:\\VisualStudioRepositories\\MUSIC_DATA\\fma\\fma_large\\129\\129800.mp3\n",
      "Deleted: C:\\VisualStudioRepositories\\MUSIC_DATA\\fma\\fma_large\\130\\130328.mp3\n",
      "Deleted: C:\\VisualStudioRepositories\\MUSIC_DATA\\fma\\fma_large\\130\\130748.mp3\n",
      "Deleted: C:\\VisualStudioRepositories\\MUSIC_DATA\\fma\\fma_large\\130\\130751.mp3\n",
      "Deleted: C:\\VisualStudioRepositories\\MUSIC_DATA\\fma\\fma_large\\131\\131545.mp3\n",
      "Not found (skipped): C:\\VisualStudioRepositories\\MUSIC_DATA\\fma\\fma_large\\133\\133297.mp3\n",
      "Deleted: C:\\VisualStudioRepositories\\MUSIC_DATA\\fma\\fma_large\\133\\133641.mp3\n",
      "Deleted: C:\\VisualStudioRepositories\\MUSIC_DATA\\fma\\fma_large\\133\\133647.mp3\n",
      "Deleted: C:\\VisualStudioRepositories\\MUSIC_DATA\\fma\\fma_large\\134\\134887.mp3\n",
      "Deleted: C:\\VisualStudioRepositories\\MUSIC_DATA\\fma\\fma_large\\140\\140449.mp3\n",
      "Deleted: C:\\VisualStudioRepositories\\MUSIC_DATA\\fma\\fma_large\\140\\140450.mp3\n",
      "Deleted: C:\\VisualStudioRepositories\\MUSIC_DATA\\fma\\fma_large\\140\\140451.mp3\n",
      "Deleted: C:\\VisualStudioRepositories\\MUSIC_DATA\\fma\\fma_large\\140\\140452.mp3\n",
      "Deleted: C:\\VisualStudioRepositories\\MUSIC_DATA\\fma\\fma_large\\140\\140453.mp3\n",
      "Deleted: C:\\VisualStudioRepositories\\MUSIC_DATA\\fma\\fma_large\\140\\140454.mp3\n",
      "Deleted: C:\\VisualStudioRepositories\\MUSIC_DATA\\fma\\fma_large\\140\\140455.mp3\n",
      "Deleted: C:\\VisualStudioRepositories\\MUSIC_DATA\\fma\\fma_large\\140\\140456.mp3\n",
      "Deleted: C:\\VisualStudioRepositories\\MUSIC_DATA\\fma\\fma_large\\140\\140457.mp3\n",
      "Deleted: C:\\VisualStudioRepositories\\MUSIC_DATA\\fma\\fma_large\\140\\140458.mp3\n",
      "Deleted: C:\\VisualStudioRepositories\\MUSIC_DATA\\fma\\fma_large\\140\\140459.mp3\n",
      "Deleted: C:\\VisualStudioRepositories\\MUSIC_DATA\\fma\\fma_large\\140\\140460.mp3\n",
      "Deleted: C:\\VisualStudioRepositories\\MUSIC_DATA\\fma\\fma_large\\140\\140461.mp3\n",
      "Deleted: C:\\VisualStudioRepositories\\MUSIC_DATA\\fma\\fma_large\\140\\140462.mp3\n",
      "Deleted: C:\\VisualStudioRepositories\\MUSIC_DATA\\fma\\fma_large\\140\\140463.mp3\n",
      "Deleted: C:\\VisualStudioRepositories\\MUSIC_DATA\\fma\\fma_large\\140\\140464.mp3\n",
      "Deleted: C:\\VisualStudioRepositories\\MUSIC_DATA\\fma\\fma_large\\140\\140465.mp3\n",
      "Deleted: C:\\VisualStudioRepositories\\MUSIC_DATA\\fma\\fma_large\\140\\140466.mp3\n",
      "Deleted: C:\\VisualStudioRepositories\\MUSIC_DATA\\fma\\fma_large\\140\\140467.mp3\n",
      "Deleted: C:\\VisualStudioRepositories\\MUSIC_DATA\\fma\\fma_large\\140\\140468.mp3\n",
      "Deleted: C:\\VisualStudioRepositories\\MUSIC_DATA\\fma\\fma_large\\140\\140469.mp3\n",
      "Deleted: C:\\VisualStudioRepositories\\MUSIC_DATA\\fma\\fma_large\\140\\140470.mp3\n",
      "Deleted: C:\\VisualStudioRepositories\\MUSIC_DATA\\fma\\fma_large\\140\\140471.mp3\n",
      "Deleted: C:\\VisualStudioRepositories\\MUSIC_DATA\\fma\\fma_large\\140\\140472.mp3\n",
      "Deleted: C:\\VisualStudioRepositories\\MUSIC_DATA\\fma\\fma_large\\142\\142614.mp3\n",
      "Not found (skipped): C:\\VisualStudioRepositories\\MUSIC_DATA\\fma\\fma_large\\143\\143992.mp3\n",
      "Deleted: C:\\VisualStudioRepositories\\MUSIC_DATA\\fma\\fma_large\\144\\144518.mp3\n",
      "Deleted: C:\\VisualStudioRepositories\\MUSIC_DATA\\fma\\fma_large\\144\\144619.mp3\n",
      "Deleted: C:\\VisualStudioRepositories\\MUSIC_DATA\\fma\\fma_large\\145\\145056.mp3\n",
      "Deleted: C:\\VisualStudioRepositories\\MUSIC_DATA\\fma\\fma_large\\146\\146056.mp3\n",
      "Deleted: C:\\VisualStudioRepositories\\MUSIC_DATA\\fma\\fma_large\\147\\147419.mp3\n",
      "Deleted: C:\\VisualStudioRepositories\\MUSIC_DATA\\fma\\fma_large\\147\\147424.mp3\n",
      "Deleted: C:\\VisualStudioRepositories\\MUSIC_DATA\\fma\\fma_large\\148\\148786.mp3\n",
      "Deleted: C:\\VisualStudioRepositories\\MUSIC_DATA\\fma\\fma_large\\148\\148787.mp3\n",
      "Deleted: C:\\VisualStudioRepositories\\MUSIC_DATA\\fma\\fma_large\\148\\148788.mp3\n",
      "Deleted: C:\\VisualStudioRepositories\\MUSIC_DATA\\fma\\fma_large\\148\\148789.mp3\n",
      "Deleted: C:\\VisualStudioRepositories\\MUSIC_DATA\\fma\\fma_large\\148\\148790.mp3\n",
      "Deleted: C:\\VisualStudioRepositories\\MUSIC_DATA\\fma\\fma_large\\148\\148791.mp3\n",
      "Deleted: C:\\VisualStudioRepositories\\MUSIC_DATA\\fma\\fma_large\\148\\148792.mp3\n",
      "Deleted: C:\\VisualStudioRepositories\\MUSIC_DATA\\fma\\fma_large\\148\\148793.mp3\n",
      "Deleted: C:\\VisualStudioRepositories\\MUSIC_DATA\\fma\\fma_large\\148\\148794.mp3\n",
      "Deleted: C:\\VisualStudioRepositories\\MUSIC_DATA\\fma\\fma_large\\148\\148795.mp3\n",
      "Deleted: C:\\VisualStudioRepositories\\MUSIC_DATA\\fma\\fma_large\\151\\151920.mp3\n",
      "Deleted: C:\\VisualStudioRepositories\\MUSIC_DATA\\fma\\fma_large\\155\\155051.mp3\n"
     ]
    }
   ],
   "source": [
    "# Attempt to delete matching files under fma_large\n",
    "for rel_path in relative_paths:\n",
    "    file_path = os.path.join(fma_large_root, rel_path)\n",
    "    if os.path.isfile(file_path):\n",
    "        try:\n",
    "            os.remove(file_path)\n",
    "            print(f\"Deleted: {file_path}\")\n",
    "        except Exception as e:\n",
    "            print(f\"Error deleting {file_path}: {e}\")\n",
    "    else:\n",
    "        print(f\"Not found (skipped): {file_path}\")\n"
   ]
  },
  {
   "cell_type": "code",
   "execution_count": 5,
   "id": "28f265ab",
   "metadata": {},
   "outputs": [
    {
     "name": "stdout",
     "output_type": "stream",
     "text": [
      "Number of elements in 'C:\\VisualStudioRepositories\\MUSIC_DATA\\fma\\FAULTY_AUDIO\\fma_large_faulty_list.txt': 189\n"
     ]
    }
   ],
   "source": [
    "with open(faulty_list_path, 'r') as file:\n",
    "    line_count = sum(1 for line in file if line.strip())\n",
    "print(f\"Number of elements in '{faulty_list_path}': {line_count}\")"
   ]
  },
  {
   "cell_type": "markdown",
   "id": "2054e6bb",
   "metadata": {},
   "source": [
    "Amount of files left in fma_large: 106 406"
   ]
  },
  {
   "cell_type": "code",
   "execution_count": 18,
   "id": "7cc7b6d4",
   "metadata": {},
   "outputs": [
    {
     "name": "stdout",
     "output_type": "stream",
     "text": [
      "['098565', '098567', '098569', '099134', '108925', '133297', '001486', '005574', '065753', '080391', '098558', '098559', '098560', '098565', '098566', '098567', '098568', '098569', '098571', '099134', '105247', '108924', '108925', '126981', '127336', '133297', '143992', '001486', '002624', '003284', '005574', '008669', '010116', '011583', '012838', '013529', '014116', '014180', '020814', '022554', '023429', '023430', '023431', '025173', '025174', '025175', '025176', '025180', '029345', '029346', '029352', '029356', '033411', '033413', '033414', '033417', '033418', '033419', '033425', '035725', '039363', '041745', '042986', '043753', '050594', '050782', '053668', '054569', '054582', '061480', '061822', '063422', '063997', '065753', '072656', '072980', '073510', '080391', '080553', '082699', '084503', '084504', '084522', '084524', '086656', '086659', '086661', '086664', '087057', '090244', '090245', '090247', '090248', '090250', '090252', '090253', '090442', '090445', '091206', '092479', '094052', '094234', '095253', '096203', '096207', '096210', '098105', '098558', '098559', '098560', '098562', '098571', '099134', '101265', '101272', '101275', '102241', '102243', '102247', '102249', '102289', '105247', '106409', '106412', '106415', '106628', '108920', '108925', '109266', '110236', '115610', '117441', '126981', '127336', '127928', '129207', '129800', '130328', '130748', '130751', '131545', '133297', '133641', '133647', '134887', '140449', '140450', '140451', '140452', '140453', '140454', '140455', '140456', '140457', '140458', '140459', '140460', '140461', '140462', '140463', '140464', '140465', '140466', '140467', '140468', '140469', '140470', '140471', '140472', '142614', '143992', '144518', '144619', '145056', '146056', '147419', '147424', '148786', '148787', '148788', '148789', '148790', '148791', '148792', '148793', '148794', '148795', '151920', '155051']\n"
     ]
    }
   ],
   "source": [
    "# Extract IDs from each relative path (filename without extension)\n",
    "faulty_ids = [os.path.splitext(os.path.basename(path))[0] for path in relative_paths]\n",
    "print(faulty_ids)"
   ]
  },
  {
   "cell_type": "code",
   "execution_count": 19,
   "id": "5d3e706e",
   "metadata": {},
   "outputs": [
    {
     "data": {
      "text/plain": [
       "189"
      ]
     },
     "execution_count": 19,
     "metadata": {},
     "output_type": "execute_result"
    }
   ],
   "source": [
    "len(faulty_ids)"
   ]
  },
  {
   "cell_type": "code",
   "execution_count": 20,
   "id": "4cee1a48",
   "metadata": {},
   "outputs": [
    {
     "name": "stdout",
     "output_type": "stream",
     "text": [
      "['147419', '054569', '061480', '108925', '086659', '130751', '029345', '033414', '061822', '133297', '029356', '102289', '108920', '033425', '148794', '117441', '023431', '084524', '098571', '080391', '098562', '148786', '140460', '102249', '025180', '148789', '029346', '096203', '148788', '096207', '025173', '063422', '140468', '091206', '102247', '033411', '033417', '029352', '140471', '155051', '053668', '106628', '101265', '140457', '101275', '144619', '013529', '140450', '080553', '098560', '115610', '012838', '001486', '140455', '035725', '140462', '109266', '011583', '098105', '101272', '140449', '148792', '094052', '142614', '151920', '147424', '127336', '010116', '025176', '134887', '090245', '087057', '140465', '008669', '140458', '133647', '096210', '042986', '090250', '106415', '131545', '126981', '140472', '140453', '043753', '098559', '106409', '140456', '090252', '098569', '090442', '014116', '090247', '022554', '050782', '140451', '099134', '102241', '082699', '130328', '090445', '054582', '146056', '086656', '140464', '005574', '086664', '110236', '072656', '050594', '025174', '098558', '130748', '140452', '143992', '148795', '140466', '094234', '106412', '148793', '133641', '020814', '108924', '084503', '065753', '002624', '084504', '041745', '090253', '129800', '033419', '140461', '023430', '140470', '039363', '140463', '033413', '148787', '144518', '140467', '102243', '140454', '086661', '095253', '098568', '092479', '129207', '098565', '072980', '127928', '063997', '145056', '098566', '084522', '033418', '148790', '003284', '140459', '023429', '105247', '098567', '073510', '090248', '025175', '148791', '014180', '090244', '140469']\n"
     ]
    }
   ],
   "source": [
    "faulty_ids = list(set(faulty_ids))\n",
    "print(faulty_ids)"
   ]
  },
  {
   "cell_type": "code",
   "execution_count": 21,
   "id": "7667b820",
   "metadata": {},
   "outputs": [
    {
     "name": "stdout",
     "output_type": "stream",
     "text": [
      "UNIQUE FAULTY FILES: 168\n"
     ]
    }
   ],
   "source": [
    "print(f\"UNIQUE FAULTY FILES: {len(faulty_ids)}\")"
   ]
  },
  {
   "cell_type": "code",
   "execution_count": 22,
   "id": "aa1a3323",
   "metadata": {},
   "outputs": [],
   "source": [
    "fma_dir = Path(str(os.environ.get('FMA_DIR')))\n",
    "tracks_df = utils.load(fma_dir / 'fma_metadata/tracks.csv')"
   ]
  },
  {
   "cell_type": "code",
   "execution_count": 23,
   "id": "a2dcc6a7",
   "metadata": {},
   "outputs": [
    {
     "data": {
      "text/plain": [
       "106574"
      ]
     },
     "execution_count": 23,
     "metadata": {},
     "output_type": "execute_result"
    }
   ],
   "source": [
    "len(tracks_df)"
   ]
  },
  {
   "cell_type": "code",
   "execution_count": 24,
   "id": "48b978bb",
   "metadata": {},
   "outputs": [],
   "source": [
    "tracks_df_without_faulty = tracks_df[~tracks_df.index.isin([int(fid) for fid in faulty_ids])]"
   ]
  },
  {
   "cell_type": "code",
   "execution_count": 25,
   "id": "2b7bd212",
   "metadata": {},
   "outputs": [
    {
     "data": {
      "text/plain": [
       "106406"
      ]
     },
     "execution_count": 25,
     "metadata": {},
     "output_type": "execute_result"
    }
   ],
   "source": [
    "len(tracks_df_without_faulty)"
   ]
  },
  {
   "cell_type": "code",
   "execution_count": 28,
   "id": "217f05cb",
   "metadata": {},
   "outputs": [
    {
     "name": "stdout",
     "output_type": "stream",
     "text": [
      "Amount of deleted faulty files: 168\n"
     ]
    }
   ],
   "source": [
    "difference = len(tracks_df) - len(tracks_df_without_faulty)\n",
    "print(f\"Amount of deleted faulty files: {difference}\")"
   ]
  },
  {
   "cell_type": "code",
   "execution_count": 29,
   "id": "394a20c8",
   "metadata": {},
   "outputs": [],
   "source": [
    "tracks_df_without_faulty.to_csv(r'C:\\VisualStudioRepositories\\MUSIC_DATA\\fma\\fma_metadata\\tracks_without_faulty.csv')"
   ]
  }
 ],
 "metadata": {
  "kernelspec": {
   "display_name": ".venv",
   "language": "python",
   "name": "python3"
  },
  "language_info": {
   "codemirror_mode": {
    "name": "ipython",
    "version": 3
   },
   "file_extension": ".py",
   "mimetype": "text/x-python",
   "name": "python",
   "nbconvert_exporter": "python",
   "pygments_lexer": "ipython3",
   "version": "3.12.4"
  }
 },
 "nbformat": 4,
 "nbformat_minor": 5
}
