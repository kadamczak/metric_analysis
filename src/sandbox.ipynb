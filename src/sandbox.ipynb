{
 "cells": [
  {
   "cell_type": "markdown",
   "metadata": {},
   "source": [
    "# Setup"
   ]
  },
  {
   "cell_type": "code",
   "execution_count": 2,
   "metadata": {},
   "outputs": [
    {
     "name": "stdout",
     "output_type": "stream",
     "text": [
      "cuda\n"
     ]
    }
   ],
   "source": [
    "import os\n",
    "import numpy as np\n",
    "import matplotlib.pyplot as plt\n",
    "from pathlib import Path\n",
    "import IPython.display as ipd\n",
    "import sklearn as skl\n",
    "import pandas as pd\n",
    "from PIL import Image\n",
    "import seaborn as sns\n",
    "import sys\n",
    "\n",
    "import torch\n",
    "import torch.nn as nn\n",
    "import torch.nn.functional as F\n",
    "import torch.optim as optim \n",
    "\n",
    "from torcheval.metrics.metric import Metric\n",
    "from sklearn.metrics import cohen_kappa_score\n",
    "from sklearn.metrics import roc_auc_score\n",
    "from sklearn.metrics import roc_curve\n",
    "\n",
    "from torcheval.metrics import MulticlassAccuracy\n",
    "from torcheval.metrics import MulticlassPrecision\n",
    "from torcheval.metrics import MulticlassRecall\n",
    "from torcheval.metrics import MulticlassConfusionMatrix\n",
    "from torcheval.metrics import MulticlassF1Score\n",
    "\n",
    "from torcheval.metrics import BinaryAccuracy\n",
    "from torcheval.metrics import BinaryPrecision\n",
    "from torcheval.metrics import BinaryRecall\n",
    "from torcheval.metrics import BinaryConfusionMatrix\n",
    "from torcheval.metrics import BinaryF1Score\n",
    "\n",
    "from torcheval.metrics.functional import mean_squared_error\n",
    "\n",
    "device = torch.device('cuda' if torch.cuda.is_available() else 'cpu')\n",
    "print(device)"
   ]
  },
  {
   "cell_type": "markdown",
   "metadata": {},
   "source": [
    "# Tensor data reset/update"
   ]
  },
  {
   "cell_type": "code",
   "execution_count": 22,
   "metadata": {},
   "outputs": [],
   "source": [
    "class StoredData:\n",
    "    def __init__(self):\n",
    "        self.stored_logits = torch.tensor([], device=device)\n",
    "        self.stored_numerical_labels = torch.tensor([], device=device)\n",
    "        \n",
    "    def reset(self):\n",
    "        self.stored_logits = torch.tensor([], device=device)\n",
    "        self.stored_numerical_labels = torch.tensor([], device=device)\n",
    "        \n",
    "    def concat_new_data(self, new_logits, new_numerical_labels):\n",
    "        self.stored_logits = torch.cat((self.stored_logits, new_logits))\n",
    "        self.stored_numerical_labels = torch.cat((self.stored_numerical_labels, new_numerical_labels.to(torch.int64)))\n",
    "        \n",
    "    def print_data(self):\n",
    "        print(\"LOGITS:\")\n",
    "        print(self.stored_logits)\n",
    "        print(\"NUMERICAL LABELS:\")\n",
    "        print(self.stored_numerical_labels)\n",
    "        \n",
    "    def calculate_metrics_on_data(self, metric_dictionary):\n",
    "        pass"
   ]
  },
  {
   "cell_type": "code",
   "execution_count": 23,
   "metadata": {},
   "outputs": [],
   "source": [
    "stored_data = StoredData()"
   ]
  },
  {
   "cell_type": "code",
   "execution_count": 7,
   "metadata": {},
   "outputs": [],
   "source": [
    "new_logits_1 = torch.ones(4, 5, device=device)\n",
    "new_numerical_labels_1 = torch.ones(4, device=device)"
   ]
  },
  {
   "cell_type": "code",
   "execution_count": 20,
   "metadata": {},
   "outputs": [],
   "source": [
    "stored_data.concat_new_data(new_logits_1, new_numerical_labels_1)"
   ]
  },
  {
   "cell_type": "code",
   "execution_count": null,
   "metadata": {},
   "outputs": [
    {
     "name": "stdout",
     "output_type": "stream",
     "text": [
      "LOGITS:\n",
      "tensor([[1., 1., 1., 1., 1.],\n",
      "        [1., 1., 1., 1., 1.],\n",
      "        [1., 1., 1., 1., 1.],\n",
      "        [1., 1., 1., 1., 1.],\n",
      "        [1., 1., 1., 1., 1.],\n",
      "        [1., 1., 1., 1., 1.],\n",
      "        [1., 1., 1., 1., 1.],\n",
      "        [1., 1., 1., 1., 1.],\n",
      "        [1., 1., 1., 1., 1.],\n",
      "        [1., 1., 1., 1., 1.],\n",
      "        [1., 1., 1., 1., 1.],\n",
      "        [1., 1., 1., 1., 1.],\n",
      "        [1., 1., 1., 1., 1.],\n",
      "        [1., 1., 1., 1., 1.],\n",
      "        [1., 1., 1., 1., 1.],\n",
      "        [1., 1., 1., 1., 1.]], device='cuda:0')\n",
      "NUMERICAL LABELS:\n",
      "tensor([1., 1., 1., 1., 1., 1., 1., 1., 1., 1., 1., 1., 1., 1., 1., 1.],\n",
      "       device='cuda:0')\n"
     ]
    }
   ],
   "source": [
    "# Logits:\n",
    "#   -> classes\n",
    "# |\n",
    "# v  samples\n",
    "stored_data.print_data()"
   ]
  },
  {
   "cell_type": "code",
   "execution_count": 15,
   "metadata": {},
   "outputs": [],
   "source": [
    "stored_data.reset()"
   ]
  },
  {
   "cell_type": "code",
   "execution_count": null,
   "metadata": {},
   "outputs": [],
   "source": []
  }
 ],
 "metadata": {
  "kernelspec": {
   "display_name": ".venv",
   "language": "python",
   "name": "python3"
  },
  "language_info": {
   "codemirror_mode": {
    "name": "ipython",
    "version": 3
   },
   "file_extension": ".py",
   "mimetype": "text/x-python",
   "name": "python",
   "nbconvert_exporter": "python",
   "pygments_lexer": "ipython3",
   "version": "3.12.4"
  }
 },
 "nbformat": 4,
 "nbformat_minor": 2
}
