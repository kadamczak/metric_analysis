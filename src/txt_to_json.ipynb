{
 "cells": [
  {
   "cell_type": "markdown",
   "metadata": {},
   "source": [
    "# Converts previous text format of data to json"
   ]
  },
  {
   "cell_type": "code",
   "execution_count": 8,
   "metadata": {},
   "outputs": [],
   "source": [
    "import os\n",
    "import json"
   ]
  },
  {
   "cell_type": "code",
   "execution_count": 3,
   "metadata": {},
   "outputs": [],
   "source": [
    "def parse_metrics_file(file_path):\n",
    "    with open(file_path, 'r') as file:\n",
    "        lines = file.readlines()\n",
    "\n",
    "    data = {\"epochs\": 0, \"metrics\": {}}\n",
    "    metrics = data[\"metrics\"]\n",
    "\n",
    "    for line in lines:\n",
    "        line = line.strip()\n",
    "\n",
    "        # Parse epochs\n",
    "        if line.startswith(\"EPOCHS:\"):\n",
    "            data[\"epochs\"] = int(line.split(\":\")[1].strip())\n",
    "\n",
    "        # Parse key-value metrics (e.g., macro_accuracy, micro_accuracy, etc.)\n",
    "        elif \":\" in line and not line.startswith(\"accuracy_per_class\") and not line.startswith(\"f1_per_class\") and not line.startswith(\"precision_per_class\") and not line.startswith(\"recall_per_class\") and not line.startswith(\"ROC-AUC_per_class_vs_rest\"):\n",
    "            key, value = line.split(\":\")\n",
    "            metrics[key.strip()] = float(value.strip())\n",
    "\n",
    "        # Parse metrics per class\n",
    "        elif line.startswith(\"accuracy_per_class\") or line.startswith(\"f1_per_class\") or line.startswith(\"precision_per_class\") or line.startswith(\"recall_per_class\") or line.startswith(\"ROC-AUC_per_class_vs_rest\"):\n",
    "            key, values = line.split(\":\", 1)\n",
    "            key = key.strip()\n",
    "            class_metrics = {}\n",
    "            \n",
    "            class_metrics = values.split()\n",
    "            results = dict()\n",
    "            \n",
    "            # Extract individual class metrics\n",
    "            i = 0\n",
    "            while i < len(class_metrics):\n",
    "                class_name = \"\"\n",
    "                \n",
    "                while i < len(class_metrics) and not class_metrics[i].replace('.', '', 1).isdigit():\n",
    "                    class_name = class_name + \" \" + class_metrics[i].removesuffix(\":\")\n",
    "                    i += 1\n",
    "                \n",
    "                class_name = class_name.strip()\n",
    "                if i < len(class_metrics):\n",
    "                    class_value = class_metrics[i].strip()\n",
    "                    results[class_name] = float(class_value)\n",
    "                i += 1\n",
    "\n",
    "            metrics[key] = results\n",
    "\n",
    "    return data"
   ]
  },
  {
   "cell_type": "code",
   "execution_count": 6,
   "metadata": {},
   "outputs": [],
   "source": [
    "def save_to_json(data, output_path):\n",
    "    if not os.path.exists(os.path.dirname(output_path)):\n",
    "        os.makedirs(os.path.dirname(output_path))\n",
    "    with open(output_path, 'w') as json_file:\n",
    "        json.dump(data, json_file, indent=2)"
   ]
  },
  {
   "cell_type": "code",
   "execution_count": 16,
   "metadata": {},
   "outputs": [
    {
     "data": {
      "text/plain": [
       "['C:/VisualStudioRepositories/MUSIC_DATA/music_genre_classification/output/txt\\\\fma_medium_binary\\\\model1_5_spacing\\\\0_epochs\\\\1.txt',\n",
       " 'C:/VisualStudioRepositories/MUSIC_DATA/music_genre_classification/output/txt\\\\fma_medium_binary\\\\model1_5_spacing\\\\10_epochs\\\\1.txt',\n",
       " 'C:/VisualStudioRepositories/MUSIC_DATA/music_genre_classification/output/txt\\\\fma_medium_binary\\\\model1_5_spacing\\\\15_epochs\\\\1.txt',\n",
       " 'C:/VisualStudioRepositories/MUSIC_DATA/music_genre_classification/output/txt\\\\fma_medium_binary\\\\model1_5_spacing\\\\20_epochs\\\\1.txt',\n",
       " 'C:/VisualStudioRepositories/MUSIC_DATA/music_genre_classification/output/txt\\\\fma_medium_binary\\\\model1_5_spacing\\\\25_epochs\\\\1.txt']"
      ]
     },
     "execution_count": 16,
     "metadata": {},
     "output_type": "execute_result"
    }
   ],
   "source": [
    "import glob\n",
    "\n",
    "# find all files named \"1.txt\" in directory C:/VisualStudioRepositories/MUSIC_DATA/music_genre_classification/output/txt/ with recursion\n",
    "file_paths = glob.glob(\"C:/VisualStudioRepositories/MUSIC_DATA/music_genre_classification/output/txt/**/1.txt\", recursive=True)\n",
    "file_paths[:5]"
   ]
  },
  {
   "cell_type": "code",
   "execution_count": null,
   "metadata": {},
   "outputs": [],
   "source": [
    "# remove line \"TEST results:\" from all files\n",
    "for file_path in file_paths:\n",
    "    with open(file_path, 'r') as file:\n",
    "        lines = file.readlines()\n",
    "    with open(file_path, 'w') as file:\n",
    "        for line in lines:\n",
    "            if not line.startswith(\"TEST results:\"):\n",
    "                file.write(line)"
   ]
  },
  {
   "cell_type": "code",
   "execution_count": 17,
   "metadata": {},
   "outputs": [],
   "source": [
    "# create .json for each file\n",
    "for file_path in file_paths:\n",
    "    data = parse_metrics_file(file_path)\n",
    "    output_path = file_path.replace(\".txt\", \".json\")\n",
    "    save_to_json(data, output_path)"
   ]
  },
  {
   "cell_type": "code",
   "execution_count": 9,
   "metadata": {},
   "outputs": [],
   "source": [
    "json_data = parse_metrics_file(\"C:/VisualStudioRepositories/MUSIC_DATA/music_genre_classification/output/txt/fma_medium_multi/model1_5_spacing/0_epochs/1.txt\")\n",
    "save_to_json(json_data, \"C:/VisualStudioRepositories/MUSIC_DATA/music_genre_classification/output/txt/fma_medium_multi/model1_5_spacing/0_epochs/1.json\")"
   ]
  },
  {
   "cell_type": "code",
   "execution_count": 18,
   "metadata": {},
   "outputs": [],
   "source": [
    "# delete .txt files\n",
    "for file_path in file_paths:\n",
    "    os.remove(file_path)"
   ]
  }
 ],
 "metadata": {
  "kernelspec": {
   "display_name": ".venv",
   "language": "python",
   "name": "python3"
  },
  "language_info": {
   "codemirror_mode": {
    "name": "ipython",
    "version": 3
   },
   "file_extension": ".py",
   "mimetype": "text/x-python",
   "name": "python",
   "nbconvert_exporter": "python",
   "pygments_lexer": "ipython3",
   "version": "3.12.4"
  }
 },
 "nbformat": 4,
 "nbformat_minor": 2
}
