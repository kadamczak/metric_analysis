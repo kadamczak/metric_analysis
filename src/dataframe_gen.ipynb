{
 "cells": [
  {
   "cell_type": "markdown",
   "metadata": {},
   "source": [
    "# Setup"
   ]
  },
  {
   "cell_type": "code",
   "execution_count": 5,
   "metadata": {},
   "outputs": [],
   "source": [
    "import os\n",
    "import numpy as np\n",
    "from pathlib import Path\n",
    "import pandas as pd\n",
    "\n",
    "import utils"
   ]
  },
  {
   "cell_type": "code",
   "execution_count": 6,
   "metadata": {},
   "outputs": [],
   "source": [
    "gtzan_dir = Path(str(os.environ.get('GTZAN_DIR')))   #C:/VisualStudioRepositories/MUSIC_DATA/gt/Data\n",
    "fma_dir = Path(str(os.environ.get('FMA_DIR')))       #C:/VisualStudioRepositories/MUSIC_DATA/fma\n",
    "\n",
    "gtzan_image_dir = gtzan_dir / 'spectrograms'\n",
    "gtzan_df_path = gtzan_dir / 'gtzan_df.csv'\n",
    "\n",
    "fma_small_audio_dir = fma_dir / 'fma_small'\n",
    "fma_small_image_dir = fma_dir / 'spectrograms/fma_small'\n",
    "\n",
    "fma_medium_audio_dir = fma_dir / 'fma_medium'\n",
    "fma_medium_image_dir = fma_dir / 'spectrograms/fma_medium'\n",
    "\n",
    "fma_df_path = fma_dir / 'fma_df.csv'"
   ]
  },
  {
   "cell_type": "markdown",
   "metadata": {},
   "source": [
    "# Summary"
   ]
  },
  {
   "cell_type": "markdown",
   "metadata": {},
   "source": [
    "GTZAN:\n",
    "- 10 CLASSES\n",
    "- 998 - entire dataset\n",
    "- 800 - train set (80 samples per each class)\n",
    "- 98 - val set (9 samples for Jazz and Reggae, 10 samples per each other class)\n",
    "- 100 - test set (10 samples per each class)"
   ]
  },
  {
   "cell_type": "markdown",
   "metadata": {},
   "source": [
    "FMA-SMALL Summary:\n",
    "- 8 TOP CLASSES\n",
    "- 7994 - entire dataset\n",
    "- 6394 - train set:\n",
    "    - 800 samples per Pop, Folk, International, Instrumental\n",
    "    - 799 samples per Rock, Experimental, Electronic\n",
    "    - 797 samples for Hip-Hop\n",
    "- 800 - val set (100 samples per class)\n",
    "- 800 - test set (100 samples per class)"
   ]
  },
  {
   "cell_type": "markdown",
   "metadata": {},
   "source": [
    "FMA-MEDIUM Summary:\n",
    "- 16 TOP CLASSES\n",
    "- 24979 - entire dataset\n",
    "- 19903 - train set:\n",
    "    - Rock                   5676\n",
    "    - Electronic             5048\n",
    "    - Experimental           1800\n",
    "    - Hip-Hop                1752\n",
    "    - Folk                   1214\n",
    "    - Instrumental           1044\n",
    "    - Pop                     945\n",
    "    - International           814\n",
    "    - Classical               495\n",
    "    - Old-Time / Historic     408\n",
    "    - Jazz                    306\n",
    "    - Country                 142\n",
    "    - Spoken                   94\n",
    "    - Soul-RnB                 94\n",
    "    - Blues                    58\n",
    "    - Easy Listening           13\n",
    "- 2504 - val set:\n",
    "    - Rock                   711\n",
    "    - Electronic             631\n",
    "    - Experimental           225\n",
    "    - Hip-Hop                220\n",
    "    - Folk                   152\n",
    "    - Instrumental           131\n",
    "    - Pop                    122\n",
    "    - International          102\n",
    "    - Classical               62\n",
    "    - Old-Time / Historic     51\n",
    "    - Jazz                    39\n",
    "    - Country                 18\n",
    "    - Soul-RnB                18\n",
    "    - Spoken                  12\n",
    "    - Blues                    8\n",
    "    - Easy Listening           2\n",
    "- 2572 - test set:\n",
    "    - Rock                   710\n",
    "    - Electronic             632\n",
    "    - Experimental           225\n",
    "    - Hip-Hop                220\n",
    "    - Instrumental           174\n",
    "    - Folk                   152\n",
    "    - Pop                    119\n",
    "    - International          102\n",
    "    - Classical               62\n",
    "    - Old-Time / Historic     51\n",
    "    - Soul-RnB                42\n",
    "    - Jazz                    39\n",
    "    - Country                 18\n",
    "    - Spoken                  12\n",
    "    - Blues                    8\n",
    "    - Easy Listening           6"
   ]
  },
  {
   "cell_type": "markdown",
   "metadata": {},
   "source": [
    "# Create and save GTZAN dataframe"
   ]
  },
  {
   "cell_type": "code",
   "execution_count": 16,
   "metadata": {},
   "outputs": [],
   "source": [
    "#path - relative spectrogram image path (only parent and filename)\n",
    "#set - train/validation/test\n",
    "#genre - one of 10 classes\n",
    "gtzan_df = pd.DataFrame(columns=['path', 'set', 'genre'])"
   ]
  },
  {
   "cell_type": "code",
   "execution_count": 17,
   "metadata": {},
   "outputs": [],
   "source": [
    "# Load image filepaths\n",
    "gtzan_image_filepaths = list(gtzan_image_dir.rglob('*.png'))\n",
    "gtzan_image_filepaths = [Path(path.parent.name) / Path(path.name) for path in gtzan_image_filepaths]   "
   ]
  },
  {
   "cell_type": "code",
   "execution_count": 18,
   "metadata": {},
   "outputs": [],
   "source": [
    "# Save filepaths and assign genres from paths\n",
    "gtzan_df['path'] = gtzan_image_filepaths\n",
    "gtzan_df['genre'] = gtzan_df['path'].apply(lambda x: x.parent.name)"
   ]
  },
  {
   "cell_type": "markdown",
   "metadata": {},
   "source": [
    "80 songs of every genre land in train set.\n",
    "\n",
    "Split probably could be improved by accounting for artist effect (i. e. forbiding artists in train set from appearing in test set) but GTZAN has so much artist repetition that it could be difficult to meaningfully achieve. It also has no official metadata available."
   ]
  },
  {
   "cell_type": "code",
   "execution_count": 19,
   "metadata": {},
   "outputs": [],
   "source": [
    "# Divide into sets\n",
    "np.random.seed(42)\n",
    "gtzan_sampled_df = gtzan_df.groupby('genre').sample(n=80, replace=False)\n",
    "gtzan_df['set'] = np.where(gtzan_df['path'].isin(gtzan_sampled_df['path']), 'train', 'validation')"
   ]
  },
  {
   "cell_type": "markdown",
   "metadata": {},
   "source": [
    "10 songs for every class moves from validation to test"
   ]
  },
  {
   "cell_type": "code",
   "execution_count": 20,
   "metadata": {},
   "outputs": [],
   "source": [
    "gtzan_test_df = gtzan_df[gtzan_df['set'] == 'validation']\n",
    "gtzan_test_sampled_df = gtzan_test_df.groupby('genre').sample(n=10, replace=False)\n",
    "gtzan_df['set'] = np.where(gtzan_df['path'].isin(gtzan_test_sampled_df['path']), 'test', gtzan_df['set'])"
   ]
  },
  {
   "cell_type": "code",
   "execution_count": 21,
   "metadata": {},
   "outputs": [
    {
     "data": {
      "text/html": [
       "<div>\n",
       "<style scoped>\n",
       "    .dataframe tbody tr th:only-of-type {\n",
       "        vertical-align: middle;\n",
       "    }\n",
       "\n",
       "    .dataframe tbody tr th {\n",
       "        vertical-align: top;\n",
       "    }\n",
       "\n",
       "    .dataframe thead th {\n",
       "        text-align: right;\n",
       "    }\n",
       "</style>\n",
       "<table border=\"1\" class=\"dataframe\">\n",
       "  <thead>\n",
       "    <tr style=\"text-align: right;\">\n",
       "      <th></th>\n",
       "      <th>path</th>\n",
       "      <th>set</th>\n",
       "      <th>genre</th>\n",
       "    </tr>\n",
       "  </thead>\n",
       "  <tbody>\n",
       "    <tr>\n",
       "      <th>0</th>\n",
       "      <td>Blues\\blues.00000.png</td>\n",
       "      <td>train</td>\n",
       "      <td>Blues</td>\n",
       "    </tr>\n",
       "    <tr>\n",
       "      <th>1</th>\n",
       "      <td>Blues\\blues.00001.png</td>\n",
       "      <td>test</td>\n",
       "      <td>Blues</td>\n",
       "    </tr>\n",
       "    <tr>\n",
       "      <th>2</th>\n",
       "      <td>Blues\\blues.00002.png</td>\n",
       "      <td>test</td>\n",
       "      <td>Blues</td>\n",
       "    </tr>\n",
       "    <tr>\n",
       "      <th>3</th>\n",
       "      <td>Blues\\blues.00003.png</td>\n",
       "      <td>train</td>\n",
       "      <td>Blues</td>\n",
       "    </tr>\n",
       "  </tbody>\n",
       "</table>\n",
       "</div>"
      ],
      "text/plain": [
       "                    path    set  genre\n",
       "0  Blues\\blues.00000.png  train  Blues\n",
       "1  Blues\\blues.00001.png   test  Blues\n",
       "2  Blues\\blues.00002.png   test  Blues\n",
       "3  Blues\\blues.00003.png  train  Blues"
      ]
     },
     "execution_count": 21,
     "metadata": {},
     "output_type": "execute_result"
    }
   ],
   "source": [
    "gtzan_df.head(4)"
   ]
  },
  {
   "cell_type": "code",
   "execution_count": 22,
   "metadata": {},
   "outputs": [],
   "source": [
    "#Save\n",
    "gtzan_df.to_csv(gtzan_df_path, index=False)"
   ]
  },
  {
   "cell_type": "markdown",
   "metadata": {},
   "source": [
    "# Create and save FMA dataframe"
   ]
  },
  {
   "cell_type": "code",
   "execution_count": null,
   "metadata": {},
   "outputs": [],
   "source": [
    "# contains labels for tracks\n",
    "tracks_df = utils.load(fma_dir / 'fma_metadata/tracks.csv')"
   ]
  },
  {
   "cell_type": "code",
   "execution_count": null,
   "metadata": {},
   "outputs": [],
   "source": [
    "#track_id -  id from tracks.csv\n",
    "#path     -  relative spectrogram image path (only parent and filename)\n",
    "#set      -  train or test\n",
    "#size     -  small/medium fma dataset (note: tracks in 'small' also belong to 'medium')\n",
    "#genre    -  one of 8 classes\n",
    "fma_df = pd.DataFrame(columns=['track_id','path', 'set', 'size', 'genre'])"
   ]
  },
  {
   "cell_type": "code",
   "execution_count": null,
   "metadata": {},
   "outputs": [],
   "source": [
    "# Load image filepaths\n",
    "fma_medium_image_filepaths = list(fma_medium_image_dir.rglob('*.png'))\n",
    "fma_medium_image_filepaths = [Path(path.parent.name) / Path(path.name) for path in fma_medium_image_filepaths]   "
   ]
  },
  {
   "cell_type": "code",
   "execution_count": null,
   "metadata": {},
   "outputs": [],
   "source": [
    "# Save filepaths and assign:\n",
    "# genre from track, top_genre in tracks_df\n",
    "# size from set, subset in tracks_df\n",
    "# set from set, split in tracks_df\n",
    "fma_df['path'] = fma_medium_image_filepaths\n",
    "fma_df['track_id'] = fma_df['path'].apply(lambda x: int(x.stem))"
   ]
  },
  {
   "cell_type": "code",
   "execution_count": null,
   "metadata": {},
   "outputs": [],
   "source": [
    "# train/val/test split done by fma creators, takes care of \"artist effect\" etc.\n",
    "fma_df['genre'] = fma_df['track_id'].apply(lambda track_id: tracks_df.loc[track_id]['track']['genre_top'])\n",
    "fma_df['size'] = fma_df['track_id'].apply(lambda track_id: tracks_df.loc[track_id]['set']['subset'])\n",
    "fma_df['set'] = fma_df['track_id'].apply(lambda track_id: tracks_df.loc[track_id]['set']['split'])"
   ]
  },
  {
   "cell_type": "code",
   "execution_count": null,
   "metadata": {},
   "outputs": [
    {
     "data": {
      "text/html": [
       "<div>\n",
       "<style scoped>\n",
       "    .dataframe tbody tr th:only-of-type {\n",
       "        vertical-align: middle;\n",
       "    }\n",
       "\n",
       "    .dataframe tbody tr th {\n",
       "        vertical-align: top;\n",
       "    }\n",
       "\n",
       "    .dataframe thead th {\n",
       "        text-align: right;\n",
       "    }\n",
       "</style>\n",
       "<table border=\"1\" class=\"dataframe\">\n",
       "  <thead>\n",
       "    <tr style=\"text-align: right;\">\n",
       "      <th></th>\n",
       "      <th>track_id</th>\n",
       "      <th>path</th>\n",
       "      <th>set</th>\n",
       "      <th>size</th>\n",
       "      <th>genre</th>\n",
       "    </tr>\n",
       "  </thead>\n",
       "  <tbody>\n",
       "    <tr>\n",
       "      <th>0</th>\n",
       "      <td>2</td>\n",
       "      <td>000\\000002.png</td>\n",
       "      <td>training</td>\n",
       "      <td>small</td>\n",
       "      <td>Hip-Hop</td>\n",
       "    </tr>\n",
       "    <tr>\n",
       "      <th>1</th>\n",
       "      <td>3</td>\n",
       "      <td>000\\000003.png</td>\n",
       "      <td>training</td>\n",
       "      <td>medium</td>\n",
       "      <td>Hip-Hop</td>\n",
       "    </tr>\n",
       "    <tr>\n",
       "      <th>2</th>\n",
       "      <td>5</td>\n",
       "      <td>000\\000005.png</td>\n",
       "      <td>training</td>\n",
       "      <td>small</td>\n",
       "      <td>Hip-Hop</td>\n",
       "    </tr>\n",
       "    <tr>\n",
       "      <th>3</th>\n",
       "      <td>10</td>\n",
       "      <td>000\\000010.png</td>\n",
       "      <td>training</td>\n",
       "      <td>small</td>\n",
       "      <td>Pop</td>\n",
       "    </tr>\n",
       "    <tr>\n",
       "      <th>4</th>\n",
       "      <td>134</td>\n",
       "      <td>000\\000134.png</td>\n",
       "      <td>training</td>\n",
       "      <td>medium</td>\n",
       "      <td>Hip-Hop</td>\n",
       "    </tr>\n",
       "    <tr>\n",
       "      <th>5</th>\n",
       "      <td>136</td>\n",
       "      <td>000\\000136.png</td>\n",
       "      <td>training</td>\n",
       "      <td>medium</td>\n",
       "      <td>Rock</td>\n",
       "    </tr>\n",
       "    <tr>\n",
       "      <th>6</th>\n",
       "      <td>139</td>\n",
       "      <td>000\\000139.png</td>\n",
       "      <td>training</td>\n",
       "      <td>medium</td>\n",
       "      <td>Folk</td>\n",
       "    </tr>\n",
       "    <tr>\n",
       "      <th>7</th>\n",
       "      <td>140</td>\n",
       "      <td>000\\000140.png</td>\n",
       "      <td>training</td>\n",
       "      <td>small</td>\n",
       "      <td>Folk</td>\n",
       "    </tr>\n",
       "    <tr>\n",
       "      <th>8</th>\n",
       "      <td>141</td>\n",
       "      <td>000\\000141.png</td>\n",
       "      <td>training</td>\n",
       "      <td>small</td>\n",
       "      <td>Folk</td>\n",
       "    </tr>\n",
       "    <tr>\n",
       "      <th>9</th>\n",
       "      <td>148</td>\n",
       "      <td>000\\000148.png</td>\n",
       "      <td>validation</td>\n",
       "      <td>small</td>\n",
       "      <td>Experimental</td>\n",
       "    </tr>\n",
       "    <tr>\n",
       "      <th>10</th>\n",
       "      <td>181</td>\n",
       "      <td>000\\000181.png</td>\n",
       "      <td>test</td>\n",
       "      <td>medium</td>\n",
       "      <td>Rock</td>\n",
       "    </tr>\n",
       "    <tr>\n",
       "      <th>11</th>\n",
       "      <td>182</td>\n",
       "      <td>000\\000182.png</td>\n",
       "      <td>test</td>\n",
       "      <td>small</td>\n",
       "      <td>Rock</td>\n",
       "    </tr>\n",
       "    <tr>\n",
       "      <th>12</th>\n",
       "      <td>190</td>\n",
       "      <td>000\\000190.png</td>\n",
       "      <td>training</td>\n",
       "      <td>small</td>\n",
       "      <td>Folk</td>\n",
       "    </tr>\n",
       "  </tbody>\n",
       "</table>\n",
       "</div>"
      ],
      "text/plain": [
       "    track_id            path         set    size         genre\n",
       "0          2  000\\000002.png    training   small       Hip-Hop\n",
       "1          3  000\\000003.png    training  medium       Hip-Hop\n",
       "2          5  000\\000005.png    training   small       Hip-Hop\n",
       "3         10  000\\000010.png    training   small           Pop\n",
       "4        134  000\\000134.png    training  medium       Hip-Hop\n",
       "5        136  000\\000136.png    training  medium          Rock\n",
       "6        139  000\\000139.png    training  medium          Folk\n",
       "7        140  000\\000140.png    training   small          Folk\n",
       "8        141  000\\000141.png    training   small          Folk\n",
       "9        148  000\\000148.png  validation   small  Experimental\n",
       "10       181  000\\000181.png        test  medium          Rock\n",
       "11       182  000\\000182.png        test   small          Rock\n",
       "12       190  000\\000190.png    training   small          Folk"
      ]
     },
     "metadata": {},
     "output_type": "display_data"
    }
   ],
   "source": [
    "fma_df.head(13)"
   ]
  },
  {
   "cell_type": "code",
   "execution_count": null,
   "metadata": {},
   "outputs": [],
   "source": [
    "#Save\n",
    "fma_df.to_csv(fma_df_path, index=False)"
   ]
  }
 ],
 "metadata": {
  "kernelspec": {
   "display_name": ".venv",
   "language": "python",
   "name": "python3"
  },
  "language_info": {
   "codemirror_mode": {
    "name": "ipython",
    "version": 3
   },
   "file_extension": ".py",
   "mimetype": "text/x-python",
   "name": "python",
   "nbconvert_exporter": "python",
   "pygments_lexer": "ipython3",
   "version": "3.12.4"
  }
 },
 "nbformat": 4,
 "nbformat_minor": 2
}
