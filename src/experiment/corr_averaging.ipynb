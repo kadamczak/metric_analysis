{
 "cells": [
  {
   "cell_type": "markdown",
   "id": "687c3999",
   "metadata": {},
   "source": [
    "# Setup"
   ]
  },
  {
   "cell_type": "code",
   "execution_count": 1,
   "id": "ca13cc8b",
   "metadata": {},
   "outputs": [],
   "source": [
    "import os\n",
    "import sys\n",
    "\n",
    "sys.path.append(os.path.abspath(\"../..\"))"
   ]
  },
  {
   "cell_type": "code",
   "execution_count": 2,
   "id": "11f4fc48",
   "metadata": {},
   "outputs": [],
   "source": [
    "from pathlib import Path\n",
    "import json\n",
    "import numpy as np\n"
   ]
  },
  {
   "cell_type": "code",
   "execution_count": 3,
   "id": "43c802d8",
   "metadata": {},
   "outputs": [
    {
     "data": {
      "text/plain": [
       "WindowsPath('C:/VisualStudioRepositories/MUSIC_DATA/metric_analysis/output')"
      ]
     },
     "execution_count": 3,
     "metadata": {},
     "output_type": "execute_result"
    }
   ],
   "source": [
    "from src.experiment.helpers.variables import report_output_root_dir\n",
    "report_output_root_dir"
   ]
  },
  {
   "cell_type": "markdown",
   "id": "391b0b99",
   "metadata": {},
   "source": [
    "### Datasets"
   ]
  },
  {
   "cell_type": "code",
   "execution_count": 13,
   "id": "5e695881",
   "metadata": {},
   "outputs": [
    {
     "data": {
      "text/plain": [
       "['all-in-one_sentiment_balanced',\n",
       " 'amazon-reviews-0.25_balanced',\n",
       " 'ceas_balanced',\n",
       " 'colon-0.5_balanced',\n",
       " 'fake-news_balanced',\n",
       " 'news-sarcasm_balanced',\n",
       " 'philippine_balanced',\n",
       " 'santander-customer-satisfaction_balanced',\n",
       " 'spambase_balanced',\n",
       " 'vehicle-sensit_balanced']"
      ]
     },
     "execution_count": 13,
     "metadata": {},
     "output_type": "execute_result"
    }
   ],
   "source": [
    "from src.experiment.sets.binary_balanced_datasets import binary_balanced_datasets\n",
    "binary_balanced_dataset_names = list(binary_balanced_datasets.keys())\n",
    "binary_balanced_dataset_names"
   ]
  },
  {
   "cell_type": "code",
   "execution_count": 14,
   "id": "dbdd0c54",
   "metadata": {},
   "outputs": [
    {
     "data": {
      "text/plain": [
       "['all-in-one_sentiment_imbalanced',\n",
       " 'amazon-reviews-0.25_imbalanced',\n",
       " 'ceas_imbalanced',\n",
       " 'colon-0.5_imbalanced',\n",
       " 'fake-news_imbalanced',\n",
       " 'news-sarcasm_imbalanced',\n",
       " 'philippine_imbalanced',\n",
       " 'santander-customer-satisfaction_imbalanced',\n",
       " 'spambase_imbalanced',\n",
       " 'vehicle-sensit_imbalanced']"
      ]
     },
     "execution_count": 14,
     "metadata": {},
     "output_type": "execute_result"
    }
   ],
   "source": [
    "from src.experiment.sets.binary_imbalanced_datasets import binary_imbalanced_datasets\n",
    "binary_imbalanced_dataset_names = list(binary_imbalanced_datasets.keys())\n",
    "binary_imbalanced_dataset_names"
   ]
  },
  {
   "cell_type": "code",
   "execution_count": 15,
   "id": "b31cf7d7",
   "metadata": {},
   "outputs": [
    {
     "data": {
      "text/plain": [
       "['ag-news_balanced',\n",
       " 'dbpedia-ontology_balanced',\n",
       " 'gas-drift_balanced',\n",
       " 'gtsrb-huelist_balanced',\n",
       " 'irish-times_balanced',\n",
       " 'mfeat-karhunen_balanced',\n",
       " 'news-category_balanced',\n",
       " 'nyt-comments-april17_balanced',\n",
       " 'usps_balanced',\n",
       " 'volkert_balanced']"
      ]
     },
     "execution_count": 15,
     "metadata": {},
     "output_type": "execute_result"
    }
   ],
   "source": [
    "from src.experiment.sets.multiclass_balanced_datasets import multiclass_balanced_datasets\n",
    "multiclass_balanced_dataset_names = list(multiclass_balanced_datasets.keys())\n",
    "multiclass_balanced_dataset_names"
   ]
  },
  {
   "cell_type": "code",
   "execution_count": 16,
   "id": "9551feee",
   "metadata": {},
   "outputs": [
    {
     "data": {
      "text/plain": [
       "['ag-news_imbalanced',\n",
       " 'dbpedia-ontology_imbalanced',\n",
       " 'gas-drift_imbalanced',\n",
       " 'gtsrb-huelist_imbalanced',\n",
       " 'irish-times_imbalanced',\n",
       " 'mfeat-karhunen_imbalanced',\n",
       " 'news-category_imbalanced',\n",
       " 'nyt-comments-april17_imbalanced',\n",
       " 'usps_imbalanced',\n",
       " 'volkert_imbalanced']"
      ]
     },
     "execution_count": 16,
     "metadata": {},
     "output_type": "execute_result"
    }
   ],
   "source": [
    "from src.experiment.sets.multiclass_imbalanced_datasets import multiclass_imbalanced_datasets\n",
    "multiclass_imbalanced_dataset_names = list(multiclass_imbalanced_datasets.keys())\n",
    "multiclass_imbalanced_dataset_names"
   ]
  },
  {
   "cell_type": "code",
   "execution_count": 17,
   "id": "9aa0f164",
   "metadata": {},
   "outputs": [
    {
     "data": {
      "text/plain": [
       "['bookmarks_balanced',\n",
       " 'emotions_balanced',\n",
       " 'imdb_balanced',\n",
       " 'mediamill_balanced',\n",
       " 'ng20_balanced',\n",
       " 'nuswidevlad_balanced',\n",
       " 'scene_balanced',\n",
       " 'tmc2007500_balanced',\n",
       " 'yeast_balanced',\n",
       " 'yelp_balanced']"
      ]
     },
     "execution_count": 17,
     "metadata": {},
     "output_type": "execute_result"
    }
   ],
   "source": [
    "from src.experiment.sets.multilabel_balanced_datasets import multilabel_balanced_datasets\n",
    "multilabel_balanced_dataset_names = list(multilabel_balanced_datasets.keys())\n",
    "multilabel_balanced_dataset_names"
   ]
  },
  {
   "cell_type": "code",
   "execution_count": 18,
   "id": "a0ea6b1c",
   "metadata": {},
   "outputs": [
    {
     "data": {
      "text/plain": [
       "['bookmarks_imbalanced',\n",
       " 'emotions_imbalanced',\n",
       " 'imdb_imbalanced',\n",
       " 'mediamill_imbalanced',\n",
       " 'ng20_imbalanced',\n",
       " 'nuswidevlad_imbalanced',\n",
       " 'scene_imbalanced',\n",
       " 'tmc2007500_imbalanced',\n",
       " 'yeast_imbalanced',\n",
       " 'yelp_imbalanced']"
      ]
     },
     "execution_count": 18,
     "metadata": {},
     "output_type": "execute_result"
    }
   ],
   "source": [
    "from src.experiment.sets.multilabel_imbalanced_datasets import multilabel_imbalanced_datasets\n",
    "multilabel_imbalanced_dataset_names = list(multilabel_imbalanced_datasets.keys())\n",
    "multilabel_imbalanced_dataset_names"
   ]
  },
  {
   "cell_type": "code",
   "execution_count": 19,
   "id": "04fa1268",
   "metadata": {},
   "outputs": [
    {
     "data": {
      "text/plain": [
       "['all-in-one_sentiment_balanced',\n",
       " 'amazon-reviews-0.25_balanced',\n",
       " 'ceas_balanced',\n",
       " 'colon-0.5_balanced',\n",
       " 'fake-news_balanced',\n",
       " 'news-sarcasm_balanced',\n",
       " 'philippine_balanced',\n",
       " 'santander-customer-satisfaction_balanced',\n",
       " 'spambase_balanced',\n",
       " 'vehicle-sensit_balanced',\n",
       " 'all-in-one_sentiment_imbalanced',\n",
       " 'amazon-reviews-0.25_imbalanced',\n",
       " 'ceas_imbalanced',\n",
       " 'colon-0.5_imbalanced',\n",
       " 'fake-news_imbalanced',\n",
       " 'news-sarcasm_imbalanced',\n",
       " 'philippine_imbalanced',\n",
       " 'santander-customer-satisfaction_imbalanced',\n",
       " 'spambase_imbalanced',\n",
       " 'vehicle-sensit_imbalanced',\n",
       " 'ag-news_balanced',\n",
       " 'dbpedia-ontology_balanced',\n",
       " 'gas-drift_balanced',\n",
       " 'gtsrb-huelist_balanced',\n",
       " 'irish-times_balanced',\n",
       " 'mfeat-karhunen_balanced',\n",
       " 'news-category_balanced',\n",
       " 'nyt-comments-april17_balanced',\n",
       " 'usps_balanced',\n",
       " 'volkert_balanced',\n",
       " 'ag-news_imbalanced',\n",
       " 'dbpedia-ontology_imbalanced',\n",
       " 'gas-drift_imbalanced',\n",
       " 'gtsrb-huelist_imbalanced',\n",
       " 'irish-times_imbalanced',\n",
       " 'mfeat-karhunen_imbalanced',\n",
       " 'news-category_imbalanced',\n",
       " 'nyt-comments-april17_imbalanced',\n",
       " 'usps_imbalanced',\n",
       " 'volkert_imbalanced',\n",
       " 'bookmarks_balanced',\n",
       " 'emotions_balanced',\n",
       " 'imdb_balanced',\n",
       " 'mediamill_balanced',\n",
       " 'ng20_balanced',\n",
       " 'nuswidevlad_balanced',\n",
       " 'scene_balanced',\n",
       " 'tmc2007500_balanced',\n",
       " 'yeast_balanced',\n",
       " 'yelp_balanced',\n",
       " 'bookmarks_imbalanced',\n",
       " 'emotions_imbalanced',\n",
       " 'imdb_imbalanced',\n",
       " 'mediamill_imbalanced',\n",
       " 'ng20_imbalanced',\n",
       " 'nuswidevlad_imbalanced',\n",
       " 'scene_imbalanced',\n",
       " 'tmc2007500_imbalanced',\n",
       " 'yeast_imbalanced',\n",
       " 'yelp_imbalanced']"
      ]
     },
     "execution_count": 19,
     "metadata": {},
     "output_type": "execute_result"
    }
   ],
   "source": [
    "all_dataset_names = binary_balanced_dataset_names + binary_imbalanced_dataset_names + multiclass_balanced_dataset_names + multiclass_imbalanced_dataset_names + multilabel_balanced_dataset_names + multilabel_imbalanced_dataset_names\n",
    "all_dataset_names"
   ]
  },
  {
   "cell_type": "code",
   "execution_count": 20,
   "id": "3bbe4aca",
   "metadata": {},
   "outputs": [
    {
     "data": {
      "text/plain": [
       "60"
      ]
     },
     "execution_count": 20,
     "metadata": {},
     "output_type": "execute_result"
    }
   ],
   "source": [
    "len(all_dataset_names)"
   ]
  },
  {
   "cell_type": "markdown",
   "id": "0132c872",
   "metadata": {},
   "source": [
    "### Imbalanced datasets by degree of skew"
   ]
  },
  {
   "cell_type": "markdown",
   "id": "8f828042",
   "metadata": {},
   "source": [
    "Binary"
   ]
  },
  {
   "cell_type": "code",
   "execution_count": 4,
   "id": "6e7fc4bd",
   "metadata": {},
   "outputs": [],
   "source": [
    "binary_mildly_imbalanced_dataset_names = [\n",
    "    \"amazon-reviews-0.25_imbalanced\",\n",
    "    \"colon-0.5_imbalanced\",\n",
    "    \"news-sarcasm_imbalanced\",\n",
    "    \"philippine_imbalanced\",\n",
    "    \"spambase_imbalanced\"\n",
    "]"
   ]
  },
  {
   "cell_type": "code",
   "execution_count": 5,
   "id": "37b217af",
   "metadata": {},
   "outputs": [],
   "source": [
    "binary_strongly_imbalanced_dataset_names = [\n",
    "    \"all-in-one_sentiment_imbalanced\",\n",
    "    \"ceas_imbalanced\",\n",
    "    \"fake-news_imbalanced\",\n",
    "    \"santander-customer-satisfaction_imbalanced\",\n",
    "    \"vehicle-sensit_imbalanced\"\n",
    "]"
   ]
  },
  {
   "cell_type": "markdown",
   "id": "3fcc34cb",
   "metadata": {},
   "source": [
    "Multiclass"
   ]
  },
  {
   "cell_type": "code",
   "execution_count": 6,
   "id": "efe5b4da",
   "metadata": {},
   "outputs": [],
   "source": [
    "multiclass_mildly_imbalanced_dataset_names = [\n",
    "    \"ag-news_imbalanced\",\n",
    "    \"dbpedia-ontology_imbalanced\",\n",
    "    \"gas-drift_imbalanced\",\n",
    "    \"mfeat-karhunen_imbalanced\",\n",
    "    \"usps_imbalanced\"\n",
    "]"
   ]
  },
  {
   "cell_type": "code",
   "execution_count": 7,
   "id": "9ac8012a",
   "metadata": {},
   "outputs": [],
   "source": [
    "multiclass_strongly_imbalanced_dataset_names = [\n",
    "    \"gtsrb-huelist_imbalanced\",\n",
    "    \"irish-times_imbalanced\",\n",
    "    \"news-category_imbalanced\",\n",
    "    \"nyt-comments-april17_imbalanced\",\n",
    "    \"volkert_imbalanced\"\n",
    "]"
   ]
  },
  {
   "cell_type": "markdown",
   "id": "3f44b4b9",
   "metadata": {},
   "source": [
    "Multilabel"
   ]
  },
  {
   "cell_type": "code",
   "execution_count": 8,
   "id": "c7b754f7",
   "metadata": {},
   "outputs": [],
   "source": [
    "multilabel_mildly_imbalanced_dataset_names = [\n",
    "    \"emotions_imbalanced\",\n",
    "    \"imdb_imbalanced\",\n",
    "    \"scene_imbalanced\",\n",
    "    \"yeast_imbalanced\",\n",
    "    \"yelp_imbalanced\"\n",
    "]"
   ]
  },
  {
   "cell_type": "code",
   "execution_count": 9,
   "id": "59e5e57c",
   "metadata": {},
   "outputs": [],
   "source": [
    "multilabel_strongly_imbalanced_dataset_names = [\n",
    "    \"bookmarks_imbalanced\",\n",
    "    \"mediamill_imbalanced\",\n",
    "    \"ng20_imbalanced\",\n",
    "    \"nuswidevlad_imbalanced\",\n",
    "    \"tmc2007500_imbalanced\"\n",
    "]"
   ]
  },
  {
   "cell_type": "markdown",
   "id": "35edda82",
   "metadata": {},
   "source": [
    "All"
   ]
  },
  {
   "cell_type": "code",
   "execution_count": 10,
   "id": "6c8fdb2b",
   "metadata": {},
   "outputs": [
    {
     "data": {
      "text/plain": [
       "['amazon-reviews-0.25_imbalanced',\n",
       " 'colon-0.5_imbalanced',\n",
       " 'news-sarcasm_imbalanced',\n",
       " 'philippine_imbalanced',\n",
       " 'spambase_imbalanced',\n",
       " 'ag-news_imbalanced',\n",
       " 'dbpedia-ontology_imbalanced',\n",
       " 'gas-drift_imbalanced',\n",
       " 'mfeat-karhunen_imbalanced',\n",
       " 'usps_imbalanced',\n",
       " 'emotions_imbalanced',\n",
       " 'imdb_imbalanced',\n",
       " 'scene_imbalanced',\n",
       " 'yeast_imbalanced',\n",
       " 'yelp_imbalanced']"
      ]
     },
     "execution_count": 10,
     "metadata": {},
     "output_type": "execute_result"
    }
   ],
   "source": [
    "mildly_imbalanced_dataset_names = binary_mildly_imbalanced_dataset_names + multiclass_mildly_imbalanced_dataset_names + multilabel_mildly_imbalanced_dataset_names\n",
    "mildly_imbalanced_dataset_names"
   ]
  },
  {
   "cell_type": "code",
   "execution_count": 11,
   "id": "24584989",
   "metadata": {},
   "outputs": [
    {
     "data": {
      "text/plain": [
       "15"
      ]
     },
     "execution_count": 11,
     "metadata": {},
     "output_type": "execute_result"
    }
   ],
   "source": [
    "len(mildly_imbalanced_dataset_names)"
   ]
  },
  {
   "cell_type": "code",
   "execution_count": 12,
   "id": "8c65eb60",
   "metadata": {},
   "outputs": [
    {
     "data": {
      "text/plain": [
       "['all-in-one_sentiment_imbalanced',\n",
       " 'ceas_imbalanced',\n",
       " 'fake-news_imbalanced',\n",
       " 'santander-customer-satisfaction_imbalanced',\n",
       " 'vehicle-sensit_imbalanced',\n",
       " 'gtsrb-huelist_imbalanced',\n",
       " 'irish-times_imbalanced',\n",
       " 'news-category_imbalanced',\n",
       " 'nyt-comments-april17_imbalanced',\n",
       " 'volkert_imbalanced',\n",
       " 'bookmarks_imbalanced',\n",
       " 'mediamill_imbalanced',\n",
       " 'ng20_imbalanced',\n",
       " 'nuswidevlad_imbalanced',\n",
       " 'tmc2007500_imbalanced']"
      ]
     },
     "execution_count": 12,
     "metadata": {},
     "output_type": "execute_result"
    }
   ],
   "source": [
    "strongly_imbalanced_dataset_names = binary_strongly_imbalanced_dataset_names + multiclass_strongly_imbalanced_dataset_names + multilabel_strongly_imbalanced_dataset_names\n",
    "strongly_imbalanced_dataset_names"
   ]
  },
  {
   "cell_type": "code",
   "execution_count": 13,
   "id": "fe50e77c",
   "metadata": {},
   "outputs": [
    {
     "data": {
      "text/plain": [
       "15"
      ]
     },
     "execution_count": 13,
     "metadata": {},
     "output_type": "execute_result"
    }
   ],
   "source": [
    "len(strongly_imbalanced_dataset_names)"
   ]
  },
  {
   "cell_type": "markdown",
   "id": "930eea87",
   "metadata": {},
   "source": [
    "# Get all correlation JSONs"
   ]
  },
  {
   "cell_type": "code",
   "execution_count": 14,
   "id": "21a11352",
   "metadata": {},
   "outputs": [],
   "source": [
    "pearson_correlation_files = sorted(report_output_root_dir.rglob('pearson_correlation.json'), key=lambda x: x.name)\n",
    "spearman_correlation_files = sorted(report_output_root_dir.rglob('spearman_correlation.json'), key=lambda x: x.name)\n",
    "correlation_files = pearson_correlation_files + spearman_correlation_files\n"
   ]
  },
  {
   "cell_type": "code",
   "execution_count": 15,
   "id": "0e7b237e",
   "metadata": {},
   "outputs": [
    {
     "name": "stdout",
     "output_type": "stream",
     "text": [
      "60\n",
      "60\n",
      "120\n"
     ]
    }
   ],
   "source": [
    "print(len(pearson_correlation_files))\n",
    "print(len(spearman_correlation_files))\n",
    "print(len(correlation_files))"
   ]
  },
  {
   "cell_type": "markdown",
   "id": "e9c3422f",
   "metadata": {},
   "source": [
    "# Functions"
   ]
  },
  {
   "cell_type": "code",
   "execution_count": 18,
   "id": "a93af9d7",
   "metadata": {},
   "outputs": [],
   "source": [
    "def average_corr_matrices(files, classification_types, class_balances, datasets, correlation):\n",
    "    correlation_matrices = []\n",
    "\n",
    "    for file_path in files:\n",
    "        with open(file_path, 'r') as f:\n",
    "            data = json.load(f)\n",
    "\n",
    "            if (\n",
    "                data.get(\"classification_type\") in classification_types and\n",
    "                data.get(\"class_balance\") in class_balances and\n",
    "                data.get(\"dataset_name\") in datasets and\n",
    "                data.get(\"correlation_type\") == correlation\n",
    "            ):\n",
    "                correlation_matrices.append(data[\"correlation_matrix\"])\n",
    "            \n",
    "    if not correlation_matrices:\n",
    "        return\n",
    "    \n",
    "    metric_keys = correlation_matrices[0].keys()\n",
    "    averaged_matrix = {}\n",
    "\n",
    "    for metric in metric_keys:\n",
    "        keys = correlation_matrices[0][metric].keys()\n",
    "        averaged_matrix[metric] = {}\n",
    "        for k in keys:\n",
    "            # Collect all values for this cell across matrices\n",
    "            values = [m[metric][k] for m in correlation_matrices]\n",
    "            averaged_matrix[metric][k] = float(np.mean(values))\n",
    "    \n",
    "    full_matrix_info = {\n",
    "        \"classification_types\": classification_types,\n",
    "        \"class_balances\": class_balances,\n",
    "        \"correlation_type\": correlation,\n",
    "        \"datasets\": datasets,\n",
    "        \"matrix\": averaged_matrix\n",
    "    }\n",
    "    \n",
    "    return full_matrix_info"
   ]
  },
  {
   "cell_type": "code",
   "execution_count": null,
   "id": "564fcc13",
   "metadata": {},
   "outputs": [],
   "source": [
    "def average_and_save_matrix(files, classification_types, class_balances, datasets, suffix, root_dir=report_output_root_dir):\n",
    "    for corr_type in [\"pearson\", \"spearman\"]:\n",
    "        matrix_info = average_corr_matrices(\n",
    "            files=files,\n",
    "            classification_types=classification_types,\n",
    "            class_balances=class_balances,\n",
    "            datasets=datasets,\n",
    "            correlation=corr_type\n",
    "        )\n",
    "        \n",
    "        if not matrix_info:\n",
    "            continue\n",
    "    \n",
    "        output_path = root_dir / f\"averaged_{corr_type}_correlation_{suffix}.json\"\n",
    "        \n",
    "        with open(output_path, \"w\") as f:\n",
    "            json.dump(matrix_info, f, indent=2)"
   ]
  },
  {
   "cell_type": "markdown",
   "id": "b83989c2",
   "metadata": {},
   "source": [
    "# Create matrices"
   ]
  },
  {
   "cell_type": "markdown",
   "id": "041a5ea4",
   "metadata": {},
   "source": [
    "All"
   ]
  },
  {
   "cell_type": "code",
   "execution_count": null,
   "id": "b4f00fd4",
   "metadata": {},
   "outputs": [],
   "source": [
    "average_and_save_matrix(\n",
    "    files=correlation_files,\n",
    "    classification_types=[\"binary\", \"multiclass\", \"multilabel\"],\n",
    "    class_balances=[\"balanced\", \"imbalanced\"],\n",
    "    datasets=all_dataset_names,\n",
    "    suffix=\"all\")"
   ]
  },
  {
   "cell_type": "markdown",
   "id": "33c9a8c0",
   "metadata": {},
   "source": [
    "By classification type"
   ]
  },
  {
   "cell_type": "code",
   "execution_count": null,
   "id": "04219c64",
   "metadata": {},
   "outputs": [],
   "source": [
    "average_and_save_matrix(\n",
    "    files=correlation_files,\n",
    "    classification_types=[\"binary\"],\n",
    "    class_balances=[\"balanced\", \"imbalanced\"],\n",
    "    datasets=binary_balanced_dataset_names + binary_imbalanced_dataset_names,\n",
    "    suffix=\"binary\")"
   ]
  },
  {
   "cell_type": "code",
   "execution_count": null,
   "id": "22df94eb",
   "metadata": {},
   "outputs": [],
   "source": [
    "average_and_save_matrix(\n",
    "    files=correlation_files,\n",
    "    classification_types=[\"multiclass\"],\n",
    "    class_balances=[\"balanced\", \"imbalanced\"],\n",
    "    datasets=multiclass_balanced_dataset_names + multiclass_imbalanced_dataset_names,\n",
    "    suffix=\"multiclass\")"
   ]
  },
  {
   "cell_type": "code",
   "execution_count": null,
   "id": "178dcdcd",
   "metadata": {},
   "outputs": [],
   "source": [
    "average_and_save_matrix(\n",
    "    files=correlation_files,\n",
    "    classification_types=[\"multilabel\"],\n",
    "    class_balances=[\"balanced\", \"imbalanced\"],\n",
    "    datasets=multilabel_balanced_dataset_names + multilabel_imbalanced_dataset_names,\n",
    "    suffix=\"multilabel\")"
   ]
  },
  {
   "cell_type": "markdown",
   "id": "d3c0bd22",
   "metadata": {},
   "source": [
    "By class balance"
   ]
  },
  {
   "cell_type": "code",
   "execution_count": null,
   "id": "3c9a02de",
   "metadata": {},
   "outputs": [],
   "source": [
    "average_and_save_matrix(\n",
    "        files=correlation_files,\n",
    "        classification_types=[\"binary\", \"multiclass\", \"multilabel\"],\n",
    "        class_balances=\"balanced\",\n",
    "        datasets=binary_balanced_dataset_names + multiclass_balanced_dataset_names + multilabel_balanced_dataset_names,\n",
    "        suffix=\"balanced\"\n",
    "    )"
   ]
  },
  {
   "cell_type": "code",
   "execution_count": null,
   "id": "ca59e28b",
   "metadata": {},
   "outputs": [],
   "source": [
    "average_and_save_matrix(\n",
    "        files=correlation_files,\n",
    "        classification_types=[\"binary\", \"multiclass\", \"multilabel\"],\n",
    "        class_balances=\"imbalanced\",\n",
    "        datasets=binary_imbalanced_dataset_names + multiclass_imbalanced_dataset_names + multilabel_imbalanced_dataset_names,\n",
    "        suffix=\"imbalanced\"\n",
    "    )"
   ]
  },
  {
   "cell_type": "markdown",
   "id": "155c9be5",
   "metadata": {},
   "source": [
    "Both classification type and class balance"
   ]
  },
  {
   "cell_type": "code",
   "execution_count": null,
   "id": "e8a3268a",
   "metadata": {},
   "outputs": [],
   "source": [
    "average_and_save_matrix(\n",
    "        files=correlation_files,\n",
    "        classification_types=[\"binary\"],\n",
    "        class_balances=\"balanced\",\n",
    "        datasets=binary_balanced_dataset_names,\n",
    "        suffix=\"binary_balanced\"\n",
    "    )"
   ]
  },
  {
   "cell_type": "code",
   "execution_count": null,
   "id": "d65374eb",
   "metadata": {},
   "outputs": [],
   "source": [
    "average_and_save_matrix(\n",
    "        files=correlation_files,\n",
    "        classification_types=[\"binary\"],\n",
    "        class_balances=\"imbalanced\",\n",
    "        datasets=binary_imbalanced_dataset_names,\n",
    "        suffix=\"binary_imbalanced\"\n",
    "    )"
   ]
  },
  {
   "cell_type": "code",
   "execution_count": null,
   "id": "6170990e",
   "metadata": {},
   "outputs": [],
   "source": [
    "average_and_save_matrix(\n",
    "        files=correlation_files,\n",
    "        classification_types=[\"multiclass\"],\n",
    "        class_balances=\"balanced\",\n",
    "        datasets=multiclass_balanced_dataset_names,\n",
    "        suffix=\"multiclass_balanced\"\n",
    "    )"
   ]
  },
  {
   "cell_type": "code",
   "execution_count": null,
   "id": "ea869700",
   "metadata": {},
   "outputs": [],
   "source": [
    "average_and_save_matrix(\n",
    "        files=correlation_files,\n",
    "        classification_types=[\"multiclass\"],\n",
    "        class_balances=\"imbalanced\",\n",
    "        datasets=multiclass_imbalanced_dataset_names,\n",
    "        suffix=\"multiclass_imbalanced\"\n",
    "    )"
   ]
  },
  {
   "cell_type": "code",
   "execution_count": null,
   "id": "c30c26bb",
   "metadata": {},
   "outputs": [],
   "source": [
    "average_and_save_matrix(\n",
    "        files=correlation_files,\n",
    "        classification_types=[\"multilabel\"],\n",
    "        class_balances=\"balanced\",\n",
    "        datasets=multilabel_balanced_dataset_names,\n",
    "        suffix=\"multilabel_balanced\"\n",
    "    )"
   ]
  },
  {
   "cell_type": "code",
   "execution_count": null,
   "id": "5078e907",
   "metadata": {},
   "outputs": [],
   "source": [
    "average_and_save_matrix(\n",
    "        files=correlation_files,\n",
    "        classification_types=[\"multilabel\"],\n",
    "        class_balances=\"imbalanced\",\n",
    "        datasets=multilabel_imbalanced_dataset_names,\n",
    "        suffix=\"multilabel_imbalanced\"\n",
    "    )"
   ]
  },
  {
   "cell_type": "markdown",
   "id": "6b6fd6ba",
   "metadata": {},
   "source": [
    "### Imbalanced datasets by degree of skew"
   ]
  },
  {
   "cell_type": "markdown",
   "id": "1c6e2abf",
   "metadata": {},
   "source": [
    "Binary"
   ]
  },
  {
   "cell_type": "code",
   "execution_count": null,
   "id": "f3a38812",
   "metadata": {},
   "outputs": [],
   "source": [
    "average_and_save_matrix(\n",
    "        files=correlation_files,\n",
    "        classification_types=[\"binary\"],\n",
    "        class_balances=\"imbalanced\",\n",
    "        datasets=binary_mildly_imbalanced_dataset_names,\n",
    "        suffix=\"binary_imbalanced_mildly\"\n",
    "    )"
   ]
  },
  {
   "cell_type": "code",
   "execution_count": null,
   "id": "b0a3ea8f",
   "metadata": {},
   "outputs": [],
   "source": [
    "average_and_save_matrix(\n",
    "        files=correlation_files,\n",
    "        classification_types=[\"binary\"],\n",
    "        class_balances=\"imbalanced\",\n",
    "        datasets=binary_strongly_imbalanced_dataset_names,\n",
    "        suffix=\"binary_imbalanced_strongly\"\n",
    "    )"
   ]
  },
  {
   "cell_type": "markdown",
   "id": "1cdea784",
   "metadata": {},
   "source": [
    "Multiclass"
   ]
  },
  {
   "cell_type": "code",
   "execution_count": null,
   "id": "576534af",
   "metadata": {},
   "outputs": [],
   "source": [
    "average_and_save_matrix(\n",
    "        files=correlation_files,\n",
    "        classification_types=[\"multiclass\"],\n",
    "        class_balances=\"imbalanced\",\n",
    "        datasets=multiclass_mildly_imbalanced_dataset_names,\n",
    "        suffix=\"multiclass_imbalanced_mildly\"\n",
    "    )"
   ]
  },
  {
   "cell_type": "code",
   "execution_count": null,
   "id": "a622fd6c",
   "metadata": {},
   "outputs": [],
   "source": [
    "average_and_save_matrix(\n",
    "        files=correlation_files,\n",
    "        classification_types=[\"multiclass\"],\n",
    "        class_balances=\"imbalanced\",\n",
    "        datasets=multiclass_strongly_imbalanced_dataset_names,\n",
    "        suffix=\"multiclass_imbalanced_strongly\"\n",
    "    )"
   ]
  },
  {
   "cell_type": "markdown",
   "id": "dca44ab7",
   "metadata": {},
   "source": [
    "Multilabel"
   ]
  },
  {
   "cell_type": "code",
   "execution_count": null,
   "id": "21b8f344",
   "metadata": {},
   "outputs": [],
   "source": [
    "average_and_save_matrix(\n",
    "        files=correlation_files,\n",
    "        classification_types=[\"multilabel\"],\n",
    "        class_balances=\"imbalanced\",\n",
    "        datasets=multilabel_mildly_imbalanced_dataset_names,\n",
    "        suffix=\"multilabel_imbalanced_mildly\"\n",
    "    )"
   ]
  },
  {
   "cell_type": "code",
   "execution_count": null,
   "id": "3157aef8",
   "metadata": {},
   "outputs": [],
   "source": [
    "average_and_save_matrix(\n",
    "        files=correlation_files,\n",
    "        classification_types=[\"multilabel\"],\n",
    "        class_balances=\"imbalanced\",\n",
    "        datasets=multilabel_strongly_imbalanced_dataset_names,\n",
    "        suffix=\"multilabel_imbalanced_strongly\"\n",
    "    )"
   ]
  },
  {
   "cell_type": "markdown",
   "id": "3741d990",
   "metadata": {},
   "source": [
    "All"
   ]
  },
  {
   "cell_type": "code",
   "execution_count": null,
   "id": "02796c4c",
   "metadata": {},
   "outputs": [],
   "source": [
    "average_and_save_matrix(\n",
    "        files=correlation_files,\n",
    "        classification_types=[\"binary\", \"multiclass\", \"multilabel\"],\n",
    "        class_balances=\"imbalanced\",\n",
    "        datasets=mildly_imbalanced_dataset_names,\n",
    "        suffix=\"imbalanced_mildly\"\n",
    "    )"
   ]
  },
  {
   "cell_type": "code",
   "execution_count": null,
   "id": "725f9929",
   "metadata": {},
   "outputs": [],
   "source": [
    "average_and_save_matrix(\n",
    "        files=correlation_files,\n",
    "        classification_types=[\"binary\", \"multiclass\", \"multilabel\"],\n",
    "        class_balances=\"imbalanced\",\n",
    "        datasets=strongly_imbalanced_dataset_names,\n",
    "        suffix=\"imbalanced_strongly\"\n",
    "    )"
   ]
  },
  {
   "cell_type": "markdown",
   "id": "2e629dae",
   "metadata": {},
   "source": [
    "# Calculate differences"
   ]
  },
  {
   "cell_type": "code",
   "execution_count": 44,
   "id": "96cdf3d9",
   "metadata": {},
   "outputs": [
    {
     "data": {
      "text/plain": [
       "[WindowsPath('C:/VisualStudioRepositories/MUSIC_DATA/metric_analysis/output/averaged_pearson_correlation_all.json'),\n",
       " WindowsPath('C:/VisualStudioRepositories/MUSIC_DATA/metric_analysis/output/averaged_pearson_correlation_balanced.json'),\n",
       " WindowsPath('C:/VisualStudioRepositories/MUSIC_DATA/metric_analysis/output/averaged_pearson_correlation_binary.json'),\n",
       " WindowsPath('C:/VisualStudioRepositories/MUSIC_DATA/metric_analysis/output/averaged_pearson_correlation_binary_balanced.json'),\n",
       " WindowsPath('C:/VisualStudioRepositories/MUSIC_DATA/metric_analysis/output/averaged_pearson_correlation_binary_imbalanced.json'),\n",
       " WindowsPath('C:/VisualStudioRepositories/MUSIC_DATA/metric_analysis/output/averaged_pearson_correlation_binary_imbalanced_mildly.json'),\n",
       " WindowsPath('C:/VisualStudioRepositories/MUSIC_DATA/metric_analysis/output/averaged_pearson_correlation_binary_imbalanced_strongly.json'),\n",
       " WindowsPath('C:/VisualStudioRepositories/MUSIC_DATA/metric_analysis/output/averaged_pearson_correlation_imbalanced.json'),\n",
       " WindowsPath('C:/VisualStudioRepositories/MUSIC_DATA/metric_analysis/output/averaged_pearson_correlation_imbalanced_mildly.json'),\n",
       " WindowsPath('C:/VisualStudioRepositories/MUSIC_DATA/metric_analysis/output/averaged_pearson_correlation_imbalanced_strongly.json'),\n",
       " WindowsPath('C:/VisualStudioRepositories/MUSIC_DATA/metric_analysis/output/averaged_pearson_correlation_multiclass.json'),\n",
       " WindowsPath('C:/VisualStudioRepositories/MUSIC_DATA/metric_analysis/output/averaged_pearson_correlation_multiclass_balanced.json'),\n",
       " WindowsPath('C:/VisualStudioRepositories/MUSIC_DATA/metric_analysis/output/averaged_pearson_correlation_multiclass_imbalanced.json'),\n",
       " WindowsPath('C:/VisualStudioRepositories/MUSIC_DATA/metric_analysis/output/averaged_pearson_correlation_multiclass_imbalanced_mildly.json'),\n",
       " WindowsPath('C:/VisualStudioRepositories/MUSIC_DATA/metric_analysis/output/averaged_pearson_correlation_multiclass_imbalanced_strongly.json'),\n",
       " WindowsPath('C:/VisualStudioRepositories/MUSIC_DATA/metric_analysis/output/averaged_pearson_correlation_multilabel.json'),\n",
       " WindowsPath('C:/VisualStudioRepositories/MUSIC_DATA/metric_analysis/output/averaged_pearson_correlation_multilabel_balanced.json'),\n",
       " WindowsPath('C:/VisualStudioRepositories/MUSIC_DATA/metric_analysis/output/averaged_pearson_correlation_multilabel_imbalanced.json'),\n",
       " WindowsPath('C:/VisualStudioRepositories/MUSIC_DATA/metric_analysis/output/averaged_pearson_correlation_multilabel_imbalanced_mildly.json'),\n",
       " WindowsPath('C:/VisualStudioRepositories/MUSIC_DATA/metric_analysis/output/averaged_pearson_correlation_multilabel_imbalanced_strongly.json')]"
      ]
     },
     "execution_count": 44,
     "metadata": {},
     "output_type": "execute_result"
    }
   ],
   "source": [
    "# get all file paths that have \"pearson\" from output directory\n",
    "pearson_avg_files = sorted(report_output_root_dir.rglob('averaged_pearson_correlation_*.json'), key=lambda x: x.name)\n",
    "pearson_avg_files"
   ]
  },
  {
   "cell_type": "code",
   "execution_count": 45,
   "id": "c2d6d3d0",
   "metadata": {},
   "outputs": [
    {
     "data": {
      "text/plain": [
       "20"
      ]
     },
     "execution_count": 45,
     "metadata": {},
     "output_type": "execute_result"
    }
   ],
   "source": [
    "len(pearson_avg_files)"
   ]
  },
  {
   "cell_type": "code",
   "execution_count": 46,
   "id": "8b677f9b",
   "metadata": {},
   "outputs": [
    {
     "data": {
      "text/plain": [
       "[{'pearson_file': 'C:\\\\VisualStudioRepositories\\\\MUSIC_DATA\\\\metric_analysis\\\\output\\\\averaged_pearson_correlation_all.json',\n",
       "  'spearman_file': 'C:\\\\VisualStudioRepositories\\\\MUSIC_DATA\\\\metric_analysis\\\\output\\\\averaged_spearman_correlation_all.json',\n",
       "  'max_difference': 0.06457750662595774,\n",
       "  'max_pair': ('micro_precision', 'AUNU')},\n",
       " {'pearson_file': 'C:\\\\VisualStudioRepositories\\\\MUSIC_DATA\\\\metric_analysis\\\\output\\\\averaged_pearson_correlation_balanced.json',\n",
       "  'spearman_file': 'C:\\\\VisualStudioRepositories\\\\MUSIC_DATA\\\\metric_analysis\\\\output\\\\averaged_spearman_correlation_balanced.json',\n",
       "  'max_difference': 0.09125347012269569,\n",
       "  'max_pair': ('macro_precision', 'LogLoss')},\n",
       " {'pearson_file': 'C:\\\\VisualStudioRepositories\\\\MUSIC_DATA\\\\metric_analysis\\\\output\\\\averaged_pearson_correlation_binary.json',\n",
       "  'spearman_file': 'C:\\\\VisualStudioRepositories\\\\MUSIC_DATA\\\\metric_analysis\\\\output\\\\averaged_spearman_correlation_binary.json',\n",
       "  'max_difference': 0.11642491535211885,\n",
       "  'max_pair': ('macro_recall', 'LogLoss')},\n",
       " {'pearson_file': 'C:\\\\VisualStudioRepositories\\\\MUSIC_DATA\\\\metric_analysis\\\\output\\\\averaged_pearson_correlation_binary_balanced.json',\n",
       "  'spearman_file': 'C:\\\\VisualStudioRepositories\\\\MUSIC_DATA\\\\metric_analysis\\\\output\\\\averaged_spearman_correlation_binary_balanced.json',\n",
       "  'max_difference': 0.14479525118100112,\n",
       "  'max_pair': ('macro_precision', 'LogLoss')},\n",
       " {'pearson_file': 'C:\\\\VisualStudioRepositories\\\\MUSIC_DATA\\\\metric_analysis\\\\output\\\\averaged_pearson_correlation_binary_imbalanced.json',\n",
       "  'spearman_file': 'C:\\\\VisualStudioRepositories\\\\MUSIC_DATA\\\\metric_analysis\\\\output\\\\averaged_spearman_correlation_binary_imbalanced.json',\n",
       "  'max_difference': 0.10562030865057359,\n",
       "  'max_pair': ('macro_f1', 'MSE')},\n",
       " {'pearson_file': 'C:\\\\VisualStudioRepositories\\\\MUSIC_DATA\\\\metric_analysis\\\\output\\\\averaged_pearson_correlation_binary_imbalanced_mildly.json',\n",
       "  'spearman_file': 'C:\\\\VisualStudioRepositories\\\\MUSIC_DATA\\\\metric_analysis\\\\output\\\\averaged_spearman_correlation_binary_imbalanced_mildly.json',\n",
       "  'max_difference': 0.17181748186867218,\n",
       "  'max_pair': ('macro_recall', 'LogLoss')},\n",
       " {'pearson_file': 'C:\\\\VisualStudioRepositories\\\\MUSIC_DATA\\\\metric_analysis\\\\output\\\\averaged_pearson_correlation_binary_imbalanced_strongly.json',\n",
       "  'spearman_file': 'C:\\\\VisualStudioRepositories\\\\MUSIC_DATA\\\\metric_analysis\\\\output\\\\averaged_spearman_correlation_binary_imbalanced_strongly.json',\n",
       "  'max_difference': 0.12451556470296465,\n",
       "  'max_pair': ('MSE', 'AUNU')},\n",
       " {'pearson_file': 'C:\\\\VisualStudioRepositories\\\\MUSIC_DATA\\\\metric_analysis\\\\output\\\\averaged_pearson_correlation_imbalanced.json',\n",
       "  'spearman_file': 'C:\\\\VisualStudioRepositories\\\\MUSIC_DATA\\\\metric_analysis\\\\output\\\\averaged_spearman_correlation_imbalanced.json',\n",
       "  'max_difference': 0.07852012787666762,\n",
       "  'max_pair': ('macro_recall', 'LogLoss')},\n",
       " {'pearson_file': 'C:\\\\VisualStudioRepositories\\\\MUSIC_DATA\\\\metric_analysis\\\\output\\\\averaged_pearson_correlation_imbalanced_mildly.json',\n",
       "  'spearman_file': 'C:\\\\VisualStudioRepositories\\\\MUSIC_DATA\\\\metric_analysis\\\\output\\\\averaged_spearman_correlation_imbalanced_mildly.json',\n",
       "  'max_difference': 0.13531963779351808,\n",
       "  'max_pair': ('macro_recall', 'LogLoss')},\n",
       " {'pearson_file': 'C:\\\\VisualStudioRepositories\\\\MUSIC_DATA\\\\metric_analysis\\\\output\\\\averaged_pearson_correlation_imbalanced_strongly.json',\n",
       "  'spearman_file': 'C:\\\\VisualStudioRepositories\\\\MUSIC_DATA\\\\metric_analysis\\\\output\\\\averaged_spearman_correlation_imbalanced_strongly.json',\n",
       "  'max_difference': 0.10748889888765323,\n",
       "  'max_pair': ('micro_f1', 'micro_ROC-AUC')},\n",
       " {'pearson_file': 'C:\\\\VisualStudioRepositories\\\\MUSIC_DATA\\\\metric_analysis\\\\output\\\\averaged_pearson_correlation_multiclass.json',\n",
       "  'spearman_file': 'C:\\\\VisualStudioRepositories\\\\MUSIC_DATA\\\\metric_analysis\\\\output\\\\averaged_spearman_correlation_multiclass.json',\n",
       "  'max_difference': 0.07981876273805977,\n",
       "  'max_pair': ('macro_recall', 'micro_ROC-AUC')},\n",
       " {'pearson_file': 'C:\\\\VisualStudioRepositories\\\\MUSIC_DATA\\\\metric_analysis\\\\output\\\\averaged_pearson_correlation_multiclass_balanced.json',\n",
       "  'spearman_file': 'C:\\\\VisualStudioRepositories\\\\MUSIC_DATA\\\\metric_analysis\\\\output\\\\averaged_spearman_correlation_multiclass_balanced.json',\n",
       "  'max_difference': 0.07408558296078693,\n",
       "  'max_pair': ('macro_precision', 'MSE')},\n",
       " {'pearson_file': 'C:\\\\VisualStudioRepositories\\\\MUSIC_DATA\\\\metric_analysis\\\\output\\\\averaged_pearson_correlation_multiclass_imbalanced.json',\n",
       "  'spearman_file': 'C:\\\\VisualStudioRepositories\\\\MUSIC_DATA\\\\metric_analysis\\\\output\\\\averaged_spearman_correlation_multiclass_imbalanced.json',\n",
       "  'max_difference': 0.09566981485335191,\n",
       "  'max_pair': ('macro_f1', 'micro_ROC-AUC')},\n",
       " {'pearson_file': 'C:\\\\VisualStudioRepositories\\\\MUSIC_DATA\\\\metric_analysis\\\\output\\\\averaged_pearson_correlation_multiclass_imbalanced_mildly.json',\n",
       "  'spearman_file': 'C:\\\\VisualStudioRepositories\\\\MUSIC_DATA\\\\metric_analysis\\\\output\\\\averaged_spearman_correlation_multiclass_imbalanced_mildly.json',\n",
       "  'max_difference': 0.11884682967899418,\n",
       "  'max_pair': ('MSE', 'micro_ROC-AUC')},\n",
       " {'pearson_file': 'C:\\\\VisualStudioRepositories\\\\MUSIC_DATA\\\\metric_analysis\\\\output\\\\averaged_pearson_correlation_multiclass_imbalanced_strongly.json',\n",
       "  'spearman_file': 'C:\\\\VisualStudioRepositories\\\\MUSIC_DATA\\\\metric_analysis\\\\output\\\\averaged_spearman_correlation_multiclass_imbalanced_strongly.json',\n",
       "  'max_difference': 0.1309145121304398,\n",
       "  'max_pair': ('macro_f1', 'MSE')},\n",
       " {'pearson_file': 'C:\\\\VisualStudioRepositories\\\\MUSIC_DATA\\\\metric_analysis\\\\output\\\\averaged_pearson_correlation_multilabel.json',\n",
       "  'spearman_file': 'C:\\\\VisualStudioRepositories\\\\MUSIC_DATA\\\\metric_analysis\\\\output\\\\averaged_spearman_correlation_multilabel.json',\n",
       "  'max_difference': 0.06597341448697847,\n",
       "  'max_pair': ('macro_recall', 'macro_f1')},\n",
       " {'pearson_file': 'C:\\\\VisualStudioRepositories\\\\MUSIC_DATA\\\\metric_analysis\\\\output\\\\averaged_pearson_correlation_multilabel_balanced.json',\n",
       "  'spearman_file': 'C:\\\\VisualStudioRepositories\\\\MUSIC_DATA\\\\metric_analysis\\\\output\\\\averaged_spearman_correlation_multilabel_balanced.json',\n",
       "  'max_difference': 0.13151450936382095,\n",
       "  'max_pair': ('macro_recall', 'LogLoss')},\n",
       " {'pearson_file': 'C:\\\\VisualStudioRepositories\\\\MUSIC_DATA\\\\metric_analysis\\\\output\\\\averaged_pearson_correlation_multilabel_imbalanced.json',\n",
       "  'spearman_file': 'C:\\\\VisualStudioRepositories\\\\MUSIC_DATA\\\\metric_analysis\\\\output\\\\averaged_spearman_correlation_multilabel_imbalanced.json',\n",
       "  'max_difference': 0.1025342732459319,\n",
       "  'max_pair': ('macro_recall', 'macro_f1')},\n",
       " {'pearson_file': 'C:\\\\VisualStudioRepositories\\\\MUSIC_DATA\\\\metric_analysis\\\\output\\\\averaged_pearson_correlation_multilabel_imbalanced_mildly.json',\n",
       "  'spearman_file': 'C:\\\\VisualStudioRepositories\\\\MUSIC_DATA\\\\metric_analysis\\\\output\\\\averaged_spearman_correlation_multilabel_imbalanced_mildly.json',\n",
       "  'max_difference': 0.1654660256515076,\n",
       "  'max_pair': ('macro_recall', 'macro_f1')},\n",
       " {'pearson_file': 'C:\\\\VisualStudioRepositories\\\\MUSIC_DATA\\\\metric_analysis\\\\output\\\\averaged_pearson_correlation_multilabel_imbalanced_strongly.json',\n",
       "  'spearman_file': 'C:\\\\VisualStudioRepositories\\\\MUSIC_DATA\\\\metric_analysis\\\\output\\\\averaged_spearman_correlation_multilabel_imbalanced_strongly.json',\n",
       "  'max_difference': 0.15770024411497818,\n",
       "  'max_pair': ('micro_f1', 'LogLoss')}]"
      ]
     },
     "execution_count": 46,
     "metadata": {},
     "output_type": "execute_result"
    }
   ],
   "source": [
    "results = []\n",
    "\n",
    "for pearson_path in pearson_avg_files:\n",
    "    spearman_path = pearson_path.with_name(pearson_path.name.replace(\"pearson\", \"spearman\"))\n",
    "    if not spearman_path.exists():\n",
    "        continue\n",
    "\n",
    "    with open(pearson_path, \"r\") as f:\n",
    "        pearson_json = json.load(f)\n",
    "    with open(spearman_path, \"r\") as f:\n",
    "        spearman_json = json.load(f)\n",
    "\n",
    "    pearson_matrix = pearson_json[\"matrix\"]\n",
    "    spearman_matrix = spearman_json[\"matrix\"]\n",
    "\n",
    "    max_diff = -float(\"inf\")\n",
    "    max_pair = (None, None)\n",
    "    for row_key in pearson_matrix:\n",
    "        for col_key in pearson_matrix[row_key]:\n",
    "            diff = abs(pearson_matrix[row_key][col_key] - spearman_matrix[row_key][col_key])\n",
    "            if diff > max_diff:\n",
    "                max_diff = diff\n",
    "                max_pair = (row_key, col_key)\n",
    "\n",
    "    results.append({\n",
    "        \"pearson_file\": str(pearson_path),\n",
    "        \"spearman_file\": str(spearman_path),\n",
    "        \"max_difference\": max_diff,\n",
    "        \"max_pair\": max_pair\n",
    "    })\n",
    "\n",
    "results"
   ]
  },
  {
   "cell_type": "code",
   "execution_count": 47,
   "id": "8a1f430b",
   "metadata": {},
   "outputs": [
    {
     "name": "stdout",
     "output_type": "stream",
     "text": [
      "Overall max difference: 0.17181748186867218 between macro_recall and LogLoss for file\n",
      "C:\\VisualStudioRepositories\\MUSIC_DATA\\metric_analysis\\output\\averaged_pearson_correlation_binary_imbalanced_mildly.json\n"
     ]
    }
   ],
   "source": [
    "# print overall max difference and pair from all files\n",
    "overall_max_diff = -float(\"inf\")\n",
    "overall_max_pair = (None, None)\n",
    "for result in results:\n",
    "    if result[\"max_difference\"] > overall_max_diff:\n",
    "        overall_max_diff = result[\"max_difference\"]\n",
    "        overall_max_pair = result[\"max_pair\"]\n",
    "        pearson_file = result[\"pearson_file\"]\n",
    "\n",
    "print(f\"Overall max difference: {overall_max_diff} between {overall_max_pair[0]} and {overall_max_pair[1]} for file\\n{pearson_file}\")"
   ]
  }
 ],
 "metadata": {
  "kernelspec": {
   "display_name": ".venv",
   "language": "python",
   "name": "python3"
  },
  "language_info": {
   "codemirror_mode": {
    "name": "ipython",
    "version": 3
   },
   "file_extension": ".py",
   "mimetype": "text/x-python",
   "name": "python",
   "nbconvert_exporter": "python",
   "pygments_lexer": "ipython3",
   "version": "3.13.5"
  }
 },
 "nbformat": 4,
 "nbformat_minor": 5
}
