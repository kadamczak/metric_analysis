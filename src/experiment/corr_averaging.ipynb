{
 "cells": [
  {
   "cell_type": "markdown",
   "id": "687c3999",
   "metadata": {},
   "source": [
    "# Setup"
   ]
  },
  {
   "cell_type": "code",
   "execution_count": 1,
   "id": "ca13cc8b",
   "metadata": {},
   "outputs": [],
   "source": [
    "import os\n",
    "import sys\n",
    "\n",
    "sys.path.append(os.path.abspath(\"../..\"))"
   ]
  },
  {
   "cell_type": "code",
   "execution_count": 2,
   "id": "11f4fc48",
   "metadata": {},
   "outputs": [],
   "source": [
    "from pathlib import Path\n",
    "import json\n",
    "import numpy as np\n"
   ]
  },
  {
   "cell_type": "code",
   "execution_count": 3,
   "id": "43c802d8",
   "metadata": {},
   "outputs": [
    {
     "data": {
      "text/plain": [
       "WindowsPath('C:/VisualStudioRepositories/MUSIC_DATA/metric_analysis/output')"
      ]
     },
     "execution_count": 3,
     "metadata": {},
     "output_type": "execute_result"
    }
   ],
   "source": [
    "from src.experiment.helpers.variables import report_output_root_dir\n",
    "report_output_root_dir"
   ]
  },
  {
   "cell_type": "markdown",
   "id": "391b0b99",
   "metadata": {},
   "source": [
    "### Datasets"
   ]
  },
  {
   "cell_type": "code",
   "execution_count": 7,
   "id": "5e695881",
   "metadata": {},
   "outputs": [
    {
     "data": {
      "text/plain": [
       "['all-in-one_sentiment_balanced',\n",
       " 'amazon-reviews-0.25_balanced',\n",
       " 'ceas_balanced',\n",
       " 'colon-0.5_balanced',\n",
       " 'fake-news_balanced',\n",
       " 'news-sarcasm_balanced',\n",
       " 'philippine_balanced',\n",
       " 'santander-customer-satisfaction_balanced',\n",
       " 'spambase_balanced',\n",
       " 'vehicle-sensit_balanced']"
      ]
     },
     "execution_count": 7,
     "metadata": {},
     "output_type": "execute_result"
    }
   ],
   "source": [
    "from src.experiment.sets.binary_balanced_datasets import binary_balanced_datasets\n",
    "binary_balanced_dataset_names = list(binary_balanced_datasets.keys())\n",
    "binary_balanced_dataset_names"
   ]
  },
  {
   "cell_type": "code",
   "execution_count": 11,
   "id": "dbdd0c54",
   "metadata": {},
   "outputs": [
    {
     "data": {
      "text/plain": [
       "['all-in-one_sentiment_imbalanced',\n",
       " 'amazon-reviews-0.25_imbalanced',\n",
       " 'ceas_imbalanced',\n",
       " 'colon-0.5_imbalanced',\n",
       " 'fake-news_imbalanced',\n",
       " 'news-sarcasm_imbalanced',\n",
       " 'philippine_imbalanced',\n",
       " 'santander-customer-satisfaction_imbalanced',\n",
       " 'spambase_imbalanced',\n",
       " 'vehicle-sensit_imbalanced']"
      ]
     },
     "execution_count": 11,
     "metadata": {},
     "output_type": "execute_result"
    }
   ],
   "source": [
    "from src.experiment.sets.binary_imbalanced_datasets import binary_imbalanced_datasets\n",
    "binary_imbalanced_dataset_names = list(binary_imbalanced_datasets.keys())\n",
    "binary_imbalanced_dataset_names"
   ]
  },
  {
   "cell_type": "code",
   "execution_count": 12,
   "id": "b31cf7d7",
   "metadata": {},
   "outputs": [
    {
     "data": {
      "text/plain": [
       "['ag-news_balanced',\n",
       " 'dbpedia-ontology_balanced',\n",
       " 'gas-drift_balanced',\n",
       " 'gtsrb-huelist_balanced',\n",
       " 'irish-times_balanced',\n",
       " 'mfeat-karhunen_balanced',\n",
       " 'news-category_balanced',\n",
       " 'nyt-comments-april17_balanced',\n",
       " 'usps_balanced',\n",
       " 'volkert_balanced']"
      ]
     },
     "execution_count": 12,
     "metadata": {},
     "output_type": "execute_result"
    }
   ],
   "source": [
    "from src.experiment.sets.multiclass_balanced_datasets import multiclass_balanced_datasets\n",
    "multiclass_balanced_dataset_names = list(multiclass_balanced_datasets.keys())\n",
    "multiclass_balanced_dataset_names"
   ]
  },
  {
   "cell_type": "code",
   "execution_count": 13,
   "id": "9551feee",
   "metadata": {},
   "outputs": [
    {
     "data": {
      "text/plain": [
       "['ag-news_imbalanced',\n",
       " 'dbpedia-ontology_imbalanced',\n",
       " 'gas-drift_imbalanced',\n",
       " 'gtsrb-huelist_imbalanced',\n",
       " 'irish-times_imbalanced',\n",
       " 'mfeat-karhunen_imbalanced',\n",
       " 'news-category_imbalanced',\n",
       " 'nyt-comments-april17_imbalanced',\n",
       " 'usps_imbalanced',\n",
       " 'volkert_imbalanced']"
      ]
     },
     "execution_count": 13,
     "metadata": {},
     "output_type": "execute_result"
    }
   ],
   "source": [
    "from src.experiment.sets.multiclass_imbalanced_datasets import multiclass_imbalanced_datasets\n",
    "multiclass_imbalanced_dataset_names = list(multiclass_imbalanced_datasets.keys())\n",
    "multiclass_imbalanced_dataset_names"
   ]
  },
  {
   "cell_type": "code",
   "execution_count": 8,
   "id": "9aa0f164",
   "metadata": {},
   "outputs": [
    {
     "data": {
      "text/plain": [
       "['bookmarks_balanced',\n",
       " 'emotions_balanced',\n",
       " 'imdb_balanced',\n",
       " 'mediamill_balanced',\n",
       " 'ng20_balanced',\n",
       " 'nuswidevlad_balanced',\n",
       " 'scene_balanced',\n",
       " 'tmc2007500_balanced',\n",
       " 'yeast_balanced',\n",
       " 'yelp_balanced']"
      ]
     },
     "execution_count": 8,
     "metadata": {},
     "output_type": "execute_result"
    }
   ],
   "source": [
    "from src.experiment.sets.multilabel_balanced_datasets import multilabel_balanced_datasets\n",
    "multilabel_balanced_dataset_names = list(multilabel_balanced_datasets.keys())\n",
    "multilabel_balanced_dataset_names"
   ]
  },
  {
   "cell_type": "code",
   "execution_count": 9,
   "id": "a0ea6b1c",
   "metadata": {},
   "outputs": [
    {
     "data": {
      "text/plain": [
       "['bookmarks_imbalanced',\n",
       " 'emotions_imbalanced',\n",
       " 'imdb_imbalanced',\n",
       " 'mediamill_imbalanced',\n",
       " 'ng20_imbalanced',\n",
       " 'nuswidevlad_imbalanced',\n",
       " 'scene_imbalanced',\n",
       " 'tmc2007500_imbalanced',\n",
       " 'yeast_imbalanced',\n",
       " 'yelp_imbalanced']"
      ]
     },
     "execution_count": 9,
     "metadata": {},
     "output_type": "execute_result"
    }
   ],
   "source": [
    "from src.experiment.sets.multilabel_imbalanced_datasets import multilabel_imbalanced_datasets\n",
    "multilabel_imbalanced_dataset_names = list(multilabel_imbalanced_datasets.keys())\n",
    "multilabel_imbalanced_dataset_names"
   ]
  },
  {
   "cell_type": "code",
   "execution_count": 16,
   "id": "04fa1268",
   "metadata": {},
   "outputs": [
    {
     "data": {
      "text/plain": [
       "['all-in-one_sentiment_balanced',\n",
       " 'amazon-reviews-0.25_balanced',\n",
       " 'ceas_balanced',\n",
       " 'colon-0.5_balanced',\n",
       " 'fake-news_balanced',\n",
       " 'news-sarcasm_balanced',\n",
       " 'philippine_balanced',\n",
       " 'santander-customer-satisfaction_balanced',\n",
       " 'spambase_balanced',\n",
       " 'vehicle-sensit_balanced',\n",
       " 'all-in-one_sentiment_imbalanced',\n",
       " 'amazon-reviews-0.25_imbalanced',\n",
       " 'ceas_imbalanced',\n",
       " 'colon-0.5_imbalanced',\n",
       " 'fake-news_imbalanced',\n",
       " 'news-sarcasm_imbalanced',\n",
       " 'philippine_imbalanced',\n",
       " 'santander-customer-satisfaction_imbalanced',\n",
       " 'spambase_imbalanced',\n",
       " 'vehicle-sensit_imbalanced',\n",
       " 'ag-news_balanced',\n",
       " 'dbpedia-ontology_balanced',\n",
       " 'gas-drift_balanced',\n",
       " 'gtsrb-huelist_balanced',\n",
       " 'irish-times_balanced',\n",
       " 'mfeat-karhunen_balanced',\n",
       " 'news-category_balanced',\n",
       " 'nyt-comments-april17_balanced',\n",
       " 'usps_balanced',\n",
       " 'volkert_balanced',\n",
       " 'ag-news_imbalanced',\n",
       " 'dbpedia-ontology_imbalanced',\n",
       " 'gas-drift_imbalanced',\n",
       " 'gtsrb-huelist_imbalanced',\n",
       " 'irish-times_imbalanced',\n",
       " 'mfeat-karhunen_imbalanced',\n",
       " 'news-category_imbalanced',\n",
       " 'nyt-comments-april17_imbalanced',\n",
       " 'usps_imbalanced',\n",
       " 'volkert_imbalanced',\n",
       " 'bookmarks_balanced',\n",
       " 'emotions_balanced',\n",
       " 'imdb_balanced',\n",
       " 'mediamill_balanced',\n",
       " 'ng20_balanced',\n",
       " 'nuswidevlad_balanced',\n",
       " 'scene_balanced',\n",
       " 'tmc2007500_balanced',\n",
       " 'yeast_balanced',\n",
       " 'yelp_balanced',\n",
       " 'bookmarks_imbalanced',\n",
       " 'emotions_imbalanced',\n",
       " 'imdb_imbalanced',\n",
       " 'mediamill_imbalanced',\n",
       " 'ng20_imbalanced',\n",
       " 'nuswidevlad_imbalanced',\n",
       " 'scene_imbalanced',\n",
       " 'tmc2007500_imbalanced',\n",
       " 'yeast_imbalanced',\n",
       " 'yelp_imbalanced']"
      ]
     },
     "execution_count": 16,
     "metadata": {},
     "output_type": "execute_result"
    }
   ],
   "source": [
    "all_dataset_names = binary_balanced_dataset_names + binary_imbalanced_dataset_names + multiclass_balanced_dataset_names + multiclass_imbalanced_dataset_names + multilabel_balanced_dataset_names + multilabel_imbalanced_dataset_names\n",
    "all_dataset_names"
   ]
  },
  {
   "cell_type": "code",
   "execution_count": 17,
   "id": "3bbe4aca",
   "metadata": {},
   "outputs": [
    {
     "data": {
      "text/plain": [
       "60"
      ]
     },
     "execution_count": 17,
     "metadata": {},
     "output_type": "execute_result"
    }
   ],
   "source": [
    "len(all_dataset_names)"
   ]
  },
  {
   "cell_type": "markdown",
   "id": "930eea87",
   "metadata": {},
   "source": [
    "# Get all correlation JSONs"
   ]
  },
  {
   "cell_type": "code",
   "execution_count": 18,
   "id": "21a11352",
   "metadata": {},
   "outputs": [],
   "source": [
    "pearson_correlation_files = sorted(report_output_root_dir.rglob('pearson_correlation.json'), key=lambda x: x.name)\n",
    "spearman_correlation_files = sorted(report_output_root_dir.rglob('spearman_correlation.json'), key=lambda x: x.name)\n",
    "correlation_files = pearson_correlation_files + spearman_correlation_files\n"
   ]
  },
  {
   "cell_type": "code",
   "execution_count": 19,
   "id": "0e7b237e",
   "metadata": {},
   "outputs": [
    {
     "name": "stdout",
     "output_type": "stream",
     "text": [
      "60\n",
      "60\n",
      "120\n"
     ]
    }
   ],
   "source": [
    "print(len(pearson_correlation_files))\n",
    "print(len(spearman_correlation_files))\n",
    "print(len(correlation_files))"
   ]
  },
  {
   "cell_type": "markdown",
   "id": "e9c3422f",
   "metadata": {},
   "source": [
    "# Functions"
   ]
  },
  {
   "cell_type": "code",
   "execution_count": 24,
   "id": "a93af9d7",
   "metadata": {},
   "outputs": [],
   "source": [
    "def average_corr_matrices(files, classification_types, class_balances, datasets, correlation):\n",
    "    correlation_matrices = []\n",
    "\n",
    "    for file_path in files:\n",
    "        with open(file_path, 'r') as f:\n",
    "            data = json.load(f)\n",
    "\n",
    "            if (\n",
    "                data.get(\"classification_type\") in classification_types and\n",
    "                data.get(\"class_balance\") in class_balances and\n",
    "                data.get(\"dataset_name\") in datasets and\n",
    "                data.get(\"correlation_type\") == correlation\n",
    "            ):\n",
    "                correlation_matrices.append(data[\"correlation_matrix\"])\n",
    "            \n",
    "    if not correlation_matrices:\n",
    "        return\n",
    "    \n",
    "    metric_keys = correlation_matrices[0].keys()\n",
    "    averaged_matrix = {}\n",
    "\n",
    "    for metric in metric_keys:\n",
    "        keys = correlation_matrices[0][metric].keys()\n",
    "        averaged_matrix[metric] = {}\n",
    "        for k in keys:\n",
    "            # Collect all values for this cell across matrices\n",
    "            values = [m[metric][k] for m in correlation_matrices]\n",
    "            averaged_matrix[metric][k] = float(np.mean(values))\n",
    "    \n",
    "    full_matrix_info = {\n",
    "        \"classification_types\": classification_types,\n",
    "        \"class_balances\": class_balances,\n",
    "        \"correlation_type\": correlation,\n",
    "        \"datasets\": datasets,\n",
    "        \"matrix\": averaged_matrix\n",
    "    }\n",
    "    \n",
    "    return full_matrix_info"
   ]
  },
  {
   "cell_type": "code",
   "execution_count": 25,
   "id": "564fcc13",
   "metadata": {},
   "outputs": [],
   "source": [
    "def calculate_and_save_matrix(files, classification_types, class_balances, datasets, suffix, root_dir=report_output_root_dir):\n",
    "    for corr_type in [\"pearson\", \"spearman\"]:\n",
    "        matrix_info = average_corr_matrices(\n",
    "            files=files,\n",
    "            classification_types=classification_types,\n",
    "            class_balances=class_balances,\n",
    "            datasets=datasets,\n",
    "            correlation=corr_type\n",
    "        )\n",
    "        \n",
    "        if not matrix_info:\n",
    "            continue\n",
    "    \n",
    "        output_path = root_dir / f\"averaged_{corr_type}_correlation_{suffix}.json\"\n",
    "        \n",
    "        with open(output_path, \"w\") as f:\n",
    "            json.dump(matrix_info, f, indent=2)"
   ]
  },
  {
   "cell_type": "markdown",
   "id": "b83989c2",
   "metadata": {},
   "source": [
    "# Create matrices"
   ]
  },
  {
   "cell_type": "markdown",
   "id": "041a5ea4",
   "metadata": {},
   "source": [
    "All"
   ]
  },
  {
   "cell_type": "code",
   "execution_count": 26,
   "id": "b4f00fd4",
   "metadata": {},
   "outputs": [],
   "source": [
    "calculate_and_save_matrix(\n",
    "    files=correlation_files,\n",
    "    classification_types=[\"binary\", \"multiclass\", \"multilabel\"],\n",
    "    class_balances=[\"balanced\", \"imbalanced\"],\n",
    "    datasets=all_dataset_names,\n",
    "    suffix=\"all\")"
   ]
  },
  {
   "cell_type": "markdown",
   "id": "33c9a8c0",
   "metadata": {},
   "source": [
    "By classification type"
   ]
  },
  {
   "cell_type": "code",
   "execution_count": 27,
   "id": "04219c64",
   "metadata": {},
   "outputs": [],
   "source": [
    "calculate_and_save_matrix(\n",
    "    files=correlation_files,\n",
    "    classification_types=[\"binary\"],\n",
    "    class_balances=[\"balanced\", \"imbalanced\"],\n",
    "    datasets=binary_balanced_dataset_names + binary_imbalanced_dataset_names,\n",
    "    suffix=\"binary\")"
   ]
  },
  {
   "cell_type": "code",
   "execution_count": 28,
   "id": "22df94eb",
   "metadata": {},
   "outputs": [],
   "source": [
    "calculate_and_save_matrix(\n",
    "    files=correlation_files,\n",
    "    classification_types=[\"multiclass\"],\n",
    "    class_balances=[\"balanced\", \"imbalanced\"],\n",
    "    datasets=multiclass_balanced_dataset_names + multiclass_imbalanced_dataset_names,\n",
    "    suffix=\"multiclass\")"
   ]
  },
  {
   "cell_type": "code",
   "execution_count": 29,
   "id": "178dcdcd",
   "metadata": {},
   "outputs": [],
   "source": [
    "calculate_and_save_matrix(\n",
    "    files=correlation_files,\n",
    "    classification_types=[\"multilabel\"],\n",
    "    class_balances=[\"balanced\", \"imbalanced\"],\n",
    "    datasets=multilabel_balanced_dataset_names + multilabel_imbalanced_dataset_names,\n",
    "    suffix=\"multilabel\")"
   ]
  },
  {
   "cell_type": "markdown",
   "id": "d3c0bd22",
   "metadata": {},
   "source": [
    "By class balance"
   ]
  },
  {
   "cell_type": "code",
   "execution_count": 30,
   "id": "3c9a02de",
   "metadata": {},
   "outputs": [],
   "source": [
    "calculate_and_save_matrix(\n",
    "        files=correlation_files,\n",
    "        classification_types=[\"binary\", \"multiclass\", \"multilabel\"],\n",
    "        class_balances=\"balanced\",\n",
    "        datasets=binary_balanced_dataset_names + multiclass_balanced_dataset_names + multilabel_balanced_dataset_names,\n",
    "        suffix=\"balanced\"\n",
    "    )"
   ]
  },
  {
   "cell_type": "code",
   "execution_count": 31,
   "id": "ca59e28b",
   "metadata": {},
   "outputs": [],
   "source": [
    "calculate_and_save_matrix(\n",
    "        files=correlation_files,\n",
    "        classification_types=[\"binary\", \"multiclass\", \"multilabel\"],\n",
    "        class_balances=\"imbalanced\",\n",
    "        datasets=binary_imbalanced_dataset_names + multiclass_imbalanced_dataset_names + multilabel_imbalanced_dataset_names,\n",
    "        suffix=\"imbalanced\"\n",
    "    )"
   ]
  }
 ],
 "metadata": {
  "kernelspec": {
   "display_name": ".venv",
   "language": "python",
   "name": "python3"
  },
  "language_info": {
   "codemirror_mode": {
    "name": "ipython",
    "version": 3
   },
   "file_extension": ".py",
   "mimetype": "text/x-python",
   "name": "python",
   "nbconvert_exporter": "python",
   "pygments_lexer": "ipython3",
   "version": "3.13.5"
  }
 },
 "nbformat": 4,
 "nbformat_minor": 5
}
