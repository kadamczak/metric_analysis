{
 "cells": [
  {
   "cell_type": "markdown",
   "id": "687c3999",
   "metadata": {},
   "source": [
    "# Setup"
   ]
  },
  {
   "cell_type": "code",
   "execution_count": 3,
   "id": "ca13cc8b",
   "metadata": {},
   "outputs": [],
   "source": [
    "import os\n",
    "import sys\n",
    "\n",
    "sys.path.append(os.path.abspath(\"../..\"))"
   ]
  },
  {
   "cell_type": "code",
   "execution_count": 4,
   "id": "11f4fc48",
   "metadata": {},
   "outputs": [],
   "source": [
    "from pathlib import Path\n"
   ]
  },
  {
   "cell_type": "code",
   "execution_count": 5,
   "id": "43c802d8",
   "metadata": {},
   "outputs": [
    {
     "data": {
      "text/plain": [
       "WindowsPath('C:/VisualStudioRepositories/MUSIC_DATA/metric_analysis/output')"
      ]
     },
     "execution_count": 5,
     "metadata": {},
     "output_type": "execute_result"
    }
   ],
   "source": [
    "from src.experiment.helpers.variables import report_output_root_dir\n",
    "report_output_root_dir"
   ]
  },
  {
   "cell_type": "code",
   "execution_count": 6,
   "id": "9aa0f164",
   "metadata": {},
   "outputs": [
    {
     "data": {
      "text/plain": [
       "['bibtex_trimmed', 'emotions_trimmed']"
      ]
     },
     "execution_count": 6,
     "metadata": {},
     "output_type": "execute_result"
    }
   ],
   "source": [
    "from src.experiment.sets.data_sets import multilabel_datasets\n",
    "multilabel_dataset_names = list(multilabel_datasets.keys())\n",
    "multilabel_dataset_names"
   ]
  },
  {
   "cell_type": "markdown",
   "id": "930eea87",
   "metadata": {},
   "source": [
    "# Get all correlation JSONs"
   ]
  },
  {
   "cell_type": "code",
   "execution_count": 7,
   "id": "21a11352",
   "metadata": {},
   "outputs": [],
   "source": [
    "pearson_correlation_files = sorted(report_output_root_dir.rglob('pearson_correlation.json'), key=lambda x: x.name)\n",
    "spearman_correlation_files = sorted(report_output_root_dir.rglob('spearman_correlation.json'), key=lambda x: x.name)\n",
    "correlation_files = pearson_correlation_files + spearman_correlation_files\n"
   ]
  },
  {
   "cell_type": "code",
   "execution_count": 8,
   "id": "0e7b237e",
   "metadata": {},
   "outputs": [
    {
     "name": "stdout",
     "output_type": "stream",
     "text": [
      "2\n",
      "2\n",
      "4\n"
     ]
    }
   ],
   "source": [
    "print(len(pearson_correlation_files))\n",
    "print(len(spearman_correlation_files))\n",
    "print(len(correlation_files))"
   ]
  },
  {
   "cell_type": "markdown",
   "id": "e9c3422f",
   "metadata": {},
   "source": [
    "# Functions"
   ]
  },
  {
   "cell_type": "code",
   "execution_count": null,
   "id": "a93af9d7",
   "metadata": {},
   "outputs": [],
   "source": []
  },
  {
   "cell_type": "code",
   "execution_count": null,
   "id": "b4f00fd4",
   "metadata": {},
   "outputs": [],
   "source": [
    "averaged_corr_matrix = average_corr_matrices(\n",
    "    class_balance: [\"balanced\", \"imbalanced\"],\n",
    ")"
   ]
  },
  {
   "cell_type": "markdown",
   "id": "4d42756b",
   "metadata": {},
   "source": [
    "# Create correlation matrices averaged on all"
   ]
  },
  {
   "cell_type": "code",
   "execution_count": 11,
   "id": "fb87307a",
   "metadata": {},
   "outputs": [],
   "source": [
    "import json\n",
    "\n",
    "pearson_correlation_matrices = []\n",
    "for file_path in pearson_correlation_files:\n",
    "    with open(file_path, 'r') as f:\n",
    "        data = json.load(f)\n",
    "        pearson_correlation_matrices.append(data[\"correlation_matrix\"])"
   ]
  },
  {
   "cell_type": "code",
   "execution_count": null,
   "id": "e50ac108",
   "metadata": {},
   "outputs": [],
   "source": [
    "import numpy as np\n",
    "\n",
    "metric_keys = pearson_correlation_matrices[0].keys()\n",
    "pearson_averaged_matrix = {}\n",
    "\n",
    "for metric in metric_keys:\n",
    "    # Each metric is a dict of metric-to-metric correlations\n",
    "    keys = pearson_correlation_matrices[0][metric].keys()\n",
    "    pearson_averaged_matrix[metric] = {}\n",
    "    for k in keys:\n",
    "        # Collect all values for this cell across matrices\n",
    "        values = [m[metric][k] for m in pearson_correlation_matrices]\n",
    "        pearson_averaged_matrix[metric][k] = float(np.mean(values))"
   ]
  },
  {
   "cell_type": "code",
   "execution_count": null,
   "id": "d7faa61c",
   "metadata": {},
   "outputs": [],
   "source": [
    "pearson_matrix_info = {\n",
    "    \"classification_types\": [\"binary\", \"multiclass\", \"multilabel\"],\n",
    "    \"class_balances\": [\"balanced\", \"imbalanced\"],\n",
    "    \"correlation_type\": \"pearson\",\n",
    "    \"datasets\": multilabel_dataset_names,\n",
    "    \"matrix\": pearson_averaged_matrix\n",
    "}"
   ]
  },
  {
   "cell_type": "code",
   "execution_count": null,
   "id": "e4a0fe66",
   "metadata": {},
   "outputs": [
    {
     "name": "stdout",
     "output_type": "stream",
     "text": [
      "Saved averaged matrix info to C:\\VisualStudioRepositories\\MUSIC_DATA\\metric_analysis\\output\\averaged_pearson_correlation_matrix.json\n"
     ]
    }
   ],
   "source": [
    "import json\n",
    "\n",
    "output_path = report_output_root_dir / \"averaged_pearson_correlation_matrix.json\"\n",
    "with open(output_path, \"w\") as f:\n",
    "    json.dump(pearson_matrix_info, f, indent=2)\n",
    "print(f\"Saved averaged matrix info to {output_path}\")"
   ]
  },
  {
   "cell_type": "code",
   "execution_count": 22,
   "id": "bcc5577c",
   "metadata": {},
   "outputs": [],
   "source": [
    "import json\n",
    "\n",
    "spearman_correlation_matrices = []\n",
    "for file_path in spearman_correlation_files:\n",
    "    with open(file_path, 'r') as f:\n",
    "        data = json.load(f)\n",
    "        spearman_correlation_matrices.append(data[\"correlation_matrix\"])"
   ]
  },
  {
   "cell_type": "code",
   "execution_count": 23,
   "id": "8a558ffa",
   "metadata": {},
   "outputs": [],
   "source": [
    "import numpy as np\n",
    "\n",
    "metric_keys = spearman_correlation_matrices[0].keys()\n",
    "spearman_averaged_matrix = {}\n",
    "\n",
    "for metric in metric_keys:\n",
    "    # Each metric is a dict of metric-to-metric correlations\n",
    "    keys = spearman_correlation_matrices[0][metric].keys()\n",
    "    spearman_averaged_matrix[metric] = {}\n",
    "    for k in keys:\n",
    "        # Collect all values for this cell across matrices\n",
    "        values = [m[metric][k] for m in spearman_correlation_matrices]\n",
    "        spearman_averaged_matrix[metric][k] = float(np.mean(values))"
   ]
  },
  {
   "cell_type": "code",
   "execution_count": null,
   "id": "fd828fb3",
   "metadata": {},
   "outputs": [],
   "source": [
    "spearman_matrix_info = {\n",
    "    \"classification_types\": [\"binary\", \"multiclass\", \"multilabel\"],\n",
    "    \"class_balances\": [\"balanced\", \"imbalanced\"],\n",
    "    \"correlation_type\": \"spearman\",\n",
    "    \"datasets\": multilabel_dataset_names,\n",
    "    \"matrix\": spearman_averaged_matrix\n",
    "}"
   ]
  },
  {
   "cell_type": "code",
   "execution_count": 25,
   "id": "226b4354",
   "metadata": {},
   "outputs": [
    {
     "name": "stdout",
     "output_type": "stream",
     "text": [
      "Saved averaged matrix info to C:\\VisualStudioRepositories\\MUSIC_DATA\\metric_analysis\\output\\averaged_spearman_correlation_matrix.json\n"
     ]
    }
   ],
   "source": [
    "import json\n",
    "\n",
    "output_path = report_output_root_dir / \"averaged_spearman_correlation_matrix.json\"\n",
    "with open(output_path, \"w\") as f:\n",
    "    json.dump(spearman_matrix_info, f, indent=2)\n",
    "print(f\"Saved averaged matrix info to {output_path}\")"
   ]
  }
 ],
 "metadata": {
  "kernelspec": {
   "display_name": ".venv",
   "language": "python",
   "name": "python3"
  },
  "language_info": {
   "codemirror_mode": {
    "name": "ipython",
    "version": 3
   },
   "file_extension": ".py",
   "mimetype": "text/x-python",
   "name": "python",
   "nbconvert_exporter": "python",
   "pygments_lexer": "ipython3",
   "version": "3.13.5"
  }
 },
 "nbformat": 4,
 "nbformat_minor": 5
}
