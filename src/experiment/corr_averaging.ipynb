{
 "cells": [
  {
   "cell_type": "markdown",
   "id": "687c3999",
   "metadata": {},
   "source": [
    "# Setup"
   ]
  },
  {
   "cell_type": "code",
   "execution_count": 1,
   "id": "ca13cc8b",
   "metadata": {},
   "outputs": [],
   "source": [
    "import os\n",
    "import sys\n",
    "\n",
    "sys.path.append(os.path.abspath(\"../..\"))"
   ]
  },
  {
   "cell_type": "code",
   "execution_count": 2,
   "id": "11f4fc48",
   "metadata": {},
   "outputs": [],
   "source": [
    "from pathlib import Path\n",
    "import json\n",
    "import numpy as np\n"
   ]
  },
  {
   "cell_type": "code",
   "execution_count": 3,
   "id": "43c802d8",
   "metadata": {},
   "outputs": [
    {
     "data": {
      "text/plain": [
       "WindowsPath('C:/VisualStudioRepositories/MUSIC_DATA/metric_analysis/output')"
      ]
     },
     "execution_count": 3,
     "metadata": {},
     "output_type": "execute_result"
    }
   ],
   "source": [
    "from src.experiment.helpers.variables import report_output_root_dir\n",
    "report_output_root_dir"
   ]
  },
  {
   "cell_type": "code",
   "execution_count": 4,
   "id": "9aa0f164",
   "metadata": {},
   "outputs": [
    {
     "data": {
      "text/plain": [
       "['bibtex_trimmed', 'emotions_trimmed']"
      ]
     },
     "execution_count": 4,
     "metadata": {},
     "output_type": "execute_result"
    }
   ],
   "source": [
    "from src.experiment.sets.data_sets import multilabel_datasets\n",
    "multilabel_dataset_names = list(multilabel_datasets.keys())\n",
    "multilabel_dataset_names"
   ]
  },
  {
   "cell_type": "code",
   "execution_count": 23,
   "id": "04fa1268",
   "metadata": {},
   "outputs": [],
   "source": [
    "all_dataset_names = multilabel_dataset_names"
   ]
  },
  {
   "cell_type": "markdown",
   "id": "930eea87",
   "metadata": {},
   "source": [
    "# Get all correlation JSONs"
   ]
  },
  {
   "cell_type": "code",
   "execution_count": 5,
   "id": "21a11352",
   "metadata": {},
   "outputs": [],
   "source": [
    "pearson_correlation_files = sorted(report_output_root_dir.rglob('pearson_correlation.json'), key=lambda x: x.name)\n",
    "spearman_correlation_files = sorted(report_output_root_dir.rglob('spearman_correlation.json'), key=lambda x: x.name)\n",
    "correlation_files = pearson_correlation_files + spearman_correlation_files\n"
   ]
  },
  {
   "cell_type": "code",
   "execution_count": 6,
   "id": "0e7b237e",
   "metadata": {},
   "outputs": [
    {
     "name": "stdout",
     "output_type": "stream",
     "text": [
      "2\n",
      "2\n",
      "4\n"
     ]
    }
   ],
   "source": [
    "print(len(pearson_correlation_files))\n",
    "print(len(spearman_correlation_files))\n",
    "print(len(correlation_files))"
   ]
  },
  {
   "cell_type": "markdown",
   "id": "e9c3422f",
   "metadata": {},
   "source": [
    "# Functions"
   ]
  },
  {
   "cell_type": "code",
   "execution_count": 29,
   "id": "a93af9d7",
   "metadata": {},
   "outputs": [],
   "source": [
    "def average_corr_matrices(files, classification_types, class_balances, datasets, correlation):\n",
    "    correlation_matrices = []\n",
    "\n",
    "    for file_path in files:\n",
    "        with open(file_path, 'r') as f:\n",
    "            data = json.load(f)\n",
    "\n",
    "            if (\n",
    "                data.get(\"classification_type\") in classification_types and\n",
    "                data.get(\"class_balance\") in class_balances and\n",
    "                data.get(\"dataset_name\") in datasets and\n",
    "                data.get(\"correlation_type\") == correlation\n",
    "            ):\n",
    "                correlation_matrices.append(data[\"correlation_matrix\"])\n",
    "            \n",
    "    if not correlation_matrices:\n",
    "        return\n",
    "    \n",
    "    metric_keys = correlation_matrices[0].keys()\n",
    "    averaged_matrix = {}\n",
    "\n",
    "    for metric in metric_keys:\n",
    "        keys = correlation_matrices[0][metric].keys()\n",
    "        averaged_matrix[metric] = {}\n",
    "        for k in keys:\n",
    "            # Collect all values for this cell across matrices\n",
    "            values = [m[metric][k] for m in correlation_matrices]\n",
    "            averaged_matrix[metric][k] = float(np.mean(values))\n",
    "    \n",
    "    full_matrix_info = {\n",
    "        \"classification_types\": classification_types,\n",
    "        \"class_balances\": class_balances,\n",
    "        \"correlation_type\": correlation,\n",
    "        \"datasets\": multilabel_dataset_names,\n",
    "        \"matrix\": averaged_matrix\n",
    "    }\n",
    "    \n",
    "    return full_matrix_info"
   ]
  },
  {
   "cell_type": "code",
   "execution_count": 33,
   "id": "564fcc13",
   "metadata": {},
   "outputs": [],
   "source": [
    "def calculate_and_save_matrix(files, classification_types, class_balances, datasets, suffix, root_dir=report_output_root_dir):\n",
    "    for corr_type in [\"pearson\", \"spearman\"]:\n",
    "        matrix_info = average_corr_matrices(\n",
    "            files=files,\n",
    "            classification_types=classification_types,\n",
    "            class_balances=class_balances,\n",
    "            datasets=datasets,\n",
    "            correlation=corr_type\n",
    "        )\n",
    "        \n",
    "        if not matrix_info:\n",
    "            continue\n",
    "    \n",
    "        output_path = root_dir / f\"averaged_{corr_type}_correlation_{suffix}.json\"\n",
    "        \n",
    "        with open(output_path, \"w\") as f:\n",
    "            json.dump(matrix_info, f, indent=2)"
   ]
  },
  {
   "cell_type": "markdown",
   "id": "b83989c2",
   "metadata": {},
   "source": [
    "# Create matrices"
   ]
  },
  {
   "cell_type": "markdown",
   "id": "041a5ea4",
   "metadata": {},
   "source": [
    "All"
   ]
  },
  {
   "cell_type": "code",
   "execution_count": 32,
   "id": "b4f00fd4",
   "metadata": {},
   "outputs": [],
   "source": [
    "calculate_and_save_matrix(\n",
    "    files=correlation_files,\n",
    "    classification_types=[\"binary\", \"multiclass\", \"multilabel\"],\n",
    "    class_balances=[\"balanced\", \"imbalanced\"],\n",
    "    datasets=all_dataset_names,\n",
    "    suffix=\"all\")"
   ]
  },
  {
   "cell_type": "markdown",
   "id": "33c9a8c0",
   "metadata": {},
   "source": [
    "By classification type"
   ]
  },
  {
   "cell_type": "code",
   "execution_count": 34,
   "id": "22df94eb",
   "metadata": {},
   "outputs": [],
   "source": [
    "for cls_type in [\"binary\", \"multiclass\", \"multilabel\"]:\n",
    "    calculate_and_save_matrix(\n",
    "        files=correlation_files,\n",
    "        classification_types=[cls_type],\n",
    "        class_balances=[\"balanced\", \"imbalanced\"],\n",
    "        datasets=all_dataset_names,\n",
    "        suffix=cls_type\n",
    "    )"
   ]
  },
  {
   "cell_type": "markdown",
   "id": "d3c0bd22",
   "metadata": {},
   "source": [
    "By class balance"
   ]
  },
  {
   "cell_type": "code",
   "execution_count": 35,
   "id": "3c9a02de",
   "metadata": {},
   "outputs": [],
   "source": [
    "for balance in [\"balanced\", \"imbalanced\"]:\n",
    "    calculate_and_save_matrix(\n",
    "        files=correlation_files,\n",
    "        classification_types=[\"binary\", \"multiclass\", \"multilabel\"],\n",
    "        class_balances=[balance],\n",
    "        datasets=all_dataset_names,\n",
    "        suffix=balance\n",
    "    )"
   ]
  }
 ],
 "metadata": {
  "kernelspec": {
   "display_name": ".venv",
   "language": "python",
   "name": "python3"
  },
  "language_info": {
   "codemirror_mode": {
    "name": "ipython",
    "version": 3
   },
   "file_extension": ".py",
   "mimetype": "text/x-python",
   "name": "python",
   "nbconvert_exporter": "python",
   "pygments_lexer": "ipython3",
   "version": "3.13.5"
  }
 },
 "nbformat": 4,
 "nbformat_minor": 5
}
