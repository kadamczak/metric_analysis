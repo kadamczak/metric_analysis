{
 "cells": [
  {
   "cell_type": "markdown",
   "metadata": {},
   "source": [
    "# Setup"
   ]
  },
  {
   "cell_type": "code",
   "execution_count": 1,
   "metadata": {},
   "outputs": [],
   "source": [
    "import os\n",
    "import numpy as np\n",
    "import matplotlib.pyplot as plt\n",
    "from pathlib import Path\n",
    "import IPython.display as ipd\n",
    "import sklearn as skl\n",
    "import pandas as pd\n",
    "from PIL import Image\n",
    "import seaborn as sns\n",
    "import sys\n",
    "import json\n",
    "\n",
    "import torch\n",
    "import torch.nn as nn\n",
    "import torch.nn.functional as F\n",
    "import torch.optim as optim \n",
    "\n",
    "from torcheval.metrics.metric import Metric\n",
    "from sklearn.metrics import cohen_kappa_score\n",
    "from sklearn.metrics import roc_auc_score\n",
    "from sklearn.metrics import roc_curve\n",
    "\n",
    "from torcheval.metrics import MulticlassPrecision\n",
    "from torcheval.metrics import MulticlassRecall\n",
    "from torcheval.metrics import MulticlassConfusionMatrix\n",
    "from torcheval.metrics import MulticlassF1Score\n",
    "\n",
    "from torcheval.metrics import BinaryAccuracy\n",
    "from torcheval.metrics import BinaryPrecision\n",
    "from torcheval.metrics import BinaryRecall\n",
    "from torcheval.metrics import BinaryConfusionMatrix\n",
    "from torcheval.metrics import BinaryF1Score\n",
    "\n",
    "from torcheval.metrics.functional import mean_squared_error"
   ]
  },
  {
   "cell_type": "code",
   "execution_count": 2,
   "metadata": {},
   "outputs": [
    {
     "name": "stdout",
     "output_type": "stream",
     "text": [
      "cuda\n"
     ]
    }
   ],
   "source": [
    "device = torch.device('cuda' if torch.cuda.is_available() else 'cpu')\n",
    "print(device)"
   ]
  },
  {
   "cell_type": "code",
   "execution_count": 3,
   "metadata": {},
   "outputs": [],
   "source": [
    "gtzan_dir = Path(str(os.environ.get('GTZAN_DIR')))   #C:/VisualStudioRepositories/MUSIC_DATA/gt/Data\n",
    "fma_dir = Path(str(os.environ.get('FMA_DIR')))       #C:/VisualStudioRepositories/MUSIC_DATA/fma\n",
    "\n",
    "gtzan_image_dir = gtzan_dir / 'spectrograms'\n",
    "gtzan_df_path = gtzan_dir / 'gtzan_df.csv'\n",
    "\n",
    "fma_small_image_dir = fma_dir / 'spectrograms/fma_small'\n",
    "fma_medium_image_dir = fma_dir / 'spectrograms/fma_medium'\n",
    "fma_df_path = fma_dir / 'fma_df.csv'"
   ]
  },
  {
   "cell_type": "code",
   "execution_count": 4,
   "metadata": {},
   "outputs": [],
   "source": [
    "report_output_root_dir = Path('../../output/txt')\n",
    "\n",
    "report_output_dirs = {'gtzan_multi': report_output_root_dir / 'gtzan_multi',\n",
    "                      'fma_small_multi': report_output_root_dir / 'fma_small_multi',\n",
    "                      'fma_medium_multi': report_output_root_dir / 'fma_medium_multi',\n",
    "                      \n",
    "                      'gtzan_binary': report_output_root_dir / 'gtzan_binary',\n",
    "                      'fma_small_binary': report_output_root_dir / 'fma_small_binary',\n",
    "                      'fma_medium_binary': report_output_root_dir / 'fma_medium_binary'}"
   ]
  },
  {
   "cell_type": "code",
   "execution_count": 7,
   "metadata": {},
   "outputs": [],
   "source": [
    "gtzan_classes = ['Blues', 'Classical', 'Country', 'Disco', 'Hip-Hop', 'Jazz', 'Metal', 'Pop', 'Reggae', 'Rock'] #10\n",
    "\n",
    "fma_small_top_classes = ['Electronic', 'Experimental', 'Folk', 'Hip-Hop', 'Instrumental', 'International', 'Pop', 'Rock'] #8\n",
    "\n",
    "fma_medium_top_classes = ['Electronic', 'Experimental', 'Folk', 'Hip-Hop', 'Instrumental', 'International', 'Pop', 'Rock',\n",
    "                          'Easy Listening', 'Blues', 'Soul-RnB', 'Spoken', 'Country', 'Jazz', 'Old-Time / Historic', 'Classical'] #16"
   ]
  },
  {
   "cell_type": "code",
   "execution_count": 8,
   "metadata": {},
   "outputs": [],
   "source": [
    "IMAGE_SIZE = 128    #128x128 px images for the CNN (with 3 channels)"
   ]
  },
  {
   "cell_type": "markdown",
   "metadata": {},
   "source": [
    "# Clean output directories"
   ]
  },
  {
   "cell_type": "markdown",
   "metadata": {},
   "source": [
    "Content of subfolders is intentionally NOT cleaned. This way, interesting results can be persisted if they have a dedicated subfolder."
   ]
  },
  {
   "cell_type": "code",
   "execution_count": 108,
   "metadata": {},
   "outputs": [],
   "source": [
    "for dir_path in report_output_dirs.values():\n",
    "    for file_path in dir_path.glob('*.txt'):\n",
    "        file_path.unlink()\n",
    "    for file_path in dir_path.glob('*.png'):\n",
    "        file_path.unlink()"
   ]
  },
  {
   "cell_type": "markdown",
   "metadata": {},
   "source": [
    "# Define function loading GTZAN df from file"
   ]
  },
  {
   "cell_type": "code",
   "execution_count": 9,
   "metadata": {},
   "outputs": [],
   "source": [
    "def get_gtzan_dataframe(with_val):\n",
    "    gtzan_df = pd.read_csv(gtzan_df_path)\n",
    "    \n",
    "    # turn relative paths into absolute paths\n",
    "    gtzan_df['path'] = gtzan_df['path'].apply(lambda x: gtzan_image_dir / x)\n",
    "    \n",
    "    # SAMPLES: 800/98/100\n",
    "    if (with_val):\n",
    "        gtzan_train_df = gtzan_df[gtzan_df['set'] == 'train']\n",
    "        gtzan_val_df = gtzan_df[gtzan_df['set'] == 'validation']\n",
    "        gtzan_test_df = gtzan_df[gtzan_df['set'] == 'test']\n",
    "        return gtzan_train_df, gtzan_val_df, gtzan_test_df\n",
    "    else: # SAMPLES: 800/198\n",
    "        gtzan_train_df = gtzan_df[gtzan_df['set'] == 'train']\n",
    "        gtzan_test_df = gtzan_df[(gtzan_df['set'] == 'test') | (gtzan_df['set'] == 'validation')]\n",
    "        return gtzan_train_df, gtzan_test_df"
   ]
  },
  {
   "cell_type": "markdown",
   "metadata": {},
   "source": [
    "# Load GTZAN df (with/without separate val set)"
   ]
  },
  {
   "cell_type": "code",
   "execution_count": 10,
   "metadata": {},
   "outputs": [],
   "source": [
    "# with separate val\n",
    "gtzan_train_df, gtzan_val_df, gtzan_test_df = get_gtzan_dataframe(with_val=True)"
   ]
  },
  {
   "cell_type": "code",
   "execution_count": 9,
   "metadata": {},
   "outputs": [],
   "source": [
    "# without separate val\n",
    "gtzan_train_df, gtzan_test_df = get_gtzan_dataframe(with_val=False)"
   ]
  },
  {
   "cell_type": "markdown",
   "metadata": {},
   "source": [
    "# Define function loading FMA df from file"
   ]
  },
  {
   "cell_type": "code",
   "execution_count": 7,
   "metadata": {},
   "outputs": [],
   "source": [
    "def get_fma_dataframe(get_fma_small, with_val):\n",
    "    fma_df = pd.read_csv(fma_df_path)\n",
    "    \n",
    "    # turn relative paths into absolute paths\n",
    "    fma_df['path'] = fma_df['path'].apply(lambda x: fma_medium_image_dir / x)\n",
    "    \n",
    "    # otherwise the dataset is FMA-medium\n",
    "    if (get_fma_small):\n",
    "        fma_df = fma_df[fma_df['size'] == 'small']\n",
    "    \n",
    "    # PERCENTAGES: 80/10/10\n",
    "    if (with_val):\n",
    "        fma_train_df = fma_df[fma_df['set'] == 'training']\n",
    "        fma_val_df = fma_df[fma_df['set'] == 'validation']\n",
    "        fma_test_df = fma_df[fma_df['set'] == 'test']\n",
    "        return fma_train_df, fma_val_df, fma_test_df\n",
    "    else: # PERCENTAGES: 80/20\n",
    "        fma_train_df = fma_df[fma_df['set'] == 'training']\n",
    "        fma_test_df = fma_df[(fma_df['set'] == 'test') | (fma_df['set'] == 'validation')]\n",
    "        return fma_train_df, fma_test_df"
   ]
  },
  {
   "cell_type": "markdown",
   "metadata": {},
   "source": [
    "# Load FMA df (with/without separate val set) (small/medium)"
   ]
  },
  {
   "cell_type": "code",
   "execution_count": 8,
   "metadata": {},
   "outputs": [],
   "source": [
    "# fma-small with separate val\n",
    "fma_small_train_df, fma_small_val_df, fma_small_test_df = get_fma_dataframe(get_fma_small=True, with_val=True)"
   ]
  },
  {
   "cell_type": "code",
   "execution_count": null,
   "metadata": {},
   "outputs": [],
   "source": [
    "# fma-small without separate val\n",
    "fma_small_train_df, fma_small_test_df = get_fma_dataframe(get_fma_small=True, with_val=False)"
   ]
  },
  {
   "cell_type": "code",
   "execution_count": 8,
   "metadata": {},
   "outputs": [],
   "source": [
    "# fma-medium with separate val\n",
    "fma_medium_train_df, fma_medium_val_df, fma_medium_test_df = get_fma_dataframe(get_fma_small=False, with_val=True)"
   ]
  },
  {
   "cell_type": "code",
   "execution_count": null,
   "metadata": {},
   "outputs": [],
   "source": [
    "# fma-medium without separate val\n",
    "fma_medium_train_df, fma_medium_test_df = get_fma_dataframe(get_fma_small=False, with_val=False)"
   ]
  },
  {
   "cell_type": "markdown",
   "metadata": {},
   "source": [
    "# Define input data loading functions - PyTorch"
   ]
  },
  {
   "cell_type": "code",
   "execution_count": 11,
   "metadata": {},
   "outputs": [],
   "source": [
    "# 0, 1, 2, 3... labels used with nn.CrossEntropyLoss\n",
    "def numerically_encode_class_label(class_name, available_classes):\n",
    "  return available_classes.index(class_name)\n",
    "\n",
    "# currently unused\n",
    "def one_hot_encode_class_label(class_name, available_classes):\n",
    "  label = available_classes.index(class_name)\n",
    "  one_hot = np.zeros(len(available_classes))\n",
    "  one_hot[label] = 1\n",
    "  return one_hot\n",
    "\n",
    "# decode png\n",
    "def decode_img_data(img_path, channels=3):\n",
    "  img = Image.open(img_path).convert('RGB' if channels == 3 else 'L') # convert to RGB if 3 channels, otherwise grayscale\n",
    "  img = img.resize((IMAGE_SIZE, IMAGE_SIZE))\n",
    "  img = np.array(img)\n",
    "  img = torch.tensor(img).permute(2, 0, 1) if channels == 3 else torch.tensor(img).unsqueeze(0) # channels first\n",
    "  return img.float() / 255.0 # normalize to [0, 1]\n",
    "\n",
    "# return pair: decoded png and class name turned into numerical label\n",
    "def process_sample(sample, available_classes, channels=3):\n",
    "  img_path = sample[0]\n",
    "  class_label = sample[1]\n",
    "  \n",
    "  img_data = decode_img_data(img_path, channels)\n",
    "  numerical_label = numerically_encode_class_label(class_label, available_classes)\n",
    "  return img_data, numerical_label"
   ]
  },
  {
   "cell_type": "code",
   "execution_count": 12,
   "metadata": {},
   "outputs": [],
   "source": [
    "from torch.utils.data import Dataset, DataLoader\n",
    "\n",
    "class CustomDataset(Dataset):\n",
    "    def __init__(self, df, available_classes, channels=3):\n",
    "        self.df = df\n",
    "        self.available_classes = available_classes\n",
    "        self.channels = channels\n",
    "\n",
    "    def __len__(self):\n",
    "        return len(self.df)\n",
    "\n",
    "    def __getitem__(self, idx):\n",
    "        img_path = self.df.iloc[idx]['path']\n",
    "        class_label = self.df.iloc[idx]['genre']\n",
    "        img_data, numerical_label = process_sample((img_path, class_label), self.available_classes, self.channels)\n",
    "        return img_data.to(device), torch.tensor(numerical_label, device=device) #! DATA on device\n",
    "\n",
    "def prepare_dataloader_based_on_df(df, available_classes, batch_size=8, channels=3):\n",
    "    dataset = CustomDataset(df, available_classes, channels)\n",
    "    dataloader = DataLoader(dataset, batch_size=batch_size, num_workers=0, shuffle=True)\n",
    "    return dataloader"
   ]
  },
  {
   "cell_type": "code",
   "execution_count": 13,
   "metadata": {},
   "outputs": [],
   "source": [
    "def visualize_samples_from_dataloader_batch(dl, available_classes, samples=6):\n",
    "    image_batch, label_batch = next(iter(dl))\n",
    "    samples = samples if samples <= len(label_batch) else len(label_batch)\n",
    "    \n",
    "    fig, axes = plt.subplots(ncols=3, nrows=(samples + 2) // 3)\n",
    "    [axis.set_axis_off() for axis in axes.ravel()]\n",
    "    \n",
    "    for i in range(samples):\n",
    "        ax = axes.flat[i]\n",
    "        img = image_batch[i].permute(1, 2, 0).numpy()  # Convert from (C, H, W) to (H, W, C)\n",
    "        ax.imshow(img)\n",
    "        ax.set_title(available_classes[torch.argmax(label_batch[i]).item()])"
   ]
  },
  {
   "cell_type": "markdown",
   "metadata": {},
   "source": [
    "# Create GTZAN DataLoaders"
   ]
  },
  {
   "cell_type": "code",
   "execution_count": 14,
   "metadata": {},
   "outputs": [],
   "source": [
    "BATCH_SIZE = 32\n",
    "CHANNELS = 3"
   ]
  },
  {
   "cell_type": "code",
   "execution_count": 15,
   "metadata": {},
   "outputs": [],
   "source": [
    "# With val\n",
    "gtzan_train_dl = prepare_dataloader_based_on_df(gtzan_train_df, gtzan_classes, BATCH_SIZE, CHANNELS)\n",
    "gtzan_val_dl = prepare_dataloader_based_on_df(gtzan_val_df, gtzan_classes, BATCH_SIZE, CHANNELS)\n",
    "gtzan_test_dl = prepare_dataloader_based_on_df(gtzan_test_df, gtzan_classes, BATCH_SIZE, CHANNELS)"
   ]
  },
  {
   "cell_type": "code",
   "execution_count": null,
   "metadata": {},
   "outputs": [],
   "source": [
    "# Without val\n",
    "gtzan_train_dl = prepare_dataloader_based_on_df(gtzan_train_df, gtzan_classes, BATCH_SIZE, CHANNELS)\n",
    "gtzan_test_dl = prepare_dataloader_based_on_df(gtzan_test_df, gtzan_classes, BATCH_SIZE, CHANNELS)"
   ]
  },
  {
   "cell_type": "markdown",
   "metadata": {},
   "source": [
    "# Visualize GTZAN from DataLoader"
   ]
  },
  {
   "cell_type": "markdown",
   "metadata": {},
   "source": [
    "Done on CPU"
   ]
  },
  {
   "cell_type": "code",
   "execution_count": null,
   "metadata": {},
   "outputs": [],
   "source": [
    "visualize_samples_from_dataloader_batch(gtzan_test_dl, gtzan_classes, samples=6)"
   ]
  },
  {
   "cell_type": "markdown",
   "metadata": {},
   "source": [
    "# CNN model - PyTorch"
   ]
  },
  {
   "cell_type": "code",
   "execution_count": 16,
   "metadata": {},
   "outputs": [],
   "source": [
    "# 4 convolutional layers\n",
    "# layer 1 and 2:\n",
    "#   64 kernels 5x5 each,\n",
    "#   RELU,\n",
    "#   batch normalization,\n",
    "#   2d max pooling - kernel size 2 stride 2\n",
    "#   \n",
    "# layer 3 and 4:\n",
    "#   128 kernels 5x5 each,\n",
    "#   RELU,\n",
    "#   batch normalization,\n",
    "#   2d max pooling - kernel size 2 stride 2\n",
    "#\n",
    "# dropout 0.2\n",
    "#\n",
    "# output:\n",
    "#   fully connected linear layer\n",
    "\n",
    "class CNN(nn.Module):\n",
    "    def __init__(self, img_size, channels, num_outputs):\n",
    "        super(CNN, self).__init__()\n",
    "        self.conv1 = nn.Conv2d(channels, 64, kernel_size=5, stride=1, padding=2)\n",
    "        self.bn1 = nn.BatchNorm2d(64)\n",
    "        self.pool = nn.MaxPool2d(kernel_size=2, stride=2, padding=0)\n",
    "        self.dropout = nn.Dropout(0.2)\n",
    "        \n",
    "        self.conv2 = nn.Conv2d(64, 64, kernel_size=5, stride=1, padding=2)\n",
    "        self.bn2 = nn.BatchNorm2d(64)\n",
    "        \n",
    "        self.conv3 = nn.Conv2d(64, 128, kernel_size=5, stride=1, padding=2)\n",
    "        self.bn3 = nn.BatchNorm2d(128)\n",
    "        \n",
    "        self.conv4 = nn.Conv2d(128, 128, kernel_size=5, stride=1, padding=2)\n",
    "        self.bn4 = nn.BatchNorm2d(128)\n",
    "        \n",
    "        # Calculate the size of the flattened feature map\n",
    "        self.flattened_size = (img_size // 16) * (img_size // 16) * 128\n",
    "        # max pooling reduces image width by /16 and image height by /16\n",
    "        # 128 is the number of kernels in the last convolutional layer\n",
    "        \n",
    "        self.fc = nn.Linear(self.flattened_size, num_outputs) # Logits, not probabilities\n",
    "        \n",
    "    def forward(self, x):\n",
    "        x = self.pool(F.relu(self.bn1(self.conv1(x))))\n",
    "        x = self.dropout(x)\n",
    "        x = self.pool(F.relu(self.bn2(self.conv2(x))))\n",
    "        x = self.dropout(x)\n",
    "        x = self.pool(F.relu(self.bn3(self.conv3(x))))\n",
    "        x = self.dropout(x)\n",
    "        x = self.pool(F.relu(self.bn4(self.conv4(x))))\n",
    "        x = self.dropout(x)\n",
    "        \n",
    "        x = x.view(-1, self.flattened_size)  # Flatten the feature map\n",
    "        x = self.fc(x)\n",
    "        \n",
    "        return x"
   ]
  },
  {
   "cell_type": "markdown",
   "metadata": {},
   "source": [
    "# Metrics - multiclass and binary"
   ]
  },
  {
   "cell_type": "markdown",
   "metadata": {},
   "source": [
    "## Custom metrics"
   ]
  },
  {
   "cell_type": "markdown",
   "metadata": {},
   "source": [
    "### Helper functions"
   ]
  },
  {
   "cell_type": "code",
   "execution_count": 17,
   "metadata": {},
   "outputs": [],
   "source": [
    "# BINARY CLASSIFICATION (1 output neuron):\n",
    "# logits -> sigmoid -> round -> predicted class indexes\n",
    "\n",
    "# MULTI-CLASS CLASSIFICATION (N output neurons):\n",
    "# logits -> argmax -> predicted classes indexes (softmax is optional but not necessary)\n",
    "def get_predicted_classes(predictions, is_binary):  # threshold for binary = 0.5\n",
    "    return [torch.round(torch.sigmoid(pred)) for pred in predictions] if is_binary else [torch.argmax(pred) for pred in predictions]\n",
    "    \n",
    "def get_predicted_probabilities(predictions, is_binary):\n",
    "    return [torch.sigmoid(pred) for pred in predictions] if is_binary else [F.softmax(pred, dim=0) for pred in predictions]\n",
    "    \n",
    "def get_binary_labels_for_class(labels, class_index):\n",
    "    return [1 if label == class_index else 0 for label in labels]"
   ]
  },
  {
   "cell_type": "markdown",
   "metadata": {},
   "source": [
    "### Qualitative measures using base Scikit-learn implementation"
   ]
  },
  {
   "cell_type": "code",
   "execution_count": 18,
   "metadata": {},
   "outputs": [],
   "source": [
    "# predicted: NUMERICAL CLASS LABELS (0, 1, 2, 3...)\n",
    "# true: NUMERICAL CLASS LABELS (0, 1, 2, 3...)\n",
    "class BinaryCohenKappa(Metric[torch.Tensor]):\n",
    "    def __init__(self, is_binary, device = None) -> None:\n",
    "        super().__init__(device=device)\n",
    "        self.is_binary = is_binary\n",
    "        self._add_state(\"true_classes\", torch.tensor([], device=self.device)) \n",
    "        self._add_state(\"predicted_classes\", torch.tensor([], device=self.device))\n",
    "\n",
    "    @torch.inference_mode()\n",
    "    def update(self, prediction_logits, labels):\n",
    "        predicted = torch.tensor(get_predicted_classes(prediction_logits, self.is_binary), device=self.device)\n",
    "        \n",
    "        self.true_classes = torch.cat((self.true_classes, labels))\n",
    "        self.predicted_classes = torch.cat((self.predicted_classes, predicted))\n",
    "        return self\n",
    "\n",
    "    @torch.inference_mode()\n",
    "    def compute(self): \n",
    "        return cohen_kappa_score( self.true_classes.cpu().detach().numpy(), self.predicted_classes.cpu().detach().numpy() )\n",
    "\n",
    "    @torch.inference_mode()\n",
    "    def merge_state(self, metrics):\n",
    "        true_classes_2 = [self.true_classes, ]\n",
    "        predicted_classes_2 = [self.predicted_classes, ]\n",
    "        \n",
    "        for metric in metrics:\n",
    "            true_classes_2.append(metric.true_classes_2)\n",
    "            predicted_classes_2.append(metric.predicted_classes_2)\n",
    "            self.true_classes = torch.cat(true_classes_2)\n",
    "            self.predicted_classes = torch.cat(predicted_classes_2)\n",
    "        return self"
   ]
  },
  {
   "cell_type": "code",
   "execution_count": 19,
   "metadata": {},
   "outputs": [],
   "source": [
    "# predicted: NUMERICAL CLASS LABELS (0, 1, 2, 3...)\n",
    "# true: NUMERICAL CLASS LABELS (0, 1, 2, 3...)\n",
    "class MCC(Metric[torch.Tensor]):\n",
    "    def __init__(self, is_binary, device = None) -> None:\n",
    "        super().__init__(device=device)\n",
    "        self.is_binary = is_binary\n",
    "        self._add_state(\"true_classes\", torch.tensor([], device=self.device)) \n",
    "        self._add_state(\"predicted_classes\", torch.tensor([], device=self.device))\n",
    "\n",
    "    @torch.inference_mode()\n",
    "    def update(self, prediction_logits, labels):\n",
    "        predicted = torch.tensor(get_predicted_classes(prediction_logits, self.is_binary), device=self.device)\n",
    "        \n",
    "        self.true_classes = torch.cat((self.true_classes, labels))\n",
    "        self.predicted_classes = torch.cat((self.predicted_classes, predicted))\n",
    "        return self\n",
    "\n",
    "    @torch.inference_mode()\n",
    "    def compute(self): \n",
    "        return torch.tensor(skl.metrics.matthews_corrcoef( self.true_classes.cpu().detach().numpy(), self.predicted_classes.cpu().detach().numpy() )).to(device)\n",
    "\n",
    "    @torch.inference_mode()\n",
    "    def merge_state(self, metrics):\n",
    "        true_classes_2 = [self.true_classes, ]\n",
    "        predicted_classes_2 = [self.predicted_classes, ]\n",
    "        \n",
    "        for metric in metrics:\n",
    "            true_classes_2.append(metric.true_classes_2)\n",
    "            predicted_classes_2.append(metric.predicted_classes_2)\n",
    "            self.true_classes = torch.cat(true_classes_2)\n",
    "            self.predicted_classes = torch.cat(predicted_classes_2)\n",
    "        return self"
   ]
  },
  {
   "cell_type": "markdown",
   "metadata": {},
   "source": [
    "### Rank measures - ROC"
   ]
  },
  {
   "cell_type": "code",
   "execution_count": 20,
   "metadata": {},
   "outputs": [],
   "source": [
    "# SCIKIT INFORMATION:\n",
    "# multiclass:\n",
    "# raise-> used for binary classification, raises error when input is mistakenly multiclass.\n",
    "# ovr  -> one vs REST (AUNu or AUNp)\n",
    "#         Computes the AUC of each class against the rest. This treats the multiclass case in the same way as the multilabel case.\n",
    "#         Sensitive to class imbalance even when average == 'macro', because class imbalance affects\n",
    "#         the composition of each of the ‘rest’ groupings.         \n",
    "# ovo  -> one vs ONE (AU1u or AU1p)\n",
    "#         Computes the average AUC of all possible pairwise combinations of classes.\n",
    "#         Insensitive to class imbalance when average == 'macro'.\n",
    "\n",
    "# average:\n",
    "# None     -> AUC score for each class. For multiclass: None implemented only for OVR\n",
    "# macro    -> Calculate metrics for each label, and find their unweighted mean. This does not take label imbalance into account.\n",
    "# micro    -> Calculate metrics globally by considering each element of the label indicator matrix as a label.\n",
    "# weighted -> Calculate metrics for each label, and find their average,\n",
    "#             weighted by support (the number of true instances for each label).\n",
    "# samples  -> calculated for each sample\n",
    "\n",
    "# combinations:\n",
    "# raise + macro  ->    binary AUC\n",
    "# ovr + macro    ->    AUNu\n",
    "# ovr + weighted ->    AUNp\n",
    "# ovo + macro    ->    AU1u\n",
    "# ovo + weighted ->    AU1p\n",
    "# ovr + None     ->    multiclass AUC per class (vs rest)\n",
    "\n",
    "# predicted: PROBABILITIES (sigmoid for binary, softmax for multiclass)\n",
    "# true: NUMERICAL CLASS LABELS (0, 1, 2, 3...)\n",
    "class ROCAUC(Metric[torch.Tensor]):\n",
    "    def __init__(self, multiclass, average, device = None) -> None:\n",
    "        super().__init__(device=device)\n",
    "        self.is_binary = multiclass == 'raise'\n",
    "        self.multiclass = multiclass\n",
    "        self.average = average\n",
    " \n",
    "        self._add_state(\"true_classes\", torch.tensor([], device=self.device)) \n",
    "        self._add_state(\"predicted_probabilities\", torch.tensor([], device=self.device))\n",
    "\n",
    "    @torch.inference_mode()\n",
    "    def update(self, prediction_logits, labels):\n",
    "        probabilities = torch.stack(get_predicted_probabilities(prediction_logits, self.is_binary)).clone().detach()      \n",
    "        self.true_classes = torch.cat((self.true_classes, labels))\n",
    "        self.predicted_probabilities = torch.cat((self.predicted_probabilities, probabilities))\n",
    "        return self\n",
    "\n",
    "    @torch.inference_mode()\n",
    "    def compute(self):     \n",
    "        return roc_auc_score(y_true=self.true_classes.cpu().detach().numpy(),\n",
    "                             y_score=self.predicted_probabilities.cpu().detach().numpy(),\n",
    "                             multi_class=self.multiclass,\n",
    "                             average=self.average)\n",
    "\n",
    "    @torch.inference_mode()\n",
    "    def merge_state(self, metrics):\n",
    "        true_classes_2 = [self.true_classes, ]\n",
    "        predicted_probabilities_2 = [self.predicted_probabilities, ]\n",
    "        \n",
    "        for metric in metrics:\n",
    "            true_classes_2.append(metric.true_classes_2)\n",
    "            predicted_probabilities_2.append(metric.predictions_2)\n",
    "            self.true_classes = torch.cat(true_classes_2)\n",
    "            self.predicted_probabilities = torch.cat(predicted_probabilities_2)\n",
    "        return self"
   ]
  },
  {
   "cell_type": "code",
   "execution_count": 21,
   "metadata": {},
   "outputs": [],
   "source": [
    "drawn_binary_ROC = 'drawn_binary_ROC'\n",
    "drawn_multi_ROC = 'drawn_multi_ROC'\n",
    "drawn_AUNu = 'drawn_AUNu'\n",
    "drawn_ROC_list = [drawn_binary_ROC, drawn_multi_ROC, drawn_AUNu]"
   ]
  },
  {
   "cell_type": "code",
   "execution_count": 22,
   "metadata": {},
   "outputs": [],
   "source": [
    "# used just to draw the ROC curve, roc_curve does not have the same built-in options roc_curve_score does\n",
    "\n",
    "# predicted: PROBABILITIES (sigmoid for binary, softmax for multiclass)\n",
    "# true: NUMERICAL CLASS LABELS (0, 1, 2, 3...)\n",
    "class drawn_ROC_curve(Metric[torch.Tensor]):\n",
    "    def __init__(self, n_classes, device = None) -> None:\n",
    "        super().__init__(device=device)\n",
    "        \n",
    "        self.is_binary = n_classes == 2\n",
    "        self.n_classes = n_classes\n",
    "        self._add_state(\"true_classes\", torch.tensor([], device=self.device)) \n",
    "        self._add_state(\"predicted_probabilities\", torch.tensor([], device=self.device))\n",
    "\n",
    "    @torch.inference_mode()\n",
    "    def update(self, prediction_logits, labels):\n",
    "        probabilities = torch.stack(get_predicted_probabilities(prediction_logits, self.is_binary)).clone().detach()      \n",
    "        self.true_classes = torch.cat((self.true_classes, labels))\n",
    "        self.predicted_probabilities = torch.cat((self.predicted_probabilities, probabilities))       \n",
    "        return self\n",
    "    \n",
    "    # FPR - x axis, TPR - y axis on the ROC curve\n",
    "    @torch.inference_mode()\n",
    "    def calculate_roc_FPR_TPR_pairs(self):\n",
    "        if self.is_binary:\n",
    "            fprs, tprs, _ = roc_curve(y_true=self.true_classes.cpu().detach().numpy(), y_score=self.predicted_probabilities.cpu().detach().numpy())\n",
    "            return fprs, tprs\n",
    "        \n",
    "        # calculate TPR and FPR pairs for each class\n",
    "        fprs, tprs = dict(), dict()\n",
    "        for i in range(self.n_classes):\n",
    "            binary_labels_for_class = get_binary_labels_for_class(self.true_classes.cpu().detach().numpy(), i)\n",
    "            fprs[i], tprs[i], _ = roc_curve(y_true=binary_labels_for_class, y_score=self.predicted_probabilities[:, i].cpu().detach().numpy())\n",
    "        return fprs, tprs\n",
    "        \n",
    "    # implemented in subclasses\n",
    "    @torch.inference_mode()\n",
    "    def compute(self):  \n",
    "        pass\n",
    "\n",
    "    @torch.inference_mode()\n",
    "    def merge_state(self, metrics):\n",
    "        true_classes_2 = [self.true_classes, ]\n",
    "        predicted_probabilities_2 = [self.predicted_probabilities, ]\n",
    "        \n",
    "        for metric in metrics:\n",
    "            true_classes_2.append(metric.true_classes_2)\n",
    "            predicted_probabilities_2.append(metric.predictions_2)\n",
    "            self.true_classes = torch.cat(true_classes_2)\n",
    "            self.predicted_probabilities = torch.cat(predicted_probabilities_2)\n",
    "        return self"
   ]
  },
  {
   "cell_type": "code",
   "execution_count": 23,
   "metadata": {},
   "outputs": [],
   "source": [
    "class drawn_binary_ROC_curve(drawn_ROC_curve):\n",
    "    def __init__(self, device = None) -> None:\n",
    "        super().__init__(n_classes=2, device=device)\n",
    "\n",
    "    @torch.inference_mode()\n",
    "    def compute(self):  \n",
    "        return super().calculate_roc_FPR_TPR_pairs()"
   ]
  },
  {
   "cell_type": "code",
   "execution_count": 24,
   "metadata": {},
   "outputs": [],
   "source": [
    "# one vs rest, macro average\n",
    "class drawn_AUNu_curve(drawn_ROC_curve):\n",
    "    def __init__(self, n_classes, device = None) -> None:\n",
    "        super().__init__(n_classes=n_classes, device=device)\n",
    "\n",
    "    # \n",
    "    @torch.inference_mode()\n",
    "    def compute(self):  \n",
    "        fprs, tprs = super().calculate_roc_FPR_TPR_pairs()\n",
    "\n",
    "        fpr_grid = np.linspace(0.0, 1.0, 1000)\n",
    "        mean_tpr = np.zeros_like(fpr_grid)\n",
    "\n",
    "        for i in range(self.n_classes):\n",
    "            mean_tpr += np.interp(fpr_grid, fprs[i], tprs[i])  # linear interpolation\n",
    "\n",
    "        mean_tpr /= self.n_classes  \n",
    "        return fpr_grid, mean_tpr"
   ]
  },
  {
   "cell_type": "code",
   "execution_count": 25,
   "metadata": {},
   "outputs": [],
   "source": [
    "# one vs rest, separate AUC for each class\n",
    "class drawn_multi_ROC_curve(drawn_ROC_curve):\n",
    "    def __init__(self, n_classes, device = None) -> None:\n",
    "        super().__init__(n_classes, device)\n",
    "\n",
    "    @torch.inference_mode()\n",
    "    def compute(self):  \n",
    "        return super().calculate_roc_FPR_TPR_pairs()"
   ]
  },
  {
   "cell_type": "markdown",
   "metadata": {},
   "source": [
    "### Probabilistic measures"
   ]
  },
  {
   "cell_type": "code",
   "execution_count": 26,
   "metadata": {},
   "outputs": [],
   "source": [
    "# predicted: PROBABILITIES\n",
    "# true: 0/1 if binary, one-hot encoded if multiclass\n",
    "class MSE(Metric[torch.Tensor]):\n",
    "    def __init__(self, num_classes, device = None) -> None:\n",
    "        super().__init__(device=device)\n",
    "        self.is_binary = num_classes == 2\n",
    "        self.n_classes = num_classes\n",
    "        self._add_state(\"true_classes\", torch.tensor([], device=self.device)) \n",
    "        self._add_state(\"predicted_probabilities\", torch.tensor([], device=self.device))\n",
    "\n",
    "    @torch.inference_mode()\n",
    "    def update(self, prediction_logits, labels):\n",
    "        true = labels.float() if self.is_binary else F.one_hot(labels, num_classes=self.n_classes).float()\n",
    "        probabilities = torch.stack(get_predicted_probabilities(prediction_logits, self.is_binary)).clone().detach()\n",
    "        \n",
    "        self.true_classes = torch.cat((self.true_classes, true))\n",
    "        self.predicted_probabilities = torch.cat((self.predicted_probabilities, probabilities))\n",
    "        return self\n",
    "\n",
    "    @torch.inference_mode()\n",
    "    def compute(self): \n",
    "        return mean_squared_error( self.predicted_probabilities, self.true_classes )\n",
    "\n",
    "    @torch.inference_mode()\n",
    "    def merge_state(self, metrics):\n",
    "        true_classes_2 = [self.true_classes, ]\n",
    "        predicted_probabilities_2 = [self.predicted_probabilities, ]\n",
    "        \n",
    "        for metric in metrics:\n",
    "            true_classes_2.append(metric.true_classes_2)\n",
    "            predicted_probabilities_2.append(metric.predicted_probabilities_2)\n",
    "            self.true_classes = torch.cat(true_classes_2)\n",
    "            self.predicted_probabilities = torch.cat(predicted_probabilities_2)\n",
    "        return self"
   ]
  },
  {
   "cell_type": "code",
   "execution_count": 27,
   "metadata": {},
   "outputs": [],
   "source": [
    "# predicted: LOGITS\n",
    "# true: NUMERICAL CLASS LABELS (0, 1, 2, 3...)\n",
    "class LogLoss(Metric[torch.Tensor]):\n",
    "    def __init__(self, num_classes, device = None) -> None:\n",
    "        super().__init__(device=device)\n",
    "        self.is_binary = num_classes == 2\n",
    "        self.n_classes = num_classes\n",
    "        self._add_state(\"true_classes\", torch.tensor([], device=self.device)) \n",
    "        self._add_state(\"predicted_logits\", torch.tensor([], device=self.device))\n",
    "\n",
    "    @torch.inference_mode()\n",
    "    def update(self, logits, numerical_labels):        \n",
    "        self.true_classes = torch.cat((self.true_classes, numerical_labels))\n",
    "        self.predicted_logits = torch.cat((self.predicted_logits, logits))\n",
    "        return self\n",
    "\n",
    "    @torch.inference_mode()\n",
    "    def compute(self): \n",
    "        if self.is_binary:\n",
    "            loss = nn.BCEWithLogitsLoss()\n",
    "            numerical_labels = self.true_classes\n",
    "        else:\n",
    "            loss = nn.CrossEntropyLoss()\n",
    "            numerical_labels = self.true_classes.type(torch.LongTensor).to(device)\n",
    "        \n",
    "        return loss(self.predicted_logits, numerical_labels)\n",
    "\n",
    "    @torch.inference_mode()\n",
    "    def merge_state(self, metrics):\n",
    "        true_classes_2 = [self.true_classes, ]\n",
    "        predicted_logits_2 = [self.predicted_logits, ]\n",
    "        \n",
    "        for metric in metrics:\n",
    "            true_classes_2.append(metric.true_classes_2)\n",
    "            predicted_logits_2.append(metric.predicted_logits_2)\n",
    "            self.true_classes = torch.cat(true_classes_2)\n",
    "            self.predicted_logits = torch.cat(predicted_logits_2)\n",
    "        return self"
   ]
  },
  {
   "cell_type": "markdown",
   "metadata": {},
   "source": [
    "### Qualitative measures using direct Matrix calculations"
   ]
  },
  {
   "cell_type": "code",
   "execution_count": 28,
   "metadata": {},
   "outputs": [],
   "source": [
    "# base class for custom metrics that use TP, TN, FP, FN values directly:\n",
    "# > multiclass Cohen's Kappa\n",
    "# > multiclass MCC\n",
    "# > macro-accuracy, micro-accuracy, accuracy per class\n",
    "\n",
    "# LOGITS\n",
    "# NUMERICAL LABELS\n",
    "class MatrixMetric(Metric[torch.Tensor]):\n",
    "    def __init__(self, num_classes, device = None) -> None:\n",
    "        super().__init__(device=device)\n",
    "        \n",
    "        self.is_binary = num_classes == 2\n",
    "        self.num_classes = num_classes\n",
    "        self._add_state(\"true_classes\", torch.tensor([], device=self.device)) \n",
    "        self._add_state(\"predicted_logits\", torch.tensor([], device=self.device))\n",
    "        \n",
    "    @torch.inference_mode()\n",
    "    def update(self, logits, numerical_labels):        \n",
    "        self.true_classes = torch.cat((self.true_classes, numerical_labels))\n",
    "        self.predicted_logits = torch.cat((self.predicted_logits, logits))\n",
    "        return self\n",
    "    \n",
    "    @torch.inference_mode()\n",
    "    def calculate_matrix(self):\n",
    "        numerical_labels_int = self.true_classes.to(torch.int64)       \n",
    "        matrix_metric = MulticlassConfusionMatrix(self.num_classes)\n",
    "        matrix_metric.update(input=self.predicted_logits, target=numerical_labels_int)\n",
    "        return matrix_metric.compute()\n",
    "    \n",
    "    @torch.inference_mode()\n",
    "    def calculate_TPs_FPs_FNs_TNs_for_class(self, matrix, class_index):\n",
    "        TP = matrix[class_index, class_index]   # one cell\n",
    "        FP = matrix[:, class_index].sum() - TP  # same column without the TP\n",
    "        FN = matrix[class_index, :].sum() - TP  # same row without the TP\n",
    "        TN = matrix.sum() - TP - FP - FN        # rest\n",
    "        return TP, FP, FN, TN\n",
    "    \n",
    "    @torch.inference_mode()\n",
    "    def calculate_TPs_FPs_FNs_TNs_for_each_class(self):\n",
    "        matrix_results = self.calculate_matrix()\n",
    "        \n",
    "        TPs, FPs, FNs, TNs = [], [], [], []\n",
    "        for i in range(self.num_classes):\n",
    "            TP, FP, FN, TN = self.calculate_TPs_FPs_FNs_TNs_for_class(matrix_results, i)\n",
    "            TPs.append(TP), FPs.append(FP), FNs.append(FN), TNs.append(TN)\n",
    "        return TPs, FPs, FNs, TNs\n",
    "    \n",
    "    # implemented in subclasses\n",
    "    @torch.inference_mode()\n",
    "    def compute(self):  \n",
    "        pass\n",
    "\n",
    "    @torch.inference_mode()\n",
    "    def merge_state(self, metrics):\n",
    "        true_classes_2 = [self.true_classes, ]\n",
    "        predicted_probabilities_2 = [self.predicted_probabilities, ]\n",
    "        \n",
    "        for metric in metrics:\n",
    "            true_classes_2.append(metric.true_classes_2)\n",
    "            predicted_probabilities_2.append(metric.predictions_2)\n",
    "            self.true_classes = torch.cat(true_classes_2)\n",
    "            self.predicted_probabilities = torch.cat(predicted_probabilities_2)\n",
    "        return self\n",
    "    "
   ]
  },
  {
   "cell_type": "code",
   "execution_count": 29,
   "metadata": {},
   "outputs": [],
   "source": [
    "class MacroAccuracy(MatrixMetric):\n",
    "    def __init__(self, num_classes, device = None) -> None:\n",
    "        super().__init__(num_classes=num_classes, device=device)\n",
    "\n",
    "    @torch.inference_mode()\n",
    "    def compute(self): \n",
    "        TPs, FPs, FNs, TNs = self.calculate_TPs_FPs_FNs_TNs_for_each_class()\n",
    "        accuracies_for_each_class = [(TP + TN) / (TP + FP + FN + TN) for TP, TN, FP, FN in zip(TPs, TNs, FPs, FNs)]\n",
    "        return sum(accuracies_for_each_class) / self.num_classes"
   ]
  },
  {
   "cell_type": "code",
   "execution_count": 30,
   "metadata": {},
   "outputs": [],
   "source": [
    "class MicroAccuracy(MatrixMetric):\n",
    "    def __init__(self, num_classes, device = None) -> None:\n",
    "        super().__init__(num_classes=num_classes, device=device)\n",
    "\n",
    "    @torch.inference_mode()\n",
    "    def compute(self): \n",
    "        TPs, FPs, FNs, TNs = self.calculate_TPs_FPs_FNs_TNs_for_each_class()      \n",
    "        total_TP = sum(TPs)\n",
    "        total_FP = sum(FPs)\n",
    "        total_FN = sum(FNs)\n",
    "        total_TN = sum(TNs)\n",
    "        return (total_TP + total_TN) / (total_TP + total_FP + total_FN + total_TN)"
   ]
  },
  {
   "cell_type": "code",
   "execution_count": 31,
   "metadata": {},
   "outputs": [],
   "source": [
    "class AccuracyPerClass(MatrixMetric):\n",
    "    def __init__(self, num_classes, device = None) -> None:\n",
    "        super().__init__(num_classes=num_classes, device=device)\n",
    "\n",
    "    @torch.inference_mode()\n",
    "    def compute(self): \n",
    "        TPs, FPs, FNs, TNs = self.calculate_TPs_FPs_FNs_TNs_for_each_class()\n",
    "        accuracies_for_each_class = [(TP + TN) / (TP + FP + FN + TN) for TP, TN, FP, FN in zip(TPs, TNs, FPs, FNs)]\n",
    "        return torch.tensor(accuracies_for_each_class).to(self.device)"
   ]
  },
  {
   "cell_type": "code",
   "execution_count": 32,
   "metadata": {},
   "outputs": [],
   "source": [
    "class MulticlassCohenKappa(MatrixMetric):\n",
    "    def __init__(self, num_classes, device = None) -> None:\n",
    "        super().__init__(num_classes=num_classes, device=device)\n",
    "\n",
    "    @torch.inference_mode()\n",
    "    def compute(self): \n",
    "        matrix = self.calculate_matrix()\n",
    "        \n",
    "        n = matrix.sum()\n",
    "        matrix_diag_sum = matrix.diag().sum()\n",
    "        matrix_cols = [matrix[:, i].sum() for i in range(self.num_classes)]\n",
    "        matrix_rows = [matrix[i, :].sum() for i in range(self.num_classes)]\n",
    "        \n",
    "        p0 = matrix_diag_sum / n\n",
    "        pe = sum([matrix_cols[i] * matrix_rows[i] for i in range(self.num_classes)]) / (n * n)\n",
    "        \n",
    "        cohens_kappa = (p0 - pe) / (1 - pe)\n",
    "        return torch.tensor(cohens_kappa).to(self.device)"
   ]
  },
  {
   "cell_type": "markdown",
   "metadata": {},
   "source": [
    "## Metric calculation verification"
   ]
  },
  {
   "cell_type": "markdown",
   "metadata": {},
   "source": [
    "Converter tests"
   ]
  },
  {
   "cell_type": "code",
   "execution_count": 33,
   "metadata": {},
   "outputs": [],
   "source": [
    "# GET_PREDICTED_CLASSES\n",
    "# mutliclass\n",
    "\n",
    "# 3 elements in batch, 4 classes with indexes 0-3\n",
    "logits = torch.tensor([[0.1, 0.2, 0.7, 0.1],\n",
    "                       [0.3, 0.4, 0.3, 0.25],\n",
    "                       [0.5, 0.3, 0.2, 0.11]])\n",
    "expected_results = [2,\n",
    "                    1,\n",
    "                    0]\n",
    "results = get_predicted_classes(logits, is_binary=False)\n",
    "assert results == expected_results\n",
    "\n",
    "# binary\n",
    "\n",
    "# 5 elements in batch, index 1 is positive class\n",
    "# threshold when used on probability: 0.5\n",
    "# threshold when used on logits: 0\n",
    "logits = torch.tensor([[-7],\n",
    "                       [-0.2],\n",
    "                       [10],\n",
    "                       [0.5],\n",
    "                       [-4]])\n",
    "expected_results = [0,\n",
    "                    0,\n",
    "                    1,\n",
    "                    1,\n",
    "                    0]\n",
    "results = get_predicted_classes(logits, is_binary=True)\n",
    "assert results == expected_results"
   ]
  },
  {
   "cell_type": "markdown",
   "metadata": {},
   "source": [
    "todo: verify converters and metrics by comparing to hand calculations"
   ]
  },
  {
   "cell_type": "markdown",
   "metadata": {},
   "source": [
    "## Metric sets"
   ]
  },
  {
   "cell_type": "markdown",
   "metadata": {},
   "source": [
    "Macro - equal weight to every class\n",
    "\n",
    "Micro - more samples -> bigger influence"
   ]
  },
  {
   "cell_type": "code",
   "execution_count": 34,
   "metadata": {},
   "outputs": [],
   "source": [
    "# Basic metric set calculated and displayed:\n",
    "# - EVERY TRAINING loop\n",
    "# - EVERY VALIDATION loop.\n",
    "# Its metrics are included in the full metric set.\n",
    "def create_basic_multiclass_metrics(num_classes):\n",
    "    return {\n",
    "                \"macro_accuracy\": MacroAccuracy(device=device, num_classes=num_classes),\n",
    "                \"macro_recall\": MulticlassRecall(device=device, average='macro', num_classes=num_classes),  \n",
    "                \"macro_precision\": MulticlassPrecision(device=device, average='macro', num_classes=num_classes),\n",
    "                \"macro_f1\": MulticlassF1Score(device=device, average='macro', num_classes=num_classes), \n",
    "                \n",
    "                \"precision_per_class\": MulticlassPrecision(device=device, average=None, num_classes=num_classes),\n",
    "                \"recall_per_class\": MulticlassRecall(device=device, average=None, num_classes=num_classes), \n",
    "            }\n",
    "    \n",
    "# Full metric set (contains basic set) calculated and displayed on:\n",
    "# - LAST VALIDATION loop\n",
    "# - TEST loop\n",
    "# This is done to reduce clutter in the output and to calculate the full metric set\n",
    "# only when the results are most useful.\n",
    "def create_full_multiclass_metrics(num_classes):\n",
    "    return { \n",
    "             \"macro_accuracy\": MacroAccuracy(device=device, num_classes=num_classes),\n",
    "             \"micro_accuracy\": MicroAccuracy(device=device, num_classes=num_classes),\n",
    "             \"accuracy_per_class\": AccuracyPerClass(device=device, num_classes=num_classes),\n",
    "            \n",
    "             \"macro_f1\": MulticlassF1Score(device=device, average='macro', num_classes=num_classes), \n",
    "             \"micro_f1\": MulticlassF1Score(device=device, average='micro'),\n",
    "             \"f1_per_class\": MulticlassF1Score(device=device, average=None, num_classes=num_classes),\n",
    "            \n",
    "             \"macro_precision\": MulticlassPrecision(device=device, average='macro', num_classes=num_classes),\n",
    "             \"micro_precision\": MulticlassPrecision(device=device, average='micro'),\n",
    "             \"precision_per_class\": MulticlassPrecision(device=device, average=None, num_classes=num_classes),\n",
    "             \n",
    "             \"macro_recall\": MulticlassRecall(device=device, average='macro', num_classes=num_classes),\n",
    "             \"micro_recall\": MulticlassRecall(device=device, average='micro'),\n",
    "             \"recall_per_class\": MulticlassRecall(device=device, average=None, num_classes=num_classes), \n",
    "             \n",
    "             \"Cohen's Kappa\": MulticlassCohenKappa(device=device, num_classes=num_classes),\n",
    "             \"MCC\": MCC(device=device, is_binary=False),\n",
    "             \n",
    "             # Probabilistic metrics\n",
    "             \"MSE\": MSE(device=device, num_classes=num_classes),\n",
    "             \"LogLoss\": LogLoss(device=device, num_classes=num_classes),\n",
    "             \n",
    "             # Rank metrics\n",
    "             \"AUNu\": ROCAUC(device=device, multiclass='ovr', average='macro'),\n",
    "             \"AUNp\": ROCAUC(device=device, multiclass='ovr', average='weighted'),\n",
    "             \"AU1u\": ROCAUC(device=device, multiclass='ovo', average='macro'),\n",
    "             \"AU1p\": ROCAUC(device=device, multiclass='ovo', average='weighted'),\n",
    "             \"ROC-AUC_per_class_vs_rest\": ROCAUC(device=device, multiclass='ovr', average=None),\n",
    "             \n",
    "             drawn_AUNu: drawn_AUNu_curve(device=device, n_classes=num_classes),\n",
    "             drawn_multi_ROC: drawn_multi_ROC_curve(device=device, n_classes=num_classes),\n",
    "             \n",
    "             # Confusion Matrix displayed last\n",
    "             \"confusion_matrix\": MulticlassConfusionMatrix(device=device, num_classes=num_classes),\n",
    "             }\n",
    "    \n",
    "# ROC-AUC using TorchEval:\n",
    "#\"AUNU\": MulticlassAUROC(device=device, average=\"macro\", num_classes=num_classes), # ONE vs REST, macro average\n",
    "#\"ROC-AUC_per_class\": MulticlassAUROC(device=device, average=None, num_classes=num_classes),    \n",
    "# Scikit was chosen because it has more averaging options and can be used to draw curves"
   ]
  },
  {
   "cell_type": "markdown",
   "metadata": {},
   "source": [
    "Binary metrics"
   ]
  },
  {
   "cell_type": "code",
   "execution_count": 35,
   "metadata": {},
   "outputs": [],
   "source": [
    "# thresholds are 0 because the outputs are logits\n",
    "def create_basic_binary_metrics():\n",
    "    return { \"accuracy\": BinaryAccuracy(device=device, threshold=0),\n",
    "             \"f1\": BinaryF1Score(device=device, threshold=0),   \n",
    "            }\n",
    "    \n",
    "def create_full_binary_metrics():\n",
    "    basic_metrics = create_basic_binary_metrics()\n",
    "    return { **basic_metrics,\n",
    "                     \n",
    "              \"precision\": BinaryPrecision(device=device, threshold=0),         \n",
    "              \"recall\": BinaryRecall(device=device, threshold=0),                     \n",
    "              \"cohen's kappa\": BinaryCohenKappa(device=device, is_binary=True),\n",
    "              \"MCC\": MCC(device=device, is_binary=True),\n",
    "              \n",
    "              # Probabilistic metrics\n",
    "               \"MSE\": MSE(device=device, num_classes=2),\n",
    "               \"LogLoss\": LogLoss(device=device, num_classes=2),\n",
    "              \n",
    "              # Rank metrics\n",
    "              \"binary_ROC-AUC\": ROCAUC(device=device, multiclass='raise', average='macro'),\n",
    "              drawn_binary_ROC: drawn_binary_ROC_curve(device=device),\n",
    "                  \n",
    "              # Confusion Matrix displayed last\n",
    "              \"confusion_matrix\": BinaryConfusionMatrix(device=device, threshold=0),\n",
    "           }\n",
    "    # PyEval:\n",
    "    #\"ROC-AUC\": BinaryAUROC(device=device)"
   ]
  },
  {
   "cell_type": "markdown",
   "metadata": {},
   "source": [
    "Note:\n",
    "\n",
    "issue https://github.com/pytorch/torcheval/pull/199 for TorchEval mentions that the warning message for MulticlassPrecision(average=None) is misleading.\n",
    "\n",
    "The warning says that both the ground truth AND predictions have n=0 for some classes, but in fact it takes only ground truth OR predictions to have n=0 for this warning to appear. So, if a model just never predicts a particular class in an epoch, this warning appears despite it not being an architectural mistake."
   ]
  },
  {
   "cell_type": "markdown",
   "metadata": {},
   "source": [
    "BCEWithLogitsLoss - turns out that it needs: outputs.squeeze(), labels.float()\n"
   ]
  },
  {
   "cell_type": "markdown",
   "metadata": {},
   "source": [
    "## Display metrics"
   ]
  },
  {
   "cell_type": "code",
   "execution_count": 36,
   "metadata": {},
   "outputs": [],
   "source": [
    "# can be binary or multiclass\n",
    "def draw_confusion_matrix(confusion_matrix, class_names, file_output=None):\n",
    "    plt.figure(figsize=(10, 10))\n",
    "    sns.heatmap(confusion_matrix, annot=True, cmap='Blues',\n",
    "                xticklabels=class_names, yticklabels=class_names,\n",
    "                cbar=True, square=True, linewidths=0, linecolor='black',\n",
    "                fmt='g')  # 'g' format ensures no scientific notation\n",
    "\n",
    "    plt.title('Confusion Matrix')\n",
    "    plt.xlabel('Predicted label')\n",
    "    plt.ylabel('True label')\n",
    "    plt.xticks(rotation=45)\n",
    "    plt.yticks(rotation=0)\n",
    "    plt.tight_layout()\n",
    "    \n",
    "    if file_output is not None:\n",
    "        plt.savefig(file_output)\n",
    "       \n",
    "    plt.show()"
   ]
  },
  {
   "cell_type": "code",
   "execution_count": 37,
   "metadata": {},
   "outputs": [],
   "source": [
    "def render_roc(ax, roc_curve, color=\"navy\", label=None):\n",
    "    fpr, tpr = roc_curve[0], roc_curve[1]\n",
    "    ax.plot(\n",
    "        fpr,\n",
    "        tpr,\n",
    "        color=color,\n",
    "        linewidth=2,\n",
    "        label=label\n",
    "    )\n",
    "\n",
    "def draw_binary_ROC_curve(ax, roc_curve):\n",
    "    ax.set_title(\"ROC curve\")\n",
    "    render_roc(ax, roc_curve)\n",
    "    \n",
    "def draw_multi_ROC_curve(ax, roc_curve, class_names):\n",
    "    ax.set_title(\"ROC curves, one vs rest\")\n",
    "    colors = plt.cm.get_cmap('tab10', len(class_names))\n",
    "    for i in range(len(class_names)):\n",
    "        render_roc(ax, (roc_curve[0][i], roc_curve[1][i]), color=colors(i), label=class_names[i])\n",
    "    ax.legend(loc='lower right')\n",
    "    \n",
    "def draw_AUNu_curve(ax, roc_curve):\n",
    "    ax.set_title(\"AU1u (one vs rest, macro average)\")\n",
    "    render_roc(ax, roc_curve)\n",
    "\n",
    "def draw_roc_curve(roc_curve, roc_type, class_names=None, file_output=None):\n",
    "    fig, ax = plt.subplots(figsize=(6,6))\n",
    "    \n",
    "    if roc_type == drawn_binary_ROC:\n",
    "        draw_binary_ROC_curve(ax, roc_curve)\n",
    "    elif roc_type == drawn_multi_ROC:\n",
    "        draw_multi_ROC_curve(ax, roc_curve, class_names)\n",
    "    elif roc_type == drawn_AUNu:\n",
    "        draw_AUNu_curve(ax, roc_curve)\n",
    "    \n",
    "    if file_output is not None:\n",
    "        plt.savefig(file_output)\n",
    "        \n",
    "    #plt.show(fig)"
   ]
  },
  {
   "cell_type": "code",
   "execution_count": 38,
   "metadata": {},
   "outputs": [],
   "source": [
    "def create_metric_dictionary(metrics, class_names): \n",
    "    metric_dict = dict()\n",
    "    for name, metric in metrics.items():             \n",
    "        if (name in drawn_ROC_list or name == 'confusion_matrix'):\n",
    "            continue\n",
    "        \n",
    "        value = metric.tolist()           \n",
    "        if isinstance(value, list):         # one number result for each class\n",
    "            metric_dict[name] = {class_names[i]: value[i] for i in range(len(value))}\n",
    "        else:                               # one number result for all classes\n",
    "            metric_dict[name] = value\n",
    "    \n",
    "    return metric_dict     "
   ]
  },
  {
   "cell_type": "code",
   "execution_count": 39,
   "metadata": {},
   "outputs": [],
   "source": [
    "def draw_metrics(metrics, class_names, output=sys.stdout):\n",
    "    for name, metric in metrics.items():        \n",
    "        if (name in drawn_ROC_list):      # print plot and if there is an output .txt report file provided, save the ROC curve as a corresponding png\n",
    "            output_png = output.name.replace('.json', f'_{name}.png') if output != sys.stdout else None\n",
    "            draw_roc_curve(metric, name, class_names, output_png)\n",
    "            continue\n",
    "        \n",
    "        if (name == 'confusion_matrix'):  # print plot and if there is an output .txt report file provided, save the confusion matrix as a corresponding png\n",
    "            output_png = output.name.replace('.json', '_confmat.png') if output != sys.stdout else None\n",
    "            value = metric.tolist()\n",
    "            draw_confusion_matrix(value, class_names, output_png)   "
   ]
  },
  {
   "cell_type": "code",
   "execution_count": 40,
   "metadata": {},
   "outputs": [],
   "source": [
    "def print_metric_dictionary(metric_dict):\n",
    "    for key, value in metric_dict.items():\n",
    "        if isinstance(value, dict):\n",
    "            print(f\"{key}:\")\n",
    "            print(\"\\t\", end=\"\")\n",
    "            for sub_key, sub_value in value.items():\n",
    "                print(f\"{sub_key}: {sub_value:.4f},\", end=\" \")\n",
    "            print(\"\")\n",
    "        else:\n",
    "            print(f\"{key}: {value:.4f}\")"
   ]
  },
  {
   "cell_type": "markdown",
   "metadata": {},
   "source": [
    "## Update and calculate metrics"
   ]
  },
  {
   "cell_type": "code",
   "execution_count": 41,
   "metadata": {},
   "outputs": [],
   "source": [
    "def reset_metrics(metrics):\n",
    "    [metric.reset() for metric in metrics.values()]\n",
    "\n",
    "# numerical labels: 0, 1, 2, 3, ...\n",
    "def update_metrics(metrics, logits, numerical_labels):\n",
    "    numerical_labels = numerical_labels.to(torch.int64)\n",
    "    [metric.update(logits, numerical_labels) for metric in metrics.values()]\n",
    "\n",
    "def compute_metrics(metrics):\n",
    "    return {name: metric.compute() for name, metric in metrics.items()}"
   ]
  },
  {
   "cell_type": "markdown",
   "metadata": {},
   "source": [
    "## Write report file"
   ]
  },
  {
   "cell_type": "code",
   "execution_count": 42,
   "metadata": {},
   "outputs": [],
   "source": [
    "# file creation order: 1.txt, 2.txt, 3.txt, ...\n",
    "def create_next_report_file_name(output_dir_path):\n",
    "    existing_files = list(output_dir_path.glob('*.json'))\n",
    "    if existing_files:\n",
    "        existing_numbers = [int(f.stem) for f in existing_files if f.stem.isdigit()]\n",
    "        next_number = max(existing_numbers) + 1\n",
    "    else:\n",
    "        next_number = 1\n",
    "    return f'{next_number}.json'"
   ]
  },
  {
   "cell_type": "code",
   "execution_count": 43,
   "metadata": {},
   "outputs": [],
   "source": [
    "def write_results_report_to_new_file(output_dir_path, experiment_info, epochs, results):\n",
    "    output_file = output_dir_path / create_next_report_file_name(output_dir_path)\n",
    "    output_dir_path.mkdir(parents=True, exist_ok=True)\n",
    "    \n",
    "    full_dict = dict()\n",
    "    full_dict.update({\n",
    "        \"model name\": experiment_info.model_name,\n",
    "        \"dataset name\": experiment_info.dataset_name,\n",
    "        \"classification type\": experiment_info.classification_type,\n",
    "        \"test set\": experiment_info.test_set,\n",
    "        \"epochs\": epochs,\n",
    "        \"metrics\": create_metric_dictionary(results, experiment_info.class_names)\n",
    "    })\n",
    "    \n",
    "    with open(output_file, 'w') as f:\n",
    "        f.write(json.dumps(full_dict, indent=4))\n",
    "        draw_metrics(results, experiment_info.class_names, output=f)"
   ]
  },
  {
   "cell_type": "code",
   "execution_count": 44,
   "metadata": {},
   "outputs": [],
   "source": [
    "class experiment_info:\n",
    "    def __init__(self, model_name, dataset_name, classification_type, test_set, class_names):\n",
    "        self.model_name = model_name\n",
    "        self.dataset_name = dataset_name\n",
    "        self.classification_type = classification_type\n",
    "        self.test_set = test_set\n",
    "        self.class_names = class_names"
   ]
  },
  {
   "cell_type": "markdown",
   "metadata": {},
   "source": [
    "# Training/Test loops - PyTorch"
   ]
  },
  {
   "cell_type": "code",
   "execution_count": 45,
   "metadata": {},
   "outputs": [],
   "source": [
    "#==================================================================================  \n",
    "# Test loop\n",
    "#==================================================================================  \n",
    "def test_loop(model, metrics, class_names, test_dl):\n",
    "    is_binary_classification = len(class_names) == 2\n",
    "    reset_metrics(metrics)\n",
    "    \n",
    "    model.eval() # evaluation mode\n",
    "    with torch.no_grad(): # do not calculate gradients\n",
    "        for inputs, labels in test_dl: # get batch (batch_size specified during DataLoader creation)\n",
    "            outputs = model(inputs)                       # forward pass\n",
    "            \n",
    "            if is_binary_classification:\n",
    "                outputs = outputs.squeeze()\n",
    "                labels = labels.float()\n",
    "            \n",
    "            update_metrics(metrics, outputs, labels)      # update metrics after batch\n",
    "    \n",
    "    computed_metrics = compute_metrics(metrics) # calculate metrics after whole epoch\n",
    "    print_metric_dictionary(create_metric_dictionary(computed_metrics, class_names))\n",
    "    draw_metrics(computed_metrics, class_names)\n",
    "    reset_metrics(metrics)\n",
    "    return computed_metrics"
   ]
  },
  {
   "cell_type": "code",
   "execution_count": 46,
   "metadata": {},
   "outputs": [],
   "source": [
    "# Training and optional validation at end of epoch\n",
    "def training_loop(model, epochs, basic_metrics, class_names, train_dl, val_dl = None, full_metrics = None):\n",
    "    is_binary_classification = len(class_names) == 2\n",
    "    \n",
    "    # PREDICTIONS: logits, LABELS: numerical\n",
    "    loss_function = nn.BCEWithLogitsLoss() if is_binary_classification else nn.CrossEntropyLoss()   \n",
    "    optimizer = optim.Adam(model.parameters(), lr=0.001)\n",
    "    \n",
    "    reset_metrics(basic_metrics)\n",
    "    \n",
    "    #==================================================================================  \n",
    "    # Training loop\n",
    "    #==================================================================================  \n",
    "    for epoch in range(epochs):\n",
    "        model.train() # training mode\n",
    "        running_loss = 0.0\n",
    "        for inputs, labels in train_dl: # get batch (batch_size specified during DataLoader creation)\n",
    "            optimizer.zero_grad()           # zero the parameter gradients\n",
    "            outputs = model(inputs)         # forward pass\n",
    "            \n",
    "            if is_binary_classification:\n",
    "                outputs = outputs.squeeze()\n",
    "                labels = labels.float()\n",
    "                     \n",
    "            loss = loss_function(outputs, labels) # calculate loss (logits, numerical labels)\n",
    "            update_metrics(basic_metrics, outputs, labels)\n",
    "            \n",
    "            loss.backward()                 # backward pass\n",
    "            optimizer.step()                # optimize weights\n",
    "            running_loss += loss.item()     # accumulate loss\n",
    "            \n",
    "        # Calculate, display and reset TRAINING loop metrics\n",
    "        print(\"TRAINING=======\") \n",
    "        print(f\"[EPOCH {epoch+1}], LOSS: {running_loss/len(train_dl)}\")   \n",
    "        computed_basic_metrics = compute_metrics(basic_metrics)\n",
    "        print_metric_dictionary(create_metric_dictionary(computed_basic_metrics, class_names))\n",
    "        reset_metrics(basic_metrics)\n",
    "        \n",
    "        #==================================================================================  \n",
    "        # VALIDATION at end of epoch if val_dl is provided\n",
    "        #================================================================================== \n",
    "        if val_dl is not None:\n",
    "            print(\"VALIDATION=======\") \n",
    "            \n",
    "            # Calculate and display FULL METRIC SET if its the LAST VALIDATION loop\n",
    "            # and the full metric set was provided\n",
    "            if epoch == epochs - 1 and full_metrics is not None:\n",
    "                test_loop(model, full_metrics, class_names, val_dl)\n",
    "            else:\n",
    "                test_loop(model, basic_metrics, class_names, val_dl)\n",
    "        \n",
    "        print(\"=====================================\")"
   ]
  },
  {
   "cell_type": "markdown",
   "metadata": {},
   "source": [
    "# Create and train GTZAN model"
   ]
  },
  {
   "cell_type": "code",
   "execution_count": 47,
   "metadata": {},
   "outputs": [],
   "source": [
    "gtzan_multi_model_name = \"model6\"\n",
    "gtzan_multi_test_set = \"test\""
   ]
  },
  {
   "cell_type": "code",
   "execution_count": 48,
   "metadata": {},
   "outputs": [],
   "source": [
    "gtzan_multi_exp_info = experiment_info(gtzan_multi_model_name,\n",
    "                                       \"GTZAN\",\n",
    "                                       \"multi\",\n",
    "                                       gtzan_multi_test_set,\n",
    "                                       gtzan_classes)"
   ]
  },
  {
   "cell_type": "code",
   "execution_count": 49,
   "metadata": {},
   "outputs": [],
   "source": [
    "GTZAN_MULTI_EPOCHS = 3\n",
    "GTZAN_MULTI_TOTAL_EPOCHS = 0"
   ]
  },
  {
   "cell_type": "code",
   "execution_count": 50,
   "metadata": {},
   "outputs": [],
   "source": [
    "model_gtzan = CNN(img_size=IMAGE_SIZE, channels=CHANNELS, num_outputs=len(gtzan_classes)).to(device) #! model to device"
   ]
  },
  {
   "cell_type": "code",
   "execution_count": 51,
   "metadata": {},
   "outputs": [],
   "source": [
    "gtzan_basic_multiclass_metrics = create_basic_multiclass_metrics(num_classes=len(gtzan_classes))\n",
    "gtzan_full_multiclass_metrics = create_full_multiclass_metrics(num_classes=len(gtzan_classes))"
   ]
  },
  {
   "cell_type": "code",
   "execution_count": 55,
   "metadata": {},
   "outputs": [
    {
     "name": "stderr",
     "output_type": "stream",
     "text": [
      "WARNING:root:tensor([[3],\n",
      "        [4],\n",
      "        [6],\n",
      "        [7],\n",
      "        [8]], device='cuda:0') classes have zero instances in both the predictions and the ground truth labels. Precision is still logged as zero.\n"
     ]
    },
    {
     "name": "stdout",
     "output_type": "stream",
     "text": [
      "TRAINING=======\n",
      "[EPOCH 1], LOSS: 1.9157264184951783\n",
      "macro_accuracy: 0.8755\n",
      "macro_recall: 0.3775\n",
      "macro_precision: 0.3658\n",
      "macro_f1: 0.3684\n",
      "precision_per_class:\n",
      "\tBlues: 0.2468, Classical: 0.5904, Country: 0.2414, Disco: 0.2308, Hip-Hop: 0.2941, Jazz: 0.2812, Metal: 0.7381, Pop: 0.4231, Reggae: 0.3708, Rock: 0.2414, \n",
      "recall_per_class:\n",
      "\tBlues: 0.2375, Classical: 0.6125, Country: 0.2625, Disco: 0.1500, Hip-Hop: 0.3750, Jazz: 0.2250, Metal: 0.7750, Pop: 0.5500, Reggae: 0.4125, Rock: 0.1750, \n",
      "VALIDATION=======\n",
      "macro_accuracy: 0.8408\n",
      "macro_recall: 0.2067\n",
      "macro_precision: 0.1261\n",
      "macro_f1: 0.1201\n",
      "precision_per_class:\n",
      "\tBlues: 0.7500, Classical: 0.2045, Country: 0.1250, Disco: 0.0000, Hip-Hop: 0.0000, Jazz: 0.1818, Metal: 0.0000, Pop: 0.0000, Reggae: 0.0000, Rock: 0.0000, \n",
      "recall_per_class:\n",
      "\tBlues: 0.3000, Classical: 0.9000, Country: 0.2000, Disco: 0.0000, Hip-Hop: 0.0000, Jazz: 0.6667, Metal: 0.0000, Pop: 0.0000, Reggae: 0.0000, Rock: 0.0000, \n",
      "=====================================\n",
      "TRAINING=======\n",
      "[EPOCH 2], LOSS: 1.4870933437347411\n",
      "macro_accuracy: 0.8970\n",
      "macro_recall: 0.4850\n",
      "macro_precision: 0.4783\n",
      "macro_f1: 0.4809\n",
      "precision_per_class:\n",
      "\tBlues: 0.3671, Classical: 0.7273, Country: 0.4557, Disco: 0.3735, Hip-Hop: 0.4146, Jazz: 0.3919, Metal: 0.7317, Pop: 0.5495, Reggae: 0.4861, Rock: 0.2857, \n",
      "recall_per_class:\n",
      "\tBlues: 0.3625, Classical: 0.8000, Country: 0.4500, Disco: 0.3875, Hip-Hop: 0.4250, Jazz: 0.3625, Metal: 0.7500, Pop: 0.6250, Reggae: 0.4375, Rock: 0.2500, \n",
      "VALIDATION=======\n",
      "macro_accuracy: 0.8959\n",
      "macro_recall: 0.4800\n",
      "macro_precision: 0.6065\n",
      "macro_f1: 0.4306\n",
      "precision_per_class:\n",
      "\tBlues: 1.0000, Classical: 0.4348, Country: 0.2500, Disco: 0.3333, Hip-Hop: 0.8571, Jazz: 0.6667, Metal: 0.4000, Pop: 0.4091, Reggae: 0.7143, Rock: 1.0000, \n",
      "recall_per_class:\n",
      "\tBlues: 0.1000, Classical: 1.0000, Country: 0.2000, Disco: 0.1000, Hip-Hop: 0.6000, Jazz: 0.4444, Metal: 0.8000, Pop: 0.9000, Reggae: 0.5556, Rock: 0.1000, \n",
      "=====================================\n"
     ]
    },
    {
     "name": "stderr",
     "output_type": "stream",
     "text": [
      "WARNING:root:tensor([[2],\n",
      "        [3],\n",
      "        [6]], device='cuda:0') classes have zero instances in both the predictions and the ground truth labels. Precision is still logged as zero.\n"
     ]
    },
    {
     "name": "stdout",
     "output_type": "stream",
     "text": [
      "TRAINING=======\n",
      "[EPOCH 3], LOSS: 1.269684453010559\n",
      "macro_accuracy: 0.9070\n",
      "macro_recall: 0.5350\n",
      "macro_precision: 0.5287\n",
      "macro_f1: 0.5288\n",
      "precision_per_class:\n",
      "\tBlues: 0.4561, Classical: 0.7647, Country: 0.4568, Disco: 0.3924, Hip-Hop: 0.4719, Jazz: 0.5319, Metal: 0.8395, Pop: 0.5294, Reggae: 0.4516, Rock: 0.3929, \n",
      "recall_per_class:\n",
      "\tBlues: 0.3250, Classical: 0.8125, Country: 0.4625, Disco: 0.3875, Hip-Hop: 0.5250, Jazz: 0.6250, Metal: 0.8500, Pop: 0.5625, Reggae: 0.5250, Rock: 0.2750, \n",
      "VALIDATION=======\n"
     ]
    },
    {
     "name": "stderr",
     "output_type": "stream",
     "text": [
      "C:\\Users\\Operator\\AppData\\Local\\Temp\\ipykernel_15516\\1215925936.py:18: UserWarning: To copy construct from a tensor, it is recommended to use sourceTensor.clone().detach() or sourceTensor.clone().detach().requires_grad_(True), rather than torch.tensor(sourceTensor).\n",
      "  return torch.tensor(cohens_kappa).to(self.device)\n",
      "C:\\Users\\Operator\\AppData\\Local\\Temp\\ipykernel_15516\\2229845795.py:17: MatplotlibDeprecationWarning: The get_cmap function was deprecated in Matplotlib 3.7 and will be removed in 3.11. Use ``matplotlib.colormaps[name]`` or ``matplotlib.colormaps.get_cmap()`` or ``pyplot.get_cmap()`` instead.\n",
      "  colors = plt.cm.get_cmap('tab10', len(class_names))\n"
     ]
    },
    {
     "name": "stdout",
     "output_type": "stream",
     "text": [
      "macro_accuracy: 0.8571\n",
      "micro_accuracy: 0.8571\n",
      "accuracy_per_class:\n",
      "\tBlues: 0.8980, Classical: 0.9286, Country: 0.8980, Disco: 0.8980, Hip-Hop: 0.8469, Jazz: 0.8673, Metal: 0.8980, Pop: 0.9388, Reggae: 0.4796, Rock: 0.9184, \n",
      "macro_f1: 0.2554\n",
      "micro_f1: 0.2857\n",
      "f1_per_class:\n",
      "\tBlues: 0.2857, Classical: 0.5882, Country: 0.0000, Disco: 0.0000, Hip-Hop: 0.2857, Jazz: 0.1333, Metal: 0.0000, Pop: 0.6667, Reggae: 0.2609, Rock: 0.3333, \n",
      "macro_precision: 0.3554\n",
      "micro_precision: 0.2857\n",
      "precision_per_class:\n",
      "\tBlues: 0.5000, Classical: 0.7143, Country: 0.0000, Disco: 0.0000, Hip-Hop: 0.2727, Jazz: 0.1667, Metal: 0.0000, Pop: 0.7500, Reggae: 0.1500, Rock: 1.0000, \n",
      "macro_recall: 0.2911\n",
      "micro_recall: 0.2857\n",
      "recall_per_class:\n",
      "\tBlues: 0.2000, Classical: 0.5000, Country: 0.0000, Disco: 0.0000, Hip-Hop: 0.3000, Jazz: 0.1111, Metal: 0.0000, Pop: 0.6000, Reggae: 1.0000, Rock: 0.2000, \n",
      "Cohen's Kappa: 0.2106\n",
      "MCC: 0.2604\n",
      "MSE: 0.0947\n",
      "LogLoss: 2.8611\n",
      "AUNu: 0.8579\n",
      "AUNp: 0.8580\n",
      "AU1u: 0.8591\n",
      "AU1p: 0.8586\n",
      "ROC-AUC_per_class_vs_rest:\n",
      "\tBlues: 0.7534, Classical: 0.9830, Country: 0.8920, Disco: 0.6443, Hip-Hop: 0.9091, Jazz: 0.7653, Metal: 0.9159, Pop: 0.9511, Reggae: 0.9338, Rock: 0.8307, \n"
     ]
    },
    {
     "data": {
      "image/png": "[encoded data removed]",
      "text/plain": [
       "<Figure size 600x600 with 1 Axes>"
      ]
     },
     "metadata": {},
     "output_type": "display_data"
    },
    {
     "data": {
      "image/png": "[encoded data removed]",
      "text/plain": [
       "<Figure size 600x600 with 1 Axes>"
      ]
     },
     "metadata": {},
     "output_type": "display_data"
    },
    {
     "data": {
      "image/png": "[encoded data removed]",
      "text/plain": [
       "<Figure size 1000x1000 with 2 Axes>"
      ]
     },
     "metadata": {},
     "output_type": "display_data"
    },
    {
     "name": "stdout",
     "output_type": "stream",
     "text": [
      "=====================================\n"
     ]
    }
   ],
   "source": [
    "training_loop(model=model_gtzan,\n",
    "              epochs=GTZAN_MULTI_EPOCHS,\n",
    "              basic_metrics=gtzan_basic_multiclass_metrics,\n",
    "              class_names=gtzan_classes,\n",
    "              train_dl=gtzan_train_dl,\n",
    "              val_dl=gtzan_val_dl,\n",
    "              full_metrics=gtzan_full_multiclass_metrics)\n",
    "\n",
    "GTZAN_MULTI_TOTAL_EPOCHS += GTZAN_MULTI_EPOCHS"
   ]
  },
  {
   "cell_type": "code",
   "execution_count": 56,
   "metadata": {},
   "outputs": [
    {
     "name": "stderr",
     "output_type": "stream",
     "text": [
      "WARNING:root:tensor([[2],\n",
      "        [3],\n",
      "        [6],\n",
      "        [9]], device='cuda:0') classes have zero instances in both the predictions and the ground truth labels. Precision is still logged as zero.\n",
      "C:\\Users\\Operator\\AppData\\Local\\Temp\\ipykernel_15516\\1215925936.py:18: UserWarning: To copy construct from a tensor, it is recommended to use sourceTensor.clone().detach() or sourceTensor.clone().detach().requires_grad_(True), rather than torch.tensor(sourceTensor).\n",
      "  return torch.tensor(cohens_kappa).to(self.device)\n",
      "C:\\Users\\Operator\\AppData\\Local\\Temp\\ipykernel_15516\\2229845795.py:17: MatplotlibDeprecationWarning: The get_cmap function was deprecated in Matplotlib 3.7 and will be removed in 3.11. Use ``matplotlib.colormaps[name]`` or ``matplotlib.colormaps.get_cmap()`` or ``pyplot.get_cmap()`` instead.\n",
      "  colors = plt.cm.get_cmap('tab10', len(class_names))\n"
     ]
    },
    {
     "name": "stdout",
     "output_type": "stream",
     "text": [
      "macro_accuracy: 0.8440\n",
      "micro_accuracy: 0.8440\n",
      "accuracy_per_class:\n",
      "\tBlues: 0.8300, Classical: 0.9200, Country: 0.9000, Disco: 0.9000, Hip-Hop: 0.8100, Jazz: 0.8400, Metal: 0.9000, Pop: 0.9200, Reggae: 0.5200, Rock: 0.9000, \n",
      "macro_f1: 0.1639\n",
      "micro_f1: 0.2200\n",
      "f1_per_class:\n",
      "\tBlues: 0.1053, Classical: 0.3333, Country: 0.0000, Disco: 0.0000, Hip-Hop: 0.2400, Jazz: 0.1111, Metal: 0.0000, Pop: 0.5556, Reggae: 0.2941, Rock: 0.0000, \n",
      "macro_precision: 0.2234\n",
      "micro_precision: 0.2200\n",
      "precision_per_class:\n",
      "\tBlues: 0.1111, Classical: 1.0000, Country: 0.0000, Disco: 0.0000, Hip-Hop: 0.2000, Jazz: 0.1250, Metal: 0.0000, Pop: 0.6250, Reggae: 0.1724, Rock: 0.0000, \n",
      "macro_recall: 0.2200\n",
      "micro_recall: 0.2200\n",
      "recall_per_class:\n",
      "\tBlues: 0.1000, Classical: 0.2000, Country: 0.0000, Disco: 0.0000, Hip-Hop: 0.3000, Jazz: 0.1000, Metal: 0.0000, Pop: 0.5000, Reggae: 1.0000, Rock: 0.0000, \n",
      "Cohen's Kappa: 0.1333\n",
      "MCC: 0.1607\n",
      "MSE: 0.1041\n",
      "LogLoss: 3.1173\n",
      "AUNu: 0.8396\n",
      "AUNp: 0.8396\n",
      "AU1u: 0.8396\n",
      "AU1p: 0.8396\n",
      "ROC-AUC_per_class_vs_rest:\n",
      "\tBlues: 0.7122, Classical: 0.9967, Country: 0.8533, Disco: 0.7500, Hip-Hop: 0.8211, Jazz: 0.6833, Metal: 0.9356, Pop: 0.9633, Reggae: 0.8622, Rock: 0.8178, \n"
     ]
    },
    {
     "data": {
      "image/png": "[encoded data removed]",
      "text/plain": [
       "<Figure size 600x600 with 1 Axes>"
      ]
     },
     "metadata": {},
     "output_type": "display_data"
    },
    {
     "data": {
      "image/png": "[encoded data removed]",
      "text/plain": [
       "<Figure size 600x600 with 1 Axes>"
      ]
     },
     "metadata": {},
     "output_type": "display_data"
    },
    {
     "data": {
      "image/png": "[encoded data removed]",
      "text/plain": [
       "<Figure size 1000x1000 with 2 Axes>"
      ]
     },
     "metadata": {},
     "output_type": "display_data"
    }
   ],
   "source": [
    "results = test_loop(model_gtzan, gtzan_full_multiclass_metrics, gtzan_classes, gtzan_test_dl)"
   ]
  },
  {
   "cell_type": "markdown",
   "metadata": {},
   "source": [
    "Different micro and macro when a class has, for example, no TP in precision TP/(TP+FP)\n",
    "\n",
    "Macro DOES count the 0, micro does not\n",
    "\n",
    "Example:\n",
    "\n",
    "(0.75+0.6+0.5714+0+0.3889+0.6154+0.75+0.7143+0.667+0.2727)/10 = 0.53297\n",
    "\n",
    "(0.75+0.6+0.5714+0.3889+0.6154+0.75+0.7143+0.667+0.2727)/9 = 0.592"
   ]
  },
  {
   "cell_type": "code",
   "execution_count": 57,
   "metadata": {},
   "outputs": [
    {
     "name": "stderr",
     "output_type": "stream",
     "text": [
      "C:\\Users\\Operator\\AppData\\Local\\Temp\\ipykernel_15516\\2229845795.py:17: MatplotlibDeprecationWarning: The get_cmap function was deprecated in Matplotlib 3.7 and will be removed in 3.11. Use ``matplotlib.colormaps[name]`` or ``matplotlib.colormaps.get_cmap()`` or ``pyplot.get_cmap()`` instead.\n",
      "  colors = plt.cm.get_cmap('tab10', len(class_names))\n"
     ]
    },
    {
     "data": {
      "image/png": "[encoded data removed]",
      "text/plain": [
       "<Figure size 600x600 with 1 Axes>"
      ]
     },
     "metadata": {},
     "output_type": "display_data"
    },
    {
     "data": {
      "image/png": "[encoded data removed]",
      "text/plain": [
       "<Figure size 600x600 with 1 Axes>"
      ]
     },
     "metadata": {},
     "output_type": "display_data"
    },
    {
     "data": {
      "image/png": "[encoded data removed]",
      "text/plain": [
       "<Figure size 1000x1000 with 2 Axes>"
      ]
     },
     "metadata": {},
     "output_type": "display_data"
    }
   ],
   "source": [
    "write_results_report_to_new_file(output_dir_path=report_output_dirs['gtzan_multi'],\n",
    "                                 experiment_info=gtzan_multi_exp_info,\n",
    "                                 epochs=GTZAN_MULTI_TOTAL_EPOCHS,\n",
    "                                 results=results)"
   ]
  },
  {
   "cell_type": "markdown",
   "metadata": {},
   "source": [
    "# Create FMA-small DataLoaders"
   ]
  },
  {
   "cell_type": "code",
   "execution_count": 39,
   "metadata": {},
   "outputs": [],
   "source": [
    "BATCH_SIZE = 32\n",
    "CHANNELS = 3"
   ]
  },
  {
   "cell_type": "code",
   "execution_count": null,
   "metadata": {},
   "outputs": [],
   "source": [
    "# With val\n",
    "fma_small_train_dl = prepare_dataloader_based_on_df(fma_small_train_df, fma_small_top_classes, BATCH_SIZE, CHANNELS)\n",
    "fma_small_val_dl = prepare_dataloader_based_on_df(fma_small_val_df, fma_small_top_classes, BATCH_SIZE, CHANNELS)\n",
    "fma_small_test_dl = prepare_dataloader_based_on_df(fma_small_test_df, fma_small_top_classes, BATCH_SIZE, CHANNELS)"
   ]
  },
  {
   "cell_type": "code",
   "execution_count": null,
   "metadata": {},
   "outputs": [],
   "source": [
    "# Without val\n",
    "fma_small_train_dl = prepare_dataloader_based_on_df(fma_small_train_df, fma_small_top_classes, BATCH_SIZE, CHANNELS)\n",
    "fma_small_test_dl = prepare_dataloader_based_on_df(fma_small_test_df, fma_small_top_classes, BATCH_SIZE, CHANNELS)"
   ]
  },
  {
   "cell_type": "markdown",
   "metadata": {},
   "source": [
    "# Create and train FMA-small model"
   ]
  },
  {
   "cell_type": "code",
   "execution_count": null,
   "metadata": {},
   "outputs": [],
   "source": [
    "fma_small_multi_model_name = \"model6\"\n",
    "fma_small_multi_test_set = \"test\""
   ]
  },
  {
   "cell_type": "code",
   "execution_count": null,
   "metadata": {},
   "outputs": [],
   "source": [
    "fma_small_multi_exp_info = experiment_info(fma_small_multi_model_name,\n",
    "                                            \"fma_small\",\n",
    "                                            \"multi\",\n",
    "                                            fma_small_multi_test_set,\n",
    "                                            fma_small_top_classes)"
   ]
  },
  {
   "cell_type": "code",
   "execution_count": 86,
   "metadata": {},
   "outputs": [],
   "source": [
    "FMA_SMALL_MULTI_EPOCHS = 1\n",
    "FMA_SMALL_MULTI_TOTAL_EPOCHS = 0"
   ]
  },
  {
   "cell_type": "code",
   "execution_count": 95,
   "metadata": {},
   "outputs": [],
   "source": [
    "model_fma_small = CNN(img_size=IMAGE_SIZE, channels=CHANNELS, num_outputs=len(fma_small_top_classes)).to(device)"
   ]
  },
  {
   "cell_type": "code",
   "execution_count": 75,
   "metadata": {},
   "outputs": [],
   "source": [
    "fma_small_basic_multiclass_metrics = create_basic_multiclass_metrics(num_classes=len(fma_small_top_classes))\n",
    "fma_small_full_multiclass_metrics = create_full_multiclass_metrics(num_classes=len(fma_small_top_classes))"
   ]
  },
  {
   "cell_type": "code",
   "execution_count": null,
   "metadata": {},
   "outputs": [],
   "source": [
    "training_loop(model=model_fma_small,\n",
    "              epochs=FMA_SMALL_MULTI_EPOCHS,\n",
    "              basic_metrics=fma_small_basic_multiclass_metrics,\n",
    "              class_names=fma_small_top_classes,\n",
    "              train_dl=fma_small_train_dl,\n",
    "              val_dl=fma_small_val_dl,\n",
    "              full_metrics=fma_small_full_multiclass_metrics)\n",
    "\n",
    "FMA_SMALL_MULTI_TOTAL_EPOCHS += FMA_SMALL_MULTI_EPOCHS"
   ]
  },
  {
   "cell_type": "code",
   "execution_count": null,
   "metadata": {},
   "outputs": [],
   "source": [
    "results_fma_small = test_loop(model_fma_small, fma_small_full_multiclass_metrics, fma_small_top_classes, fma_small_test_dl)"
   ]
  },
  {
   "cell_type": "code",
   "execution_count": null,
   "metadata": {},
   "outputs": [],
   "source": [
    "write_results_report_to_new_file(output_dir_path=report_output_dirs['fma_small_multi'],\n",
    "                                 experiment_info=fma_small_multi_exp_info,\n",
    "                                 epochs=FMA_SMALL_MULTI_TOTAL_EPOCHS,\n",
    "                                 results=results_fma_small)"
   ]
  },
  {
   "cell_type": "markdown",
   "metadata": {},
   "source": [
    "# Create FMA-medium DataLoaders"
   ]
  },
  {
   "cell_type": "markdown",
   "metadata": {},
   "source": [
    "With val"
   ]
  },
  {
   "cell_type": "code",
   "execution_count": 42,
   "metadata": {},
   "outputs": [],
   "source": [
    "BATCH_SIZE = 32\n",
    "CHANNELS = 3"
   ]
  },
  {
   "cell_type": "code",
   "execution_count": null,
   "metadata": {},
   "outputs": [],
   "source": [
    "# With val\n",
    "fma_medium_train_dl = prepare_dataloader_based_on_df(fma_medium_train_df, fma_medium_top_classes, BATCH_SIZE, CHANNELS)\n",
    "fma_medium_val_dl = prepare_dataloader_based_on_df(fma_medium_val_df, fma_medium_top_classes, BATCH_SIZE, CHANNELS)\n",
    "fma_medium_test_dl = prepare_dataloader_based_on_df(fma_medium_test_df, fma_medium_top_classes, BATCH_SIZE, CHANNELS)"
   ]
  },
  {
   "cell_type": "code",
   "execution_count": null,
   "metadata": {},
   "outputs": [],
   "source": [
    "# Without val\n",
    "fma_medium_train_dl = prepare_dataloader_based_on_df(fma_medium_train_df, fma_medium_top_classes, BATCH_SIZE, CHANNELS)\n",
    "fma_medium_test_dl = prepare_dataloader_based_on_df(fma_medium_test_df, fma_medium_top_classes, BATCH_SIZE, CHANNELS)"
   ]
  },
  {
   "cell_type": "markdown",
   "metadata": {},
   "source": [
    "# Create and train FMA-medium model"
   ]
  },
  {
   "cell_type": "code",
   "execution_count": null,
   "metadata": {},
   "outputs": [],
   "source": [
    "fma_medium_multi_model_name = \"model6\"\n",
    "fma_medium_multi_test_set = \"test\""
   ]
  },
  {
   "cell_type": "code",
   "execution_count": null,
   "metadata": {},
   "outputs": [],
   "source": [
    "fma_medium_multi_exp_info = experiment_info(fma_medium_multi_model_name,\n",
    "                                            \"fma_medium\",\n",
    "                                            \"multi\",\n",
    "                                            fma_medium_multi_test_set,\n",
    "                                            fma_medium_top_classes)"
   ]
  },
  {
   "cell_type": "code",
   "execution_count": 99,
   "metadata": {},
   "outputs": [],
   "source": [
    "FMA_MEDIUM_MULTI_EPOCHS = 5\n",
    "FMA_MEDIUM_MULTI_TOTAL_EPOCHS = 0"
   ]
  },
  {
   "cell_type": "code",
   "execution_count": 94,
   "metadata": {},
   "outputs": [],
   "source": [
    "model_fma_medium = CNN(img_size=IMAGE_SIZE, channels=CHANNELS, num_outputs=len(fma_medium_top_classes)).to(device)"
   ]
  },
  {
   "cell_type": "code",
   "execution_count": 95,
   "metadata": {},
   "outputs": [],
   "source": [
    "fma_medium_basic_multiclass_metrics = create_basic_multiclass_metrics(num_classes=len(fma_medium_top_classes))\n",
    "fma_medium_full_multiclass_metrics = create_full_multiclass_metrics(num_classes=len(fma_medium_top_classes))"
   ]
  },
  {
   "cell_type": "code",
   "execution_count": null,
   "metadata": {},
   "outputs": [],
   "source": [
    "training_loop(model=model_fma_medium,\n",
    "              epochs=FMA_MEDIUM_MULTI_EPOCHS,\n",
    "              basic_metrics=fma_medium_basic_multiclass_metrics,\n",
    "              class_names=fma_medium_top_classes,\n",
    "              train_dl=fma_medium_train_dl,\n",
    "              val_dl=fma_medium_val_dl,\n",
    "              full_metrics=fma_medium_full_multiclass_metrics)\n",
    "\n",
    "FMA_MEDIUM_MULTI_TOTAL_EPOCHS += FMA_MEDIUM_MULTI_EPOCHS"
   ]
  },
  {
   "cell_type": "code",
   "execution_count": null,
   "metadata": {},
   "outputs": [],
   "source": [
    "results_fma_medium = test_loop(model_fma_medium, fma_medium_full_multiclass_metrics, fma_medium_top_classes, fma_medium_test_dl)"
   ]
  },
  {
   "cell_type": "code",
   "execution_count": null,
   "metadata": {},
   "outputs": [],
   "source": [
    "write_results_report_to_new_file(output_dir_path=report_output_dirs['fma_medium_multi'],\n",
    "                                 experiment_info=fma_medium_multi_exp_info,\n",
    "                                 epochs=FMA_MEDIUM_MULTI_TOTAL_EPOCHS,\n",
    "                                 results=results_fma_medium)"
   ]
  },
  {
   "cell_type": "markdown",
   "metadata": {},
   "source": [
    "# Function definition for binary classification"
   ]
  },
  {
   "cell_type": "code",
   "execution_count": 36,
   "metadata": {},
   "outputs": [],
   "source": [
    "def trim_dataframe_to_binary_classification(df, class1, class2):\n",
    "    return df[(df['genre'] == class1) | (df['genre'] == class2)]"
   ]
  },
  {
   "cell_type": "markdown",
   "metadata": {},
   "source": [
    "# GTZAN binary classification"
   ]
  },
  {
   "cell_type": "markdown",
   "metadata": {},
   "source": [
    "Best classes: Classical, Pop"
   ]
  },
  {
   "cell_type": "code",
   "execution_count": null,
   "metadata": {},
   "outputs": [],
   "source": [
    "gtzan_binary_model_name = \"model6\"\n",
    "gtzan_binary_test_set = \"test\""
   ]
  },
  {
   "cell_type": "code",
   "execution_count": null,
   "metadata": {},
   "outputs": [],
   "source": [
    "GTZAN_CLASS_1 = 'Classical' # Jazz\n",
    "GTZAN_CLASS_2 = 'Metal'\n",
    "gtzan_binary_classes = [GTZAN_CLASS_1, GTZAN_CLASS_2]"
   ]
  },
  {
   "cell_type": "code",
   "execution_count": null,
   "metadata": {},
   "outputs": [],
   "source": [
    "gtzan_binary_exp_info = experiment_info(gtzan_binary_model_name,\n",
    "                                        \"gtzan\",\n",
    "                                        \"binary\",\n",
    "                                        gtzan_binary_test_set,\n",
    "                                        gtzan_binary_classes)"
   ]
  },
  {
   "cell_type": "code",
   "execution_count": 97,
   "metadata": {},
   "outputs": [],
   "source": [
    "GTZAN_BINARY_EPOCHS = 5\n",
    "GTZAN_BINARY_TOTAL_EPOCHS = 0"
   ]
  },
  {
   "cell_type": "code",
   "execution_count": 43,
   "metadata": {},
   "outputs": [],
   "source": [
    "BATCH_SIZE = 32\n",
    "CHANNELS = 3"
   ]
  },
  {
   "cell_type": "code",
   "execution_count": 45,
   "metadata": {},
   "outputs": [],
   "source": [
    "gtzan_binary_train_df = trim_dataframe_to_binary_classification(gtzan_train_df, *gtzan_binary_classes)\n",
    "gtzan_binary_val_df = trim_dataframe_to_binary_classification(gtzan_val_df,  *gtzan_binary_classes)\n",
    "gtzan_binary_test_df = trim_dataframe_to_binary_classification(gtzan_test_df,  *gtzan_binary_classes)"
   ]
  },
  {
   "cell_type": "code",
   "execution_count": null,
   "metadata": {},
   "outputs": [],
   "source": [
    "gtzan_binary_train_dl = prepare_dataloader_based_on_df(gtzan_binary_train_df, gtzan_binary_classes, BATCH_SIZE, CHANNELS)\n",
    "gtzan_binary_val_dl = prepare_dataloader_based_on_df(gtzan_binary_val_df, gtzan_binary_classes, BATCH_SIZE, CHANNELS)\n",
    "gtzan_binary_test_dl = prepare_dataloader_based_on_df(gtzan_binary_test_df, gtzan_binary_classes, BATCH_SIZE, CHANNELS)"
   ]
  },
  {
   "cell_type": "code",
   "execution_count": 47,
   "metadata": {},
   "outputs": [],
   "source": [
    "model_gtzan_binary = CNN(img_size=IMAGE_SIZE, channels=CHANNELS, num_outputs=1).to(device)"
   ]
  },
  {
   "cell_type": "code",
   "execution_count": 48,
   "metadata": {},
   "outputs": [],
   "source": [
    "basic_metrics_binary = create_basic_binary_metrics()\n",
    "full_metrics_binary = create_full_binary_metrics()"
   ]
  },
  {
   "cell_type": "code",
   "execution_count": null,
   "metadata": {},
   "outputs": [],
   "source": [
    "training_loop(model=model_gtzan_binary,\n",
    "              epochs=GTZAN_BINARY_EPOCHS,\n",
    "              basic_metrics=basic_metrics_binary,\n",
    "              class_names=gtzan_binary_classes,\n",
    "              train_dl=gtzan_binary_train_dl,\n",
    "              val_dl=gtzan_binary_val_dl,\n",
    "              full_metrics=full_metrics_binary)\n",
    "\n",
    "GTZAN_BINARY_TOTAL_EPOCHS += GTZAN_BINARY_EPOCHS"
   ]
  },
  {
   "cell_type": "code",
   "execution_count": null,
   "metadata": {},
   "outputs": [],
   "source": [
    "results_gtzan_binary = test_loop(model_gtzan_binary, full_metrics_binary, gtzan_binary_classes, gtzan_binary_test_dl)"
   ]
  },
  {
   "cell_type": "code",
   "execution_count": null,
   "metadata": {},
   "outputs": [],
   "source": [
    "write_results_report_to_new_file(output_dir_path=report_output_dirs['gtzan_binary'],\n",
    "                                 experiment_info=gtzan_binary_exp_info,\n",
    "                                 epochs=GTZAN_BINARY_TOTAL_EPOCHS,\n",
    "                                 results=results_gtzan_binary)"
   ]
  },
  {
   "cell_type": "markdown",
   "metadata": {},
   "source": [
    "# FMA-small binary classification"
   ]
  },
  {
   "cell_type": "code",
   "execution_count": null,
   "metadata": {},
   "outputs": [],
   "source": [
    "fma_small_binary_model_name = \"model6\"\n",
    "fma_small_binary_test_set = \"test\""
   ]
  },
  {
   "cell_type": "code",
   "execution_count": 58,
   "metadata": {},
   "outputs": [],
   "source": [
    "FMA_SMALL_BINARY_EPOCHS = 5\n",
    "FMA_SMALL_BINARY_TOTAL_EPOCHS = 0"
   ]
  },
  {
   "cell_type": "code",
   "execution_count": 43,
   "metadata": {},
   "outputs": [],
   "source": [
    "BATCH_SIZE = 32\n",
    "CHANNELS = 3"
   ]
  },
  {
   "cell_type": "code",
   "execution_count": 44,
   "metadata": {},
   "outputs": [],
   "source": [
    "FMA_SMALL_CLASS_1 = 'Electronic' # International\n",
    "FMA_SMALL_CLASS_2 = 'Hip-Hop'\n",
    "fma_small_binary_classes = [FMA_SMALL_CLASS_1, FMA_SMALL_CLASS_2]"
   ]
  },
  {
   "cell_type": "code",
   "execution_count": null,
   "metadata": {},
   "outputs": [],
   "source": [
    "fma_small_binary_exp_info = experiment_info(fma_small_binary_model_name,\n",
    "                                            \"fma_small\",\n",
    "                                            \"binary\",\n",
    "                                            fma_small_binary_test_set,\n",
    "                                            fma_small_binary_classes)"
   ]
  },
  {
   "cell_type": "code",
   "execution_count": null,
   "metadata": {},
   "outputs": [],
   "source": [
    "fma_small_binary_train_df = trim_dataframe_to_binary_classification(fma_small_train_df, *fma_small_binary_classes)\n",
    "fma_small_binary_val_df = trim_dataframe_to_binary_classification(fma_small_val_df,  *fma_small_binary_classes)\n",
    "fma_small_binary_test_df = trim_dataframe_to_binary_classification(fma_small_test_df,  *fma_small_binary_classes)"
   ]
  },
  {
   "cell_type": "code",
   "execution_count": 46,
   "metadata": {},
   "outputs": [],
   "source": [
    "fma_small_binary_train_dl = prepare_dataloader_based_on_df(fma_small_binary_train_df, fma_small_binary_classes, BATCH_SIZE, CHANNELS)\n",
    "fma_small_binary_val_dl = prepare_dataloader_based_on_df(fma_small_binary_val_df, fma_small_binary_classes, BATCH_SIZE, CHANNELS)\n",
    "fma_small_binary_test_dl = prepare_dataloader_based_on_df(fma_small_binary_test_df, fma_small_binary_classes, BATCH_SIZE, CHANNELS)"
   ]
  },
  {
   "cell_type": "code",
   "execution_count": 55,
   "metadata": {},
   "outputs": [],
   "source": [
    "model_fma_small_binary = CNN(img_size=IMAGE_SIZE, channels=CHANNELS, num_outputs=1).to(device)"
   ]
  },
  {
   "cell_type": "code",
   "execution_count": 48,
   "metadata": {},
   "outputs": [],
   "source": [
    "basic_metrics_binary = create_basic_binary_metrics()\n",
    "full_metrics_binary = create_full_binary_metrics()"
   ]
  },
  {
   "cell_type": "code",
   "execution_count": null,
   "metadata": {},
   "outputs": [],
   "source": [
    "training_loop(model=model_fma_small_binary,\n",
    "              epochs=FMA_SMALL_BINARY_EPOCHS,\n",
    "              basic_metrics=basic_metrics_binary,\n",
    "              class_names=fma_small_binary_classes,\n",
    "              train_dl=fma_small_binary_train_dl,\n",
    "              val_dl=fma_small_binary_val_dl,\n",
    "              full_metrics=full_metrics_binary)\n",
    "\n",
    "FMA_SMALL_BINARY_TOTAL_EPOCHS += FMA_SMALL_BINARY_EPOCHS"
   ]
  },
  {
   "cell_type": "code",
   "execution_count": null,
   "metadata": {},
   "outputs": [],
   "source": [
    "results_fma_small_binary = test_loop(model_fma_small_binary, full_metrics_binary, fma_small_binary_classes, fma_small_binary_test_dl)"
   ]
  },
  {
   "cell_type": "code",
   "execution_count": null,
   "metadata": {},
   "outputs": [],
   "source": [
    "write_results_report_to_new_file(output_dir_path=report_output_dirs['fma_small_binary'],\n",
    "                                 experiment_info=fma_small_binary_exp_info,\n",
    "                                 epochs=FMA_SMALL_BINARY_TOTAL_EPOCHS,\n",
    "                                 results=results_fma_small_binary)"
   ]
  },
  {
   "cell_type": "markdown",
   "metadata": {},
   "source": [
    "# FMA-medium binary classification"
   ]
  },
  {
   "cell_type": "code",
   "execution_count": null,
   "metadata": {},
   "outputs": [],
   "source": [
    "fma_medium_binary_model_name = \"model6\"\n",
    "fma_medium_binary_test_set = \"test\""
   ]
  },
  {
   "cell_type": "code",
   "execution_count": 54,
   "metadata": {},
   "outputs": [],
   "source": [
    "FMA_MEDIUM_BINARY_EPOCHS = 5\n",
    "FMA_MEDIUM_BINARY_TOTAL_EPOCHS = 0"
   ]
  },
  {
   "cell_type": "code",
   "execution_count": 38,
   "metadata": {},
   "outputs": [],
   "source": [
    "BATCH_SIZE = 32\n",
    "CHANNELS = 3"
   ]
  },
  {
   "cell_type": "code",
   "execution_count": 39,
   "metadata": {},
   "outputs": [],
   "source": [
    "FMA_MEDIUM_CLASS_1 = 'Electronic'\n",
    "FMA_MEDIUM_CLASS_2 = 'Rock'\n",
    "fma_medium_binary_classes = [FMA_MEDIUM_CLASS_1, FMA_MEDIUM_CLASS_2]"
   ]
  },
  {
   "cell_type": "code",
   "execution_count": null,
   "metadata": {},
   "outputs": [],
   "source": [
    "fma_medium_binary_exp_info = experiment_info(fma_medium_binary_model_name,\n",
    "                                            \"fma_medium\",\n",
    "                                            \"binary\",\n",
    "                                            fma_medium_binary_test_set,\n",
    "                                            fma_medium_binary_classes)"
   ]
  },
  {
   "cell_type": "code",
   "execution_count": 40,
   "metadata": {},
   "outputs": [],
   "source": [
    "fma_medium_binary_train_df = trim_dataframe_to_binary_classification(fma_medium_train_df, *fma_medium_binary_classes)\n",
    "fma_medium_binary_val_df = trim_dataframe_to_binary_classification(fma_medium_val_df,  *fma_medium_binary_classes)\n",
    "fma_medium_binary_test_df = trim_dataframe_to_binary_classification(fma_medium_test_df,  *fma_medium_binary_classes)"
   ]
  },
  {
   "cell_type": "code",
   "execution_count": 49,
   "metadata": {},
   "outputs": [],
   "source": [
    "fma_medium_binary_train_dl = prepare_dataloader_based_on_df(fma_medium_binary_train_df, fma_medium_binary_classes, BATCH_SIZE, CHANNELS)\n",
    "fma_medium_binary_val_dl = prepare_dataloader_based_on_df(fma_medium_binary_val_df, fma_medium_binary_classes, BATCH_SIZE, CHANNELS)\n",
    "fma_medium_binary_test_dl = prepare_dataloader_based_on_df(fma_medium_binary_test_df, fma_medium_binary_classes, BATCH_SIZE, CHANNELS)"
   ]
  },
  {
   "cell_type": "code",
   "execution_count": 50,
   "metadata": {},
   "outputs": [],
   "source": [
    "model_fma_medium_binary = CNN(img_size=IMAGE_SIZE, channels=CHANNELS, num_outputs=1).to(device)"
   ]
  },
  {
   "cell_type": "code",
   "execution_count": 51,
   "metadata": {},
   "outputs": [],
   "source": [
    "basic_metrics_binary = create_basic_binary_metrics()\n",
    "full_metrics_binary = create_full_binary_metrics()"
   ]
  },
  {
   "cell_type": "code",
   "execution_count": null,
   "metadata": {},
   "outputs": [],
   "source": [
    "training_loop(model=model_fma_medium_binary,\n",
    "              epochs=FMA_MEDIUM_BINARY_EPOCHS,\n",
    "              basic_metrics=basic_metrics_binary,\n",
    "              class_names=fma_medium_binary_classes,\n",
    "              train_dl=fma_medium_binary_train_dl,\n",
    "              val_dl=fma_medium_binary_val_dl,\n",
    "              full_metrics=full_metrics_binary)\n",
    "\n",
    "FMA_MEDIUM_BINARY_TOTAL_EPOCHS += FMA_MEDIUM_BINARY_EPOCHS"
   ]
  },
  {
   "cell_type": "code",
   "execution_count": null,
   "metadata": {},
   "outputs": [],
   "source": [
    "results_fma_medium_binary = test_loop(model_fma_medium_binary, full_metrics_binary, fma_medium_binary_classes, fma_medium_binary_test_dl)"
   ]
  },
  {
   "cell_type": "code",
   "execution_count": null,
   "metadata": {},
   "outputs": [],
   "source": [
    "write_results_report_to_new_file(output_dir_path=report_output_dirs['fma_medium_binary'],\n",
    "                                 experiment_info=fma_medium_binary_exp_info,\n",
    "                                 epochs=FMA_MEDIUM_BINARY_TOTAL_EPOCHS,\n",
    "                                 results=results_fma_medium_binary)"
   ]
  }
 ],
 "metadata": {
  "kernelspec": {
   "display_name": ".venv",
   "language": "python",
   "name": "python3"
  },
  "language_info": {
   "codemirror_mode": {
    "name": "ipython",
    "version": 3
   },
   "file_extension": ".py",
   "mimetype": "text/x-python",
   "name": "python",
   "nbconvert_exporter": "python",
   "pygments_lexer": "ipython3",
   "version": "3.12.4"
  }
 },
 "nbformat": 4,
 "nbformat_minor": 2
}
