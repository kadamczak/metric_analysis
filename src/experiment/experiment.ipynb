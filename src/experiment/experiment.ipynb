{
 "cells": [
  {
   "cell_type": "markdown",
   "id": "dc661d4d",
   "metadata": {},
   "source": [
    "# Setup"
   ]
  },
  {
   "cell_type": "code",
   "execution_count": 1,
   "id": "826e8c74",
   "metadata": {},
   "outputs": [],
   "source": [
    "import os\n",
    "import sys\n",
    "\n",
    "sys.path.append(os.path.abspath(\"../..\"))"
   ]
  },
  {
   "cell_type": "code",
   "execution_count": 2,
   "id": "53ddd253",
   "metadata": {},
   "outputs": [],
   "source": [
    "from pathlib import Path\n",
    "import pandas as pd\n",
    "import numpy as np\n",
    "import torch\n",
    "\n",
    "from sklearn.linear_model import LogisticRegression\n",
    "from sklearn.multiclass import OneVsRestClassifier\n",
    "from src.experiment.sets.metric_sets import create_full_multilabel_metrics\n",
    "\n",
    "from src.experiment.helpers.variables import report_output_dirs\n",
    "\n",
    "from src.experiment.helpers.task_type import TaskType\n",
    "from src.experiment.metric_processing.metric_calc import update_metrics_using_probabilities, compute_metrics, create_metric_dictionary\n",
    "from src.experiment.metric_processing.metric_display import print_metric_dictionary\n",
    "from src.experiment.metric_processing.metric_reports import write_results_report_to_new_file, experiment_info, fold_info\n",
    "\n",
    "from iterstrat.ml_stratifiers import MultilabelStratifiedKFold"
   ]
  },
  {
   "cell_type": "code",
   "execution_count": 4,
   "id": "d3ecaacf",
   "metadata": {},
   "outputs": [
    {
     "name": "stdout",
     "output_type": "stream",
     "text": [
      "cuda\n"
     ]
    }
   ],
   "source": [
    "device = torch.device('cuda' if torch.cuda.is_available() else 'cpu')\n",
    "print(device)"
   ]
  },
  {
   "cell_type": "code",
   "execution_count": 5,
   "id": "5d82644d",
   "metadata": {},
   "outputs": [
    {
     "name": "stdout",
     "output_type": "stream",
     "text": [
      "c:\\VisualStudioRepositories\\MUSIC_DATA\\datasets\\multilabel\\scene\n",
      "c:\\VisualStudioRepositories\\MUSIC_DATA\\datasets\\multilabel\\scene_trimmed\n"
     ]
    }
   ],
   "source": [
    "from src.experiment.helpers.variables import dataset_scene_dir\n",
    "from src.experiment.helpers.variables import dataset_scene_trimmed_dir\n",
    "print(dataset_scene_dir)\n",
    "print(dataset_scene_trimmed_dir)"
   ]
  },
  {
   "cell_type": "markdown",
   "id": "5b8b033e",
   "metadata": {},
   "source": [
    "# Preparation"
   ]
  },
  {
   "cell_type": "markdown",
   "id": "243ce96d",
   "metadata": {},
   "source": [
    "Load datasets"
   ]
  },
  {
   "cell_type": "code",
   "execution_count": 6,
   "id": "e4f32c5e",
   "metadata": {},
   "outputs": [],
   "source": [
    "X_copy = pd.read_csv(dataset_scene_trimmed_dir / 'X.csv')\n",
    "y_copy = pd.read_csv(dataset_scene_trimmed_dir / 'y.csv')"
   ]
  },
  {
   "cell_type": "code",
   "execution_count": 7,
   "id": "e8b4470c",
   "metadata": {},
   "outputs": [
    {
     "data": {
      "text/plain": [
       "WindowsPath('C:/VisualStudioRepositories/MUSIC_DATA/metric_analysis/output/multilabel_balanced')"
      ]
     },
     "execution_count": 7,
     "metadata": {},
     "output_type": "execute_result"
    }
   ],
   "source": [
    "output_dir = report_output_dirs['multilabel_balanced']\n",
    "output_dir"
   ]
  },
  {
   "cell_type": "code",
   "execution_count": 8,
   "id": "93942ffc",
   "metadata": {},
   "outputs": [
    {
     "data": {
      "text/plain": [
       "6"
      ]
     },
     "execution_count": 8,
     "metadata": {},
     "output_type": "execute_result"
    }
   ],
   "source": [
    "num_classes = y_copy.shape[1]\n",
    "num_classes"
   ]
  },
  {
   "cell_type": "code",
   "execution_count": 9,
   "id": "56ef5bd9",
   "metadata": {},
   "outputs": [
    {
     "data": {
      "text/plain": [
       "{'macro_accuracy': <src.experiment.metrics.qualitative.accuracies.MacroAccuracy at 0x22d74ba5010>,\n",
       " 'micro_accuracy': <src.experiment.metrics.qualitative.accuracies.MicroAccuracy at 0x22d1b0ba510>,\n",
       " 'accuracy_per_class': <src.experiment.metrics.qualitative.accuracies.PerClassAccuracy at 0x22d1b0bb230>,\n",
       " 'macro_precision': <src.experiment.metrics.qualitative.precisions.MacroPrecision at 0x22d1b0bb620>,\n",
       " 'micro_precision': <src.experiment.metrics.qualitative.precisions.MicroPrecision at 0x22d1b0bb770>,\n",
       " 'precision_per_class': <src.experiment.metrics.qualitative.precisions.PerClassPrecision at 0x22d1b0bba10>,\n",
       " 'macro_recall': <src.experiment.metrics.qualitative.recalls.MacroRecall at 0x22d1b0bb8c0>,\n",
       " 'micro_recall': <src.experiment.metrics.qualitative.recalls.MicroRecall at 0x22d1b0bbb60>,\n",
       " 'recall_per_class': <src.experiment.metrics.qualitative.recalls.PerClassRecall at 0x22d1b0bbcb0>,\n",
       " 'macro_f1': <src.experiment.metrics.qualitative.fscores.MacroF1 at 0x22d1b0bbe00>,\n",
       " 'micro_f1': <src.experiment.metrics.qualitative.fscores.MicroF1 at 0x22d1b254050>,\n",
       " 'f1_per_class': <src.experiment.metrics.qualitative.fscores.PerClassF1 at 0x22d1b2541a0>,\n",
       " 'MSE': <src.experiment.metrics.probabilistic.mse.MSE at 0x22d1b2542f0>,\n",
       " 'LogLoss': <src.experiment.metrics.probabilistic.logloss.LogLoss at 0x22d1b254440>,\n",
       " 'AUNU': <src.experiment.metrics.rank.rocauc.ROCAUC at 0x22d1b254590>,\n",
       " 'micro_ROC-AUC': <src.experiment.metrics.rank.rocauc.ROCAUC at 0x22d1b1d4550>,\n",
       " 'AUNP': <src.experiment.metrics.rank.rocauc.ROCAUC at 0x22d1b1d4190>,\n",
       " 'ROC-AUC_per_class_vs_rest': <src.experiment.metrics.rank.rocauc.ROCAUC at 0x22d1b0aa9e0>}"
      ]
     },
     "execution_count": 9,
     "metadata": {},
     "output_type": "execute_result"
    }
   ],
   "source": [
    "metrics = create_full_multilabel_metrics(num_classes=num_classes, device='cpu')\n",
    "metrics"
   ]
  },
  {
   "cell_type": "code",
   "execution_count": 10,
   "id": "9d963657",
   "metadata": {},
   "outputs": [
    {
     "name": "stdout",
     "output_type": "stream",
     "text": [
      "['Beach', 'Sunset', 'FallFoliage', 'Field', 'Mountain', 'Urban']\n"
     ]
    }
   ],
   "source": [
    "class_names = list(y_copy.columns)\n",
    "print(class_names)"
   ]
  },
  {
   "cell_type": "code",
   "execution_count": 11,
   "id": "21098c38",
   "metadata": {},
   "outputs": [],
   "source": [
    "repetitions = 20"
   ]
  },
  {
   "cell_type": "code",
   "execution_count": 12,
   "id": "6e5078c9",
   "metadata": {},
   "outputs": [],
   "source": [
    "X = X_copy.values\n",
    "y = y_copy.values"
   ]
  },
  {
   "cell_type": "markdown",
   "id": "2206034e",
   "metadata": {},
   "source": [
    "# Loop"
   ]
  },
  {
   "cell_type": "code",
   "execution_count": 13,
   "id": "a3c40b5a",
   "metadata": {},
   "outputs": [],
   "source": [
    "def cross_validate(X, y, mskf, metrics, class_names, output_dir, index):\n",
    "    for fold, (train_idx, test_idx) in enumerate(mskf.split(X, y)):\n",
    "        X_train, X_test = X[train_idx], X[test_idx]\n",
    "        y_train, y_test = y[train_idx], y[test_idx]\n",
    "\n",
    "        train_dist = y_train.sum(axis=0)\n",
    "        test_dist = y_test.sum(axis=0)\n",
    "        train_pct = train_dist / len(y_train) * 100\n",
    "        test_pct = test_dist / len(y_test) * 100\n",
    "        \n",
    "        fold_information = fold_info(\n",
    "            train_distribution=train_dist.tolist(),\n",
    "            test_distribution=test_dist.tolist(),\n",
    "            train_distribution_pct=train_pct.tolist(),\n",
    "            test_distribution_pct=test_pct.tolist(),\n",
    "        )\n",
    "        \n",
    "        logistic_clf = OneVsRestClassifier(LogisticRegression(max_iter=1000, solver='lbfgs'))\n",
    "        logistic_clf.fit(X_train, y_train)\n",
    "        \n",
    "        y_probas = logistic_clf.predict_proba(X_test)\n",
    "        \n",
    "        update_metrics_using_probabilities(metrics, y_probas, y_test)\n",
    "        computed_metrics = compute_metrics(metrics)\n",
    "        \n",
    "        output_dir_final = output_dir / f\"fold_{fold}\"\n",
    "        output_dir_final.mkdir(parents=True, exist_ok=True)\n",
    "        \n",
    "        exp_info = experiment_info(\n",
    "            model_name=\"Logistic Regression\",\n",
    "            dataset_name=\"scene\",\n",
    "            classification_type=TaskType.MULTILABEL,\n",
    "            class_balance=\"balanced\",\n",
    "            class_names=class_names,\n",
    "            index=index,\n",
    "            cv_fold=fold,\n",
    "        )\n",
    "        \n",
    "        write_results_report_to_new_file(\n",
    "            output_dir_path=output_dir_final,\n",
    "            results=computed_metrics,\n",
    "            fold_info=fold_information,\n",
    "            experiment_info=exp_info\n",
    "            )\n",
    "        \n",
    "        print(f\"Results written to {output_dir_final} directory.\\n\")\n"
   ]
  },
  {
   "cell_type": "code",
   "execution_count": 14,
   "id": "bf3eb618",
   "metadata": {},
   "outputs": [
    {
     "name": "stdout",
     "output_type": "stream",
     "text": [
      "Results written to C:\\VisualStudioRepositories\\MUSIC_DATA\\metric_analysis\\output\\multilabel_balanced\\scene\\0\\fold_0 directory.\n",
      "\n",
      "Results written to C:\\VisualStudioRepositories\\MUSIC_DATA\\metric_analysis\\output\\multilabel_balanced\\scene\\0\\fold_1 directory.\n",
      "\n",
      "Results written to C:\\VisualStudioRepositories\\MUSIC_DATA\\metric_analysis\\output\\multilabel_balanced\\scene\\0\\fold_2 directory.\n",
      "\n",
      "Results written to C:\\VisualStudioRepositories\\MUSIC_DATA\\metric_analysis\\output\\multilabel_balanced\\scene\\0\\fold_3 directory.\n",
      "\n",
      "Results written to C:\\VisualStudioRepositories\\MUSIC_DATA\\metric_analysis\\output\\multilabel_balanced\\scene\\0\\fold_4 directory.\n",
      "\n",
      "Results written to C:\\VisualStudioRepositories\\MUSIC_DATA\\metric_analysis\\output\\multilabel_balanced\\scene\\1\\fold_0 directory.\n",
      "\n",
      "Results written to C:\\VisualStudioRepositories\\MUSIC_DATA\\metric_analysis\\output\\multilabel_balanced\\scene\\1\\fold_1 directory.\n",
      "\n",
      "Results written to C:\\VisualStudioRepositories\\MUSIC_DATA\\metric_analysis\\output\\multilabel_balanced\\scene\\1\\fold_2 directory.\n",
      "\n",
      "Results written to C:\\VisualStudioRepositories\\MUSIC_DATA\\metric_analysis\\output\\multilabel_balanced\\scene\\1\\fold_3 directory.\n",
      "\n",
      "Results written to C:\\VisualStudioRepositories\\MUSIC_DATA\\metric_analysis\\output\\multilabel_balanced\\scene\\1\\fold_4 directory.\n",
      "\n",
      "Results written to C:\\VisualStudioRepositories\\MUSIC_DATA\\metric_analysis\\output\\multilabel_balanced\\scene\\2\\fold_0 directory.\n",
      "\n",
      "Results written to C:\\VisualStudioRepositories\\MUSIC_DATA\\metric_analysis\\output\\multilabel_balanced\\scene\\2\\fold_1 directory.\n",
      "\n",
      "Results written to C:\\VisualStudioRepositories\\MUSIC_DATA\\metric_analysis\\output\\multilabel_balanced\\scene\\2\\fold_2 directory.\n",
      "\n",
      "Results written to C:\\VisualStudioRepositories\\MUSIC_DATA\\metric_analysis\\output\\multilabel_balanced\\scene\\2\\fold_3 directory.\n",
      "\n",
      "Results written to C:\\VisualStudioRepositories\\MUSIC_DATA\\metric_analysis\\output\\multilabel_balanced\\scene\\2\\fold_4 directory.\n",
      "\n",
      "Results written to C:\\VisualStudioRepositories\\MUSIC_DATA\\metric_analysis\\output\\multilabel_balanced\\scene\\3\\fold_0 directory.\n",
      "\n",
      "Results written to C:\\VisualStudioRepositories\\MUSIC_DATA\\metric_analysis\\output\\multilabel_balanced\\scene\\3\\fold_1 directory.\n",
      "\n",
      "Results written to C:\\VisualStudioRepositories\\MUSIC_DATA\\metric_analysis\\output\\multilabel_balanced\\scene\\3\\fold_2 directory.\n",
      "\n",
      "Results written to C:\\VisualStudioRepositories\\MUSIC_DATA\\metric_analysis\\output\\multilabel_balanced\\scene\\3\\fold_3 directory.\n",
      "\n",
      "Results written to C:\\VisualStudioRepositories\\MUSIC_DATA\\metric_analysis\\output\\multilabel_balanced\\scene\\3\\fold_4 directory.\n",
      "\n",
      "Results written to C:\\VisualStudioRepositories\\MUSIC_DATA\\metric_analysis\\output\\multilabel_balanced\\scene\\4\\fold_0 directory.\n",
      "\n",
      "Results written to C:\\VisualStudioRepositories\\MUSIC_DATA\\metric_analysis\\output\\multilabel_balanced\\scene\\4\\fold_1 directory.\n",
      "\n",
      "Results written to C:\\VisualStudioRepositories\\MUSIC_DATA\\metric_analysis\\output\\multilabel_balanced\\scene\\4\\fold_2 directory.\n",
      "\n",
      "Results written to C:\\VisualStudioRepositories\\MUSIC_DATA\\metric_analysis\\output\\multilabel_balanced\\scene\\4\\fold_3 directory.\n",
      "\n",
      "Results written to C:\\VisualStudioRepositories\\MUSIC_DATA\\metric_analysis\\output\\multilabel_balanced\\scene\\4\\fold_4 directory.\n",
      "\n",
      "Results written to C:\\VisualStudioRepositories\\MUSIC_DATA\\metric_analysis\\output\\multilabel_balanced\\scene\\5\\fold_0 directory.\n",
      "\n",
      "Results written to C:\\VisualStudioRepositories\\MUSIC_DATA\\metric_analysis\\output\\multilabel_balanced\\scene\\5\\fold_1 directory.\n",
      "\n",
      "Results written to C:\\VisualStudioRepositories\\MUSIC_DATA\\metric_analysis\\output\\multilabel_balanced\\scene\\5\\fold_2 directory.\n",
      "\n",
      "Results written to C:\\VisualStudioRepositories\\MUSIC_DATA\\metric_analysis\\output\\multilabel_balanced\\scene\\5\\fold_3 directory.\n",
      "\n",
      "Results written to C:\\VisualStudioRepositories\\MUSIC_DATA\\metric_analysis\\output\\multilabel_balanced\\scene\\5\\fold_4 directory.\n",
      "\n",
      "Results written to C:\\VisualStudioRepositories\\MUSIC_DATA\\metric_analysis\\output\\multilabel_balanced\\scene\\6\\fold_0 directory.\n",
      "\n",
      "Results written to C:\\VisualStudioRepositories\\MUSIC_DATA\\metric_analysis\\output\\multilabel_balanced\\scene\\6\\fold_1 directory.\n",
      "\n",
      "Results written to C:\\VisualStudioRepositories\\MUSIC_DATA\\metric_analysis\\output\\multilabel_balanced\\scene\\6\\fold_2 directory.\n",
      "\n",
      "Results written to C:\\VisualStudioRepositories\\MUSIC_DATA\\metric_analysis\\output\\multilabel_balanced\\scene\\6\\fold_3 directory.\n",
      "\n",
      "Results written to C:\\VisualStudioRepositories\\MUSIC_DATA\\metric_analysis\\output\\multilabel_balanced\\scene\\6\\fold_4 directory.\n",
      "\n",
      "Results written to C:\\VisualStudioRepositories\\MUSIC_DATA\\metric_analysis\\output\\multilabel_balanced\\scene\\7\\fold_0 directory.\n",
      "\n",
      "Results written to C:\\VisualStudioRepositories\\MUSIC_DATA\\metric_analysis\\output\\multilabel_balanced\\scene\\7\\fold_1 directory.\n",
      "\n",
      "Results written to C:\\VisualStudioRepositories\\MUSIC_DATA\\metric_analysis\\output\\multilabel_balanced\\scene\\7\\fold_2 directory.\n",
      "\n",
      "Results written to C:\\VisualStudioRepositories\\MUSIC_DATA\\metric_analysis\\output\\multilabel_balanced\\scene\\7\\fold_3 directory.\n",
      "\n",
      "Results written to C:\\VisualStudioRepositories\\MUSIC_DATA\\metric_analysis\\output\\multilabel_balanced\\scene\\7\\fold_4 directory.\n",
      "\n",
      "Results written to C:\\VisualStudioRepositories\\MUSIC_DATA\\metric_analysis\\output\\multilabel_balanced\\scene\\8\\fold_0 directory.\n",
      "\n",
      "Results written to C:\\VisualStudioRepositories\\MUSIC_DATA\\metric_analysis\\output\\multilabel_balanced\\scene\\8\\fold_1 directory.\n",
      "\n",
      "Results written to C:\\VisualStudioRepositories\\MUSIC_DATA\\metric_analysis\\output\\multilabel_balanced\\scene\\8\\fold_2 directory.\n",
      "\n",
      "Results written to C:\\VisualStudioRepositories\\MUSIC_DATA\\metric_analysis\\output\\multilabel_balanced\\scene\\8\\fold_3 directory.\n",
      "\n",
      "Results written to C:\\VisualStudioRepositories\\MUSIC_DATA\\metric_analysis\\output\\multilabel_balanced\\scene\\8\\fold_4 directory.\n",
      "\n",
      "Results written to C:\\VisualStudioRepositories\\MUSIC_DATA\\metric_analysis\\output\\multilabel_balanced\\scene\\9\\fold_0 directory.\n",
      "\n",
      "Results written to C:\\VisualStudioRepositories\\MUSIC_DATA\\metric_analysis\\output\\multilabel_balanced\\scene\\9\\fold_1 directory.\n",
      "\n",
      "Results written to C:\\VisualStudioRepositories\\MUSIC_DATA\\metric_analysis\\output\\multilabel_balanced\\scene\\9\\fold_2 directory.\n",
      "\n",
      "Results written to C:\\VisualStudioRepositories\\MUSIC_DATA\\metric_analysis\\output\\multilabel_balanced\\scene\\9\\fold_3 directory.\n",
      "\n",
      "Results written to C:\\VisualStudioRepositories\\MUSIC_DATA\\metric_analysis\\output\\multilabel_balanced\\scene\\9\\fold_4 directory.\n",
      "\n",
      "Results written to C:\\VisualStudioRepositories\\MUSIC_DATA\\metric_analysis\\output\\multilabel_balanced\\scene\\10\\fold_0 directory.\n",
      "\n",
      "Results written to C:\\VisualStudioRepositories\\MUSIC_DATA\\metric_analysis\\output\\multilabel_balanced\\scene\\10\\fold_1 directory.\n",
      "\n",
      "Results written to C:\\VisualStudioRepositories\\MUSIC_DATA\\metric_analysis\\output\\multilabel_balanced\\scene\\10\\fold_2 directory.\n",
      "\n",
      "Results written to C:\\VisualStudioRepositories\\MUSIC_DATA\\metric_analysis\\output\\multilabel_balanced\\scene\\10\\fold_3 directory.\n",
      "\n",
      "Results written to C:\\VisualStudioRepositories\\MUSIC_DATA\\metric_analysis\\output\\multilabel_balanced\\scene\\10\\fold_4 directory.\n",
      "\n",
      "Results written to C:\\VisualStudioRepositories\\MUSIC_DATA\\metric_analysis\\output\\multilabel_balanced\\scene\\11\\fold_0 directory.\n",
      "\n",
      "Results written to C:\\VisualStudioRepositories\\MUSIC_DATA\\metric_analysis\\output\\multilabel_balanced\\scene\\11\\fold_1 directory.\n",
      "\n",
      "Results written to C:\\VisualStudioRepositories\\MUSIC_DATA\\metric_analysis\\output\\multilabel_balanced\\scene\\11\\fold_2 directory.\n",
      "\n",
      "Results written to C:\\VisualStudioRepositories\\MUSIC_DATA\\metric_analysis\\output\\multilabel_balanced\\scene\\11\\fold_3 directory.\n",
      "\n",
      "Results written to C:\\VisualStudioRepositories\\MUSIC_DATA\\metric_analysis\\output\\multilabel_balanced\\scene\\11\\fold_4 directory.\n",
      "\n",
      "Results written to C:\\VisualStudioRepositories\\MUSIC_DATA\\metric_analysis\\output\\multilabel_balanced\\scene\\12\\fold_0 directory.\n",
      "\n",
      "Results written to C:\\VisualStudioRepositories\\MUSIC_DATA\\metric_analysis\\output\\multilabel_balanced\\scene\\12\\fold_1 directory.\n",
      "\n",
      "Results written to C:\\VisualStudioRepositories\\MUSIC_DATA\\metric_analysis\\output\\multilabel_balanced\\scene\\12\\fold_2 directory.\n",
      "\n",
      "Results written to C:\\VisualStudioRepositories\\MUSIC_DATA\\metric_analysis\\output\\multilabel_balanced\\scene\\12\\fold_3 directory.\n",
      "\n",
      "Results written to C:\\VisualStudioRepositories\\MUSIC_DATA\\metric_analysis\\output\\multilabel_balanced\\scene\\12\\fold_4 directory.\n",
      "\n",
      "Results written to C:\\VisualStudioRepositories\\MUSIC_DATA\\metric_analysis\\output\\multilabel_balanced\\scene\\13\\fold_0 directory.\n",
      "\n",
      "Results written to C:\\VisualStudioRepositories\\MUSIC_DATA\\metric_analysis\\output\\multilabel_balanced\\scene\\13\\fold_1 directory.\n",
      "\n",
      "Results written to C:\\VisualStudioRepositories\\MUSIC_DATA\\metric_analysis\\output\\multilabel_balanced\\scene\\13\\fold_2 directory.\n",
      "\n",
      "Results written to C:\\VisualStudioRepositories\\MUSIC_DATA\\metric_analysis\\output\\multilabel_balanced\\scene\\13\\fold_3 directory.\n",
      "\n",
      "Results written to C:\\VisualStudioRepositories\\MUSIC_DATA\\metric_analysis\\output\\multilabel_balanced\\scene\\13\\fold_4 directory.\n",
      "\n",
      "Results written to C:\\VisualStudioRepositories\\MUSIC_DATA\\metric_analysis\\output\\multilabel_balanced\\scene\\14\\fold_0 directory.\n",
      "\n",
      "Results written to C:\\VisualStudioRepositories\\MUSIC_DATA\\metric_analysis\\output\\multilabel_balanced\\scene\\14\\fold_1 directory.\n",
      "\n",
      "Results written to C:\\VisualStudioRepositories\\MUSIC_DATA\\metric_analysis\\output\\multilabel_balanced\\scene\\14\\fold_2 directory.\n",
      "\n",
      "Results written to C:\\VisualStudioRepositories\\MUSIC_DATA\\metric_analysis\\output\\multilabel_balanced\\scene\\14\\fold_3 directory.\n",
      "\n",
      "Results written to C:\\VisualStudioRepositories\\MUSIC_DATA\\metric_analysis\\output\\multilabel_balanced\\scene\\14\\fold_4 directory.\n",
      "\n",
      "Results written to C:\\VisualStudioRepositories\\MUSIC_DATA\\metric_analysis\\output\\multilabel_balanced\\scene\\15\\fold_0 directory.\n",
      "\n",
      "Results written to C:\\VisualStudioRepositories\\MUSIC_DATA\\metric_analysis\\output\\multilabel_balanced\\scene\\15\\fold_1 directory.\n",
      "\n",
      "Results written to C:\\VisualStudioRepositories\\MUSIC_DATA\\metric_analysis\\output\\multilabel_balanced\\scene\\15\\fold_2 directory.\n",
      "\n",
      "Results written to C:\\VisualStudioRepositories\\MUSIC_DATA\\metric_analysis\\output\\multilabel_balanced\\scene\\15\\fold_3 directory.\n",
      "\n",
      "Results written to C:\\VisualStudioRepositories\\MUSIC_DATA\\metric_analysis\\output\\multilabel_balanced\\scene\\15\\fold_4 directory.\n",
      "\n",
      "Results written to C:\\VisualStudioRepositories\\MUSIC_DATA\\metric_analysis\\output\\multilabel_balanced\\scene\\16\\fold_0 directory.\n",
      "\n",
      "Results written to C:\\VisualStudioRepositories\\MUSIC_DATA\\metric_analysis\\output\\multilabel_balanced\\scene\\16\\fold_1 directory.\n",
      "\n",
      "Results written to C:\\VisualStudioRepositories\\MUSIC_DATA\\metric_analysis\\output\\multilabel_balanced\\scene\\16\\fold_2 directory.\n",
      "\n",
      "Results written to C:\\VisualStudioRepositories\\MUSIC_DATA\\metric_analysis\\output\\multilabel_balanced\\scene\\16\\fold_3 directory.\n",
      "\n",
      "Results written to C:\\VisualStudioRepositories\\MUSIC_DATA\\metric_analysis\\output\\multilabel_balanced\\scene\\16\\fold_4 directory.\n",
      "\n",
      "Results written to C:\\VisualStudioRepositories\\MUSIC_DATA\\metric_analysis\\output\\multilabel_balanced\\scene\\17\\fold_0 directory.\n",
      "\n",
      "Results written to C:\\VisualStudioRepositories\\MUSIC_DATA\\metric_analysis\\output\\multilabel_balanced\\scene\\17\\fold_1 directory.\n",
      "\n",
      "Results written to C:\\VisualStudioRepositories\\MUSIC_DATA\\metric_analysis\\output\\multilabel_balanced\\scene\\17\\fold_2 directory.\n",
      "\n",
      "Results written to C:\\VisualStudioRepositories\\MUSIC_DATA\\metric_analysis\\output\\multilabel_balanced\\scene\\17\\fold_3 directory.\n",
      "\n",
      "Results written to C:\\VisualStudioRepositories\\MUSIC_DATA\\metric_analysis\\output\\multilabel_balanced\\scene\\17\\fold_4 directory.\n",
      "\n",
      "Results written to C:\\VisualStudioRepositories\\MUSIC_DATA\\metric_analysis\\output\\multilabel_balanced\\scene\\18\\fold_0 directory.\n",
      "\n",
      "Results written to C:\\VisualStudioRepositories\\MUSIC_DATA\\metric_analysis\\output\\multilabel_balanced\\scene\\18\\fold_1 directory.\n",
      "\n",
      "Results written to C:\\VisualStudioRepositories\\MUSIC_DATA\\metric_analysis\\output\\multilabel_balanced\\scene\\18\\fold_2 directory.\n",
      "\n",
      "Results written to C:\\VisualStudioRepositories\\MUSIC_DATA\\metric_analysis\\output\\multilabel_balanced\\scene\\18\\fold_3 directory.\n",
      "\n",
      "Results written to C:\\VisualStudioRepositories\\MUSIC_DATA\\metric_analysis\\output\\multilabel_balanced\\scene\\18\\fold_4 directory.\n",
      "\n",
      "Results written to C:\\VisualStudioRepositories\\MUSIC_DATA\\metric_analysis\\output\\multilabel_balanced\\scene\\19\\fold_0 directory.\n",
      "\n",
      "Results written to C:\\VisualStudioRepositories\\MUSIC_DATA\\metric_analysis\\output\\multilabel_balanced\\scene\\19\\fold_1 directory.\n",
      "\n",
      "Results written to C:\\VisualStudioRepositories\\MUSIC_DATA\\metric_analysis\\output\\multilabel_balanced\\scene\\19\\fold_2 directory.\n",
      "\n",
      "Results written to C:\\VisualStudioRepositories\\MUSIC_DATA\\metric_analysis\\output\\multilabel_balanced\\scene\\19\\fold_3 directory.\n",
      "\n",
      "Results written to C:\\VisualStudioRepositories\\MUSIC_DATA\\metric_analysis\\output\\multilabel_balanced\\scene\\19\\fold_4 directory.\n",
      "\n"
     ]
    }
   ],
   "source": [
    "for index in range(repetitions):\n",
    "    output_dir_with_index = output_dir / \"scene\" / f\"{index}\"\n",
    "    output_dir_with_index.mkdir(parents=True, exist_ok=True)\n",
    "    \n",
    "    mskf = MultilabelStratifiedKFold(n_splits=5, shuffle=True)\n",
    "    cross_validate(X, y, mskf, metrics, class_names, output_dir_with_index, index)\n",
    "    \n",
    "    "
   ]
  }
 ],
 "metadata": {
  "kernelspec": {
   "display_name": ".venv",
   "language": "python",
   "name": "python3"
  },
  "language_info": {
   "codemirror_mode": {
    "name": "ipython",
    "version": 3
   },
   "file_extension": ".py",
   "mimetype": "text/x-python",
   "name": "python",
   "nbconvert_exporter": "python",
   "pygments_lexer": "ipython3",
   "version": "3.13.5"
  }
 },
 "nbformat": 4,
 "nbformat_minor": 5
}
