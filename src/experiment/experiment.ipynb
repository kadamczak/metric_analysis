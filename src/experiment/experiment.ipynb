{
 "cells": [
  {
   "cell_type": "markdown",
   "id": "dc661d4d",
   "metadata": {},
   "source": [
    "# Setup"
   ]
  },
  {
   "cell_type": "code",
   "execution_count": 1,
   "id": "826e8c74",
   "metadata": {},
   "outputs": [],
   "source": [
    "import os\n",
    "import sys\n",
    "\n",
    "sys.path.append(os.path.abspath(\"../..\"))"
   ]
  },
  {
   "cell_type": "code",
   "execution_count": 2,
   "id": "53ddd253",
   "metadata": {},
   "outputs": [],
   "source": [
    "from pathlib import Path\n",
    "import pandas as pd\n",
    "import numpy as np\n",
    "import torch\n",
    "\n",
    "from sklearn.linear_model import LogisticRegression\n",
    "from sklearn.multiclass import OneVsRestClassifier\n",
    "from src.experiment.sets.metric_sets import create_full_multilabel_metrics\n",
    "\n",
    "from src.experiment.helpers.variables import report_output_root_dir\n",
    "\n",
    "from src.experiment.helpers.task_type import TaskType\n",
    "from src.experiment.metric_processing.metric_calc import update_metrics_using_probabilities, compute_metrics, create_metric_dictionary\n",
    "from src.experiment.metric_processing.metric_display import print_metric_dictionary\n",
    "from src.experiment.metric_processing.metric_reports import write_results_report_to_new_file, experiment_info, fold_info\n",
    "\n",
    "from iterstrat.ml_stratifiers import MultilabelStratifiedKFold"
   ]
  },
  {
   "cell_type": "code",
   "execution_count": 3,
   "id": "d3ecaacf",
   "metadata": {},
   "outputs": [],
   "source": [
    "# device = torch.device('cuda' if torch.cuda.is_available() else 'cpu')\n",
    "# print(device)"
   ]
  },
  {
   "cell_type": "code",
   "execution_count": 3,
   "id": "5d82644d",
   "metadata": {},
   "outputs": [
    {
     "data": {
      "text/plain": [
       "WindowsPath('c:/VisualStudioRepositories/MUSIC_DATA/datasets')"
      ]
     },
     "execution_count": 3,
     "metadata": {},
     "output_type": "execute_result"
    }
   ],
   "source": [
    "from src.experiment.helpers.variables import dataset_root_dir\n",
    "dataset_root_dir"
   ]
  },
  {
   "cell_type": "code",
   "execution_count": 4,
   "id": "e8b4470c",
   "metadata": {},
   "outputs": [
    {
     "data": {
      "text/plain": [
       "WindowsPath('C:/VisualStudioRepositories/MUSIC_DATA/metric_analysis/output')"
      ]
     },
     "execution_count": 4,
     "metadata": {},
     "output_type": "execute_result"
    }
   ],
   "source": [
    "output_dir_base = report_output_root_dir\n",
    "output_dir_base"
   ]
  },
  {
   "cell_type": "markdown",
   "id": "6719f05b",
   "metadata": {},
   "source": [
    "# Settings"
   ]
  },
  {
   "cell_type": "code",
   "execution_count": 5,
   "id": "21098c38",
   "metadata": {},
   "outputs": [],
   "source": [
    "REPETITIONS = 1"
   ]
  },
  {
   "cell_type": "code",
   "execution_count": 6,
   "id": "98cb118d",
   "metadata": {},
   "outputs": [],
   "source": [
    "import pandas as pd\n",
    "from sklearn.compose import ColumnTransformer\n",
    "from sklearn.preprocessing import OneHotEncoder, StandardScaler, FunctionTransformer\n",
    "\n",
    "def get_preprocessor(X):\n",
    "    X_df = pd.DataFrame(X)\n",
    "\n",
    "    binary_cols = [col for col in X_df.columns if set(X_df[col].dropna().unique()).issubset({0, 1})]\n",
    "    categorical_cols = [col for col in X_df.select_dtypes(include='object') if col not in binary_cols]\n",
    "    numeric_cols = [col for col in X_df.select_dtypes(exclude='object') if col not in binary_cols]\n",
    "\n",
    "    preprocessor = ColumnTransformer(\n",
    "        transformers=[\n",
    "            ('binary', FunctionTransformer(validate=False), binary_cols),\n",
    "            ('cat', OneHotEncoder(handle_unknown='ignore'), categorical_cols),\n",
    "            ('num', StandardScaler(), numeric_cols),\n",
    "        ],\n",
    "        remainder='drop'\n",
    "    )\n",
    "    \n",
    "    print(f\"Preprocessor created with {len(binary_cols)} binary, {len(categorical_cols)} categorical, and {len(numeric_cols)} numeric columns.\")\n",
    "    return preprocessor\n"
   ]
  },
  {
   "cell_type": "code",
   "execution_count": 19,
   "id": "80429790",
   "metadata": {},
   "outputs": [],
   "source": [
    "from sklearn.linear_model import LogisticRegression, SGDClassifier\n",
    "from sklearn.ensemble import RandomForestClassifier, GradientBoostingClassifier\n",
    "from sklearn.tree import DecisionTreeClassifier\n",
    "from sklearn.neighbors import KNeighborsClassifier\n",
    "from sklearn.svm import SVC\n",
    "from sklearn.multioutput import MultiOutputClassifier\n",
    "from sklearn.multiclass import OneVsRestClassifier\n",
    "from sklearn.pipeline import Pipeline\n",
    "\n",
    "multilabel_models = {\n",
    "    # 'logistic_regression': lambda X: Pipeline([\n",
    "    #     ('preprocess', get_preprocessor(X)),\n",
    "    #     ('clf', OneVsRestClassifier(LogisticRegression(max_iter=1000, random_state=42, class_weight=None, n_jobs=-1)))\n",
    "    # ]),\n",
    "    'poly_svm': lambda X: Pipeline([\n",
    "        ('preprocess', get_preprocessor(X)),\n",
    "        ('clf', OneVsRestClassifier(SVC(kernel='poly', probability=True, random_state=42)))\n",
    "    ]),\n",
    "    #  'decision_tree': lambda X: Pipeline([\n",
    "    #      ('preprocess', get_preprocessor(X)),\n",
    "    #      ('clf', MultiOutputClassifier(DecisionTreeClassifier(random_state=42, class_weight=None)))\n",
    "    #  ]),\n",
    "    #  'random_forest': lambda X: Pipeline([\n",
    "    #      ('preprocess', get_preprocessor(X)),\n",
    "    #      ('clf', MultiOutputClassifier(RandomForestClassifier(random_state=42, class_weight=None, n_jobs=-1)))\n",
    "    #  ]),\n",
    "    #  'gradient_boosting': lambda X: Pipeline([\n",
    "    #      ('preprocess', get_preprocessor(X)),\n",
    "    #      ('clf', MultiOutputClassifier(GradientBoostingClassifier(random_state=42)))\n",
    "    #  ]),\n",
    "    #  'sgd_hinge': lambda X: Pipeline([\n",
    "    #     ('preprocess', get_preprocessor(X)),\n",
    "    #     ('clf', OneVsRestClassifier(SGDClassifier(loss=\"hinge\", penalty=\"l2\", random_state=42, n_jobs=-1)))\n",
    "    # ])\n",
    "    # 'knn': lambda X: Pipeline([\n",
    "    #      ('preprocess', get_preprocessor(X)),\n",
    "    #      ('clf', MultiOutputClassifier(KNeighborsClassifier(n_neighbors=5, n_jobs=-1)))\n",
    "    #  ]),\n",
    "}\n"
   ]
  },
  {
   "cell_type": "code",
   "execution_count": 10,
   "id": "45f1e048",
   "metadata": {},
   "outputs": [
    {
     "data": {
      "text/plain": [
       "{'bookmarks_balanced': {'path': WindowsPath('c:/VisualStudioRepositories/MUSIC_DATA/datasets/multilabel/bookmarks_balanced'),\n",
       "  'classification_type': 'multilabel',\n",
       "  'class_balance': 'balanced',\n",
       "  'dataset_name': 'bookmarks_balanced'},\n",
       " 'cal500_balanced': {'path': WindowsPath('c:/VisualStudioRepositories/MUSIC_DATA/datasets/multilabel/cal500_balanced'),\n",
       "  'classification_type': 'multilabel',\n",
       "  'class_balance': 'balanced',\n",
       "  'dataset_name': 'cal500_balanced'},\n",
       " 'corel16k009_balanced': {'path': WindowsPath('c:/VisualStudioRepositories/MUSIC_DATA/datasets/multilabel/corel16k009_balanced'),\n",
       "  'classification_type': 'multilabel',\n",
       "  'class_balance': 'balanced',\n",
       "  'dataset_name': 'corel16k009_balanced'},\n",
       " 'delicious_balanced': {'path': WindowsPath('c:/VisualStudioRepositories/MUSIC_DATA/datasets/multilabel/delicious_balanced'),\n",
       "  'classification_type': 'multilabel',\n",
       "  'class_balance': 'balanced',\n",
       "  'dataset_name': 'delicious_balanced'},\n",
       " 'emotions_balanced': {'path': WindowsPath('c:/VisualStudioRepositories/MUSIC_DATA/datasets/multilabel/emotions_balanced'),\n",
       "  'classification_type': 'multilabel',\n",
       "  'class_balance': 'balanced',\n",
       "  'dataset_name': 'emotions_balanced'},\n",
       " 'imdb_balanced': {'path': WindowsPath('c:/VisualStudioRepositories/MUSIC_DATA/datasets/multilabel/imdb_balanced'),\n",
       "  'classification_type': 'multilabel',\n",
       "  'class_balance': 'balanced',\n",
       "  'dataset_name': 'imdb_balanced'},\n",
       " 'mediamill_balanced': {'path': WindowsPath('c:/VisualStudioRepositories/MUSIC_DATA/datasets/multilabel/mediamill_balanced'),\n",
       "  'classification_type': 'multilabel',\n",
       "  'class_balance': 'balanced',\n",
       "  'dataset_name': 'mediamill_balanced'},\n",
       " 'ng20_balanced': {'path': WindowsPath('c:/VisualStudioRepositories/MUSIC_DATA/datasets/multilabel/ng20_balanced'),\n",
       "  'classification_type': 'multilabel',\n",
       "  'class_balance': 'balanced',\n",
       "  'dataset_name': 'ng20_balanced'},\n",
       " 'nuswidevlad_balanced': {'path': WindowsPath('c:/VisualStudioRepositories/MUSIC_DATA/datasets/multilabel/nuswidevlad_balanced'),\n",
       "  'classification_type': 'multilabel',\n",
       "  'class_balance': 'balanced',\n",
       "  'dataset_name': 'nuswidevlad_balanced'},\n",
       " 'scene_balanced': {'path': WindowsPath('c:/VisualStudioRepositories/MUSIC_DATA/datasets/multilabel/scene_balanced'),\n",
       "  'classification_type': 'multilabel',\n",
       "  'class_balance': 'balanced',\n",
       "  'dataset_name': 'scene_balanced'},\n",
       " 'tmc2007500_balanced': {'path': WindowsPath('c:/VisualStudioRepositories/MUSIC_DATA/datasets/multilabel/tmc2007500_balanced'),\n",
       "  'classification_type': 'multilabel',\n",
       "  'class_balance': 'balanced',\n",
       "  'dataset_name': 'tmc2007500_balanced'},\n",
       " 'yeast_balanced': {'path': WindowsPath('c:/VisualStudioRepositories/MUSIC_DATA/datasets/multilabel/yeast_balanced'),\n",
       "  'classification_type': 'multilabel',\n",
       "  'class_balance': 'balanced',\n",
       "  'dataset_name': 'yeast_balanced'},\n",
       " 'yelp_balanced': {'path': WindowsPath('c:/VisualStudioRepositories/MUSIC_DATA/datasets/multilabel/yelp_balanced'),\n",
       "  'classification_type': 'multilabel',\n",
       "  'class_balance': 'balanced',\n",
       "  'dataset_name': 'yelp_balanced'}}"
      ]
     },
     "execution_count": 10,
     "metadata": {},
     "output_type": "execute_result"
    }
   ],
   "source": [
    "from src.experiment.sets.multilabel_balanced_datasets import multilabel_balanced_datasets\n",
    "multilabel_balanced_datasets"
   ]
  },
  {
   "cell_type": "code",
   "execution_count": null,
   "id": "cb42f12c",
   "metadata": {},
   "outputs": [],
   "source": [
    "from src.experiment.sets.multilabel_imbalanced_datasets import multilabel_imbalanced_datasets\n",
    "multilabel_imbalanced_datasets"
   ]
  },
  {
   "cell_type": "markdown",
   "id": "2206034e",
   "metadata": {},
   "source": [
    "# Loop"
   ]
  },
  {
   "cell_type": "code",
   "execution_count": 11,
   "id": "a3c40b5a",
   "metadata": {},
   "outputs": [],
   "source": [
    "from sklearn.base import clone\n",
    "\n",
    "def cross_validation(X, y, dataset_info, class_names, mskf, metrics, output_dir, index, model, model_name):    \n",
    "    for fold, (train_idx, test_idx) in enumerate(mskf.split(X, y)):\n",
    "        X_train, X_test = X[train_idx], X[test_idx]\n",
    "        y_train, y_test = y[train_idx], y[test_idx]\n",
    "\n",
    "        train_dist = y_train.sum(axis=0)\n",
    "        test_dist = y_test.sum(axis=0)\n",
    "        train_pct = train_dist / len(y_train) * 100\n",
    "        test_pct = test_dist / len(y_test) * 100\n",
    "        \n",
    "        fold_information = fold_info(\n",
    "            train_distribution=train_dist.tolist(),\n",
    "            test_distribution=test_dist.tolist(),\n",
    "            train_distribution_pct=train_pct.tolist(),\n",
    "            test_distribution_pct=test_pct.tolist(),\n",
    "        )\n",
    "        \n",
    "        model_clone = clone(model)\n",
    "        model_clone.fit(X_train, y_train)\n",
    "        \n",
    "        probas = model_clone.predict_proba(X_test)\n",
    "        \n",
    "        if isinstance(probas, list):\n",
    "            y_probas = np.vstack([p[:, 1] for p in probas]).T # MultiOutputClassifer\n",
    "        else:\n",
    "            y_probas = probas # OneVsRestClassifier\n",
    "        \n",
    "        update_metrics_using_probabilities(metrics, y_probas, y_test)\n",
    "        computed_metrics = compute_metrics(metrics)\n",
    "        \n",
    "        output_dir_final = output_dir / f\"fold_{fold}\"\n",
    "        output_dir_final.mkdir(parents=True, exist_ok=True)\n",
    "        \n",
    "        exp_info = experiment_info(\n",
    "            model_name=model_name,\n",
    "            classification_type=dataset_info[\"classification_type\"],\n",
    "            class_balance=dataset_info[\"class_balance\"],\n",
    "            dataset_name=dataset_info[\"dataset_name\"],\n",
    "            class_names=class_names,\n",
    "            index=index,\n",
    "            cv_fold=fold,\n",
    "        )\n",
    "        \n",
    "        write_results_report_to_new_file(\n",
    "            output_dir_path=output_dir_final,\n",
    "            results=computed_metrics,\n",
    "            fold_info=fold_information,\n",
    "            experiment_info=exp_info\n",
    "            )\n",
    "        \n",
    "        print(f\"Results written to {output_dir_final} directory.\\n\")\n"
   ]
  },
  {
   "cell_type": "code",
   "execution_count": 12,
   "id": "bf3eb618",
   "metadata": {},
   "outputs": [],
   "source": [
    "def repeated_cross_validation(X, y, dataset_info, class_names, repetitions, output_dir, metrics, model, model_name):\n",
    "    for index in range(repetitions):\n",
    "        output_dir_with_index = output_dir / f\"{index}\"\n",
    "        mskf = MultilabelStratifiedKFold(n_splits=5, shuffle=True, random_state=index)\n",
    "        cross_validation(X, y, dataset_info, class_names, mskf, metrics, output_dir_with_index, index, model, model_name)\n",
    "        "
   ]
  },
  {
   "cell_type": "code",
   "execution_count": 13,
   "id": "62d8921f",
   "metadata": {},
   "outputs": [],
   "source": [
    "def perform_experiments(datasets, models, repetitions, output_dir_base):\n",
    "    for _, dataset_info in datasets.items():\n",
    "        X_df = pd.read_csv(dataset_info[\"path\"] / 'X.csv')\n",
    "        y_df = pd.read_csv(dataset_info[\"path\"] / 'y.csv')\n",
    "\n",
    "        class_names = list(y_df.columns)\n",
    "        class_no = len(class_names)\n",
    "        \n",
    "        X = X_df.to_numpy()\n",
    "        y = y_df.to_numpy()    \n",
    "        \n",
    "        output_dir = output_dir_base / dataset_info['classification_type'] / dataset_info['class_balance'] / dataset_info['dataset_name']\n",
    "        metrics = create_full_multilabel_metrics(class_no, device=\"cpu\")\n",
    "        \n",
    "        for model_name, model_fn in models.items():\n",
    "            model = model_fn(X)\n",
    "            output_dir_with_model = output_dir / model_name\n",
    "            repeated_cross_validation(X, y, dataset_info, class_names, repetitions, output_dir_with_model, metrics, model, model_name)\n",
    "    "
   ]
  },
  {
   "cell_type": "code",
   "execution_count": 20,
   "id": "0626107b",
   "metadata": {},
   "outputs": [
    {
     "name": "stdout",
     "output_type": "stream",
     "text": [
      "Preprocessor created with 2150 binary, 0 categorical, and 0 numeric columns.\n"
     ]
    },
    {
     "ename": "",
     "evalue": "",
     "output_type": "error",
     "traceback": [
      "\u001b[1;31mCannot execute code, session has been disposed. Please try restarting the Kernel."
     ]
    },
    {
     "ename": "",
     "evalue": "",
     "output_type": "error",
     "traceback": [
      "\u001b[1;31mCannot execute code, session has been disposed. Please try restarting the Kernel. \n",
      "\u001b[1;31mView Jupyter <a href='command:jupyter.viewOutput'>log</a> for further details."
     ]
    }
   ],
   "source": [
    "perform_experiments(multilabel_balanced_datasets, multilabel_models, REPETITIONS, output_dir_base)"
   ]
  },
  {
   "cell_type": "code",
   "execution_count": null,
   "id": "80efff91",
   "metadata": {},
   "outputs": [],
   "source": [
    "perform_experiments(multilabel_imbalanced_datasets, multilabel_models, REPETITIONS, output_dir_base)"
   ]
  }
 ],
 "metadata": {
  "kernelspec": {
   "display_name": ".venv",
   "language": "python",
   "name": "python3"
  },
  "language_info": {
   "codemirror_mode": {
    "name": "ipython",
    "version": 3
   },
   "file_extension": ".py",
   "mimetype": "text/x-python",
   "name": "python",
   "nbconvert_exporter": "python",
   "pygments_lexer": "ipython3",
   "version": "3.13.5"
  }
 },
 "nbformat": 4,
 "nbformat_minor": 5
}
