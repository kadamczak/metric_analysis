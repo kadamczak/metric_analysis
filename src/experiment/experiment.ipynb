{
 "cells": [
  {
   "cell_type": "markdown",
   "id": "dc661d4d",
   "metadata": {},
   "source": [
    "# Setup"
   ]
  },
  {
   "cell_type": "code",
   "execution_count": 2,
   "id": "826e8c74",
   "metadata": {},
   "outputs": [],
   "source": [
    "sys.path.append(os.path.abspath(\"../..\"))"
   ]
  },
  {
   "cell_type": "code",
   "execution_count": 4,
   "id": "53ddd253",
   "metadata": {},
   "outputs": [],
   "source": [
    "import os\n",
    "import sys\n",
    "from pathlib import Path\n",
    "import pandas as pd\n",
    "import numpy as np\n",
    "import torch\n",
    "\n",
    "from sklearn.linear_model import LogisticRegression\n",
    "from sklearn.multiclass import OneVsRestClassifier\n",
    "from src.experiment.sets.metric_sets import create_full_multilabel_metrics\n",
    "\n",
    "from src.experiment.helpers.variables import report_output_dirs\n",
    "\n",
    "from src.experiment.helpers.task_type import TaskType\n",
    "from src.experiment.metric_processing.metric_calc import update_metrics_using_probabilities, compute_metrics, create_metric_dictionary\n",
    "from src.experiment.metric_processing.metric_display import print_metric_dictionary\n",
    "from src.experiment.metric_processing.metric_reports import write_results_report_to_new_file, experiment_info, fold_info\n",
    "\n",
    "from iterstrat.ml_stratifiers import MultilabelStratifiedKFold"
   ]
  },
  {
   "cell_type": "code",
   "execution_count": 5,
   "id": "d3ecaacf",
   "metadata": {},
   "outputs": [
    {
     "name": "stdout",
     "output_type": "stream",
     "text": [
      "cuda\n"
     ]
    }
   ],
   "source": [
    "device = torch.device('cuda' if torch.cuda.is_available() else 'cpu')\n",
    "print(device)"
   ]
  },
  {
   "cell_type": "code",
   "execution_count": 6,
   "id": "5d82644d",
   "metadata": {},
   "outputs": [
    {
     "name": "stdout",
     "output_type": "stream",
     "text": [
      "c:\\VisualStudioRepositories\\MUSIC_DATA\\datasets\\multilabel\\scene\n",
      "c:\\VisualStudioRepositories\\MUSIC_DATA\\datasets\\multilabel\\scene_trimmed\n"
     ]
    }
   ],
   "source": [
    "from src.experiment.helpers.variables import dataset_scene_dir\n",
    "from src.experiment.helpers.variables import dataset_scene_trimmed_dir\n",
    "print(dataset_scene_dir)\n",
    "print(dataset_scene_trimmed_dir)"
   ]
  },
  {
   "cell_type": "markdown",
   "id": "5b8b033e",
   "metadata": {},
   "source": [
    "# Preparation"
   ]
  },
  {
   "cell_type": "code",
   "execution_count": 7,
   "id": "e4f32c5e",
   "metadata": {},
   "outputs": [],
   "source": [
    "X_copy = pd.read_csv(dataset_scene_trimmed_dir / 'X.csv')\n",
    "y_copy = pd.read_csv(dataset_scene_trimmed_dir / 'y.csv')"
   ]
  },
  {
   "cell_type": "code",
   "execution_count": 8,
   "id": "e8b4470c",
   "metadata": {},
   "outputs": [
    {
     "data": {
      "text/plain": [
       "WindowsPath('C:/VisualStudioRepositories/MUSIC_DATA/metric_analysis/output/multilabel_balanced')"
      ]
     },
     "execution_count": 8,
     "metadata": {},
     "output_type": "execute_result"
    }
   ],
   "source": [
    "output_dir = report_output_dirs['multilabel_balanced']\n",
    "output_dir"
   ]
  },
  {
   "cell_type": "code",
   "execution_count": 9,
   "id": "93942ffc",
   "metadata": {},
   "outputs": [
    {
     "data": {
      "text/plain": [
       "6"
      ]
     },
     "execution_count": 9,
     "metadata": {},
     "output_type": "execute_result"
    }
   ],
   "source": [
    "num_classes = y_copy.shape[1]\n",
    "num_classes"
   ]
  },
  {
   "cell_type": "code",
   "execution_count": 10,
   "id": "56ef5bd9",
   "metadata": {},
   "outputs": [
    {
     "data": {
      "text/plain": [
       "{'macro_accuracy': <src.experiment.metrics.qualitative.accuracies.MacroAccuracy at 0x16d94286cf0>,\n",
       " 'micro_accuracy': <src.experiment.metrics.qualitative.accuracies.MicroAccuracy at 0x16d94287a10>,\n",
       " 'accuracy_per_class': <src.experiment.metrics.qualitative.accuracies.PerClassAccuracy at 0x16d94287b60>,\n",
       " 'macro_precision': <src.experiment.metrics.qualitative.precisions.MacroPrecision at 0x16d9443c050>,\n",
       " 'micro_precision': <src.experiment.metrics.qualitative.precisions.MicroPrecision at 0x16d9443c1a0>,\n",
       " 'precision_per_class': <src.experiment.metrics.qualitative.precisions.PerClassPrecision at 0x16d9443c2f0>,\n",
       " 'macro_recall': <src.experiment.metrics.qualitative.recalls.MacroRecall at 0x16d9443c440>,\n",
       " 'micro_recall': <src.experiment.metrics.qualitative.recalls.MicroRecall at 0x16d9443c590>,\n",
       " 'recall_per_class': <src.experiment.metrics.qualitative.recalls.PerClassRecall at 0x16d9443c6e0>,\n",
       " 'macro_f1': <src.experiment.metrics.qualitative.fscores.MacroF1 at 0x16d9443c830>,\n",
       " 'micro_f1': <src.experiment.metrics.qualitative.fscores.MicroF1 at 0x16d9443c980>,\n",
       " 'f1_per_class': <src.experiment.metrics.qualitative.fscores.PerClassF1 at 0x16d9443cad0>,\n",
       " 'MSE': <src.experiment.metrics.probabilistic.mse.MSE at 0x16d9443cc20>,\n",
       " 'LogLoss': <src.experiment.metrics.probabilistic.logloss.LogLoss at 0x16d9443cd70>,\n",
       " 'AUNU': <src.experiment.metrics.rank.rocauc.ROCAUC at 0x16d9443cec0>,\n",
       " 'micro_ROC-AUC': <src.experiment.metrics.rank.rocauc.ROCAUC at 0x16d94328e10>,\n",
       " 'AUNP': <src.experiment.metrics.rank.rocauc.ROCAUC at 0x16d94328a50>,\n",
       " 'ROC-AUC_per_class_vs_rest': <src.experiment.metrics.rank.rocauc.ROCAUC at 0x16d9429ec40>}"
      ]
     },
     "execution_count": 10,
     "metadata": {},
     "output_type": "execute_result"
    }
   ],
   "source": [
    "metrics = create_full_multilabel_metrics(num_classes=num_classes, device='cpu')\n",
    "metrics"
   ]
  },
  {
   "cell_type": "code",
   "execution_count": 11,
   "id": "9d963657",
   "metadata": {},
   "outputs": [
    {
     "name": "stdout",
     "output_type": "stream",
     "text": [
      "['Beach', 'Sunset', 'FallFoliage', 'Field', 'Mountain', 'Urban']\n"
     ]
    }
   ],
   "source": [
    "class_names = list(y_copy.columns)\n",
    "print(class_names)"
   ]
  },
  {
   "cell_type": "code",
   "execution_count": 15,
   "id": "21098c38",
   "metadata": {},
   "outputs": [
    {
     "data": {
      "text/plain": [
       "WindowsPath('C:/VisualStudioRepositories/MUSIC_DATA/metric_analysis/output/multilabel_balanced/scene/1')"
      ]
     },
     "execution_count": 15,
     "metadata": {},
     "output_type": "execute_result"
    }
   ],
   "source": [
    "index = 1\n",
    "output_dir_2 = output_dir / \"scene\" / f\"{index}\"\n",
    "output_dir_2"
   ]
  },
  {
   "cell_type": "code",
   "execution_count": 16,
   "id": "860c098e",
   "metadata": {},
   "outputs": [],
   "source": [
    "output_dir_2.mkdir(parents=True, exist_ok=True)"
   ]
  },
  {
   "cell_type": "markdown",
   "id": "2206034e",
   "metadata": {},
   "source": [
    "# Loop"
   ]
  },
  {
   "cell_type": "code",
   "execution_count": 17,
   "id": "e13493e9",
   "metadata": {},
   "outputs": [
    {
     "name": "stdout",
     "output_type": "stream",
     "text": [
      "Fold 0:\n",
      "Train label distribution: [333 291 315 335 327 345]\n",
      "Test label distribution:  [84 73 78 84 82 86]\n",
      "Train label percentages:   [18.22 15.92 17.23 18.33 17.89 18.87]\n",
      "Test label percentages:    [18.46 16.04 17.14 18.46 18.02 18.9 ]\n",
      "\n",
      "Fold 0 model trained.\n",
      "\n",
      "RESULTS:\n",
      "macro_accuracy: 0.9017\n",
      "micro_accuracy: 0.9017\n",
      "accuracy_per_class:\n",
      "\tBeach: 0.8897, Sunset: 0.9591, FallFoliage: 0.9116, Field: 0.9405, Mountain: 0.8448, Urban: 0.8645, \n",
      "macro_precision: 0.7674\n",
      "micro_precision: 0.7740\n",
      "precision_per_class:\n",
      "\tBeach: 0.7398, Sunset: 0.9333, FallFoliage: 0.7759, Field: 0.8696, Mountain: 0.6078, Urban: 0.6780, \n",
      "macro_recall: 0.6349\n",
      "micro_recall: 0.6312\n",
      "recall_per_class:\n",
      "\tBeach: 0.6128, Sunset: 0.8009, FallFoliage: 0.6837, Field: 0.7952, Mountain: 0.3788, Urban: 0.5377, \n",
      "macro_f1: 0.6928\n",
      "micro_f1: 0.6953\n",
      "f1_per_class:\n",
      "\tBeach: 0.6703, Sunset: 0.8621, FallFoliage: 0.7269, Field: 0.8307, Mountain: 0.4668, Urban: 0.5998, \n",
      "MSE: 0.0705\n",
      "LogLoss: 0.2345\n",
      "AUNU: 0.9264\n",
      "micro_ROC-AUC: 0.9349\n",
      "AUNP: 0.9251\n",
      "ROC-AUC_per_class_vs_rest:\n",
      "\tBeach: 0.9245, Sunset: 0.9831, FallFoliage: 0.9494, Field: 0.9637, Mountain: 0.8432, Urban: 0.8948, \n",
      "Results written to C:\\VisualStudioRepositories\\MUSIC_DATA\\metric_analysis\\output\\multilabel_balanced\\scene\\1\\fold_0\n",
      "\n",
      "Fold 1:\n",
      "Train label distribution: [334 291 314 335 328 345]\n",
      "Test label distribution:  [83 73 79 84 81 86]\n",
      "Train label percentages:   [18.34 15.98 17.24 18.4  18.01 18.95]\n",
      "Test label percentages:    [17.97 15.8  17.1  18.18 17.53 18.61]\n",
      "\n",
      "Fold 1 model trained.\n",
      "\n",
      "RESULTS:\n",
      "macro_accuracy: 0.9013\n",
      "micro_accuracy: 0.9013\n",
      "accuracy_per_class:\n",
      "\tBeach: 0.8900, Sunset: 0.9591, FallFoliage: 0.9128, Field: 0.9409, Mountain: 0.8431, Urban: 0.8619, \n",
      "macro_precision: 0.7651\n",
      "micro_precision: 0.7724\n",
      "precision_per_class:\n",
      "\tBeach: 0.7387, Sunset: 0.9317, FallFoliage: 0.7817, Field: 0.8699, Mountain: 0.5983, Urban: 0.6702, \n",
      "macro_recall: 0.6326\n",
      "micro_recall: 0.6289\n",
      "recall_per_class:\n",
      "\tBeach: 0.6147, Sunset: 0.8020, FallFoliage: 0.6836, Field: 0.7973, Mountain: 0.3724, Urban: 0.5257, \n",
      "macro_f1: 0.6904\n",
      "micro_f1: 0.6933\n",
      "f1_per_class:\n",
      "\tBeach: 0.6710, Sunset: 0.8620, FallFoliage: 0.7294, Field: 0.8320, Mountain: 0.4591, Urban: 0.5892, \n",
      "MSE: 0.0707\n",
      "LogLoss: 0.2354\n",
      "AUNU: 0.9254\n",
      "micro_ROC-AUC: 0.9343\n",
      "AUNP: 0.9240\n",
      "ROC-AUC_per_class_vs_rest:\n",
      "\tBeach: 0.9259, Sunset: 0.9824, FallFoliage: 0.9497, Field: 0.9636, Mountain: 0.8384, Urban: 0.8922, \n",
      "Results written to C:\\VisualStudioRepositories\\MUSIC_DATA\\metric_analysis\\output\\multilabel_balanced\\scene\\1\\fold_1\n",
      "\n",
      "Fold 2:\n",
      "Train label distribution: [334 291 314 335 327 345]\n",
      "Test label distribution:  [83 73 79 84 82 86]\n",
      "Train label percentages:   [18.29 15.94 17.2  18.35 17.91 18.89]\n",
      "Test label percentages:    [18.16 15.97 17.29 18.38 17.94 18.82]\n",
      "\n",
      "Fold 2 model trained.\n",
      "\n",
      "RESULTS:\n",
      "macro_accuracy: 0.9014\n",
      "micro_accuracy: 0.9014\n",
      "accuracy_per_class:\n",
      "\tBeach: 0.8901, Sunset: 0.9604, FallFoliage: 0.9100, Field: 0.9415, Mountain: 0.8436, Urban: 0.8627, \n",
      "macro_precision: 0.7667\n",
      "micro_precision: 0.7749\n",
      "precision_per_class:\n",
      "\tBeach: 0.7396, Sunset: 0.9311, FallFoliage: 0.7778, Field: 0.8740, Mountain: 0.6025, Urban: 0.6754, \n",
      "macro_recall: 0.6298\n",
      "micro_recall: 0.6260\n",
      "recall_per_class:\n",
      "\tBeach: 0.6132, Sunset: 0.8113, FallFoliage: 0.6677, Field: 0.7958, Mountain: 0.3685, Urban: 0.5225, \n",
      "macro_f1: 0.6893\n",
      "micro_f1: 0.6925\n",
      "f1_per_class:\n",
      "\tBeach: 0.6705, Sunset: 0.8671, FallFoliage: 0.7186, Field: 0.8331, Mountain: 0.4573, Urban: 0.5892, \n",
      "MSE: 0.0706\n",
      "LogLoss: 0.2342\n",
      "AUNU: 0.9254\n",
      "micro_ROC-AUC: 0.9345\n",
      "AUNP: 0.9240\n",
      "ROC-AUC_per_class_vs_rest:\n",
      "\tBeach: 0.9258, Sunset: 0.9839, FallFoliage: 0.9490, Field: 0.9650, Mountain: 0.8389, Urban: 0.8899, \n",
      "Results written to C:\\VisualStudioRepositories\\MUSIC_DATA\\metric_analysis\\output\\multilabel_balanced\\scene\\1\\fold_2\n",
      "\n",
      "Fold 3:\n",
      "Train label distribution: [334 291 315 335 327 345]\n",
      "Test label distribution:  [83 73 78 84 82 86]\n",
      "Train label percentages:   [18.28 15.93 17.24 18.34 17.9  18.88]\n",
      "Test label percentages:    [18.2  16.01 17.11 18.42 17.98 18.86]\n",
      "\n",
      "Fold 3 model trained.\n",
      "\n",
      "RESULTS:\n",
      "macro_accuracy: 0.9019\n",
      "micro_accuracy: 0.9019\n",
      "accuracy_per_class:\n",
      "\tBeach: 0.8903, Sunset: 0.9594, FallFoliage: 0.9120, Field: 0.9407, Mountain: 0.8456, Urban: 0.8631, \n",
      "macro_precision: 0.7680\n",
      "micro_precision: 0.7749\n",
      "precision_per_class:\n",
      "\tBeach: 0.7392, Sunset: 0.9297, FallFoliage: 0.7833, Field: 0.8719, Mountain: 0.6100, Urban: 0.6738, \n",
      "macro_recall: 0.6335\n",
      "micro_recall: 0.6298\n",
      "recall_per_class:\n",
      "\tBeach: 0.6160, Sunset: 0.8064, FallFoliage: 0.6747, Field: 0.7934, Mountain: 0.3804, Urban: 0.5303, \n",
      "macro_f1: 0.6923\n",
      "micro_f1: 0.6949\n",
      "f1_per_class:\n",
      "\tBeach: 0.6720, Sunset: 0.8637, FallFoliage: 0.7249, Field: 0.8308, Mountain: 0.4686, Urban: 0.5935, \n",
      "MSE: 0.0703\n",
      "LogLoss: 0.2332\n",
      "AUNU: 0.9261\n",
      "micro_ROC-AUC: 0.9350\n",
      "AUNP: 0.9248\n",
      "ROC-AUC_per_class_vs_rest:\n",
      "\tBeach: 0.9273, Sunset: 0.9831, FallFoliage: 0.9509, Field: 0.9654, Mountain: 0.8401, Urban: 0.8900, \n",
      "Results written to C:\\VisualStudioRepositories\\MUSIC_DATA\\metric_analysis\\output\\multilabel_balanced\\scene\\1\\fold_3\n",
      "\n",
      "Fold 4:\n",
      "Train label distribution: [333 292 314 336 327 344]\n",
      "Test label distribution:  [84 72 79 83 82 87]\n",
      "Train label percentages:   [18.2  15.96 17.16 18.36 17.87 18.8 ]\n",
      "Test label percentages:    [18.54 15.89 17.44 18.32 18.1  19.21]\n",
      "\n",
      "Fold 4 model trained.\n",
      "\n",
      "RESULTS:\n",
      "macro_accuracy: 0.9017\n",
      "micro_accuracy: 0.9017\n",
      "accuracy_per_class:\n",
      "\tBeach: 0.8896, Sunset: 0.9601, FallFoliage: 0.9102, Field: 0.9404, Mountain: 0.8454, Urban: 0.8647, \n",
      "macro_precision: 0.7681\n",
      "micro_precision: 0.7755\n",
      "precision_per_class:\n",
      "\tBeach: 0.7350, Sunset: 0.9333, FallFoliage: 0.7781, Field: 0.8675, Mountain: 0.6129, Urban: 0.6815, \n",
      "macro_recall: 0.6326\n",
      "micro_recall: 0.6289\n",
      "recall_per_class:\n",
      "\tBeach: 0.6187, Sunset: 0.8077, FallFoliage: 0.6692, Field: 0.7971, Mountain: 0.3716, Urban: 0.5313, \n",
      "macro_f1: 0.6914\n",
      "micro_f1: 0.6945\n",
      "f1_per_class:\n",
      "\tBeach: 0.6719, Sunset: 0.8660, FallFoliage: 0.7196, Field: 0.8308, Mountain: 0.4627, Urban: 0.5971, \n",
      "MSE: 0.0704\n",
      "LogLoss: 0.2342\n",
      "AUNU: 0.9257\n",
      "micro_ROC-AUC: 0.9345\n",
      "AUNP: 0.9243\n",
      "ROC-AUC_per_class_vs_rest:\n",
      "\tBeach: 0.9255, Sunset: 0.9834, FallFoliage: 0.9478, Field: 0.9656, Mountain: 0.8394, Urban: 0.8924, \n",
      "Results written to C:\\VisualStudioRepositories\\MUSIC_DATA\\metric_analysis\\output\\multilabel_balanced\\scene\\1\\fold_4\n",
      "\n"
     ]
    }
   ],
   "source": [
    "\n",
    "X = X_copy.values\n",
    "y = y_copy.values\n",
    "\n",
    "mskf = MultilabelStratifiedKFold(n_splits=5, shuffle=True, random_state=42)\n",
    "\n",
    "for fold, (train_idx, test_idx) in enumerate(mskf.split(X, y)):\n",
    "    X_train, X_test = X[train_idx], X[test_idx]\n",
    "    y_train, y_test = y[train_idx], y[test_idx]\n",
    "\n",
    "    train_dist = y_train.sum(axis=0)\n",
    "    test_dist = y_test.sum(axis=0)\n",
    "    train_pct = train_dist / len(y_train) * 100\n",
    "    test_pct = test_dist / len(y_test) * 100\n",
    "\n",
    "    print(f\"Fold {fold}:\")\n",
    "    print(f\"Train label distribution: {train_dist}\")\n",
    "    print(f\"Test label distribution:  {test_dist}\")\n",
    "    print(f\"Train label percentages:   {np.round(train_pct, 2)}\")\n",
    "    print(f\"Test label percentages:    {np.round(test_pct, 2)}\\n\")\n",
    "    \n",
    "    fold_information = fold_info(\n",
    "        train_distribution=train_dist.tolist(),\n",
    "        test_distribution=test_dist.tolist(),\n",
    "        train_distribution_pct=train_pct.tolist(),\n",
    "        test_distribution_pct=test_pct.tolist(),\n",
    "    )\n",
    "    \n",
    "    logistic_clf = OneVsRestClassifier(LogisticRegression(max_iter=1000, solver='lbfgs'))\n",
    "    logistic_clf.fit(X_train, y_train)\n",
    "    print(f\"Fold {fold} model trained.\\n\")\n",
    "    \n",
    "    # Get probabilities (sigmoid outputs) for each label\n",
    "    y_probas = logistic_clf.predict_proba(X_test)\n",
    "    \n",
    "    update_metrics_using_probabilities(metrics, y_probas, y_test)\n",
    "    computed_metrics = compute_metrics(metrics)\n",
    "    \n",
    "    print(\"RESULTS:\")\n",
    "    dictionary = create_metric_dictionary(computed_metrics, class_names)\n",
    "    print_metric_dictionary(dictionary)\n",
    "    \n",
    "    output_dir_3 = output_dir_2 / f\"fold_{fold}\"\n",
    "    output_dir_3.mkdir(parents=True, exist_ok=True)\n",
    "    \n",
    "    exp_info = experiment_info(\n",
    "        model_name=\"Logistic Regression\",\n",
    "        dataset_name=\"scene\",\n",
    "        classification_type=TaskType.MULTILABEL,\n",
    "        class_balance=\"balanced\",\n",
    "        class_names=class_names,\n",
    "        index=index,\n",
    "        cv_fold=fold,\n",
    "    )\n",
    "    \n",
    "    write_results_report_to_new_file(\n",
    "        output_dir_path=output_dir_3,\n",
    "        results=computed_metrics,\n",
    "        fold_info=fold_information,\n",
    "        experiment_info=exp_info\n",
    "        )\n",
    "    \n",
    "    print(f\"Results written to {output_dir_3}\\n\")\n"
   ]
  }
 ],
 "metadata": {
  "kernelspec": {
   "display_name": ".venv",
   "language": "python",
   "name": "python3"
  },
  "language_info": {
   "codemirror_mode": {
    "name": "ipython",
    "version": 3
   },
   "file_extension": ".py",
   "mimetype": "text/x-python",
   "name": "python",
   "nbconvert_exporter": "python",
   "pygments_lexer": "ipython3",
   "version": "3.13.5"
  }
 },
 "nbformat": 4,
 "nbformat_minor": 5
}
