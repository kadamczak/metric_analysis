{
 "cells": [
  {
   "cell_type": "markdown",
   "id": "dc661d4d",
   "metadata": {},
   "source": [
    "# Setup"
   ]
  },
  {
   "cell_type": "code",
   "execution_count": 1,
   "id": "826e8c74",
   "metadata": {},
   "outputs": [],
   "source": [
    "import os\n",
    "import sys\n",
    "\n",
    "sys.path.append(os.path.abspath(\"../..\"))"
   ]
  },
  {
   "cell_type": "code",
   "execution_count": 2,
   "id": "53ddd253",
   "metadata": {},
   "outputs": [],
   "source": [
    "from pathlib import Path\n",
    "import pandas as pd\n",
    "import numpy as np\n",
    "import torch\n",
    "\n",
    "from sklearn.linear_model import LogisticRegression\n",
    "from sklearn.multiclass import OneVsRestClassifier\n",
    "from src.experiment.sets.metric_sets import create_full_multilabel_metrics\n",
    "\n",
    "from src.experiment.helpers.variables import report_output_root_dir\n",
    "\n",
    "from src.experiment.helpers.task_type import TaskType\n",
    "from src.experiment.metric_processing.metric_calc import update_metrics_using_probabilities, compute_metrics, create_metric_dictionary\n",
    "from src.experiment.metric_processing.metric_display import print_metric_dictionary\n",
    "from src.experiment.metric_processing.metric_reports import write_results_report_to_new_file, experiment_info, fold_info\n",
    "\n",
    "from iterstrat.ml_stratifiers import MultilabelStratifiedKFold"
   ]
  },
  {
   "cell_type": "code",
   "execution_count": 3,
   "id": "d3ecaacf",
   "metadata": {},
   "outputs": [
    {
     "name": "stdout",
     "output_type": "stream",
     "text": [
      "cuda\n"
     ]
    }
   ],
   "source": [
    "device = torch.device('cuda' if torch.cuda.is_available() else 'cpu')\n",
    "print(device)"
   ]
  },
  {
   "cell_type": "code",
   "execution_count": 3,
   "id": "5d82644d",
   "metadata": {},
   "outputs": [
    {
     "name": "stdout",
     "output_type": "stream",
     "text": [
      "c:\\VisualStudioRepositories\\MUSIC_DATA\\datasets\\multilabel\\scene\n",
      "c:\\VisualStudioRepositories\\MUSIC_DATA\\datasets\\multilabel\\scene_trimmed\n"
     ]
    }
   ],
   "source": [
    "from src.experiment.helpers.variables import dataset_scene_dir\n",
    "from src.experiment.helpers.variables import dataset_scene_trimmed_dir\n",
    "print(dataset_scene_dir)\n",
    "print(dataset_scene_trimmed_dir)"
   ]
  },
  {
   "cell_type": "markdown",
   "id": "5b8b033e",
   "metadata": {},
   "source": [
    "# Preparation"
   ]
  },
  {
   "cell_type": "markdown",
   "id": "243ce96d",
   "metadata": {},
   "source": [
    "Load datasets"
   ]
  },
  {
   "cell_type": "code",
   "execution_count": 5,
   "id": "e4f32c5e",
   "metadata": {},
   "outputs": [],
   "source": [
    "X_copy_scene = pd.read_csv(dataset_scene_trimmed_dir / 'X.csv')\n",
    "y_copy_scene = pd.read_csv(dataset_scene_trimmed_dir / 'y.csv')"
   ]
  },
  {
   "cell_type": "code",
   "execution_count": 6,
   "id": "e8b4470c",
   "metadata": {},
   "outputs": [
    {
     "data": {
      "text/plain": [
       "WindowsPath('C:/VisualStudioRepositories/MUSIC_DATA/metric_analysis/output')"
      ]
     },
     "execution_count": 6,
     "metadata": {},
     "output_type": "execute_result"
    }
   ],
   "source": [
    "output_dir_base = report_output_root_dir\n",
    "output_dir_base"
   ]
  },
  {
   "cell_type": "code",
   "execution_count": 7,
   "id": "93942ffc",
   "metadata": {},
   "outputs": [
    {
     "data": {
      "text/plain": [
       "6"
      ]
     },
     "execution_count": 7,
     "metadata": {},
     "output_type": "execute_result"
    }
   ],
   "source": [
    "num_classes = y_copy_scene.shape[1]\n",
    "num_classes"
   ]
  },
  {
   "cell_type": "code",
   "execution_count": 8,
   "id": "9d963657",
   "metadata": {},
   "outputs": [
    {
     "name": "stdout",
     "output_type": "stream",
     "text": [
      "['Beach', 'Sunset', 'FallFoliage', 'Field', 'Mountain', 'Urban']\n"
     ]
    }
   ],
   "source": [
    "class_names_scene = list(y_copy_scene.columns)\n",
    "print(class_names_scene)"
   ]
  },
  {
   "cell_type": "code",
   "execution_count": 10,
   "id": "6e5078c9",
   "metadata": {},
   "outputs": [],
   "source": [
    "X_scene = X_copy_scene.values\n",
    "y_scene = y_copy_scene.values"
   ]
  },
  {
   "cell_type": "markdown",
   "id": "6719f05b",
   "metadata": {},
   "source": [
    "# Settings"
   ]
  },
  {
   "cell_type": "code",
   "execution_count": 48,
   "id": "21098c38",
   "metadata": {},
   "outputs": [],
   "source": [
    "REPETITIONS = 3"
   ]
  },
  {
   "cell_type": "code",
   "execution_count": 49,
   "id": "80429790",
   "metadata": {},
   "outputs": [],
   "source": [
    "models = {\n",
    "    'logistic_regression': OneVsRestClassifier(LogisticRegression(max_iter=1000, solver='lbfgs')),\n",
    "    'logistic_regression2': OneVsRestClassifier(LogisticRegression(max_iter=100, solver='lbfgs')),\n",
    "}"
   ]
  },
  {
   "cell_type": "code",
   "execution_count": 50,
   "id": "45f1e048",
   "metadata": {},
   "outputs": [],
   "source": [
    "datasets = {\n",
    "    \"scene\": {\n",
    "        \"X\": X_scene,\n",
    "        \"y\": y_scene,\n",
    "        \"classification_type\": \"multilabel\",\n",
    "        \"class_balance\": \"balanced\",\n",
    "        \"dataset_name\": \"scene\",\n",
    "        \"class_names\": class_names_scene,\n",
    "    },\n",
    "    \"scene2\": {\n",
    "        \"X\": X_scene,\n",
    "        \"y\": y_scene,\n",
    "        \"classification_type\": \"multilabel\",\n",
    "        \"class_balance\": \"balanced\",\n",
    "        \"dataset_name\": \"scene2\",\n",
    "        \"class_names\": class_names_scene,\n",
    "    }\n",
    "}"
   ]
  },
  {
   "cell_type": "markdown",
   "id": "2206034e",
   "metadata": {},
   "source": [
    "# Loop"
   ]
  },
  {
   "cell_type": "code",
   "execution_count": 64,
   "id": "a3c40b5a",
   "metadata": {},
   "outputs": [],
   "source": [
    "from sklearn.base import clone\n",
    "\n",
    "def cross_validation(dataset, mskf, metrics, output_dir, index, model, model_name):\n",
    "    X = dataset[\"X\"]\n",
    "    y = dataset[\"y\"]\n",
    "    \n",
    "    for fold, (train_idx, test_idx) in enumerate(mskf.split(X, y)):\n",
    "        X_train, X_test = X[train_idx], X[test_idx]\n",
    "        y_train, y_test = y[train_idx], y[test_idx]\n",
    "\n",
    "        train_dist = y_train.sum(axis=0)\n",
    "        test_dist = y_test.sum(axis=0)\n",
    "        train_pct = train_dist / len(y_train) * 100\n",
    "        test_pct = test_dist / len(y_test) * 100\n",
    "        \n",
    "        fold_information = fold_info(\n",
    "            train_distribution=train_dist.tolist(),\n",
    "            test_distribution=test_dist.tolist(),\n",
    "            train_distribution_pct=train_pct.tolist(),\n",
    "            test_distribution_pct=test_pct.tolist(),\n",
    "        )\n",
    "        \n",
    "        model_clone = clone(model)\n",
    "        model_clone.fit(X_train, y_train)\n",
    "        \n",
    "        y_probas = model_clone.predict_proba(X_test)\n",
    "        \n",
    "        update_metrics_using_probabilities(metrics, y_probas, y_test)\n",
    "        computed_metrics = compute_metrics(metrics)\n",
    "        \n",
    "        output_dir_final = output_dir / f\"fold_{fold}\"\n",
    "        output_dir_final.mkdir(parents=True, exist_ok=True)\n",
    "        \n",
    "        exp_info = experiment_info(\n",
    "            model_name=model_name,\n",
    "            classification_type=dataset[\"classification_type\"],\n",
    "            class_balance=dataset[\"class_balance\"],\n",
    "            dataset_name=dataset[\"dataset_name\"],\n",
    "            class_names=dataset[\"class_names\"],\n",
    "            index=index,\n",
    "            cv_fold=fold,\n",
    "        )\n",
    "        \n",
    "        write_results_report_to_new_file(\n",
    "            output_dir_path=output_dir_final,\n",
    "            results=computed_metrics,\n",
    "            fold_info=fold_information,\n",
    "            experiment_info=exp_info\n",
    "            )\n",
    "        \n",
    "        print(f\"Results written to {output_dir_final} directory.\\n\")\n"
   ]
  },
  {
   "cell_type": "code",
   "execution_count": 65,
   "id": "bf3eb618",
   "metadata": {},
   "outputs": [],
   "source": [
    "def repeated_cross_validation(dataset, repetitions, output_dir, metrics, model, model_name):\n",
    "    for index in range(repetitions):\n",
    "        output_dir_with_index = output_dir / f\"{index}\"\n",
    "        mskf = MultilabelStratifiedKFold(n_splits=5, shuffle=True)\n",
    "        cross_validation(dataset, mskf, metrics, output_dir_with_index, index, model, model_name)\n",
    "        "
   ]
  },
  {
   "cell_type": "code",
   "execution_count": 66,
   "id": "62d8921f",
   "metadata": {},
   "outputs": [],
   "source": [
    "def perform_experiments(datasets, models, repetitions, output_dir_base):\n",
    "    for _, dataset_info in datasets.items():\n",
    "        class_names = dataset_info[\"class_names\"]\n",
    "        class_no = len(class_names)\n",
    "        \n",
    "        output_dir = output_dir_base / dataset_info['classification_type'] / dataset_info['class_balance'] / dataset_info['dataset_name']\n",
    "        metrics = create_full_multilabel_metrics(class_no, device=\"cpu\")\n",
    "        \n",
    "        for model_name, model in models.items():\n",
    "            output_dir_with_model = output_dir / model_name\n",
    "            repeated_cross_validation(dataset_info, repetitions, output_dir_with_model, metrics, model, model_name)\n",
    "    "
   ]
  },
  {
   "cell_type": "code",
   "execution_count": 67,
   "id": "0626107b",
   "metadata": {},
   "outputs": [
    {
     "name": "stdout",
     "output_type": "stream",
     "text": [
      "Results written to C:\\VisualStudioRepositories\\MUSIC_DATA\\metric_analysis\\output\\multilabel\\balanced\\scene\\logistic_regression\\0\\fold_0 directory.\n",
      "\n",
      "Results written to C:\\VisualStudioRepositories\\MUSIC_DATA\\metric_analysis\\output\\multilabel\\balanced\\scene\\logistic_regression\\0\\fold_1 directory.\n",
      "\n",
      "Results written to C:\\VisualStudioRepositories\\MUSIC_DATA\\metric_analysis\\output\\multilabel\\balanced\\scene\\logistic_regression\\0\\fold_2 directory.\n",
      "\n",
      "Results written to C:\\VisualStudioRepositories\\MUSIC_DATA\\metric_analysis\\output\\multilabel\\balanced\\scene\\logistic_regression\\0\\fold_3 directory.\n",
      "\n",
      "Results written to C:\\VisualStudioRepositories\\MUSIC_DATA\\metric_analysis\\output\\multilabel\\balanced\\scene\\logistic_regression\\0\\fold_4 directory.\n",
      "\n",
      "Results written to C:\\VisualStudioRepositories\\MUSIC_DATA\\metric_analysis\\output\\multilabel\\balanced\\scene\\logistic_regression\\1\\fold_0 directory.\n",
      "\n",
      "Results written to C:\\VisualStudioRepositories\\MUSIC_DATA\\metric_analysis\\output\\multilabel\\balanced\\scene\\logistic_regression\\1\\fold_1 directory.\n",
      "\n",
      "Results written to C:\\VisualStudioRepositories\\MUSIC_DATA\\metric_analysis\\output\\multilabel\\balanced\\scene\\logistic_regression\\1\\fold_2 directory.\n",
      "\n",
      "Results written to C:\\VisualStudioRepositories\\MUSIC_DATA\\metric_analysis\\output\\multilabel\\balanced\\scene\\logistic_regression\\1\\fold_3 directory.\n",
      "\n",
      "Results written to C:\\VisualStudioRepositories\\MUSIC_DATA\\metric_analysis\\output\\multilabel\\balanced\\scene\\logistic_regression\\1\\fold_4 directory.\n",
      "\n",
      "Results written to C:\\VisualStudioRepositories\\MUSIC_DATA\\metric_analysis\\output\\multilabel\\balanced\\scene\\logistic_regression\\2\\fold_0 directory.\n",
      "\n",
      "Results written to C:\\VisualStudioRepositories\\MUSIC_DATA\\metric_analysis\\output\\multilabel\\balanced\\scene\\logistic_regression\\2\\fold_1 directory.\n",
      "\n",
      "Results written to C:\\VisualStudioRepositories\\MUSIC_DATA\\metric_analysis\\output\\multilabel\\balanced\\scene\\logistic_regression\\2\\fold_2 directory.\n",
      "\n",
      "Results written to C:\\VisualStudioRepositories\\MUSIC_DATA\\metric_analysis\\output\\multilabel\\balanced\\scene\\logistic_regression\\2\\fold_3 directory.\n",
      "\n",
      "Results written to C:\\VisualStudioRepositories\\MUSIC_DATA\\metric_analysis\\output\\multilabel\\balanced\\scene\\logistic_regression\\2\\fold_4 directory.\n",
      "\n",
      "Results written to C:\\VisualStudioRepositories\\MUSIC_DATA\\metric_analysis\\output\\multilabel\\balanced\\scene\\logistic_regression2\\0\\fold_0 directory.\n",
      "\n",
      "Results written to C:\\VisualStudioRepositories\\MUSIC_DATA\\metric_analysis\\output\\multilabel\\balanced\\scene\\logistic_regression2\\0\\fold_1 directory.\n",
      "\n",
      "Results written to C:\\VisualStudioRepositories\\MUSIC_DATA\\metric_analysis\\output\\multilabel\\balanced\\scene\\logistic_regression2\\0\\fold_2 directory.\n",
      "\n",
      "Results written to C:\\VisualStudioRepositories\\MUSIC_DATA\\metric_analysis\\output\\multilabel\\balanced\\scene\\logistic_regression2\\0\\fold_3 directory.\n",
      "\n",
      "Results written to C:\\VisualStudioRepositories\\MUSIC_DATA\\metric_analysis\\output\\multilabel\\balanced\\scene\\logistic_regression2\\0\\fold_4 directory.\n",
      "\n",
      "Results written to C:\\VisualStudioRepositories\\MUSIC_DATA\\metric_analysis\\output\\multilabel\\balanced\\scene\\logistic_regression2\\1\\fold_0 directory.\n",
      "\n",
      "Results written to C:\\VisualStudioRepositories\\MUSIC_DATA\\metric_analysis\\output\\multilabel\\balanced\\scene\\logistic_regression2\\1\\fold_1 directory.\n",
      "\n",
      "Results written to C:\\VisualStudioRepositories\\MUSIC_DATA\\metric_analysis\\output\\multilabel\\balanced\\scene\\logistic_regression2\\1\\fold_2 directory.\n",
      "\n",
      "Results written to C:\\VisualStudioRepositories\\MUSIC_DATA\\metric_analysis\\output\\multilabel\\balanced\\scene\\logistic_regression2\\1\\fold_3 directory.\n",
      "\n",
      "Results written to C:\\VisualStudioRepositories\\MUSIC_DATA\\metric_analysis\\output\\multilabel\\balanced\\scene\\logistic_regression2\\1\\fold_4 directory.\n",
      "\n",
      "Results written to C:\\VisualStudioRepositories\\MUSIC_DATA\\metric_analysis\\output\\multilabel\\balanced\\scene\\logistic_regression2\\2\\fold_0 directory.\n",
      "\n",
      "Results written to C:\\VisualStudioRepositories\\MUSIC_DATA\\metric_analysis\\output\\multilabel\\balanced\\scene\\logistic_regression2\\2\\fold_1 directory.\n",
      "\n",
      "Results written to C:\\VisualStudioRepositories\\MUSIC_DATA\\metric_analysis\\output\\multilabel\\balanced\\scene\\logistic_regression2\\2\\fold_2 directory.\n",
      "\n",
      "Results written to C:\\VisualStudioRepositories\\MUSIC_DATA\\metric_analysis\\output\\multilabel\\balanced\\scene\\logistic_regression2\\2\\fold_3 directory.\n",
      "\n",
      "Results written to C:\\VisualStudioRepositories\\MUSIC_DATA\\metric_analysis\\output\\multilabel\\balanced\\scene\\logistic_regression2\\2\\fold_4 directory.\n",
      "\n",
      "Results written to C:\\VisualStudioRepositories\\MUSIC_DATA\\metric_analysis\\output\\multilabel\\balanced\\scene2\\logistic_regression\\0\\fold_0 directory.\n",
      "\n",
      "Results written to C:\\VisualStudioRepositories\\MUSIC_DATA\\metric_analysis\\output\\multilabel\\balanced\\scene2\\logistic_regression\\0\\fold_1 directory.\n",
      "\n",
      "Results written to C:\\VisualStudioRepositories\\MUSIC_DATA\\metric_analysis\\output\\multilabel\\balanced\\scene2\\logistic_regression\\0\\fold_2 directory.\n",
      "\n",
      "Results written to C:\\VisualStudioRepositories\\MUSIC_DATA\\metric_analysis\\output\\multilabel\\balanced\\scene2\\logistic_regression\\0\\fold_3 directory.\n",
      "\n",
      "Results written to C:\\VisualStudioRepositories\\MUSIC_DATA\\metric_analysis\\output\\multilabel\\balanced\\scene2\\logistic_regression\\0\\fold_4 directory.\n",
      "\n",
      "Results written to C:\\VisualStudioRepositories\\MUSIC_DATA\\metric_analysis\\output\\multilabel\\balanced\\scene2\\logistic_regression\\1\\fold_0 directory.\n",
      "\n",
      "Results written to C:\\VisualStudioRepositories\\MUSIC_DATA\\metric_analysis\\output\\multilabel\\balanced\\scene2\\logistic_regression\\1\\fold_1 directory.\n",
      "\n",
      "Results written to C:\\VisualStudioRepositories\\MUSIC_DATA\\metric_analysis\\output\\multilabel\\balanced\\scene2\\logistic_regression\\1\\fold_2 directory.\n",
      "\n",
      "Results written to C:\\VisualStudioRepositories\\MUSIC_DATA\\metric_analysis\\output\\multilabel\\balanced\\scene2\\logistic_regression\\1\\fold_3 directory.\n",
      "\n",
      "Results written to C:\\VisualStudioRepositories\\MUSIC_DATA\\metric_analysis\\output\\multilabel\\balanced\\scene2\\logistic_regression\\1\\fold_4 directory.\n",
      "\n",
      "Results written to C:\\VisualStudioRepositories\\MUSIC_DATA\\metric_analysis\\output\\multilabel\\balanced\\scene2\\logistic_regression\\2\\fold_0 directory.\n",
      "\n",
      "Results written to C:\\VisualStudioRepositories\\MUSIC_DATA\\metric_analysis\\output\\multilabel\\balanced\\scene2\\logistic_regression\\2\\fold_1 directory.\n",
      "\n",
      "Results written to C:\\VisualStudioRepositories\\MUSIC_DATA\\metric_analysis\\output\\multilabel\\balanced\\scene2\\logistic_regression\\2\\fold_2 directory.\n",
      "\n",
      "Results written to C:\\VisualStudioRepositories\\MUSIC_DATA\\metric_analysis\\output\\multilabel\\balanced\\scene2\\logistic_regression\\2\\fold_3 directory.\n",
      "\n",
      "Results written to C:\\VisualStudioRepositories\\MUSIC_DATA\\metric_analysis\\output\\multilabel\\balanced\\scene2\\logistic_regression\\2\\fold_4 directory.\n",
      "\n",
      "Results written to C:\\VisualStudioRepositories\\MUSIC_DATA\\metric_analysis\\output\\multilabel\\balanced\\scene2\\logistic_regression2\\0\\fold_0 directory.\n",
      "\n",
      "Results written to C:\\VisualStudioRepositories\\MUSIC_DATA\\metric_analysis\\output\\multilabel\\balanced\\scene2\\logistic_regression2\\0\\fold_1 directory.\n",
      "\n",
      "Results written to C:\\VisualStudioRepositories\\MUSIC_DATA\\metric_analysis\\output\\multilabel\\balanced\\scene2\\logistic_regression2\\0\\fold_2 directory.\n",
      "\n",
      "Results written to C:\\VisualStudioRepositories\\MUSIC_DATA\\metric_analysis\\output\\multilabel\\balanced\\scene2\\logistic_regression2\\0\\fold_3 directory.\n",
      "\n",
      "Results written to C:\\VisualStudioRepositories\\MUSIC_DATA\\metric_analysis\\output\\multilabel\\balanced\\scene2\\logistic_regression2\\0\\fold_4 directory.\n",
      "\n",
      "Results written to C:\\VisualStudioRepositories\\MUSIC_DATA\\metric_analysis\\output\\multilabel\\balanced\\scene2\\logistic_regression2\\1\\fold_0 directory.\n",
      "\n",
      "Results written to C:\\VisualStudioRepositories\\MUSIC_DATA\\metric_analysis\\output\\multilabel\\balanced\\scene2\\logistic_regression2\\1\\fold_1 directory.\n",
      "\n",
      "Results written to C:\\VisualStudioRepositories\\MUSIC_DATA\\metric_analysis\\output\\multilabel\\balanced\\scene2\\logistic_regression2\\1\\fold_2 directory.\n",
      "\n",
      "Results written to C:\\VisualStudioRepositories\\MUSIC_DATA\\metric_analysis\\output\\multilabel\\balanced\\scene2\\logistic_regression2\\1\\fold_3 directory.\n",
      "\n",
      "Results written to C:\\VisualStudioRepositories\\MUSIC_DATA\\metric_analysis\\output\\multilabel\\balanced\\scene2\\logistic_regression2\\1\\fold_4 directory.\n",
      "\n",
      "Results written to C:\\VisualStudioRepositories\\MUSIC_DATA\\metric_analysis\\output\\multilabel\\balanced\\scene2\\logistic_regression2\\2\\fold_0 directory.\n",
      "\n",
      "Results written to C:\\VisualStudioRepositories\\MUSIC_DATA\\metric_analysis\\output\\multilabel\\balanced\\scene2\\logistic_regression2\\2\\fold_1 directory.\n",
      "\n",
      "Results written to C:\\VisualStudioRepositories\\MUSIC_DATA\\metric_analysis\\output\\multilabel\\balanced\\scene2\\logistic_regression2\\2\\fold_2 directory.\n",
      "\n",
      "Results written to C:\\VisualStudioRepositories\\MUSIC_DATA\\metric_analysis\\output\\multilabel\\balanced\\scene2\\logistic_regression2\\2\\fold_3 directory.\n",
      "\n",
      "Results written to C:\\VisualStudioRepositories\\MUSIC_DATA\\metric_analysis\\output\\multilabel\\balanced\\scene2\\logistic_regression2\\2\\fold_4 directory.\n",
      "\n"
     ]
    }
   ],
   "source": [
    "perform_experiments(datasets, models, REPETITIONS, output_dir_base)"
   ]
  }
 ],
 "metadata": {
  "kernelspec": {
   "display_name": ".venv",
   "language": "python",
   "name": "python3"
  },
  "language_info": {
   "codemirror_mode": {
    "name": "ipython",
    "version": 3
   },
   "file_extension": ".py",
   "mimetype": "text/x-python",
   "name": "python",
   "nbconvert_exporter": "python",
   "pygments_lexer": "ipython3",
   "version": "3.13.5"
  }
 },
 "nbformat": 4,
 "nbformat_minor": 5
}
