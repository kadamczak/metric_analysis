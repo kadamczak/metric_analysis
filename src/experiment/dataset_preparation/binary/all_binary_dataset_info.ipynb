{
 "cells": [
  {
   "cell_type": "markdown",
   "id": "0787fef8",
   "metadata": {},
   "source": [
    "| Dataset                       | Samples  |Binary  | Categ. | Numeric | High-Low      | times higher | Multiclass | Multilabel\n",
    "|-------------------------------|----------|--------|--------|---------|---------------|--------------|------------|---------\n",
    "| philippine                    | 5832     | 0      | 0      | 308     | 50.00 - 50.00 | 1.00         |            | scene\n",
    "| santander                     | 200000   | 0      | 0      | 200     | 89.95 - 10.05 | 8.95         |            | nuswidevlad\n",
    "| spambase                      | 4601     | 0      | 0      | 57      | 60.60 - 39.40 | 1.54         |            | cal500\n",
    "| vehicle-sensit                | 98528    | 0      | 0      | 100     | 50.00 - 50.00 | 1.00         | 0.00       | mediamill\n",
    "\n",
    "\n",
    "\n",
    "| santander customer satisfaction\n",
    "| 20_newsgroups\n",
    "| speech"
   ]
  }
 ],
 "metadata": {
  "language_info": {
   "name": "python"
  }
 },
 "nbformat": 4,
 "nbformat_minor": 5
}
