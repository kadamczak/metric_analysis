{
 "cells": [
  {
   "cell_type": "markdown",
   "id": "0787fef8",
   "metadata": {},
   "source": [
    "| Dataset                            | Samples  |Binary  | Categ. | Numeric | High-Low      | % point diff | times higher |\n",
    "|------------------------------------|----------|--------|--------|---------|---------------|--------------|--------------|\n",
    "| santander customer satisfaction\n",
    "| 20_newsgroups\n",
    "| speech"
   ]
  }
 ],
 "metadata": {
  "language_info": {
   "name": "python"
  }
 },
 "nbformat": 4,
 "nbformat_minor": 5
}
