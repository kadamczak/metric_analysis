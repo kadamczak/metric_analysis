{
 "cells": [
  {
   "cell_type": "markdown",
   "id": "0787fef8",
   "metadata": {},
   "source": [
    "| Dataset                       | Samples  |Binary  | Categ. | Numeric | High-Low      | times higher  \n",
    "|-------------------------------|----------|--------|--------|---------|---------------|--------------\n",
    "| amazon-reviews-0.25           | 999934   | 1001   | 0      | 0       | 50.57 - 49.43 | 1.02\n",
    "| colon-0.5                     | 2550000  | 0      | 0      | 62      | 50.03 - 49.97 | 1.00         \n",
    "| philippine                    | 5832     | 0      | 0      | 308     | 50.00 - 50.00 | 1.00         \n",
    "| santander                     | 200000   | 0      | 0      | 200     | 89.95 - 10.05 | 8.95         \n",
    "| spambase                      | 4601     | 0      | 0      | 57      | 60.60 - 39.40 | 1.54         \n",
    "| vehicle-sensit                | 98528    | 0      | 0      | 100     | 50.00 - 50.00 | 1.00       "
   ]
  }
 ],
 "metadata": {
  "language_info": {
   "name": "python"
  }
 },
 "nbformat": 4,
 "nbformat_minor": 5
}
