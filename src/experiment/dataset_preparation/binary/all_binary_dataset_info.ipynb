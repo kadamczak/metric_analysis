{
 "cells": [
  {
   "cell_type": "markdown",
   "id": "0787fef8",
   "metadata": {},
   "source": [
    "| Dataset                            | Samples  |Binary  | Categ. | Numeric | High-Low      | % point diff | times higher |\n",
    "|------------------------------------|----------|--------|--------|---------|---------------|--------------|--------------|\n",
    "| breast_cancer_wisconsin_diagnostic | 569      | 0      | 0      | 30      | \n",
    "| clean2                             | 6598     | 0      | 0      | 168\n",
    "| hill_valey_no_noise                | 1212     | 0      | 0      | 100     | 0.505 - 0.495 | 0.01         | 1.02\n",
    "| santander customer satisfaction\n",
    "| 20_newsgroups\n",
    "| speech"
   ]
  }
 ],
 "metadata": {
  "language_info": {
   "name": "python"
  }
 },
 "nbformat": 4,
 "nbformat_minor": 5
}
