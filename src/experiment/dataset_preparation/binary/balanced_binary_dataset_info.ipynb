{
 "cells": [
  {
   "cell_type": "markdown",
   "id": "f7eddcbb",
   "metadata": {},
   "source": [
    "| Dataset                 | Samples |Binary  | Categ.| Numeric| High-Low      |times higher| CoV | Binary | Multilabel \n",
    "|-------------------------|---------|--------|-------|--------|---------------|------------|-----|--------|-----------\n",
    "| philippine_balanced     | 2206    | 0      | 0     | 308    | 50.00 - 50.00 | 1.00       | 0.00|        | scene\n",
    "| santander_balanced      | 40176   | 0      | 0     | 200    | 50.00 - 50.00 | 1.00       | 0.00|        | nuswidevlad\n",
    "| spambase_balanced       | 468     | 0      | 0     | 57     | 50.00 - 50.00 | 1.00       | 0.00|        | emotions\n",
    "| vehicle-sensit_balanced | 12528   | 0      | 0     | 100    | 50.00 - 50.00 | 1.00       | 0.00|        | mediamill\n"
   ]
  }
 ],
 "metadata": {
  "language_info": {
   "name": "python"
  }
 },
 "nbformat": 4,
 "nbformat_minor": 5
}
