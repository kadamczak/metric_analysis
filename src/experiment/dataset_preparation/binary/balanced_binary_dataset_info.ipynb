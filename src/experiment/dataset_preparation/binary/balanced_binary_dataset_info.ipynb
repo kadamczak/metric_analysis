{
 "cells": [
  {
   "cell_type": "markdown",
   "id": "f7eddcbb",
   "metadata": {},
   "source": [
    "| Dataset                 | Samples |Binary  | Categ.| Numeric| High-Low      |times higher| CoV \n",
    "|-------------------------|---------|--------|-------|--------|---------------|------------|-----\n",
    "| colon-0.5_balanced      | 1772    | 0      | 0     | 62     | 50.00 - 50.00 | 1.00       | 0.00\n",
    "| philippine_balanced     | 2206    | 0      | 0     | 308    | 50.00 - 50.00 | 1.00       | 0.00\n",
    "| santander_balanced      | 40176   | 0      | 0     | 200    | 50.00 - 50.00 | 1.00       | 0.00\n",
    "| spambase_balanced       | 468     | 0      | 0     | 57     | 50.00 - 50.00 | 1.00       | 0.00\n",
    "| vehicle-sensit_balanced | 12528   | 0      | 0     | 100    | 50.00 - 50.00 | 1.00       | 0.00\n"
   ]
  }
 ],
 "metadata": {
  "language_info": {
   "name": "python"
  }
 },
 "nbformat": 4,
 "nbformat_minor": 5
}
