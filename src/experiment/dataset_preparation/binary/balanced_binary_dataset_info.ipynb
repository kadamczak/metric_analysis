{
 "cells": [
  {
   "cell_type": "markdown",
   "id": "f7eddcbb",
   "metadata": {},
   "source": [
    "| Dataset                       | Samples |Binary  |Numeric| High-Low      |times higher| CoV \n",
    "|-------------------------------|---------|--------|-------|---------------|------------|-----\n",
    "| all-in-one_sentiment_balanced | 14590   | 1006   | 0     | 50.00 - 50.00 | 1.00       | 0.00\n",
    "| amazon-reviews-0.25_balanced  | 36154   | 1001   | 0     | 50.00 - 50.00 | 1.00       | 0.00\n",
    "| ceas_balanced                 | 7986    | 500    | 0     | 50.00 - 50.00 | 1.00       | 0.00\n",
    "| colon-0.5_balanced            | 1772    | 0      | 62    | 50.00 - 50.00 | 1.00       | 0.00\n",
    "| fake-news_balanced            | 25144   | 2150   | 0     | 50.00 - 50.00 | 1.00       | 0.00\n",
    "| news-sarcasm_balanced         | 4748    | 671    | 0     | 50.00 - 50.00 | 1.00       | 0.00\n",
    "| philippine_balanced           | 2206    | 0      | 308   | 50.00 - 50.00 | 1.00       | 0.00\n",
    "| santander_balanced            | 40176   | 0      | 200   | 50.00 - 50.00 | 1.00       | 0.00\n",
    "| spambase_balanced             | 468     | 0      | 57    | 50.00 - 50.00 | 1.00       | 0.00\n",
    "| vehicle-sensit_balanced       | 12528   | 0      | 100   | 50.00 - 50.00 | 1.00       | 0.00"
   ]
  }
 ],
 "metadata": {
  "language_info": {
   "name": "python"
  }
 },
 "nbformat": 4,
 "nbformat_minor": 5
}
