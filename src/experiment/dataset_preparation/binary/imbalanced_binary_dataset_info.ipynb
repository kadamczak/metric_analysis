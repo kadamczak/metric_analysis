{
 "cells": [
  {
   "cell_type": "markdown",
   "id": "c7a1e35d",
   "metadata": {},
   "source": [
    "| Dataset                           | Samples |Binary  | Categ.| Numeric| High-Low      |times higher| CoV \n",
    "|-----------------------------------|---------|--------|-------|--------|---------------|------------|-----\n",
    "| amazon-reviews-0.25_imbalanced    | 35704   | 1001   | 0     | 0      | 76.46 - 23.54 | 3.25       | 0.75\n",
    "| colon-0.5_imbalanced              | 1710    | 0      | 0     | 62     | 83.22 - 16.78 | 4.96       | 0.94\n",
    "| philippine_imbalanced             | 2002    | 0      | 0     | 308    | 87.21 - 12.79 | 6.82       | 1.05\n",
    "| santander_imbalanced              | 46300   | 0      | 0     | 200    | 99.14 - 00.86 | 115.33     | 1.39\n",
    "| spambase_imbalanced               | 380     | 0      | 0     | 57     | 62.37 - 37.63 | 1.66       | 0.35\n",
    "| vehicle-sensit_imbalanced         | 13498   | 0      | 0     | 100    | 98.04 - 01.96 | 50.13      | 1.36\n",
    "\n"
   ]
  }
 ],
 "metadata": {
  "language_info": {
   "name": "python"
  }
 },
 "nbformat": 4,
 "nbformat_minor": 5
}
