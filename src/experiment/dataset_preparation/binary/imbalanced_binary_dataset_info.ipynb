{
 "cells": [
  {
   "cell_type": "markdown",
   "id": "c7a1e35d",
   "metadata": {},
   "source": [
    "| Dataset                           | Samples |Binary  |Numeric| High-Low      |times higher| CoV \n",
    "|-----------------------------------|---------|--------|-------|---------------|------------|-------\n",
    "| all-in-one_sentiment_imbalanced   | 14590   | 1006   | 0     | 97.57 - 02.43 | 40.10      | 1.35\n",
    "| amazon-reviews-0.25_imbalanced    | 35704   | 1001   | 0     | 76.46 - 23.54 | 3.25       | 0.75\n",
    "| ceas_imbalanced                   | 7982    | 500    | 0     | 87.10 - 12.90 | 6.75       | 1.05\n",
    "| colon-0.5_imbalanced              | 1710    | 0      | 62    | 83.22 - 16.78 | 4.96       | 0.94\n",
    "| fake-news_imbalanced              | 23840   | 2150   | 0     | 98.49 - 01.51 | 65.41      | 1.37\n",
    "| news-sarcasm_imbalanced           | 4784    | 671    | 0     | 78.60 - 21.40 | 3.67       | 0.81\n",
    "| philippine_imbalanced             | 2002    | 0      | 308   | 87.21 - 12.79 | 6.82       | 1.05\n",
    "| santander_imbalanced              | 46300   | 0      | 200   | 99.14 - 00.86 | 115.33     | 1.39\n",
    "| spambase_imbalanced               | 380     | 0      | 57    | 62.37 - 37.63 | 1.66       | 0.35\n",
    "| vehicle-sensit_imbalanced         | 13498   | 0      | 100   | 98.04 - 01.96 | 50.13      | 1.36"
   ]
  }
 ],
 "metadata": {
  "language_info": {
   "name": "python"
  }
 },
 "nbformat": 4,
 "nbformat_minor": 5
}
