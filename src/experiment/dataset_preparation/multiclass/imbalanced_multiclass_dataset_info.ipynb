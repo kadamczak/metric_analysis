{
 "cells": [
  {
   "cell_type": "markdown",
   "id": "98342cb8",
   "metadata": {},
   "source": [
    "| Dataset                 | Classes | Samples |Binary  | Categ.| Numeric| High-Low      |times higher| CoV | Binary           | Multilabel \n",
    "|-------------------------|---------|---------|--------|-------|--------|---------------|------------|-----|------------------|-----------\n",
    "| gas-drift_imbalanced    | 5       | 1620    | 0      | 0     | 128    | 34.69 - 06.91 | 5.02       | 0.49|                  | yeast\n",
    "| gtsrb-huelist_imbalanced| 16      | 28450   | 0      | 0     | 256    | 10.54 - 00.07 | 150.00     | 0.63| santander        | nuswidevlad\n",
    "|mfeat-karhunen_imbalanced| 4       | 480     | 0      | 0     | 64     | 33.33 - 14.58 | 2.29       | 0.35| spambase         | emotions\n",
    "| usps_imbalanced         | 6       | 2127    | 0      | 0     | 256    | 29.76 - 04.23 | 7.03       | 0.49| philippine       | scene\n",
    "| volkert_imbalanced      | 10      | 9980    | 0      | 0     | 180    | 20.38 - 00.31 | 65.61      | 0.75| vehicle-sensit   | mediamill\n"
   ]
  }
 ],
 "metadata": {
  "language_info": {
   "name": "python"
  }
 },
 "nbformat": 4,
 "nbformat_minor": 5
}
