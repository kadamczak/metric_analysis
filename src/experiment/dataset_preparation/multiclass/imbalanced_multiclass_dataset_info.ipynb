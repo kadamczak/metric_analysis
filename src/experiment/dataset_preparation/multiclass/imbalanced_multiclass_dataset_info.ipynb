{
 "cells": [
  {
   "cell_type": "markdown",
   "id": "98342cb8",
   "metadata": {},
   "source": [
    "| Dataset                 | Classes | Samples |Binary  | Categ.| Numeric| High-Low      |times higher| CoV | Binary | Multilabel \n",
    "|-------------------------|---------|---------|--------|-------|--------|---------------|------------|-----|--------|-----------\n",
    "| gas-drift_imbalanced    | 5       | 1620    | 0      | 0     | 128    | 34.69 - 06.91 | 5.02       | 0.49|        | yeast\n",
    "| usps_imbalanced         | 6       | 2127    | 0      | 0     | 256    | 29.76 - 04.23 | 7.03       | 0.49|        | scene"
   ]
  }
 ],
 "metadata": {
  "language_info": {
   "name": "python"
  }
 },
 "nbformat": 4,
 "nbformat_minor": 5
}
