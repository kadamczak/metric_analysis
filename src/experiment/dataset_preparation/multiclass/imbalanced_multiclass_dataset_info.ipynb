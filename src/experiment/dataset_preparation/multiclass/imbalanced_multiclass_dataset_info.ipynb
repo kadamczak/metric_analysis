{
 "cells": [
  {
   "cell_type": "markdown",
   "id": "98342cb8",
   "metadata": {},
   "source": [
    "| Dataset                          | Classes | Samples |Binary  | Categ.| Numeric| High-Low      |times higher| CoV \n",
    "|----------------------------------|---------|---------|--------|-------|--------|---------------|------------|-----\n",
    "| ag-news_imbalanced               | 4       | 4912    | 671    | 0     | 0      | 44.79 - 12.01 | 3.73       | 0.61\n",
    "| dbpedia-ontology_imbalanced      | 7       | 33580   | 1000   | 0     | 0      | 18.43 - 05.06 | 3.64       | 0.39\n",
    "| gas-drift_imbalanced             | 5       | 1620    | 0      | 0     | 128    | 34.69 - 06.91 | 5.02       | 0.49\n",
    "| gtsrb-huelist_imbalanced         | 16      | 28450   | 0      | 0     | 256    | 10.54 - 00.07 | 150.00     | 0.63\n",
    "| mfeat-karhunen_imbalanced        | 4       | 480     | 0      | 0     | 64     | 33.33 - 14.58 | 2.29       | 0.35\n",
    "| news-category_imbalanced         | 42      | 26980   | 2150   | 0     | 0      | 15.29 - 00.22 | 69.90      | 1.15\n",
    "| nyt-comments-april17_imbalanced  | 6       | 7866    | 500    | 0     | 0      | 36.03 - 05.34 | 6.75       | 0.62\n",
    "| usps_imbalanced                  | 6       | 2127    | 0      | 0     | 256    | 29.76 - 04.23 | 7.03       | 0.49\n",
    "| volkert_imbalanced               | 10      | 9980    | 0      | 0     | 180    | 20.38 - 00.31 | 65.61      | 0.75"
   ]
  }
 ],
 "metadata": {
  "language_info": {
   "name": "python"
  }
 },
 "nbformat": 4,
 "nbformat_minor": 5
}
