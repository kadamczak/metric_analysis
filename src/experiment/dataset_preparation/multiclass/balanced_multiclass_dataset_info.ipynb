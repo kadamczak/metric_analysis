{
 "cells": [
  {
   "cell_type": "markdown",
   "id": "88e0e7bb",
   "metadata": {},
   "source": [
    "| Dataset                 | Classes | Samples |Binary  | Categ.| Numeric| High-Low      |times higher| CoV \n",
    "|-------------------------|---------|---------|--------|-------|--------|---------------|------------|-----\n",
    "| gas-drift_balanced      | 5       | 1625    | 0      | 0     | 128    | 20.00 - 20.00 | 1.00       | 0.00\n",
    "| gtsrb-huelist_balanced  | 16      | 30270   | 0      | 0     | 256    | 06.54 - 05.25 | 1.25       | 0.07\n",
    "| mfeat-karhunen_balanced | 4       | 480     | 0      | 0     | 64     | 25.00 - 25.00 | 1.00       | 0.00\n",
    "| usps_balanced           | 6       | 2205    | 0      | 0     | 256    | 17.10 - 16.28 | 1.05       | 0.02\n",
    "| volkert_balanced        | 10      | 9880    | 0      | 0     | 180    | 10.27 - 09.41 | 1.09       | 0.02"
   ]
  }
 ],
 "metadata": {
  "language_info": {
   "name": "python"
  }
 },
 "nbformat": 4,
 "nbformat_minor": 5
}
