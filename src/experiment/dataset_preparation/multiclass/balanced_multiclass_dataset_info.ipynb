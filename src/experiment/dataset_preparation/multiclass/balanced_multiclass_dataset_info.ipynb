{
 "cells": [
  {
   "cell_type": "markdown",
   "id": "88e0e7bb",
   "metadata": {},
   "source": [
    "| Dataset                 | Classes | Samples |Binary  | Categ.| Numeric| High-Low      |times higher| CoV | Binary | Multilabel \n",
    "|-------------------------|---------|---------|--------|-------|--------|---------------|------------|-----|--------|-----------\n",
    "| gas-drift_balanced      | 5       | 1625    | 0      | 0     | 128    | 20.00 - 20.00 | 1.00       | 0.00|        | yeast\n",
    "| usps_balanced           | 6       | 2205    | 0      | 0     | 256    | 17.10 - 16.28 | 1.05       | 0.02|        | scene"
   ]
  }
 ],
 "metadata": {
  "language_info": {
   "name": "python"
  }
 },
 "nbformat": 4,
 "nbformat_minor": 5
}
