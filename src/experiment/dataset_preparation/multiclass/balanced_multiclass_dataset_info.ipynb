{
 "cells": [
  {
   "cell_type": "markdown",
   "id": "88e0e7bb",
   "metadata": {},
   "source": [
    "| Dataset                        | Classes | Samples |Binary  | Categ.| Numeric| High-Low      |times higher| CoV \n",
    "|--------------------------------|---------|---------|--------|-------|--------|---------------|------------|-----\n",
    "| ag-news_balanced               | 4       | 4800    | 671    | 0     | 0      | 25.00 - 25.00 | 1.00       | 0.00\n",
    "| dbpedia-ontology_balanced      | 7       | 36400   | 1000   | 0     | 0      | 14.29 - 14.29 | 1.00       | 0.00\n",
    "| gas-drift_balanced             | 5       | 1625    | 0      | 0     | 128    | 20.00 - 20.00 | 1.00       | 0.00\n",
    "| gtsrb-huelist_balanced         | 16      | 30270   | 0      | 0     | 256    | 06.54 - 05.25 | 1.25       | 0.07\n",
    "| mfeat-karhunen_balanced        | 4       | 480     | 0      | 0     | 64     | 25.00 - 25.00 | 1.00       | 0.00\n",
    "| news-category_balanced         | 42      | 26217   | 2150   | 0     | 0      | 02.40 - 02.18 | 1.10       | 0.01\n",
    "| nyt-comments-april17_balanced  | 6       | 7833    | 500    | 0     | 0      | 16.89 - 15.58 | 1.08       | 0.03\n",
    "| usps_balanced                  | 6       | 2205    | 0      | 0     | 256    | 17.10 - 16.28 | 1.05       | 0.02\n",
    "| volkert_balanced               | 10      | 9880    | 0      | 0     | 180    | 10.27 - 09.41 | 1.09       | 0.02"
   ]
  }
 ],
 "metadata": {
  "language_info": {
   "name": "python"
  }
 },
 "nbformat": 4,
 "nbformat_minor": 5
}
