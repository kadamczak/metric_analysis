{
 "cells": [
  {
   "cell_type": "markdown",
   "id": "0581155a",
   "metadata": {},
   "source": [
    "| Dataset                 | Classes | Samples |Binary  | Categ.| Numeric| High-Low      |% point diff | x times higher| \n",
    "|-------------------------|---------|---------|--------|-------|--------|---------------|-------------|---------------|\n",
    "| mnist784\n",
    "| indian_pines\n",
    "| svhn_medium\n",
    "| gtsrb-huelist\n",
    "| isolet\n",
    "| padding-attack"
   ]
  }
 ],
 "metadata": {
  "language_info": {
   "name": "python"
  }
 },
 "nbformat": 4,
 "nbformat_minor": 5
}
