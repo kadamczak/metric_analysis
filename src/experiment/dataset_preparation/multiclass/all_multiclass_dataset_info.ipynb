{
 "cells": [
  {
   "cell_type": "markdown",
   "id": "0581155a",
   "metadata": {},
   "source": [
    "| Dataset                 | Classes | Samples |Binary  | Categ.| Numeric| High-Low      |% point diff | x times higher| Avg. class % | Std dev class % |\n",
    "|-------------------------|---------|---------|--------|-------|--------|---------------|-------------|---------------|--------------|-----------------|\n",
    "| dna                     | 3       | 3186    | 180    | 0     | 0\n",
    "| mfeat_factors           | 10      | 2000    | 0      | 0     | 216\n",
    "| movement_libras         | 15      | 360     | 0      | 0     | 90\n",
    "| mnist784\n",
    "| indian_pines\n",
    "| svhn_medium\n",
    "| gtsrb-huelist\n",
    "| isolet\n",
    "| padding-attack"
   ]
  }
 ],
 "metadata": {
  "language_info": {
   "name": "python"
  }
 },
 "nbformat": 4,
 "nbformat_minor": 5
}
