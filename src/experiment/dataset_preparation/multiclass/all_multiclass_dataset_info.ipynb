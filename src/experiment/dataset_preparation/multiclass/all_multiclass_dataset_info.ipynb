{
 "cells": [
  {
   "cell_type": "markdown",
   "id": "0581155a",
   "metadata": {},
   "source": [
    "| Dataset                 | Classes | Samples |Binary  | Categ.| Numeric| High-Low      |times higher| Binary | Multilabel \n",
    "|-------------------------|---------|---------|--------|-------|--------|---------------|------------|--------|------------\n",
    "| gas-drift               | 6       | 13910   | 0      | 0     | 128    | 21.63 - 11.80 | 1.83       |        | yeast\n",
    "| gtsrb-huelist           | 43      | 51839   | 0      | 0     | 256    | 05.79 - 00.52 | 11.11      |        | nuswidevlad\n",
    "| usps                    | 10      | 9298    | 0      | 0     | 256    | 16.70 - 07.61 | 2.19       |        | scene  \n",
    "| volkert                 | 10      | 58310   | 0      | 0     | 180    | 21.96 - 02.33 | 9.41       |        | mediamill\n",
    "\n",
    "\n",
    "| mnist784\n",
    "| indian_pines\n",
    "| svhn_medium\n",
    "| gtsrb-huelist\n",
    "| isolet\n",
    "| padding-attack"
   ]
  }
 ],
 "metadata": {
  "language_info": {
   "name": "python"
  }
 },
 "nbformat": 4,
 "nbformat_minor": 5
}
