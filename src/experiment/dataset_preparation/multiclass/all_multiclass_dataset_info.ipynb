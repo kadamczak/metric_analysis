{
 "cells": [
  {
   "cell_type": "markdown",
   "id": "0581155a",
   "metadata": {},
   "source": [
    "| Dataset                 | Classes | Samples |Binary  | Categ.| Numeric| High-Low      |times higher\n",
    "|-------------------------|---------|---------|--------|-------|--------|---------------|------------\n",
    "| ag-news                 | 4       | 127600  | 671    | 0     | 0      | 25.00 - 25.00 | 1.00\n",
    "| dbpedia-ontology        | 14      | 630000  | 1000   | 0     | 0      | 07.14 - 07.14 | 1.00 \n",
    "| gas-drift               | 6       | 13910   | 0      | 0     | 128    | 21.63 - 11.80 | 1.83       \n",
    "| gtsrb-huelist           | 43      | 51839   | 0      | 0     | 256    | 05.79 - 00.52 | 11.11     \n",
    "| mfeat-karhunen          | 10      | 2000    | 0      | 0     | 64     | 10.00 - 10.00 | 1.00    \n",
    "| news-category           | 42      | 209527  | 2150   | 0     | 0      | 16.99 - 00.48 | 35.11\n",
    "| nyt-comments-april17    | 11      | 260967  | 500    | 0     | 0      | 52.50 - 0.00  | 11417.00\n",
    "| usps                    | 10      | 9298    | 0      | 0     | 256    | 16.70 - 07.61 | 2.19      \n",
    "| volkert                 | 10      | 58310   | 0      | 0     | 180    | 21.96 - 02.33 | 9.41      "
   ]
  }
 ],
 "metadata": {
  "language_info": {
   "name": "python"
  }
 },
 "nbformat": 4,
 "nbformat_minor": 5
}
