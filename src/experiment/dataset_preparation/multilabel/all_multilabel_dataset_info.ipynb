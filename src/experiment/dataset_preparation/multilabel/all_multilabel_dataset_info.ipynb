{
 "cells": [
  {
   "cell_type": "markdown",
   "id": "30bba68c",
   "metadata": {},
   "source": [
    "| Dataset           | Classes | Samples        | High-Low % point diff | Cardinality \n",
    "|-------------------|---------|----------------|-----------------------|-------------\n",
    "| scene             | 6       | 2407           | 22.14 - 15.12 (07.02) | 01.074         \n",
    "| emotions          | 6       | 593            | 44.52 - 24.96 (19.56) | 01.868        \n",
    "| yeast             | 14      | 2417           | 75.13 - 01.41 (73.72) | 04.237        \n",
    "| cal500            | 174     | 502            | 88.45 - 01.00 (87.45) | 26.044    \n",
    "| enron             | 53      | 1702           | 53.64 - 00.06 (53.58) | 03.378   "
   ]
  }
 ],
 "metadata": {
  "language_info": {
   "name": "python"
  }
 },
 "nbformat": 4,
 "nbformat_minor": 5
}
