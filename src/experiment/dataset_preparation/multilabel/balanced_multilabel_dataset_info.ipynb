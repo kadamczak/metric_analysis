{
 "cells": [
  {
   "cell_type": "markdown",
   "id": "171ea37c",
   "metadata": {},
   "source": [
    "| Dataset                 | Classes | Samples |Binary | Categ. | Numeric| High-Low      |% point diff | x times higher| Avg. class % | Std dev class % | Cardinality \n",
    "|-------------------------|---------|---------|-------|--------|--------|---------------|-------------|---------------|--------------|-----------------|-----------\n",
    "| bibtex -                |\n",
    "| birds -                 |        \n",
    "| bookmarks_balanced      | 50      | 27378   | 2150  | 0      | 0      | 03.26 - 03.00 | 0.26        | 1.09          |  3.18        | 0.06            | 1.591\n",
    "| cal500_balanced         | 7       | 462     | 0     | 0      | 68     | 64.94 - 58.66 | 6.28        | 1.11          | 61.35        | 3.23            | 4.294\n",
    "| corel5k -               | \n",
    "| corel16k009_balanced    | 4       | 7437    | 500   | 0      | 0      | 36.06 - 31.01 | 5.06        | 1.16          | 33.33        | 2.08            | 1.333\n",
    "| delicious_balanced      | 18      | 12273   | 500   | 0      | 0      | 14.40 - 13.44 | 0.95        | 1.07          | 14.22        | 0.31            | 2.559\n",
    "| emotions_balanced       | 4       | 516     | 0     | 0      | 72     | 36.63 - 32.17 | 4.46        | 1.14          | 33.72        | 2.02            | 1.349\n",
    "| enron -                 | \n",
    "| eur-lex-codes -         | \n",
    "| eur-lex-eurovoc -       | \n",
    "| eur-lex-subject -       |\n",
    "| flags -                 | 3       | 174     | 5     | 4      | 10     | 56.90 - 52.30 | 4.60        | 1.09          | 53.83        | 2.65            | 1.615\n",
    "| foodtruck -             | \n",
    "| genbase -               | \n",
    "| humanpseaac -           | \n",
    "| imdb_balanced           | 7       | 36297   | 1001  | 0      | 0      | 21.97 - 21.96 | 0.01        | 1.00          | 21.96        | 0.00            | 1.537\n",
    "| langlog -               |\n",
    "| mediamill_balanced      | 12      | 12519   | 0     | 0      | 120    | 18.04 - 16.23 | 1.81        | 1.11          | 17.50        | 0.64            | 2.100\n",
    "| medical -               |\n",
    "| ng20                    | 20      | 19300   | 1006  | 0      | 0      | 05.18 - 05.04 | 0.15        | 1.03          | 5.14         | 0.04            | 1.029\n",
    "| nuswidebow_balanced     | 36      | 38066   | 0     | 0      | 500    | 04.46 - 04.20 | 0.25        | 1.06          | 4.34         | 0.08            | 1.561\n",
    "| ohsumed -               |\n",
    "| reutersk500 -           |\n",
    "| scene_balanced          | 6       | 2205    | 0     | 0      | 294    | 18.41 - 16.51 | 1.90        | 1.12          | 18.01        | 0.75            | 1.081\n",
    "| stackexchemistry -      |\n",
    "| stackexchess -          |\n",
    "| stackexcooking -        | \n",
    "| stackexcs -             |\n",
    "| stackexphilosophy -     |\n",
    "| tmc2007500_balanced     | 6       | 7910    | 500   | 0      | 0      | 19.80 - 18.70 | 1.10        | 1.06          | 19.45        | 0.54            | 1.167\n",
    "| yeast_balanced          | 5       | 1625    | 0     | 0      | 103    | 42.77 - 40.00 | 2.77        | 1.07          | 41.14        | 1.48            | 2.057\n",
    "| yelp_balanced           | 4       | 4718    | 671   | 0      | 0      | 54.98 - 49.85 | 5.13        | 1.10          | 52.89        | 2.17            | 2.116"
   ]
  }
 ],
 "metadata": {
  "language_info": {
   "name": "python"
  }
 },
 "nbformat": 4,
 "nbformat_minor": 5
}
