{
 "cells": [
  {
   "cell_type": "markdown",
   "id": "171ea37c",
   "metadata": {},
   "source": [
    "| Dataset                 | Classes | Samples |Binary | Categ. | Numeric| High-Low      |% point diff | x times higher| Avg. class % | Std dev class % | Cardinality \n",
    "|-------------------------|---------|---------|-------|--------|--------|---------------|-------------|---------------|--------------|-----------------|-----------\n",
    "| bibtex -                |\n",
    "| birds-                  |        \n",
    "| bookmarks_balanced      | 50      | 27378   | 2150  | 0      | 0      | 03.26 - 03.00 | 0.26        | 1.09          |  3.18        | 0.06            | 1.591\n",
    "| cal500_balanced         | 7       | 462     | 0     | 0      | 68     | 64.94 - 58.66 | 6.28        | 1.11          | 61.35        | 3.23            | 4.294\n",
    "| corel5k -               | \n",
    "\n",
    "| corel16k009_balanced    | 10      | 5141    | 500   | 0      | 0      | 17.16 - 16.67 | 0.49        | 1.03          | 17.02        | 0.17            | 1.702\n",
    "| delicious_balanced      | 12      | 8220    | 500   | 0      | 0      | 36.69 - 32.31 | 4.38        | 1.14          | 34.31        | 2.11            | 4.118\n",
    "| emotions_balanced       | 6       | 450     | 0     | 0      | 72     | 33.78 - 30.67 | 3.11        | 1.10          | 32.22        | 1.70            | 1.933\n",
    "| enron_balanced          | 4       | 1060    | 1001  | 0      | 0      | 53.40 - 50.28 | 3.11        | 1.06          | 52.36        | 1.41            | 2.094\n",
    "| eur-lex-codes_balanced  | 21      | 3744    | 0     | 0      | 5000   | 05.58 - 05.10 | 0.48        | 1.09          |  5.36        | 0.17            | 1.126\n",
    "| eur-lex-eurovoc_balanced| 39      | 6972    | 0     | 0      | 5000   | 04.46 - 04.20 | 0.26        | 1.06          |  4.34        | 0.05            | 1.691"
   ]
  }
 ],
 "metadata": {
  "language_info": {
   "name": "python"
  }
 },
 "nbformat": 4,
 "nbformat_minor": 5
}
