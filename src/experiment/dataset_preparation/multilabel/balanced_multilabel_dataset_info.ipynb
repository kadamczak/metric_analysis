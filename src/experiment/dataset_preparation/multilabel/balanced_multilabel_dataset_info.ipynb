{
 "cells": [
  {
   "cell_type": "markdown",
   "id": "171ea37c",
   "metadata": {},
   "source": [
    "| Dataset                 | Classes | Samples |Binary | Categ. | Numeric| High-Low      |times higher| Avg. class % | Std dev % | CoV | Cardinality| Binary        | Multiclass \n",
    "|-------------------------|---------|---------|-------|--------|--------|---------------|------------|--------------|-----------|-----|------------|---------------|---   \n",
    "| bookmarks_balanced      | 50      | 27378   | 2150  | 0      | 0      | 03.26 - 03.00 | 1.09       |  3.18        | 0.06      | 0.02| 1.591      |               | news-category\n",
    "| corel16k009_balanced    | 4       | 7437    | 500   | 0      | 0      | 36.06 - 31.01 | 1.16       | 33.33        | 2.08      | 0.06| 1.333      |               | \n",
    "| delicious_balanced      | 18      | 12273   | 500   | 0      | 0      | 14.40 - 13.44 | 1.07       | 14.22        | 0.31      | 0.02| 2.559      |               | \n",
    "| emotions_balanced       | 4       | 516     | 0     | 0      | 72     | 36.63 - 32.17 | 1.14       | 33.72        | 2.02      | 0.06| 1.349      | spambase      | mfeat_karhunen\n",
    "| imdb_balanced           | 7       | 36297   | 1001  | 0      | 0      | 21.97 - 21.96 | 1.00       | 21.96        | 0.00      | 0.00| 1.537      | amazon-reviews| dbpedia-ontology\n",
    "| mediamill_balanced      | 12      | 12519   | 0     | 0      | 120    | 18.04 - 16.23 | 1.11       | 17.50        | 0.64      | 0.04| 2.100      | vehicle-sensit| volkert\n",
    "| ng20_balanced           | 20      | 14590   | 1006  | 0      | 0      | 05.17 - 05.10 | 1.01       | 5.13         | 0.02      | 0.00| 1.026      |               |\n",
    "| nuswidevlad_balanced    | 28      | 40732   | 0     | 0      | 128    | 05.25 - 05.10 | 1.03       | 5.20         | 0.05      | 0.01| 1.456      | santander     | gtsrb-huelist\n",
    "| scene_balanced          | 6       | 2205    | 0     | 0      | 294    | 18.41 - 16.51 | 1.12       | 18.01        | 0.75      | 0.04| 1.081      | philippine    | usps\n",
    "| tmc2007500_balanced     | 6       | 7910    | 500   | 0      | 0      | 19.80 - 18.70 | 1.06       | 19.45        | 0.54      | 0.03| 1.167      |               |\n",
    "| yeast_balanced          | 5       | 1625    | 0     | 0      | 103    | 42.77 - 40.00 | 1.07       | 41.14        | 1.48      | 0.04| 2.057      | colon-0.5     | gas-drift\n",
    "| yelp_balanced           | 4       | 4718    | 671   | 0      | 0      | 54.98 - 49.85 | 1.10       | 52.89        | 2.17      | 0.04| 2.116      |               | ag_news"
   ]
  }
 ],
 "metadata": {
  "language_info": {
   "name": "python"
  }
 },
 "nbformat": 4,
 "nbformat_minor": 5
}
