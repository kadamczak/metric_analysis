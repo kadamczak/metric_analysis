{
 "cells": [
  {
   "cell_type": "markdown",
   "id": "171ea37c",
   "metadata": {},
   "source": [
    "| Dataset             | Classes | Samples |Binary | Categ. | Numeric| High-Low      |% point diff | x times higher| Avg. class % | Std dev class % | Cardinality \n",
    "|---------------------|---------|---------|-------|--------|--------|---------------|-------------|---------------|--------------|-----------------|-----------\n",
    "| bibtex_trimmed      | 35      | 2887    | 1836  | 0      | 0      | 05.26 - 04.50 | 0.76        | 1.17          | 5.04         | 0.28            | 1.764     \n"
   ]
  }
 ],
 "metadata": {
  "language_info": {
   "name": "python"
  }
 },
 "nbformat": 4,
 "nbformat_minor": 5
}
