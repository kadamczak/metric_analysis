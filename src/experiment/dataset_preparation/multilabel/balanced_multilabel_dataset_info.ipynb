{
 "cells": [
  {
   "cell_type": "markdown",
   "id": "171ea37c",
   "metadata": {},
   "source": [
    "| Dataset             | Classes | Samples |Binary | Categ. | Numeric| High-Low      |% point diff | x times higher| Avg. class % | Std dev class % | Cardinality \n",
    "|---------------------|---------|---------|-------|--------|--------|---------------|-------------|---------------|--------------|-----------------|-----------\n",
    "| bibtex_balanced     | 35      | 2887    | 1836  | 0      | 0      | 05.26 - 04.50 | 0.76        | 1.17          | 5.04         | 0.28            | 1.764\n",
    "| -birds-             |        \n",
    "| bookmarks_balanced  | 50      | 27378   | 2150  | 0      | 0      | 03.26 - 03.00 | 0.26        | 1.09          | 3.18         | 0.06            | 1.591\n",
    "| cal500_balanced     | 7       | 462     | 0     | 0      | 68     | 64.94 - 58.66 | 6.28        | 1.11          | 61.35        | 3.23            | 4.294\n",
    "| corel5k_balanced    | 7       | 1366    | 499   | 0      | 0      | 26.65 - 25.26 | 1.39        | 1.06          | 26.15        | 0.48            | 1.830\n",
    "| corel16k009_balanced| 10      | 5141    | 500   | 0      | 0      | 17.16 - 16.67 | 0.49        | 1.03          | 17.02        | 0.17            | 1.702\n",
    "| delicious_balanced  | 12      | 8220    | 500   | 0      | 0      | 36.69 - 32.31 | 4.38        | 1.14          | 34.31        | 2.11            | 4.118\n",
    "| emotions_balanced   | 6       | 450     | 0     | 0      | 72     | 33.78 - 30.67 | 3.11        | 1.10          | 32.22        | 1.70            | 1.933\n"
   ]
  }
 ],
 "metadata": {
  "language_info": {
   "name": "python"
  }
 },
 "nbformat": 4,
 "nbformat_minor": 5
}
