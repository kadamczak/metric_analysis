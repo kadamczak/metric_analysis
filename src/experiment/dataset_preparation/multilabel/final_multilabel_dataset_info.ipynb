{
 "cells": [
  {
   "cell_type": "markdown",
   "id": "72e025ae",
   "metadata": {},
   "source": [
    "| Dataset           | Classes | Samples |Nominal  | Numerical | High-Low      |% point diff | x times higher| Cardinality | Balance\n",
    "|-------------------|---------|---------|---------|-----------|-------------- |-------------|---------------|-------------|------\n",
    "| bibtex_trimmed    | 53      | 928     | 1836    | 0         | 03.23 - 02.69 |  0.54       |   1.20        | 1.587       | BALANCED\n",
    "| emotions_trimmed  | 6       | 500     | 593     | 0         | 35.80 - 29.20 |  6.60       |   1.23        | 1.928       | BALANCED\n",
    "| scene_trimmed     | 6       | 2333    | 0       | 294       | 19.67 - 15.60 |  4.07       |   1.26        | 1.068       | BALANCED\n",
    "| yeast_trimmed     | 10      | 556     | 0       | 103       | 36.87 - 32.01 |  4.86       |   1.15        | 3.453       | BALANCED"
   ]
  }
 ],
 "metadata": {
  "language_info": {
   "name": "python"
  }
 },
 "nbformat": 4,
 "nbformat_minor": 5
}
