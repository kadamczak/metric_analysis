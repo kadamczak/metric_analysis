{
 "cells": [
  {
   "cell_type": "markdown",
   "id": "72e025ae",
   "metadata": {},
   "source": [
    "| Dataset              | Classes | Samples |Binary | Categ. | Numeric| High-Low      |% point diff | x times higher| Avg. class % | Std dev class % | Cardinality | Balance\n",
    "|----------------------|---------|---------|-------|--------|--------|-------------- |-------------|---------------|--------------|-----------------|-------------|-------\n",
    "| bibtex_trimmed       | 53      | 928     | 1836  | 0      | 0      | 03.23 - 02.69 |  0.54       |   1.20        |  3.00        | 0.17            | 1.587       | BALANCED\n",
    "| bookmarks_trimmed    | 46      | 800     | 2150  | 0      | 0      | 04.38 - 03.50 |  0.87       |   1.25        |  3.99        | 0.24            | 1.835       | BALANCED\n",
    "| corel16k009_trimmed  | 9       | 892     | 500   | 0      | 0      | 28.70 - 25.22 |  3.46       |   1.14        | 26.68        | 1.27            | 2.401       | BALANCED\n",
    "| emotions_trimmed     | 6       | 500     | 0     | 0      | 72     | 35.80 - 29.20 |  6.60       |   1.23        | 32.13        | 3.06            | 1.928       | BALANCED\n",
    "| mediamill_trimmed    | 4       | 8199    | 0     | 0      | 120    | 54.23 - 47.32 |  6.90       |   1.15        | 49.20        | 3.35            | 1.968       | BALANCED\n",
    "| ng20                 | 20      | 19300   | 1006  | 0      | 0      | 05.18 - 05.04 |  0.15       |   1.03        |  5.14        | 0.04            | 1.029       | BALANCED\n",
    "| scene_trimmed        | 6       | 2333    | 0     | 0      | 294    | 19.67 - 15.60 |  4.07       |   1.26        | 17.80        | 1.38            | 1.068       | BALANCED\n",
    "| slashdot_trimmed     | 8       | 1575    | 1079  | 0      | 0      | 14.92 - 12.13 |  2.79       |   1.23        | 13.95        | 1.14            | 1.116       | BALANCED\n",
    "| stackexcs_trimmed    | 13      | 799     | 0     | 0      | 635    | 14.64 - 13.14 |  1.50       |   1.11        | 13.93        | 0.53            | 1.811       | BALANCED\n",
    "| yeast_trimmed        | 10      | 556     | 0     | 0      | 103    | 36.87 - 32.01 |  4.86       |   1.15        | 34.53        | 2.13            | 3.453       | BALANCED"
   ]
  }
 ],
 "metadata": {
  "language_info": {
   "name": "python"
  }
 },
 "nbformat": 4,
 "nbformat_minor": 5
}
