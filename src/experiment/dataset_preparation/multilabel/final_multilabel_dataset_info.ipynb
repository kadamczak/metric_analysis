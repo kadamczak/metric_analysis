{
 "cells": [
  {
   "cell_type": "markdown",
   "id": "72e025ae",
   "metadata": {},
   "source": [
    "| Dataset           | Classes | Samples |Nominal  | Numerical | High-Low      |% point diff | x times higher| Avg. class % | Std dev class % | Cardinality | Balance\n",
    "|-------------------|---------|---------|---------|-----------|-------------- |-------------|---------------|--------------|-----------------|-------------|-------\n",
    "| bibtex_trimmed    | 53      | 928     | 1836    | 0         | 03.23 - 02.69 |  0.54       |   1.20        | 3.00         | 0.17            | 1.587       | BALANCED\n",
    "| bookmarks_trimmed | 46      | 800     | 2150    | 0         | 04.38 - 03.50 |  0.87       |   1.25        | 3.99         | 0.24            | 1.835       | BALANCED\n",
    "| emotions_trimmed  | 6       | 500     | 0       | 72        | 35.80 - 29.20 |  6.60       |   1.23        | 32.13        | 3.06            | 1.928       | BALANCED\n",
    "| scene_trimmed     | 6       | 2333    | 0       | 294       | 19.67 - 15.60 |  4.07       |   1.26        | 17.80        | 1.38            | 1.068       | BALANCED\n",
    "| yeast_trimmed     | 10      | 556     | 0       | 103       | 36.87 - 32.01 |  4.86       |   1.15        | 34.53        | 2.13            | 3.453       | BALANCED"
   ]
  }
 ],
 "metadata": {
  "language_info": {
   "name": "python"
  }
 },
 "nbformat": 4,
 "nbformat_minor": 5
}
