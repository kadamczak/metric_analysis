{
 "cells": [
  {
   "cell_type": "markdown",
   "id": "290f100b",
   "metadata": {},
   "source": [
    "| Dataset                 | Classes | Samples |Binary | Categ. | Numeric| High-Low      |% point diff | x times higher| Avg. class % | Std dev class % | Cardinality \n",
    "|-------------------------|---------|---------|-------|--------|--------|---------------|-------------|---------------|--------------|-----------------|-----------\n",
    "| bibtex -                |\n",
    "| birds -                 |  \n",
    "| bookmarks_imbalanced    | 50      | 27377   | 2150  | 0      | 0      | 07.63 - 00.11 | 7.52        | 69.67         | 3.20         | 2.42            | 1.602\n",
    "| cal500_imbalanced       | 7       | 446     | 0     | 0      | 68     | 76.01 - 49.33 | 26.68       | 1.54          | 60.79        | 8.61            | 4.256\n",
    "| corel5k -               | \n",
    "| corel16k009_imbalanced  | 4       | 7291    | 500   | 0      | 0      | 43.48 - 21.48 | 22.00       | 2.02          | 33.12        | 9.03            | 1.325\n",
    "| delicious_imbalanced    | 18      | 12226   | 500   | 0      | 0      | 18.04 - 05.37 | 12.66       | 3.36          | 13.81        | 2.92            | 2.486\n",
    "| emotions_imbalanced     | 4       | 468     | 0     | 0      | 72     | 40.38 - 25.21 | 15.17       | 1.60          | 33.71        | 6.34            | 1.348\n",
    "| enron -                 | \n",
    "| eur-lex-codes -         | \n",
    "| eur-lex-eurovoc -       | \n",
    "| eur-lex-subject -       |\n",
    "| flags -                 |\n",
    "| foodtruck -             | \n",
    "| genbase -               | \n",
    "| humanpseaac -           | \n",
    "| imdb_imbalanced         | 7       | 36209   | 1001   | 0     | 0      | 34.19 - 10.84 | 23.35       | 3.15          | 21.90        | 7.78            | 1.533\n",
    "| langlog -               |\n",
    "| mediamill_imbalanced    | 12      | 12519   | 0      | 0     | 120    | 38.41 - 00.64 | 37.77       | 60.10         | 17.37        | 13.27           | 2.084\n",
    "| medical -               |\n",
    "| ng20_imbalanced         | 20      | 14590   | 1006   | 0     | 0      | 06.85 - 00.17 | 6.68        | 40.00         | 5.17         | 2.21            | 1.033\n",
    "| nuswidebow_imbalanced - | \n",
    "| nuswidevlad_imbalanced  | 28      | 40725   | 0      | 0     | 128    | 21.13 - 00.15 | 20.98       | 143.42        | 4.70         | 3.98            | 1.316\n",
    "| ohsumed -               |\n",
    "| reutersk500 -           |\n",
    "| scene_imbalanced        | 6       | 2169    | 0      | 0     | 294    | 24.57 - 06.09 | 18.49       | 4.04          | 18.03        | 6.25            | 1.082\n",
    "| stackexchemistry -      |\n",
    "| stackexchess -          |\n",
    "| stackexcooking -        | \n",
    "| stackexcs -             |\n",
    "| stackexphilosophy -     |\n",
    "| tmc2007500_balanced     | 6       | 7910    | 500   | 0      | 0      | 19.80 - 18.70 | 1.10        | 1.06          | 19.45        | 0.54            | 1.167\n",
    "\n"
   ]
  }
 ],
 "metadata": {
  "language_info": {
   "name": "python"
  }
 },
 "nbformat": 4,
 "nbformat_minor": 5
}
