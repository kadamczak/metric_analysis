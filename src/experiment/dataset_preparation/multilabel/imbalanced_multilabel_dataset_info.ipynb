{
 "cells": [
  {
   "cell_type": "markdown",
   "id": "290f100b",
   "metadata": {},
   "source": [
    "| Dataset                 | Classes | Samples |Binary  |Numeric| High-Low      | times higher| Avg. class % | Std dev % | CoV | Cardinality| Binary                | Multiclass \n",
    "|-------------------------|---------|---------|--------|-------|---------------|-------------|--------------|-----------|-----|------------|-----------------------|---------------\n",
    "| bookmarks_imbalanced    | 50      | 27377   | 2150   | 0     | 07.63 - 00.11 | 69.67       | 3.20         | 2.42      | 0.75| 1.602      | fake-news             | news-category\n",
    "| emotions_imbalanced     | 4       | 436     | 0      | 72    | 43.35 - 19.72 | 2.20        | 33.77        | 10.16     | 0.30| 1.351      | spambase              | mfeat_karhunen\n",
    "| imdb_imbalanced         | 7       | 36209   | 1001   | 0     | 34.19 - 10.84 | 3.15        | 21.90        | 7.78      | 0.36| 1.533      | amazon-reviews        | dbpedia-ontology\n",
    "| mediamill_imbalanced    | 12      | 12519   | 0      | 120   | 38.41 - 00.64 | 60.10       | 17.37        | 13.27     | 0.76| 2.084      | vehicle-sensit        | volkert\n",
    "| ng20_imbalanced         | 20      | 14590   | 1006   | 0     | 06.85 - 00.17 | 40.00       | 5.17         | 2.21      | 0.43| 1.033      | all-in-one_sentiment  |\n",
    "| nuswidevlad_imbalanced  | 28      | 40725   | 0      | 128   | 21.13 - 00.15 | 143.42      | 4.70         | 3.98      | 0.85| 1.316      | santander             | gtsrb-huelist\n",
    "| scene_imbalanced        | 6       | 1984    | 0      | 294   | 26.86 - 03.78 | 7.11        | 18.07        | 8.25      | 0.46| 1.084      | philippine            | usps\n",
    "| tmc2007500_imbalanced   | 6       | 7910    | 500    | 0     | 34.89 - 05.17 | 6.75        | 19.07        | 11.61     | 0.61| 1.144      |                       | nyt-comments-april17\n",
    "| yeast_imbalanced        | 5       | 1603    | 0      | 103   | 64.75 - 12.91 | 5.01        | 44.18        | 20.54     | 0.46| 2.209      | colon-0.5             | gas_drift\n",
    "| yelp_imbalanced         | 4       | 4718    | 671    | 0     | 99.85 - 27.34 | 3.65        | 55.20        | 32.04     | 0.58| 2.208      | news-sarcasm          | ag_news"
   ]
  }
 ],
 "metadata": {
  "language_info": {
   "name": "python"
  }
 },
 "nbformat": 4,
 "nbformat_minor": 5
}
