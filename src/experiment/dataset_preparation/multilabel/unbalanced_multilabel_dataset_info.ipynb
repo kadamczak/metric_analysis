{
 "cells": [
  {
   "cell_type": "markdown",
   "id": "290f100b",
   "metadata": {},
   "source": [
    "| Dataset                 | Classes | Samples |Binary | Categ. | Numeric| High-Low      |% point diff | x times higher| Avg. class % | Std dev class % | Cardinality \n",
    "|-------------------------|---------|---------|-------|--------|--------|---------------|-------------|---------------|--------------|-----------------|-----------\n",
    "| bibtex -                |\n",
    "| birds -                 |  \n",
    "| bookmarks_unbalanced    | 50      | 27377   | 2150  | 0      | 0      | 07.63 - 00.11 | 7.52        | 69.67         | 3.20         | 2.42            | 1.602\n",
    "| cal500_unbalanced       | 7       | 446     | 0     | 0      | 68     | 76.01 - 49.33 | 26.68       | 1.54          | 60.79        | 8.61            | 4.256\n",
    "\n"
   ]
  }
 ],
 "metadata": {
  "language_info": {
   "name": "python"
  }
 },
 "nbformat": 4,
 "nbformat_minor": 5
}
