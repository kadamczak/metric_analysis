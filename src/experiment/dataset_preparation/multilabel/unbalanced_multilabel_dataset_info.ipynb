{
 "cells": [
  {
   "cell_type": "markdown",
   "id": "290f100b",
   "metadata": {},
   "source": [
    "| Dataset                 | Classes | Samples |Binary | Categ. | Numeric| High-Low      |% point diff | x times higher| Avg. class % | Std dev class % | Cardinality \n",
    "|-------------------------|---------|---------|-------|--------|--------|---------------|-------------|---------------|--------------|-----------------|-----------\n",
    "| emotions_unbalanced     | 6       | 423     | 0     | 0      | 72     | 44.44 - 16.31 | 28.13       | 2.72          | 31.72        | 10.72           | 1.903\n"
   ]
  }
 ],
 "metadata": {
  "language_info": {
   "name": "python"
  }
 },
 "nbformat": 4,
 "nbformat_minor": 5
}
