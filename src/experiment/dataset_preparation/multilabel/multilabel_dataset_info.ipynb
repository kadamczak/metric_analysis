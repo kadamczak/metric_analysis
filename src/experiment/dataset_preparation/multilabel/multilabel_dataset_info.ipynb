{
 "cells": [
  {
   "cell_type": "markdown",
   "id": "72e025ae",
   "metadata": {},
   "source": [
    "| Dataset        | Classes | Samples        | High-Low % point diff | Cardinality | Balance\n",
    "|----------------|---------|----------------|-----------------------|-------------|----------\n",
    "| scene          | 6       | 2333           | 19.67 - 15.60 (4.07)  | 1.07        | BALANCED\n",
    "| emotions       | 6       | 500            | 35.80 - 29.20 (6.60)  | 1.93        | BALANCED\n",
    "| yeast          | 14      | 2417           | 75.13 - 01.41 (73.72) | 4.24        | UNBALANCED"
   ]
  }
 ],
 "metadata": {
  "language_info": {
   "name": "python"
  }
 },
 "nbformat": 4,
 "nbformat_minor": 5
}
