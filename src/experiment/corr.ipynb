{
 "cells": [
  {
   "cell_type": "markdown",
   "id": "2920560d",
   "metadata": {},
   "source": [
    "# Setup"
   ]
  },
  {
   "cell_type": "code",
   "execution_count": 50,
   "id": "b18f3048",
   "metadata": {},
   "outputs": [],
   "source": [
    "import os\n",
    "from pathlib import Path\n",
    "import torch\n",
    "import torch.nn as nn\n",
    "import torch.optim as optim"
   ]
  },
  {
   "cell_type": "code",
   "execution_count": 51,
   "id": "e5f0b279",
   "metadata": {},
   "outputs": [],
   "source": [
    "from metric_sets import metrics_for_correlation_analysis_with_kappa"
   ]
  },
  {
   "cell_type": "code",
   "execution_count": 52,
   "id": "5b67b84d",
   "metadata": {},
   "outputs": [],
   "source": [
    "report_output_root_dir = Path('../../output')\n",
    "\n",
    "report_output_dirs = { 'binary_balanced': report_output_root_dir / 'binary_balanced',\n",
    "                       'binary_unbalanced': report_output_root_dir / 'binary_unbalanced',\n",
    "                       \n",
    "                       'multiclass_balanced': report_output_root_dir / 'multiclass_balanced',          \n",
    "                       'multiclass_unbalanced': report_output_root_dir / 'multiclass_unbalanced',\n",
    "                       \n",
    "                       'multilabel_balanced': report_output_root_dir / 'multilabel_balanced',\n",
    "                       'multilabel_unbalanced': report_output_root_dir / 'multilabel_unbalanced'}"
   ]
  },
  {
   "cell_type": "markdown",
   "id": "f664e447",
   "metadata": {},
   "source": [
    "# Get data"
   ]
  },
  {
   "cell_type": "code",
   "execution_count": 62,
   "id": "0c2a8adc",
   "metadata": {},
   "outputs": [],
   "source": [
    "task_type = \"multiclass_unbalanced\"\n",
    "dataset = \"fma_small\"\n",
    "# models, indexes can be different"
   ]
  },
  {
   "cell_type": "code",
   "execution_count": 63,
   "id": "65008d59",
   "metadata": {},
   "outputs": [
    {
     "name": "stdout",
     "output_type": "stream",
     "text": [
      "..\\..\\output\\multiclass_unbalanced\n"
     ]
    }
   ],
   "source": [
    "path = report_output_dirs[task_type]\n",
    "print(path)"
   ]
  },
  {
   "cell_type": "code",
   "execution_count": 64,
   "id": "832cb9a9",
   "metadata": {},
   "outputs": [
    {
     "name": "stdout",
     "output_type": "stream",
     "text": [
      "[WindowsPath('../../output/multiclass_unbalanced/sus.json'), WindowsPath('../../output/multiclass_unbalanced/cnn_fma_small_1/1.json'), WindowsPath('../../output/multiclass_unbalanced/cnn_fma_small_2/1.json'), WindowsPath('../../output/multiclass_unbalanced/cnn_fma_small_3/1.json'), WindowsPath('../../output/multiclass_unbalanced/cnn_fma_small_4/1.json'), WindowsPath('../../output/multiclass_unbalanced/cnn_fma_small_5/1.json')]\n"
     ]
    }
   ],
   "source": [
    "json_files = list(path.rglob('*.json'))\n",
    "print(json_files)"
   ]
  },
  {
   "cell_type": "code",
   "execution_count": 65,
   "id": "cfc401c7",
   "metadata": {},
   "outputs": [
    {
     "name": "stdout",
     "output_type": "stream",
     "text": [
      "6\n"
     ]
    }
   ],
   "source": [
    "print(len(json_files))"
   ]
  },
  {
   "cell_type": "code",
   "execution_count": 66,
   "id": "ec9ff763",
   "metadata": {},
   "outputs": [
    {
     "name": "stdout",
     "output_type": "stream",
     "text": [
      "[WindowsPath('../../output/multiclass_unbalanced/cnn_fma_small_1/1.json'), WindowsPath('../../output/multiclass_unbalanced/cnn_fma_small_2/1.json'), WindowsPath('../../output/multiclass_unbalanced/cnn_fma_small_3/1.json'), WindowsPath('../../output/multiclass_unbalanced/cnn_fma_small_4/1.json'), WindowsPath('../../output/multiclass_unbalanced/cnn_fma_small_5/1.json')]\n"
     ]
    }
   ],
   "source": [
    "import json\n",
    "\n",
    "filtered_json_files = []\n",
    "for file in json_files:\n",
    "    with open(file, 'r') as f:\n",
    "        data = json.load(f)\n",
    "        if data.get(\"dataset name\") == dataset:\n",
    "            filtered_json_files.append(file)\n",
    "\n",
    "dataset_json_files = filtered_json_files\n",
    "print(dataset_json_files)"
   ]
  },
  {
   "cell_type": "code",
   "execution_count": 67,
   "id": "d610bbb8",
   "metadata": {},
   "outputs": [
    {
     "name": "stdout",
     "output_type": "stream",
     "text": [
      "5\n"
     ]
    }
   ],
   "source": [
    "print(len(dataset_json_files))"
   ]
  },
  {
   "cell_type": "markdown",
   "id": "04cabc29",
   "metadata": {},
   "source": [
    "# Calculate matrixes"
   ]
  },
  {
   "cell_type": "code",
   "execution_count": 68,
   "id": "83fc27a4",
   "metadata": {},
   "outputs": [
    {
     "name": "stdout",
     "output_type": "stream",
     "text": [
      "[{'macro_accuracy': 0.8503124713897705, 'micro_accuracy': 0.8503124713897705, 'accuracy_per_class': {'Electronic': 0.8787500262260437, 'Experimental': 0.8237500190734863, 'Folk': 0.8399999737739563, 'Hip-Hop': 0.8262500166893005, 'Instrumental': 0.856249988079071, 'International': 0.8231250047683716, 'Pop': 0.8487499952316284, 'Rock': 0.9056249856948853}, 'macro_precision': 0.4243984818458557, 'micro_precision': 0.4012500047683716, 'precision_per_class': {'Electronic': 0.5214285850524902, 'Experimental': 0.3136363625526428, 'Folk': 0.38429751992225647, 'Hip-Hop': 0.40441176295280457, 'Instrumental': 0.39436620473861694, 'International': 0.35836178064346313, 'Pop': 0.21621622145175934, 'Rock': 0.8024691343307495}, 'macro_recall': 0.4012499749660492, 'micro_recall': 0.4012500047683716, 'recall_per_class': {'Electronic': 0.36500000953674316, 'Experimental': 0.3449999988079071, 'Folk': 0.4650000035762787, 'Hip-Hop': 0.824999988079071, 'Instrumental': 0.2800000011920929, 'International': 0.5249999761581421, 'Pop': 0.07999999821186066, 'Rock': 0.32499998807907104}, 'macro_f1': 0.3818039298057556, 'micro_f1': 0.4012500047683716, 'f1_per_class': {'Electronic': 0.42941176891326904, 'Experimental': 0.3285714387893677, 'Folk': 0.42081448435783386, 'Hip-Hop': 0.5427631735801697, 'Instrumental': 0.3274853825569153, 'International': 0.42596349120140076, 'Pop': 0.11678832024335861, 'Rock': 0.4626334607601166}, 'Kappa': 0.3157142996788025, 'MSE': 0.09347165375947952, 'LogLoss': 1.6848804950714111, 'AUNU': 0.7977339285714287, 'micro_ROC-AUC': 0.7907915457589285, 'AUNP': 0.7977339285714287, 'AU1U': 0.7977339285714286, 'AU1P': 0.7977339285714286, 'ROC-AUC_per_class_vs_rest': {'Electronic': 0.8189321428571428, 'Experimental': 0.7532428571428572, 'Folk': 0.8053785714285714, 'Hip-Hop': 0.9134678571428572, 'Instrumental': 0.8172785714285715, 'International': 0.812975, 'Pop': 0.5669035714285715, 'Rock': 0.8936928571428572}}, {'macro_accuracy': 0.8414062261581421, 'micro_accuracy': 0.8414062261581421, 'accuracy_per_class': {'Electronic': 0.846875011920929, 'Experimental': 0.856249988079071, 'Folk': 0.856249988079071, 'Hip-Hop': 0.8912500143051147, 'Instrumental': 0.703125, 'International': 0.8806250095367432, 'Pop': 0.8006250262260437, 'Rock': 0.8962500095367432}, 'macro_precision': 0.43838071823120117, 'micro_precision': 0.3656249940395355, 'precision_per_class': {'Electronic': 0.4008810520172119, 'Experimental': 0.37288135290145874, 'Folk': 0.3986486494541168, 'Hip-Hop': 0.5580357313156128, 'Instrumental': 0.26575809717178345, 'International': 0.6216216087341309, 'Pop': 0.1712707132101059, 'Rock': 0.7179487347602844}, 'macro_recall': 0.3656249940395355, 'micro_recall': 0.3656249940395355, 'recall_per_class': {'Electronic': 0.45500001311302185, 'Experimental': 0.2199999988079071, 'Folk': 0.29499998688697815, 'Hip-Hop': 0.625, 'Instrumental': 0.7799999713897705, 'International': 0.11500000208616257, 'Pop': 0.1550000011920929, 'Rock': 0.2800000011920929}, 'macro_f1': 0.3484755754470825, 'micro_f1': 0.3656249940395355, 'f1_per_class': {'Electronic': 0.4262295067310333, 'Experimental': 0.276729553937912, 'Folk': 0.33908045291900635, 'Hip-Hop': 0.5896226167678833, 'Instrumental': 0.396442174911499, 'International': 0.19409282505512238, 'Pop': 0.1627296656370163, 'Rock': 0.40287768840789795}, 'Kappa': 0.2750000059604645, 'MSE': 0.09610182046890259, 'LogLoss': 1.7093902826309204, 'AUNU': 0.8005011160714286, 'micro_ROC-AUC': 0.7856203962053572, 'AUNP': 0.8005011160714287, 'AU1U': 0.8005011160714285, 'AU1P': 0.8005011160714285, 'ROC-AUC_per_class_vs_rest': {'Electronic': 0.8000142857142858, 'Experimental': 0.7378214285714286, 'Folk': 0.8173839285714286, 'Hip-Hop': 0.9234928571428571, 'Instrumental': 0.8246285714285714, 'International': 0.7908250000000001, 'Pop': 0.6185035714285714, 'Rock': 0.8913392857142858}}, {'macro_accuracy': 0.8132812976837158, 'micro_accuracy': 0.813281238079071, 'accuracy_per_class': {'Electronic': 0.8693749904632568, 'Experimental': 0.8224999904632568, 'Folk': 0.8606250286102295, 'Hip-Hop': 0.5724999904632568, 'Instrumental': 0.8731250166893005, 'International': 0.7862499952316284, 'Pop': 0.846875011920929, 'Rock': 0.875}, 'macro_precision': 0.29193541407585144, 'micro_precision': 0.25312501192092896, 'precision_per_class': {'Electronic': 0.4430379867553711, 'Experimental': 0.29411765933036804, 'Folk': 0.3050847351551056, 'Hip-Hop': 0.21052631735801697, 'Instrumental': 0.4651162922382355, 'International': 0.28484848141670227, 'Pop': 0.040816325694322586, 'Rock': nan}, 'macro_recall': 0.25312501192092896, 'micro_recall': 0.25312501192092896, 'recall_per_class': {'Electronic': 0.17499999701976776, 'Experimental': 0.30000001192092896, 'Folk': 0.09000000357627869, 'Hip-Hop': 0.8799999952316284, 'Instrumental': 0.10000000149011612, 'International': 0.4699999988079071, 'Pop': 0.009999999776482582, 'Rock': 0.0}, 'macro_f1': 0.19526007771492004, 'micro_f1': 0.25312501192092896, 'f1_per_class': {'Electronic': 0.25089606642723083, 'Experimental': 0.2970297038555145, 'Folk': 0.13899613916873932, 'Hip-Hop': 0.33976835012435913, 'Instrumental': 0.16460905969142914, 'International': 0.3547169864177704, 'Pop': 0.01606425642967224, 'Rock': 0.0}, 'Kappa': 0.14642858505249023, 'MSE': 0.11407938599586487, 'LogLoss': 2.313234567642212, 'AUNU': 0.7271477678571427, 'micro_ROC-AUC': 0.6544609374999999, 'AUNP': 0.7271477678571427, 'AU1U': 0.7271477678571429, 'AU1P': 0.7271477678571429, 'ROC-AUC_per_class_vs_rest': {'Electronic': 0.7908392857142857, 'Experimental': 0.7261857142857142, 'Folk': 0.805925, 'Hip-Hop': 0.8093357142857144, 'Instrumental': 0.8243571428571429, 'International': 0.7678357142857142, 'Pop': 0.4886857142857143, 'Rock': 0.6040178571428572}}, {'macro_accuracy': 0.8414062261581421, 'micro_accuracy': 0.8414062261581421, 'accuracy_per_class': {'Electronic': 0.846875011920929, 'Experimental': 0.856249988079071, 'Folk': 0.856249988079071, 'Hip-Hop': 0.8912500143051147, 'Instrumental': 0.703125, 'International': 0.8806250095367432, 'Pop': 0.8006250262260437, 'Rock': 0.8962500095367432}, 'macro_precision': 0.43838071823120117, 'micro_precision': 0.3656249940395355, 'precision_per_class': {'Electronic': 0.4008810520172119, 'Experimental': 0.37288135290145874, 'Folk': 0.3986486494541168, 'Hip-Hop': 0.5580357313156128, 'Instrumental': 0.26575809717178345, 'International': 0.6216216087341309, 'Pop': 0.1712707132101059, 'Rock': 0.7179487347602844}, 'macro_recall': 0.3656249940395355, 'micro_recall': 0.3656249940395355, 'recall_per_class': {'Electronic': 0.45500001311302185, 'Experimental': 0.2199999988079071, 'Folk': 0.29499998688697815, 'Hip-Hop': 0.625, 'Instrumental': 0.7799999713897705, 'International': 0.11500000208616257, 'Pop': 0.1550000011920929, 'Rock': 0.2800000011920929}, 'macro_f1': 0.3484755754470825, 'micro_f1': 0.3656249940395355, 'f1_per_class': {'Electronic': 0.4262295067310333, 'Experimental': 0.276729553937912, 'Folk': 0.33908045291900635, 'Hip-Hop': 0.5896226167678833, 'Instrumental': 0.396442174911499, 'International': 0.19409282505512238, 'Pop': 0.1627296656370163, 'Rock': 0.40287768840789795}, 'Kappa': 0.2750000059604645, 'MSE': 0.09610181301832199, 'LogLoss': 1.70939040184021, 'AUNU': 0.8005011160714286, 'micro_ROC-AUC': 0.7856203962053572, 'AUNP': 0.8005011160714287, 'AU1U': 0.8005011160714285, 'AU1P': 0.8005011160714285, 'ROC-AUC_per_class_vs_rest': {'Electronic': 0.8000142857142858, 'Experimental': 0.7378214285714286, 'Folk': 0.8173839285714286, 'Hip-Hop': 0.9234928571428571, 'Instrumental': 0.8246285714285714, 'International': 0.7908250000000001, 'Pop': 0.6185035714285714, 'Rock': 0.8913392857142858}}, {'macro_accuracy': 0.8473437428474426, 'micro_accuracy': 0.8473437428474426, 'accuracy_per_class': {'Electronic': 0.8668749928474426, 'Experimental': 0.8543750047683716, 'Folk': 0.6937500238418579, 'Hip-Hop': 0.8881250023841858, 'Instrumental': 0.8712499737739563, 'International': 0.8787500262260437, 'Pop': 0.8199999928474426, 'Rock': 0.9056249856948853}, 'macro_precision': 0.4611949324607849, 'micro_precision': 0.3893750011920929, 'precision_per_class': {'Electronic': 0.4591194987297058, 'Experimental': 0.38926175236701965, 'Folk': 0.2615131437778473, 'Hip-Hop': 0.5454545617103577, 'Instrumental': 0.4749999940395355, 'International': 0.625, 'Pop': 0.25, 'Rock': 0.6842105388641357}, 'macro_recall': 0.3893750011920929, 'micro_recall': 0.3893750011920929, 'recall_per_class': {'Electronic': 0.36500000953674316, 'Experimental': 0.28999999165534973, 'Folk': 0.7950000166893005, 'Hip-Hop': 0.6299999952316284, 'Instrumental': 0.2849999964237213, 'International': 0.07500000298023224, 'Pop': 0.2199999988079071, 'Rock': 0.45500001311302185}, 'macro_f1': 0.3735102713108063, 'micro_f1': 0.3893750011920929, 'f1_per_class': {'Electronic': 0.4066852331161499, 'Experimental': 0.33237820863723755, 'Folk': 0.3935643434524536, 'Hip-Hop': 0.5846867561340332, 'Instrumental': 0.35624998807907104, 'International': 0.1339285671710968, 'Pop': 0.23404255509376526, 'Rock': 0.5465465188026428}, 'Kappa': 0.302142858505249, 'MSE': 0.09522558748722076, 'LogLoss': 1.6732786893844604, 'AUNU': 0.7992491071428571, 'micro_ROC-AUC': 0.7909658203125002, 'AUNP': 0.7992491071428571, 'AU1U': 0.799249107142857, 'AU1P': 0.799249107142857, 'ROC-AUC_per_class_vs_rest': {'Electronic': 0.8050392857142857, 'Experimental': 0.7504964285714286, 'Folk': 0.8172428571428572, 'Hip-Hop': 0.9113535714285714, 'Instrumental': 0.8080714285714287, 'International': 0.7510749999999999, 'Pop': 0.6638607142857142, 'Rock': 0.8868535714285716}}]\n"
     ]
    }
   ],
   "source": [
    "import json\n",
    "\n",
    "all_metrics = []\n",
    "for file in dataset_json_files:\n",
    "    with open(file, 'r') as f:\n",
    "        data = json.load(f)\n",
    "        all_metrics.append(data['metrics'])\n",
    "print(all_metrics)"
   ]
  },
  {
   "cell_type": "code",
   "execution_count": 69,
   "id": "f09e1b1e",
   "metadata": {},
   "outputs": [
    {
     "name": "stdout",
     "output_type": "stream",
     "text": [
      "[{'macro_accuracy': 0.8503124713897705, 'micro_accuracy': 0.8503124713897705, 'macro_precision': 0.4243984818458557, 'micro_precision': 0.4012500047683716, 'macro_recall': 0.4012499749660492, 'micro_recall': 0.4012500047683716, 'macro_f1': 0.3818039298057556, 'micro_f1': 0.4012500047683716, 'Kappa': 0.3157142996788025, 'MSE': 0.09347165375947952, 'LogLoss': 1.6848804950714111, 'AUNU': 0.7977339285714287, 'micro_ROC-AUC': 0.7907915457589285}, {'macro_accuracy': 0.8414062261581421, 'micro_accuracy': 0.8414062261581421, 'macro_precision': 0.43838071823120117, 'micro_precision': 0.3656249940395355, 'macro_recall': 0.3656249940395355, 'micro_recall': 0.3656249940395355, 'macro_f1': 0.3484755754470825, 'micro_f1': 0.3656249940395355, 'Kappa': 0.2750000059604645, 'MSE': 0.09610182046890259, 'LogLoss': 1.7093902826309204, 'AUNU': 0.8005011160714286, 'micro_ROC-AUC': 0.7856203962053572}, {'macro_accuracy': 0.8132812976837158, 'micro_accuracy': 0.813281238079071, 'macro_precision': 0.29193541407585144, 'micro_precision': 0.25312501192092896, 'macro_recall': 0.25312501192092896, 'micro_recall': 0.25312501192092896, 'macro_f1': 0.19526007771492004, 'micro_f1': 0.25312501192092896, 'Kappa': 0.14642858505249023, 'MSE': 0.11407938599586487, 'LogLoss': 2.313234567642212, 'AUNU': 0.7271477678571427, 'micro_ROC-AUC': 0.6544609374999999}, {'macro_accuracy': 0.8414062261581421, 'micro_accuracy': 0.8414062261581421, 'macro_precision': 0.43838071823120117, 'micro_precision': 0.3656249940395355, 'macro_recall': 0.3656249940395355, 'micro_recall': 0.3656249940395355, 'macro_f1': 0.3484755754470825, 'micro_f1': 0.3656249940395355, 'Kappa': 0.2750000059604645, 'MSE': 0.09610181301832199, 'LogLoss': 1.70939040184021, 'AUNU': 0.8005011160714286, 'micro_ROC-AUC': 0.7856203962053572}, {'macro_accuracy': 0.8473437428474426, 'micro_accuracy': 0.8473437428474426, 'macro_precision': 0.4611949324607849, 'micro_precision': 0.3893750011920929, 'macro_recall': 0.3893750011920929, 'micro_recall': 0.3893750011920929, 'macro_f1': 0.3735102713108063, 'micro_f1': 0.3893750011920929, 'Kappa': 0.302142858505249, 'MSE': 0.09522558748722076, 'LogLoss': 1.6732786893844604, 'AUNU': 0.7992491071428571, 'micro_ROC-AUC': 0.7909658203125002}]\n"
     ]
    }
   ],
   "source": [
    "selected_metrics = [\n",
    "    {k: m[k] for k in metrics_for_correlation_analysis_with_kappa if k in m}\n",
    "    for m in all_metrics\n",
    "]\n",
    "print(selected_metrics)"
   ]
  },
  {
   "cell_type": "code",
   "execution_count": 70,
   "id": "21e4eac5",
   "metadata": {},
   "outputs": [
    {
     "name": "stdout",
     "output_type": "stream",
     "text": [
      "                 macro_accuracy  micro_accuracy  macro_precision  \\\n",
      "macro_accuracy         1.000000        1.000000         0.941285   \n",
      "micro_accuracy         1.000000        1.000000         0.941285   \n",
      "macro_precision        0.941285        0.941285         1.000000   \n",
      "micro_precision        1.000000        1.000000         0.941285   \n",
      "macro_recall           1.000000        1.000000         0.941285   \n",
      "micro_recall           1.000000        1.000000         0.941285   \n",
      "macro_f1               0.997486        0.997486         0.960984   \n",
      "micro_f1               1.000000        1.000000         0.941285   \n",
      "Kappa                  1.000000        1.000000         0.941285   \n",
      "MSE                   -0.988621       -0.988621        -0.962363   \n",
      "LogLoss               -0.976367       -0.976367        -0.983911   \n",
      "AUNU                   0.955634        0.955634         0.982423   \n",
      "micro_ROC-AUC          0.975257        0.975257         0.981546   \n",
      "\n",
      "                 micro_precision  macro_recall  micro_recall  macro_f1  \\\n",
      "macro_accuracy          1.000000      1.000000      1.000000  0.997486   \n",
      "micro_accuracy          1.000000      1.000000      1.000000  0.997486   \n",
      "macro_precision         0.941285      0.941285      0.941285  0.960984   \n",
      "micro_precision         1.000000      1.000000      1.000000  0.997486   \n",
      "macro_recall            1.000000      1.000000      1.000000  0.997486   \n",
      "micro_recall            1.000000      1.000000      1.000000  0.997486   \n",
      "macro_f1                0.997486      0.997486      0.997486  1.000000   \n",
      "micro_f1                1.000000      1.000000      1.000000  0.997486   \n",
      "Kappa                   1.000000      1.000000      1.000000  0.997486   \n",
      "MSE                    -0.988621     -0.988621     -0.988621 -0.995504   \n",
      "LogLoss                -0.976367     -0.976367     -0.976367 -0.989181   \n",
      "AUNU                    0.955634      0.955635      0.955634  0.973738   \n",
      "micro_ROC-AUC           0.975257      0.975257      0.975257  0.988284   \n",
      "\n",
      "                 micro_f1     Kappa       MSE   LogLoss      AUNU  \\\n",
      "macro_accuracy   1.000000  1.000000 -0.988621 -0.976367  0.955634   \n",
      "micro_accuracy   1.000000  1.000000 -0.988621 -0.976367  0.955634   \n",
      "macro_precision  0.941285  0.941285 -0.962363 -0.983911  0.982423   \n",
      "micro_precision  1.000000  1.000000 -0.988621 -0.976367  0.955634   \n",
      "macro_recall     1.000000  1.000000 -0.988621 -0.976367  0.955635   \n",
      "micro_recall     1.000000  1.000000 -0.988621 -0.976367  0.955634   \n",
      "macro_f1         0.997486  0.997486 -0.995504 -0.989181  0.973738   \n",
      "micro_f1         1.000000  1.000000 -0.988621 -0.976367  0.955634   \n",
      "Kappa            1.000000  1.000000 -0.988621 -0.976367  0.955635   \n",
      "MSE             -0.988621 -0.988621  1.000000  0.994955 -0.986967   \n",
      "LogLoss         -0.976367 -0.976367  0.994955  1.000000 -0.996326   \n",
      "AUNU             0.955634  0.955635 -0.986967 -0.996326  1.000000   \n",
      "micro_ROC-AUC    0.975257  0.975257 -0.995484 -0.999847  0.997072   \n",
      "\n",
      "                 micro_ROC-AUC  \n",
      "macro_accuracy        0.975257  \n",
      "micro_accuracy        0.975257  \n",
      "macro_precision       0.981546  \n",
      "micro_precision       0.975257  \n",
      "macro_recall          0.975257  \n",
      "micro_recall          0.975257  \n",
      "macro_f1              0.988284  \n",
      "micro_f1              0.975257  \n",
      "Kappa                 0.975257  \n",
      "MSE                  -0.995484  \n",
      "LogLoss              -0.999847  \n",
      "AUNU                  0.997072  \n",
      "micro_ROC-AUC         1.000000  \n"
     ]
    }
   ],
   "source": [
    "import pandas as pd\n",
    "\n",
    "df_metrics = pd.DataFrame(selected_metrics)\n",
    "\n",
    "correlation_matrix = df_metrics.corr(method='pearson')\n",
    "print(correlation_matrix)"
   ]
  }
 ],
 "metadata": {
  "kernelspec": {
   "display_name": ".venv",
   "language": "python",
   "name": "python3"
  },
  "language_info": {
   "codemirror_mode": {
    "name": "ipython",
    "version": 3
   },
   "file_extension": ".py",
   "mimetype": "text/x-python",
   "name": "python",
   "nbconvert_exporter": "python",
   "pygments_lexer": "ipython3",
   "version": "3.12.4"
  }
 },
 "nbformat": 4,
 "nbformat_minor": 5
}
