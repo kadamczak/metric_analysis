{
 "cells": [
  {
   "cell_type": "markdown",
   "metadata": {},
   "source": [
    "# Setup"
   ]
  },
  {
   "cell_type": "code",
   "execution_count": null,
   "metadata": {},
   "outputs": [],
   "source": [
    "import torch\n",
    "\n",
    "from helpers import get_predicted_classes"
   ]
  },
  {
   "cell_type": "markdown",
   "metadata": {},
   "source": [
    "# Helper method tests"
   ]
  },
  {
   "cell_type": "code",
   "execution_count": null,
   "metadata": {},
   "outputs": [],
   "source": [
    "# GET_PREDICTED_CLASSES\n",
    "# mutliclass\n",
    "\n",
    "# 3 elements in batch, 4 classes with indexes 0-3\n",
    "logits = torch.tensor([[0.1, 0.2, 0.7, 0.1],\n",
    "                       [0.3, 0.4, 0.3, 0.25],\n",
    "                       [0.5, 0.3, 0.2, 0.11]])\n",
    "expected_results = [2,\n",
    "                    1,\n",
    "                    0]\n",
    "results = get_predicted_classes(logits, is_binary=False)\n",
    "assert results == expected_results\n",
    "\n",
    "# binary\n",
    "\n",
    "# 5 elements in batch, index 1 is positive class\n",
    "# threshold when used on probability: 0.5\n",
    "# threshold when used on logits: 0\n",
    "logits = torch.tensor([[-7],\n",
    "                       [-0.2],\n",
    "                       [10],\n",
    "                       [0.5],\n",
    "                       [-4]])\n",
    "expected_results = [0,\n",
    "                    0,\n",
    "                    1,\n",
    "                    1,\n",
    "                    0]\n",
    "results = get_predicted_classes(logits, is_binary=True)\n",
    "assert results == expected_results"
   ]
  },
  {
   "cell_type": "markdown",
   "metadata": {},
   "source": [
    "# Qualitative measures verification"
   ]
  },
  {
   "cell_type": "code",
   "execution_count": null,
   "metadata": {},
   "outputs": [],
   "source": []
  }
 ],
 "metadata": {
  "kernelspec": {
   "display_name": ".venv",
   "language": "python",
   "name": "python3"
  },
  "language_info": {
   "name": "python",
   "version": "3.12.4"
  }
 },
 "nbformat": 4,
 "nbformat_minor": 2
}
